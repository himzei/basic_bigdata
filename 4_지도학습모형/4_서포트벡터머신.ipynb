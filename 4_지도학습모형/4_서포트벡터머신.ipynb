{
 "cells": [
  {
   "cell_type": "code",
   "execution_count": 3,
   "metadata": {},
   "outputs": [
    {
     "name": "stdout",
     "output_type": "stream",
     "text": [
      "0.9983465608465608\n"
     ]
    }
   ],
   "source": [
    "from sklearn.svm import SVC \n",
    "from sklearn.model_selection import train_test_split \n",
    "from sklearn.datasets import load_breast_cancer \n",
    "\n",
    "breast_cancer = load_breast_cancer() \n",
    "data = breast_cancer.data \n",
    "target = breast_cancer.target \n",
    "\n",
    "X_train, X_test, y_train, y_test = train_test_split(\n",
    "  data, \n",
    "  target, \n",
    "  test_size=0.2, \n",
    "  random_state=2205, \n",
    "  stratify=target\n",
    ")\n",
    "\n",
    "svm_bin = SVC(kernel=\"linear\", C=0.5, probability=True)\n",
    "model_svm_bin = svm_bin.fit(X_train, y_train)\n",
    "\n",
    "from sklearn.metrics import roc_curve, auc\n",
    "y_score = model_svm_bin.predict_proba(X_test)[:, 1]\n",
    "fpr, tpr, thresholds = roc_curve(y_test, y_score)\n",
    "\n",
    "AUC = auc(fpr, tpr)\n",
    "print(AUC)\n"
   ]
  },
  {
   "cell_type": "code",
   "execution_count": 5,
   "metadata": {},
   "outputs": [
    {
     "name": "stdout",
     "output_type": "stream",
     "text": [
      "0.9665831244778613\n"
     ]
    }
   ],
   "source": [
    "from sklearn.svm import LinearSVR\n",
    "from sklearn.model_selection import train_test_split\n",
    "\n",
    "from sklearn.datasets import load_iris \n",
    "\n",
    "iris = load_iris() \n",
    "data = iris.data \n",
    "target = iris.target \n",
    "\n",
    "X_train, X_test, y_train, y_test = train_test_split(\n",
    "  data, \n",
    "  target, \n",
    "  test_size=0.2 ,\n",
    "  random_state=2205, \n",
    "  stratify=target \n",
    ")\n",
    "\n",
    "svm_multi = LinearSVC(C=0.1)\n",
    "\n",
    "model_svm_multi = svm_multi.fit(X_train, y_train)\n",
    "\n",
    "from sklearn.metrics import f1_score\n",
    "y_pred = model_svm_multi.predict(X_test)\n",
    "\n",
    "macro_f1 = f1_score(y_test, y_pred, average=\"macro\")\n",
    "print(macro_f1)"
   ]
  },
  {
   "cell_type": "code",
   "execution_count": 21,
   "metadata": {},
   "outputs": [
    {
     "name": "stdout",
     "output_type": "stream",
     "text": [
      "82.99258618226722\n",
      "72.9435929321933\n"
     ]
    }
   ],
   "source": [
    "from sklearn.svm import SVR, LinearSVR\n",
    "from sklearn.model_selection import train_test_split \n",
    "from sklearn.datasets import load_diabetes \n",
    "from sklearn.metrics import root_mean_squared_error\n",
    "\n",
    "diabetes = load_diabetes() \n",
    "data = diabetes.data \n",
    "target = diabetes.target \n",
    "\n",
    "X_train, X_test, y_train, y_test = train_test_split(\n",
    "  data, \n",
    "  target, \n",
    "  test_size=0.2, \n",
    "  random_state=2205\n",
    ")\n",
    "\n",
    "svm_conti_1 = SVR(C=0.1, epsilon=0.01)\n",
    "svm_conti_2 = LinearSVR(C=0.1, loss=\"squared_epsilon_insensitive\")\n",
    "\n",
    "model_svm_conti_1 = svm_conti_1.fit(X_train, y_train)\n",
    "model_svm_conti_2 = svm_conti_2.fit(X_train, y_train)\n",
    "\n",
    "y_pred_1 = model_svm_conti_1.predict(X_test)\n",
    "rmse_1 = root_mean_squared_error(y_test, y_pred_1)\n",
    "print(rmse_1)\n",
    "\n",
    "y_pred_2 = model_svm_conti_2.predict(X_test) \n",
    "rmse_2 = root_mean_squared_error(y_test, y_pred_2)\n",
    "print(rmse_2)"
   ]
  },
  {
   "cell_type": "code",
   "execution_count": null,
   "metadata": {},
   "outputs": [],
   "source": []
  }
 ],
 "metadata": {
  "kernelspec": {
   "display_name": "Python 3",
   "language": "python",
   "name": "python3"
  },
  "language_info": {
   "codemirror_mode": {
    "name": "ipython",
    "version": 3
   },
   "file_extension": ".py",
   "mimetype": "text/x-python",
   "name": "python",
   "nbconvert_exporter": "python",
   "pygments_lexer": "ipython3",
   "version": "3.12.3"
  }
 },
 "nbformat": 4,
 "nbformat_minor": 2
}

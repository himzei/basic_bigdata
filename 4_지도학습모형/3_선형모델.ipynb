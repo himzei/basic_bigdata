{
 "cells": [
  {
   "cell_type": "code",
   "execution_count": null,
   "metadata": {},
   "outputs": [],
   "source": [
    "from sklearn.linear_model import LinearRegression\n",
    "from sklearn.datasets import load_diabetes\n",
    "import pandas as pd\n",
    "\n",
    "# 데이터 로드\n",
    "diabetes = load_diabetes()\n",
    "data = diabetes.data\n",
    "target = diabetes.target\n",
    "print(target)\n",
    "# 열 이름 설정 및 DataFrame으로 변환\n",
    "colnm = ['bmi', 'bp', 's1', 's2', 's3']\n",
    "df = pd.DataFrame(data, columns=diabetes.feature_names)\n",
    "\n",
    "# 원하는 열만 선택\n",
    "X = df[colnm]  # 열 이름이 정확해야 합니다.\n",
    "y = target\n",
    "\n",
    "# 모델 생성 및 학습\n",
    "model = LinearRegression()\n",
    "model.fit(X=X, y=y)\n",
    "\n",
    "# 회귀 계수 출력\n",
    "print(model.coef_)"
   ]
  },
  {
   "cell_type": "code",
   "execution_count": null,
   "metadata": {},
   "outputs": [],
   "source": [
    "print(model.intercept_)"
   ]
  },
  {
   "cell_type": "code",
   "execution_count": null,
   "metadata": {},
   "outputs": [],
   "source": [
    "model.score(X=X, y=y)"
   ]
  },
  {
   "cell_type": "code",
   "execution_count": null,
   "metadata": {},
   "outputs": [],
   "source": [
    "from sklearn.linear_model import Ridge \n",
    "colnm = ['bmi', 'bp', 's1', 's2', 's3']\n",
    "X = df[colnm]\n",
    "y = target \n",
    "\n",
    "model = Ridge(alpha = 0.1)\n",
    "\n",
    "model.fit(X=X, y=y)\n",
    "Ridge(alpha=0.1)\n",
    "\n",
    "print(model.intercept_)\n",
    "print(model.coef_)"
   ]
  },
  {
   "cell_type": "code",
   "execution_count": null,
   "metadata": {},
   "outputs": [],
   "source": [
    "from sklearn.linear_model import Lasso \n",
    "colnm = ['bmi', 'bp', 's1', 's2', 's3']\n",
    "X = df[colnm]\n",
    "y = target \n",
    "\n",
    "\n",
    "model = Lasso(alpha=0.5) \n",
    "\n",
    "model.fit(X=X, y=y)\n",
    "Lasso(alpha=0.5)\n",
    "\n",
    "print(model.intercept_)\n",
    "print(model.coef_)"
   ]
  },
  {
   "cell_type": "code",
   "execution_count": null,
   "metadata": {},
   "outputs": [],
   "source": [
    "import pandas as pd \n",
    "from sklearn.linear_model import Lasso \n",
    "\n",
    "data = pd.DataFrame(diabetes.data, columns=diabetes.feature_names) \n",
    "target = pd.Series(diabetes.target, name=\"target\")\n",
    "\n",
    "df = pd.concat([data, target], axis=1)\n",
    "\n",
    "colnm = ['bmi', 'bp', 's1', 's2', 's3']\n",
    "X_train = df[colnm].loc[:310]\n",
    "X_test = df[colnm].loc[310:]\n",
    "y_train = df[\"target\"].loc[:310]\n",
    "\n",
    "model = Lasso(alpha=0.5)\n",
    "model.fit(X=X_train, y=y_train)\n",
    "\n",
    "target = model.predict(X_test)\n",
    "target = pd.Series(target, name=\"target\")\n",
    "print(target)"
   ]
  },
  {
   "cell_type": "code",
   "execution_count": 35,
   "metadata": {},
   "outputs": [
    {
     "name": "stdout",
     "output_type": "stream",
     "text": [
      "(569, 30)\n",
      "(455, 30) (114, 30) (455,) (114,)\n",
      "0.9983465608465608\n"
     ]
    },
    {
     "name": "stderr",
     "output_type": "stream",
     "text": [
      "/Library/Frameworks/Python.framework/Versions/3.12/lib/python3.12/site-packages/sklearn/linear_model/_logistic.py:469: ConvergenceWarning: lbfgs failed to converge (status=1):\n",
      "STOP: TOTAL NO. of ITERATIONS REACHED LIMIT.\n",
      "\n",
      "Increase the number of iterations (max_iter) or scale the data as shown in:\n",
      "    https://scikit-learn.org/stable/modules/preprocessing.html\n",
      "Please also refer to the documentation for alternative solver options:\n",
      "    https://scikit-learn.org/stable/modules/linear_model.html#logistic-regression\n",
      "  n_iter_i = _check_optimize_result(\n"
     ]
    }
   ],
   "source": [
    "import pandas as pd \n",
    "\n",
    "from sklearn.linear_model import LogisticRegression\n",
    "from sklearn.model_selection import train_test_split \n",
    "\n",
    "from sklearn.datasets import load_breast_cancer \n",
    "\n",
    "breast_cancer = load_breast_cancer() \n",
    "data = breast_cancer.data \n",
    "target = breast_cancer.target \n",
    "\n",
    "\n",
    "df = pd.DataFrame(data, columns=breast_cancer.feature_names)\n",
    "print(df.shape)\n",
    "X_train, X_test, y_train, y_test = train_test_split(\n",
    "  data, \n",
    "  target, \n",
    "  test_size=0.2, \n",
    "  random_state=2205, \n",
    "  stratify=target\n",
    ")\n",
    "\n",
    "print(X_train.shape, X_test.shape, y_train.shape, y_test.shape)\n",
    "\n",
    "\n",
    "\n",
    "lr_bin = LogisticRegression(\n",
    "  C=0.5, \n",
    "  max_iter=2000\n",
    ")\n",
    "\n",
    "model_lr_bin = lr_bin.fit(X_train, y_train)\n",
    "\n",
    "\n",
    "from sklearn.metrics import roc_curve, auc \n",
    "y_score = model_lr_bin.predict_proba(X_test)[:, 1]\n",
    "\n",
    "\n",
    "\n",
    "fpr, tpr, thresholds = roc_curve(y_test, y_score)\n",
    "AUC = auc(fpr, tpr)\n",
    "print(AUC)\n"
   ]
  },
  {
   "cell_type": "code",
   "execution_count": 5,
   "metadata": {},
   "outputs": [
    {
     "name": "stdout",
     "output_type": "stream",
     "text": [
      "0.9983465608465608\n"
     ]
    }
   ],
   "source": []
  },
  {
   "cell_type": "code",
   "execution_count": 36,
   "metadata": {},
   "outputs": [],
   "source": [
    "from sklearn.linear_model import LogisticRegression \n",
    "from sklearn.model_selection import train_test_split \n",
    "from sklearn.datasets import load_iris \n",
    "\n",
    "iris = load_iris() \n",
    "data = iris.data \n",
    "target = iris.target \n",
    "\n",
    "X_train, X_test, y_train, y_test = train_test_split(\n",
    "  data, \n",
    "  target, \n",
    "  test_size=0.2, \n",
    "  random_state=2205, \n",
    "  stratify=target\n",
    ")\n",
    "\n",
    "lr_multi = LogisticRegression(C=0.05, max_iter=200)\n",
    "\n",
    "model_lr_multi = lr_multi.fit(X_train, y_train)\n",
    "\n",
    "from sklearn.metrics import f1_score \n",
    "y_pred = model_lr_multi.predict(X_test)\n",
    "\n",
    "macro_f1 = f1_score(y_test, y_pred, average=\"macro\")\n",
    "print(macro_f1)"
   ]
  },
  {
   "cell_type": "code",
   "execution_count": 38,
   "metadata": {},
   "outputs": [
    {
     "name": "stdout",
     "output_type": "stream",
     "text": [
      "0.9665831244778612\n"
     ]
    }
   ],
   "source": [
    "from sklearn.metrics import f1_score \n",
    "y_pred = model_lr_multi.predict(X_test)\n",
    "\n",
    "macro_f1 = f1_score(y_test, y_pred, average=\"macro\")\n",
    "print(macro_f1)"
   ]
  },
  {
   "cell_type": "code",
   "execution_count": null,
   "metadata": {},
   "outputs": [],
   "source": []
  }
 ],
 "metadata": {
  "kernelspec": {
   "display_name": "Python 3",
   "language": "python",
   "name": "python3"
  },
  "language_info": {
   "codemirror_mode": {
    "name": "ipython",
    "version": 3
   },
   "file_extension": ".py",
   "mimetype": "text/x-python",
   "name": "python",
   "nbconvert_exporter": "python",
   "pygments_lexer": "ipython3",
   "version": "3.12.3"
  }
 },
 "nbformat": 4,
 "nbformat_minor": 2
}

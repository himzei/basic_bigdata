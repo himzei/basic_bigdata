{
 "cells": [
  {
   "cell_type": "code",
   "execution_count": 7,
   "metadata": {},
   "outputs": [
    {
     "name": "stdout",
     "output_type": "stream",
     "text": [
      "   BP_change   Dose Treatment lbl_Animal\n",
      "0        0.5   6.25   Control         R1\n",
      "1        4.5  12.50   Control         R1\n",
      "2       10.0  25.00   Control         R1\n",
      "Treatment\n",
      "Control    30\n",
      "MDL        30\n",
      "Name: count, dtype: int64\n",
      "-4.68\n"
     ]
    }
   ],
   "source": [
    "import pandas as pd \n",
    "exam1 = pd.read_csv(\"../data/연습문제/Rabbit_Five.csv\", encoding=\"CP949\")\n",
    "\n",
    "from scipy.stats import ttest_rel\n",
    "\n",
    "BP_change = exam1[\"BP_change\"]\n",
    "Treatment = exam1[\"Treatment\"]\n",
    "\n",
    "print(exam1.head(3))\n",
    "print(Treatment.value_counts())\n",
    "\n",
    "\n",
    "BPC_treat = BP_change[Treatment == \"MDL\"].reset_index(drop=True)\n",
    "BPC_control = BP_change[Treatment == \"Control\"].reset_index(drop=True)\n",
    "\n",
    "diff_avg = (BPC_treat - BPC_control).mean()\n",
    "diff_avg = round(diff_avg, 2)\n",
    "print(diff_avg)\n",
    "\n"
   ]
  },
  {
   "cell_type": "code",
   "execution_count": 15,
   "metadata": {},
   "outputs": [
    {
     "name": "stdout",
     "output_type": "stream",
     "text": [
      "-3.6691820392905843\n",
      "0.0009743112823987295\n"
     ]
    }
   ],
   "source": [
    "a = ttest_rel(BPC_treat, BPC_control)\n",
    "\n",
    "print(a.statistic)\n",
    "print(a.pvalue)"
   ]
  },
  {
   "cell_type": "code",
   "execution_count": 29,
   "metadata": {},
   "outputs": [
    {
     "data": {
      "text/plain": [
       "index    2.90\n",
       "hp       2.43\n",
       "dtype: float64"
      ]
     },
     "execution_count": 29,
     "metadata": {},
     "output_type": "execute_result"
    }
   ],
   "source": [
    "# 2 \n",
    "import pandas as pd\n",
    "exam2 = pd.read_csv(\"../data/연습문제/mtcars2.csv\", encoding=\"CP949\")\n",
    "\n",
    "from scipy.stats import f\n",
    "\n",
    "am = exam2[\"am\"]\n",
    "hp = exam2['hp']\n",
    "\n",
    "exam2.head()\n",
    "hp_manual = hp[am == 1].reset_index()\n",
    "hp_auto = hp[am == 0].reset_index()\n",
    "\n",
    "var_ratio = hp_manual.var() / hp_auto.var()\n",
    "\n",
    "round(var_ratio, 2)"
   ]
  },
  {
   "cell_type": "code",
   "execution_count": 34,
   "metadata": {},
   "outputs": [
    {
     "name": "stdout",
     "output_type": "stream",
     "text": [
      "index    2.898387\n",
      "hp       2.431606\n",
      "dtype: float64\n",
      "12\n",
      "18\n"
     ]
    },
    {
     "data": {
      "text/plain": [
       "array([0.02040084, 0.04311065])"
      ]
     },
     "execution_count": 34,
     "metadata": {},
     "output_type": "execute_result"
    }
   ],
   "source": [
    "stat = var_ratio\n",
    "print(stat)\n",
    "\n",
    "# 자유도 \n",
    "df1, df2 = len(hp_manual) - 1, len(hp_auto) - 1\n",
    "\n",
    "print(df1)\n",
    "print(df2)\n",
    "\n",
    "pval = 1 - f.cdf(stat, dfn= df1, dfd = df2)\n",
    "pval"
   ]
  },
  {
   "cell_type": "code",
   "execution_count": 58,
   "metadata": {},
   "outputs": [
    {
     "data": {
      "text/html": [
       "<div>\n",
       "<style scoped>\n",
       "    .dataframe tbody tr th:only-of-type {\n",
       "        vertical-align: middle;\n",
       "    }\n",
       "\n",
       "    .dataframe tbody tr th {\n",
       "        vertical-align: top;\n",
       "    }\n",
       "\n",
       "    .dataframe thead th {\n",
       "        text-align: right;\n",
       "    }\n",
       "</style>\n",
       "<table border=\"1\" class=\"dataframe\">\n",
       "  <thead>\n",
       "    <tr style=\"text-align: right;\">\n",
       "      <th></th>\n",
       "      <th>Customer_ID</th>\n",
       "      <th>ID</th>\n",
       "      <th>Name</th>\n",
       "      <th>Age</th>\n",
       "      <th>City</th>\n",
       "      <th>State</th>\n",
       "      <th>Region</th>\n",
       "      <th>Segment</th>\n",
       "    </tr>\n",
       "  </thead>\n",
       "  <tbody>\n",
       "    <tr>\n",
       "      <th>139</th>\n",
       "      <td>NaN</td>\n",
       "      <td>15850</td>\n",
       "      <td>John Lucas</td>\n",
       "      <td>7*</td>\n",
       "      <td>Philadelphia</td>\n",
       "      <td>Pennsylvania</td>\n",
       "      <td>East</td>\n",
       "      <td>Consumer</td>\n",
       "    </tr>\n",
       "  </tbody>\n",
       "</table>\n",
       "</div>"
      ],
      "text/plain": [
       "     Customer_ID     ID        Name Age          City         State Region  \\\n",
       "139          NaN  15850  John Lucas  7*  Philadelphia  Pennsylvania   East   \n",
       "\n",
       "      Segment  \n",
       "139  Consumer  "
      ]
     },
     "metadata": {},
     "output_type": "display_data"
    },
    {
     "name": "stdout",
     "output_type": "stream",
     "text": [
      "Chi2ContingencyResult(statistic=9.488312197551783, pvalue=0.1479205256846858, dof=6, expected_freq=array([[46.76571429, 56.33142857, 27.10285714, 55.8       ],\n",
      "       [27.15428571, 32.70857143, 15.73714286, 32.4       ],\n",
      "       [14.08      , 16.96      ,  8.16      , 16.8       ]]))\n",
      "15.737142857142857\n",
      "0.1479205256846858\n"
     ]
    }
   ],
   "source": [
    "import pandas as pd \n",
    "exam3 = pd.read_csv(\"../data/연습문제/고객_등급리스트.csv\", encoding=\"CP949\")\n",
    "\n",
    "# exam3.head()\n",
    "# exam3.info()\n",
    "\n",
    "from scipy.stats import chi2_contingency \n",
    "display(exam3.sample())\n",
    "\n",
    "tb = pd.crosstab(exam3[\"Segment\"], exam3[\"Region\"])\n",
    "\n",
    "\n",
    "# chi2, pval, df, expected = chi2_contingency(tb)\n",
    "result = chi2_contingency(tb)\n",
    "print(result)\n",
    "\n",
    "expected = result[3]\n",
    "a = expected[1, 2]\n",
    "print(a)\n",
    "\n",
    "b = result[0]\n",
    "int(b)\n",
    "\n",
    "c = result[1]\n",
    "print(c)\n",
    "# print(chi2, pval, df, expected)\n",
    "\n"
   ]
  },
  {
   "cell_type": "code",
   "execution_count": 66,
   "metadata": {},
   "outputs": [
    {
     "data": {
      "text/plain": [
       "ShapiroResult(statistic=0.8547777808132934, pvalue=1.3730535802761666e-07)"
      ]
     },
     "execution_count": 66,
     "metadata": {},
     "output_type": "execute_result"
    }
   ],
   "source": [
    "#4\n",
    "import pandas as pd\n",
    "exam4 = pd.read_csv(\"../data/연습문제/Cars93.csv\", encoding=\"CP949\")\n",
    "\n",
    "from scipy.stats import shapiro\n",
    "\n",
    "price = exam4[\"Price\"].dropna().copy()\n",
    "\n",
    "avg = price.mean()\n",
    "\n",
    "a = shapiro(price)\n",
    "a\n",
    "\n",
    "\n"
   ]
  },
  {
   "cell_type": "code",
   "execution_count": 71,
   "metadata": {},
   "outputs": [
    {
     "name": "stdout",
     "output_type": "stream",
     "text": [
      "-5.542975578017778\n"
     ]
    },
    {
     "data": {
      "text/plain": [
       "2.877085007188918e-07"
      ]
     },
     "execution_count": 71,
     "metadata": {},
     "output_type": "execute_result"
    }
   ],
   "source": [
    "# 5\n",
    "import pandas as pd\n",
    "import numpy as np \n",
    "exam5 = pd.read_csv(\"../data/연습문제/Cars93.csv\")\n",
    "\n",
    "Horsepower = exam5[\"Horsepower\"]\n",
    "RPM = exam5[\"Rev_per_mile\"]\n",
    "\n",
    "from scipy.stats import pearsonr \n",
    "\n",
    "rho, pval = pearsonr(Horsepower, RPM)\n",
    "stats = rho / np.sqrt((1 - rho ** 2) / (len(Horsepower) - 2))\n",
    "print(stats)\n",
    "\n",
    "pval\n"
   ]
  },
  {
   "cell_type": "code",
   "execution_count": 87,
   "metadata": {},
   "outputs": [
    {
     "data": {
      "text/html": [
       "<div>\n",
       "<style scoped>\n",
       "    .dataframe tbody tr th:only-of-type {\n",
       "        vertical-align: middle;\n",
       "    }\n",
       "\n",
       "    .dataframe tbody tr th {\n",
       "        vertical-align: top;\n",
       "    }\n",
       "\n",
       "    .dataframe thead th {\n",
       "        text-align: right;\n",
       "    }\n",
       "</style>\n",
       "<table border=\"1\" class=\"dataframe\">\n",
       "  <thead>\n",
       "    <tr style=\"text-align: right;\">\n",
       "      <th></th>\n",
       "      <th>Murder</th>\n",
       "      <th>Assault</th>\n",
       "      <th>UrbanPop</th>\n",
       "      <th>Rape</th>\n",
       "    </tr>\n",
       "  </thead>\n",
       "  <tbody>\n",
       "    <tr>\n",
       "      <th>0</th>\n",
       "      <td>13.2</td>\n",
       "      <td>236</td>\n",
       "      <td>58</td>\n",
       "      <td>21.2</td>\n",
       "    </tr>\n",
       "    <tr>\n",
       "      <th>1</th>\n",
       "      <td>10.0</td>\n",
       "      <td>263</td>\n",
       "      <td>48</td>\n",
       "      <td>44.5</td>\n",
       "    </tr>\n",
       "    <tr>\n",
       "      <th>2</th>\n",
       "      <td>8.1</td>\n",
       "      <td>294</td>\n",
       "      <td>80</td>\n",
       "      <td>31.0</td>\n",
       "    </tr>\n",
       "    <tr>\n",
       "      <th>3</th>\n",
       "      <td>8.8</td>\n",
       "      <td>190</td>\n",
       "      <td>50</td>\n",
       "      <td>19.5</td>\n",
       "    </tr>\n",
       "    <tr>\n",
       "      <th>4</th>\n",
       "      <td>9.0</td>\n",
       "      <td>276</td>\n",
       "      <td>91</td>\n",
       "      <td>40.6</td>\n",
       "    </tr>\n",
       "  </tbody>\n",
       "</table>\n",
       "</div>"
      ],
      "text/plain": [
       "   Murder  Assault  UrbanPop  Rape\n",
       "0    13.2      236        58  21.2\n",
       "1    10.0      263        48  44.5\n",
       "2     8.1      294        80  31.0\n",
       "3     8.8      190        50  19.5\n",
       "4     9.0      276        91  40.6"
      ]
     },
     "metadata": {},
     "output_type": "display_data"
    },
    {
     "data": {
      "text/plain": [
       "array([[ 0.04170432, -0.04482166,  0.07989066,  0.99492173],\n",
       "       [ 0.99522128, -0.05876003, -0.06756974, -0.0389383 ],\n",
       "       [ 0.04633575,  0.97685748, -0.20054629,  0.05816914],\n",
       "       [ 0.0751555 ,  0.20071807,  0.97408059, -0.07232502]])"
      ]
     },
     "execution_count": 87,
     "metadata": {},
     "output_type": "execute_result"
    }
   ],
   "source": [
    "import pandas as pd \n",
    "exam6 = pd.read_csv(\"../data/연습문제/USArrests.csv\")\n",
    "display(exam6.head())\n",
    "# display(exam6.isnull().sum())\n",
    "\n",
    "from sklearn.decomposition import PCA\n",
    "\n",
    "pca = PCA(n_components = 4)\n",
    "pca.fit_transform(exam6)\n",
    "\n",
    "pca.components_.T\n",
    "\n",
    "# result = {\n",
    "#   \"분산기여율\": pca.explained_variance_ratio_, \n",
    "#   \"누적기여율\": pca.explained_variance_ratio_.cumsum()\n",
    "# }\n",
    "\n",
    "# pd.DataFrame(result, index=[\"PCA1\", \"PCA2\", \"PCA3\", \"PCAr\"]).T"
   ]
  },
  {
   "cell_type": "code",
   "execution_count": 16,
   "metadata": {},
   "outputs": [
    {
     "name": "stdout",
     "output_type": "stream",
     "text": [
      "   BP_change    Dose Treatment lbl_Animal\n",
      "0        0.5    6.25   Control         R1\n",
      "1        4.5   12.50   Control         R1\n",
      "2       10.0   25.00   Control         R1\n",
      "3       26.0   50.00   Control         R1\n",
      "4       37.0  100.00   Control         R1\n",
      "-4.68\n",
      "-3.6691820392905843\n",
      "0.0009743112823987295\n"
     ]
    }
   ],
   "source": [
    "# 연습문제 1 \n",
    "\n",
    "import pandas as pd \n",
    "exam1 = pd.read_csv(\"../data/연습문제/Rabbit_Five.csv\")\n",
    "\n",
    "print(exam1.head())\n",
    "\n",
    "exam1[\"Treatment\"].value_counts()\n",
    "\n",
    "# 1 \n",
    "BP_change = exam1[\"BP_change\"]\n",
    "Treatment = exam1[\"Treatment\"]\n",
    "\n",
    "BPC_Treat = BP_change[Treatment == \"MDL\"].reset_index(drop=True)\n",
    "BPC_Control = BP_change[Treatment == \"Control\"].reset_index(drop=True)\n",
    "\n",
    "avg = (BPC_Treat - BPC_Control).mean()\n",
    "print(round(avg, 2))\n",
    "\n",
    "# 2. \n",
    "from scipy.stats import ttest_rel\n",
    "\n",
    "a = ttest_rel(BPC_Treat, BPC_Control)\n",
    "print(a.statistic)\n",
    "\n",
    "# 3. \n",
    "print(a.pvalue)"
   ]
  },
  {
   "cell_type": "code",
   "execution_count": 33,
   "metadata": {},
   "outputs": [
    {
     "data": {
      "text/html": [
       "<div>\n",
       "<style scoped>\n",
       "    .dataframe tbody tr th:only-of-type {\n",
       "        vertical-align: middle;\n",
       "    }\n",
       "\n",
       "    .dataframe tbody tr th {\n",
       "        vertical-align: top;\n",
       "    }\n",
       "\n",
       "    .dataframe thead th {\n",
       "        text-align: right;\n",
       "    }\n",
       "</style>\n",
       "<table border=\"1\" class=\"dataframe\">\n",
       "  <thead>\n",
       "    <tr style=\"text-align: right;\">\n",
       "      <th></th>\n",
       "      <th>mpg</th>\n",
       "      <th>cyl</th>\n",
       "      <th>disp</th>\n",
       "      <th>hp</th>\n",
       "      <th>drat</th>\n",
       "      <th>wt</th>\n",
       "      <th>qsec</th>\n",
       "      <th>vs</th>\n",
       "      <th>am</th>\n",
       "      <th>gear</th>\n",
       "      <th>carb</th>\n",
       "    </tr>\n",
       "  </thead>\n",
       "  <tbody>\n",
       "    <tr>\n",
       "      <th>0</th>\n",
       "      <td>21.0</td>\n",
       "      <td>6</td>\n",
       "      <td>160.0</td>\n",
       "      <td>110</td>\n",
       "      <td>3.90</td>\n",
       "      <td>2.620</td>\n",
       "      <td>16.46</td>\n",
       "      <td>0</td>\n",
       "      <td>1</td>\n",
       "      <td>4</td>\n",
       "      <td>4</td>\n",
       "    </tr>\n",
       "    <tr>\n",
       "      <th>1</th>\n",
       "      <td>21.0</td>\n",
       "      <td>6</td>\n",
       "      <td>160.0</td>\n",
       "      <td>110</td>\n",
       "      <td>3.90</td>\n",
       "      <td>2.875</td>\n",
       "      <td>17.02</td>\n",
       "      <td>0</td>\n",
       "      <td>1</td>\n",
       "      <td>4</td>\n",
       "      <td>4</td>\n",
       "    </tr>\n",
       "    <tr>\n",
       "      <th>2</th>\n",
       "      <td>22.8</td>\n",
       "      <td>4</td>\n",
       "      <td>108.0</td>\n",
       "      <td>93</td>\n",
       "      <td>3.85</td>\n",
       "      <td>2.320</td>\n",
       "      <td>18.61</td>\n",
       "      <td>1</td>\n",
       "      <td>1</td>\n",
       "      <td>4</td>\n",
       "      <td>1</td>\n",
       "    </tr>\n",
       "    <tr>\n",
       "      <th>3</th>\n",
       "      <td>21.4</td>\n",
       "      <td>6</td>\n",
       "      <td>258.0</td>\n",
       "      <td>110</td>\n",
       "      <td>3.08</td>\n",
       "      <td>3.215</td>\n",
       "      <td>19.44</td>\n",
       "      <td>1</td>\n",
       "      <td>0</td>\n",
       "      <td>3</td>\n",
       "      <td>1</td>\n",
       "    </tr>\n",
       "    <tr>\n",
       "      <th>4</th>\n",
       "      <td>18.7</td>\n",
       "      <td>8</td>\n",
       "      <td>NaN</td>\n",
       "      <td>175</td>\n",
       "      <td>3.15</td>\n",
       "      <td>3.440</td>\n",
       "      <td>17.02</td>\n",
       "      <td>0</td>\n",
       "      <td>0</td>\n",
       "      <td>3</td>\n",
       "      <td>2</td>\n",
       "    </tr>\n",
       "  </tbody>\n",
       "</table>\n",
       "</div>"
      ],
      "text/plain": [
       "    mpg  cyl   disp   hp  drat     wt   qsec  vs  am  gear  carb\n",
       "0  21.0    6  160.0  110  3.90  2.620  16.46   0   1     4     4\n",
       "1  21.0    6  160.0  110  3.90  2.875  17.02   0   1     4     4\n",
       "2  22.8    4  108.0   93  3.85  2.320  18.61   1   1     4     1\n",
       "3  21.4    6  258.0  110  3.08  3.215  19.44   1   0     3     1\n",
       "4  18.7    8    NaN  175  3.15  3.440  17.02   0   0     3     2"
      ]
     },
     "metadata": {},
     "output_type": "display_data"
    },
    {
     "name": "stdout",
     "output_type": "stream",
     "text": [
      "2.431605932653339\n",
      "0.040469963090568495\n"
     ]
    }
   ],
   "source": [
    "### 연습문제 2 \n",
    "\n",
    "import pandas as pd \n",
    "exam2 = pd.read_csv(\"../data/연습문제/mtcars2.csv\")\n",
    "\n",
    "\n",
    "\n",
    "am = exam2[\"am\"]\n",
    "hp = exam2[\"hp\"]\n",
    "\n",
    "hp_manual = hp[am == 1].reset_index(drop=True)\n",
    "hp_auto = hp[am == 0].reset_index(drop=True)\n",
    "\n",
    "var_ratio = hp_manual.var() / hp_auto.var()\n",
    "\n",
    "\n",
    "\n",
    "# 2. \n",
    "from scipy.stats import f \n",
    "\n",
    "df1, df2 = len(hp_manual) - 1, len(hp_auto)\n",
    "\n",
    "stat = var_ratio\n",
    "\n",
    "pval = 1 - f.cdf(stat, df1, df2)\n",
    "\n",
    "print(pval)\n"
   ]
  },
  {
   "cell_type": "code",
   "execution_count": 48,
   "metadata": {},
   "outputs": [
    {
     "name": "stdout",
     "output_type": "stream",
     "text": [
      "15.737142857142857\n",
      "9\n",
      "0.148\n"
     ]
    }
   ],
   "source": [
    "### 연습문제 3 \n",
    "\n",
    "import pandas as pd \n",
    "\n",
    "exam3 = pd.read_csv(\"../data/연습문제/고객_등급리스트.csv\")\n",
    "\n",
    "exam3.head()\n",
    "\n",
    "from scipy.stats import chi2_contingency\n",
    "import numpy as np \n",
    "\n",
    "exam3[\"Segment\"]\n",
    "cross = pd.crosstab(exam3[\"Segment\"], exam3[\"Region\"])\n",
    "\n",
    "chi2, pval, df, expected = chi2_contingency(cross)\n",
    "print(expected[1, 2])\n",
    "\n",
    "#2 \n",
    "print(int(chi2))\n",
    "\n",
    "#3 \n",
    "print(round(pval, 3))"
   ]
  },
  {
   "cell_type": "code",
   "execution_count": null,
   "metadata": {},
   "outputs": [],
   "source": []
  }
 ],
 "metadata": {
  "kernelspec": {
   "display_name": "Python 3",
   "language": "python",
   "name": "python3"
  },
  "language_info": {
   "codemirror_mode": {
    "name": "ipython",
    "version": 3
   },
   "file_extension": ".py",
   "mimetype": "text/x-python",
   "name": "python",
   "nbconvert_exporter": "python",
   "pygments_lexer": "ipython3",
   "version": "3.12.3"
  }
 },
 "nbformat": 4,
 "nbformat_minor": 2
}

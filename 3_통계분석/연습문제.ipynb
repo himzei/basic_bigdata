{
 "cells": [
  {
   "cell_type": "code",
   "execution_count": 7,
   "metadata": {},
   "outputs": [
    {
     "name": "stdout",
     "output_type": "stream",
     "text": [
      "   BP_change   Dose Treatment lbl_Animal\n",
      "0        0.5   6.25   Control         R1\n",
      "1        4.5  12.50   Control         R1\n",
      "2       10.0  25.00   Control         R1\n",
      "Treatment\n",
      "Control    30\n",
      "MDL        30\n",
      "Name: count, dtype: int64\n",
      "-4.68\n"
     ]
    }
   ],
   "source": [
    "import pandas as pd \n",
    "exam1 = pd.read_csv(\"../data/연습문제/Rabbit_Five.csv\", encoding=\"CP949\")\n",
    "\n",
    "from scipy.stats import ttest_rel\n",
    "\n",
    "BP_change = exam1[\"BP_change\"]\n",
    "Treatment = exam1[\"Treatment\"]\n",
    "\n",
    "print(exam1.head(3))\n",
    "print(Treatment.value_counts())\n",
    "\n",
    "\n",
    "BPC_treat = BP_change[Treatment == \"MDL\"].reset_index(drop=True)\n",
    "BPC_control = BP_change[Treatment == \"Control\"].reset_index(drop=True)\n",
    "\n",
    "diff_avg = (BPC_treat - BPC_control).mean()\n",
    "diff_avg = round(diff_avg, 2)\n",
    "print(diff_avg)\n",
    "\n"
   ]
  },
  {
   "cell_type": "code",
   "execution_count": 15,
   "metadata": {},
   "outputs": [
    {
     "name": "stdout",
     "output_type": "stream",
     "text": [
      "-3.6691820392905843\n",
      "0.0009743112823987295\n"
     ]
    }
   ],
   "source": [
    "a = ttest_rel(BPC_treat, BPC_control)\n",
    "\n",
    "print(a.statistic)\n",
    "print(a.pvalue)"
   ]
  },
  {
   "cell_type": "code",
   "execution_count": 29,
   "metadata": {},
   "outputs": [
    {
     "data": {
      "text/plain": [
       "index    2.90\n",
       "hp       2.43\n",
       "dtype: float64"
      ]
     },
     "execution_count": 29,
     "metadata": {},
     "output_type": "execute_result"
    }
   ],
   "source": [
    "# 2 \n",
    "import pandas as pd\n",
    "exam2 = pd.read_csv(\"../data/연습문제/mtcars2.csv\", encoding=\"CP949\")\n",
    "\n",
    "from scipy.stats import f\n",
    "\n",
    "am = exam2[\"am\"]\n",
    "hp = exam2['hp']\n",
    "\n",
    "exam2.head()\n",
    "hp_manual = hp[am == 1].reset_index()\n",
    "hp_auto = hp[am == 0].reset_index()\n",
    "\n",
    "var_ratio = hp_manual.var() / hp_auto.var()\n",
    "\n",
    "round(var_ratio, 2)"
   ]
  },
  {
   "cell_type": "code",
   "execution_count": 34,
   "metadata": {},
   "outputs": [
    {
     "name": "stdout",
     "output_type": "stream",
     "text": [
      "index    2.898387\n",
      "hp       2.431606\n",
      "dtype: float64\n",
      "12\n",
      "18\n"
     ]
    },
    {
     "data": {
      "text/plain": [
       "array([0.02040084, 0.04311065])"
      ]
     },
     "execution_count": 34,
     "metadata": {},
     "output_type": "execute_result"
    }
   ],
   "source": [
    "stat = var_ratio\n",
    "print(stat)\n",
    "\n",
    "# 자유도 \n",
    "df1, df2 = len(hp_manual) - 1, len(hp_auto) - 1\n",
    "\n",
    "print(df1)\n",
    "print(df2)\n",
    "\n",
    "pval = 1 - f.cdf(stat, dfn= df1, dfd = df2)\n",
    "pval"
   ]
  },
  {
   "cell_type": "code",
   "execution_count": 58,
   "metadata": {},
   "outputs": [
    {
     "data": {
      "text/html": [
       "<div>\n",
       "<style scoped>\n",
       "    .dataframe tbody tr th:only-of-type {\n",
       "        vertical-align: middle;\n",
       "    }\n",
       "\n",
       "    .dataframe tbody tr th {\n",
       "        vertical-align: top;\n",
       "    }\n",
       "\n",
       "    .dataframe thead th {\n",
       "        text-align: right;\n",
       "    }\n",
       "</style>\n",
       "<table border=\"1\" class=\"dataframe\">\n",
       "  <thead>\n",
       "    <tr style=\"text-align: right;\">\n",
       "      <th></th>\n",
       "      <th>Customer_ID</th>\n",
       "      <th>ID</th>\n",
       "      <th>Name</th>\n",
       "      <th>Age</th>\n",
       "      <th>City</th>\n",
       "      <th>State</th>\n",
       "      <th>Region</th>\n",
       "      <th>Segment</th>\n",
       "    </tr>\n",
       "  </thead>\n",
       "  <tbody>\n",
       "    <tr>\n",
       "      <th>139</th>\n",
       "      <td>NaN</td>\n",
       "      <td>15850</td>\n",
       "      <td>John Lucas</td>\n",
       "      <td>7*</td>\n",
       "      <td>Philadelphia</td>\n",
       "      <td>Pennsylvania</td>\n",
       "      <td>East</td>\n",
       "      <td>Consumer</td>\n",
       "    </tr>\n",
       "  </tbody>\n",
       "</table>\n",
       "</div>"
      ],
      "text/plain": [
       "     Customer_ID     ID        Name Age          City         State Region  \\\n",
       "139          NaN  15850  John Lucas  7*  Philadelphia  Pennsylvania   East   \n",
       "\n",
       "      Segment  \n",
       "139  Consumer  "
      ]
     },
     "metadata": {},
     "output_type": "display_data"
    },
    {
     "name": "stdout",
     "output_type": "stream",
     "text": [
      "Chi2ContingencyResult(statistic=9.488312197551783, pvalue=0.1479205256846858, dof=6, expected_freq=array([[46.76571429, 56.33142857, 27.10285714, 55.8       ],\n",
      "       [27.15428571, 32.70857143, 15.73714286, 32.4       ],\n",
      "       [14.08      , 16.96      ,  8.16      , 16.8       ]]))\n",
      "15.737142857142857\n",
      "0.1479205256846858\n"
     ]
    }
   ],
   "source": [
    "import pandas as pd \n",
    "exam3 = pd.read_csv(\"../data/연습문제/고객_등급리스트.csv\", encoding=\"CP949\")\n",
    "\n",
    "# exam3.head()\n",
    "# exam3.info()\n",
    "\n",
    "from scipy.stats import chi2_contingency \n",
    "display(exam3.sample())\n",
    "\n",
    "tb = pd.crosstab(exam3[\"Segment\"], exam3[\"Region\"])\n",
    "\n",
    "\n",
    "# chi2, pval, df, expected = chi2_contingency(tb)\n",
    "result = chi2_contingency(tb)\n",
    "print(result)\n",
    "\n",
    "expected = result[3]\n",
    "a = expected[1, 2]\n",
    "print(a)\n",
    "\n",
    "b = result[0]\n",
    "int(b)\n",
    "\n",
    "c = result[1]\n",
    "print(c)\n",
    "# print(chi2, pval, df, expected)\n",
    "\n"
   ]
  },
  {
   "cell_type": "code",
   "execution_count": 66,
   "metadata": {},
   "outputs": [
    {
     "data": {
      "text/plain": [
       "ShapiroResult(statistic=0.8547777808132934, pvalue=1.3730535802761666e-07)"
      ]
     },
     "execution_count": 66,
     "metadata": {},
     "output_type": "execute_result"
    }
   ],
   "source": [
    "#4\n",
    "import pandas as pd\n",
    "exam4 = pd.read_csv(\"../data/연습문제/Cars93.csv\", encoding=\"CP949\")\n",
    "\n",
    "from scipy.stats import shapiro\n",
    "\n",
    "price = exam4[\"Price\"].dropna().copy()\n",
    "\n",
    "avg = price.mean()\n",
    "\n",
    "a = shapiro(price)\n",
    "a\n",
    "\n",
    "\n"
   ]
  },
  {
   "cell_type": "code",
   "execution_count": 71,
   "metadata": {},
   "outputs": [
    {
     "name": "stdout",
     "output_type": "stream",
     "text": [
      "-5.542975578017778\n"
     ]
    },
    {
     "data": {
      "text/plain": [
       "2.877085007188918e-07"
      ]
     },
     "execution_count": 71,
     "metadata": {},
     "output_type": "execute_result"
    }
   ],
   "source": [
    "# 5\n",
    "import pandas as pd\n",
    "import numpy as np \n",
    "exam5 = pd.read_csv(\"../data/연습문제/Cars93.csv\")\n",
    "\n",
    "Horsepower = exam5[\"Horsepower\"]\n",
    "RPM = exam5[\"Rev_per_mile\"]\n",
    "\n",
    "from scipy.stats import pearsonr \n",
    "\n",
    "rho, pval = pearsonr(Horsepower, RPM)\n",
    "stats = rho / np.sqrt((1 - rho ** 2) / (len(Horsepower) - 2))\n",
    "print(stats)\n",
    "\n",
    "pval\n"
   ]
  },
  {
   "cell_type": "code",
   "execution_count": 87,
   "metadata": {},
   "outputs": [
    {
     "data": {
      "text/html": [
       "<div>\n",
       "<style scoped>\n",
       "    .dataframe tbody tr th:only-of-type {\n",
       "        vertical-align: middle;\n",
       "    }\n",
       "\n",
       "    .dataframe tbody tr th {\n",
       "        vertical-align: top;\n",
       "    }\n",
       "\n",
       "    .dataframe thead th {\n",
       "        text-align: right;\n",
       "    }\n",
       "</style>\n",
       "<table border=\"1\" class=\"dataframe\">\n",
       "  <thead>\n",
       "    <tr style=\"text-align: right;\">\n",
       "      <th></th>\n",
       "      <th>Murder</th>\n",
       "      <th>Assault</th>\n",
       "      <th>UrbanPop</th>\n",
       "      <th>Rape</th>\n",
       "    </tr>\n",
       "  </thead>\n",
       "  <tbody>\n",
       "    <tr>\n",
       "      <th>0</th>\n",
       "      <td>13.2</td>\n",
       "      <td>236</td>\n",
       "      <td>58</td>\n",
       "      <td>21.2</td>\n",
       "    </tr>\n",
       "    <tr>\n",
       "      <th>1</th>\n",
       "      <td>10.0</td>\n",
       "      <td>263</td>\n",
       "      <td>48</td>\n",
       "      <td>44.5</td>\n",
       "    </tr>\n",
       "    <tr>\n",
       "      <th>2</th>\n",
       "      <td>8.1</td>\n",
       "      <td>294</td>\n",
       "      <td>80</td>\n",
       "      <td>31.0</td>\n",
       "    </tr>\n",
       "    <tr>\n",
       "      <th>3</th>\n",
       "      <td>8.8</td>\n",
       "      <td>190</td>\n",
       "      <td>50</td>\n",
       "      <td>19.5</td>\n",
       "    </tr>\n",
       "    <tr>\n",
       "      <th>4</th>\n",
       "      <td>9.0</td>\n",
       "      <td>276</td>\n",
       "      <td>91</td>\n",
       "      <td>40.6</td>\n",
       "    </tr>\n",
       "  </tbody>\n",
       "</table>\n",
       "</div>"
      ],
      "text/plain": [
       "   Murder  Assault  UrbanPop  Rape\n",
       "0    13.2      236        58  21.2\n",
       "1    10.0      263        48  44.5\n",
       "2     8.1      294        80  31.0\n",
       "3     8.8      190        50  19.5\n",
       "4     9.0      276        91  40.6"
      ]
     },
     "metadata": {},
     "output_type": "display_data"
    },
    {
     "data": {
      "text/plain": [
       "array([[ 0.04170432, -0.04482166,  0.07989066,  0.99492173],\n",
       "       [ 0.99522128, -0.05876003, -0.06756974, -0.0389383 ],\n",
       "       [ 0.04633575,  0.97685748, -0.20054629,  0.05816914],\n",
       "       [ 0.0751555 ,  0.20071807,  0.97408059, -0.07232502]])"
      ]
     },
     "execution_count": 87,
     "metadata": {},
     "output_type": "execute_result"
    }
   ],
   "source": [
    "import pandas as pd \n",
    "exam6 = pd.read_csv(\"../data/연습문제/USArrests.csv\")\n",
    "display(exam6.head())\n",
    "# display(exam6.isnull().sum())\n",
    "\n",
    "from sklearn.decomposition import PCA\n",
    "\n",
    "pca = PCA(n_components = 4)\n",
    "pca.fit_transform(exam6)\n",
    "\n",
    "pca.components_.T\n",
    "\n",
    "# result = {\n",
    "#   \"분산기여율\": pca.explained_variance_ratio_, \n",
    "#   \"누적기여율\": pca.explained_variance_ratio_.cumsum()\n",
    "# }\n",
    "\n",
    "# pd.DataFrame(result, index=[\"PCA1\", \"PCA2\", \"PCA3\", \"PCAr\"]).T"
   ]
  },
  {
   "cell_type": "code",
   "execution_count": 16,
   "metadata": {},
   "outputs": [
    {
     "name": "stdout",
     "output_type": "stream",
     "text": [
      "   BP_change    Dose Treatment lbl_Animal\n",
      "0        0.5    6.25   Control         R1\n",
      "1        4.5   12.50   Control         R1\n",
      "2       10.0   25.00   Control         R1\n",
      "3       26.0   50.00   Control         R1\n",
      "4       37.0  100.00   Control         R1\n",
      "-4.68\n",
      "-3.6691820392905843\n",
      "0.0009743112823987295\n"
     ]
    }
   ],
   "source": [
    "# 연습문제 1 \n",
    "\n",
    "import pandas as pd \n",
    "exam1 = pd.read_csv(\"../data/연습문제/Rabbit_Five.csv\")\n",
    "\n",
    "print(exam1.head())\n",
    "\n",
    "exam1[\"Treatment\"].value_counts()\n",
    "\n",
    "# 1 \n",
    "BP_change = exam1[\"BP_change\"]\n",
    "Treatment = exam1[\"Treatment\"]\n",
    "\n",
    "BPC_Treat = BP_change[Treatment == \"MDL\"].reset_index(drop=True)\n",
    "BPC_Control = BP_change[Treatment == \"Control\"].reset_index(drop=True)\n",
    "\n",
    "avg = (BPC_Treat - BPC_Control).mean()\n",
    "print(round(avg, 2))\n",
    "\n",
    "# 2. \n",
    "from scipy.stats import ttest_rel\n",
    "\n",
    "a = ttest_rel(BPC_Treat, BPC_Control)\n",
    "print(a.statistic)\n",
    "\n",
    "# 3. \n",
    "print(a.pvalue)"
   ]
  },
  {
   "cell_type": "code",
   "execution_count": 33,
   "metadata": {},
   "outputs": [
    {
     "data": {
      "text/html": [
       "<div>\n",
       "<style scoped>\n",
       "    .dataframe tbody tr th:only-of-type {\n",
       "        vertical-align: middle;\n",
       "    }\n",
       "\n",
       "    .dataframe tbody tr th {\n",
       "        vertical-align: top;\n",
       "    }\n",
       "\n",
       "    .dataframe thead th {\n",
       "        text-align: right;\n",
       "    }\n",
       "</style>\n",
       "<table border=\"1\" class=\"dataframe\">\n",
       "  <thead>\n",
       "    <tr style=\"text-align: right;\">\n",
       "      <th></th>\n",
       "      <th>mpg</th>\n",
       "      <th>cyl</th>\n",
       "      <th>disp</th>\n",
       "      <th>hp</th>\n",
       "      <th>drat</th>\n",
       "      <th>wt</th>\n",
       "      <th>qsec</th>\n",
       "      <th>vs</th>\n",
       "      <th>am</th>\n",
       "      <th>gear</th>\n",
       "      <th>carb</th>\n",
       "    </tr>\n",
       "  </thead>\n",
       "  <tbody>\n",
       "    <tr>\n",
       "      <th>0</th>\n",
       "      <td>21.0</td>\n",
       "      <td>6</td>\n",
       "      <td>160.0</td>\n",
       "      <td>110</td>\n",
       "      <td>3.90</td>\n",
       "      <td>2.620</td>\n",
       "      <td>16.46</td>\n",
       "      <td>0</td>\n",
       "      <td>1</td>\n",
       "      <td>4</td>\n",
       "      <td>4</td>\n",
       "    </tr>\n",
       "    <tr>\n",
       "      <th>1</th>\n",
       "      <td>21.0</td>\n",
       "      <td>6</td>\n",
       "      <td>160.0</td>\n",
       "      <td>110</td>\n",
       "      <td>3.90</td>\n",
       "      <td>2.875</td>\n",
       "      <td>17.02</td>\n",
       "      <td>0</td>\n",
       "      <td>1</td>\n",
       "      <td>4</td>\n",
       "      <td>4</td>\n",
       "    </tr>\n",
       "    <tr>\n",
       "      <th>2</th>\n",
       "      <td>22.8</td>\n",
       "      <td>4</td>\n",
       "      <td>108.0</td>\n",
       "      <td>93</td>\n",
       "      <td>3.85</td>\n",
       "      <td>2.320</td>\n",
       "      <td>18.61</td>\n",
       "      <td>1</td>\n",
       "      <td>1</td>\n",
       "      <td>4</td>\n",
       "      <td>1</td>\n",
       "    </tr>\n",
       "    <tr>\n",
       "      <th>3</th>\n",
       "      <td>21.4</td>\n",
       "      <td>6</td>\n",
       "      <td>258.0</td>\n",
       "      <td>110</td>\n",
       "      <td>3.08</td>\n",
       "      <td>3.215</td>\n",
       "      <td>19.44</td>\n",
       "      <td>1</td>\n",
       "      <td>0</td>\n",
       "      <td>3</td>\n",
       "      <td>1</td>\n",
       "    </tr>\n",
       "    <tr>\n",
       "      <th>4</th>\n",
       "      <td>18.7</td>\n",
       "      <td>8</td>\n",
       "      <td>NaN</td>\n",
       "      <td>175</td>\n",
       "      <td>3.15</td>\n",
       "      <td>3.440</td>\n",
       "      <td>17.02</td>\n",
       "      <td>0</td>\n",
       "      <td>0</td>\n",
       "      <td>3</td>\n",
       "      <td>2</td>\n",
       "    </tr>\n",
       "  </tbody>\n",
       "</table>\n",
       "</div>"
      ],
      "text/plain": [
       "    mpg  cyl   disp   hp  drat     wt   qsec  vs  am  gear  carb\n",
       "0  21.0    6  160.0  110  3.90  2.620  16.46   0   1     4     4\n",
       "1  21.0    6  160.0  110  3.90  2.875  17.02   0   1     4     4\n",
       "2  22.8    4  108.0   93  3.85  2.320  18.61   1   1     4     1\n",
       "3  21.4    6  258.0  110  3.08  3.215  19.44   1   0     3     1\n",
       "4  18.7    8    NaN  175  3.15  3.440  17.02   0   0     3     2"
      ]
     },
     "metadata": {},
     "output_type": "display_data"
    },
    {
     "name": "stdout",
     "output_type": "stream",
     "text": [
      "2.431605932653339\n",
      "0.040469963090568495\n"
     ]
    }
   ],
   "source": [
    "### 연습문제 2 \n",
    "\n",
    "import pandas as pd \n",
    "exam2 = pd.read_csv(\"../data/연습문제/mtcars2.csv\")\n",
    "\n",
    "\n",
    "\n",
    "am = exam2[\"am\"]\n",
    "hp = exam2[\"hp\"]\n",
    "\n",
    "hp_manual = hp[am == 1].reset_index(drop=True)\n",
    "hp_auto = hp[am == 0].reset_index(drop=True)\n",
    "\n",
    "var_ratio = hp_manual.var() / hp_auto.var()\n",
    "\n",
    "\n",
    "\n",
    "# 2. \n",
    "from scipy.stats import f \n",
    "\n",
    "df1, df2 = len(hp_manual) - 1, len(hp_auto)\n",
    "\n",
    "stat = var_ratio\n",
    "\n",
    "pval = 1 - f.cdf(stat, df1, df2)\n",
    "\n",
    "print(pval)\n"
   ]
  },
  {
   "cell_type": "code",
   "execution_count": 48,
   "metadata": {},
   "outputs": [
    {
     "name": "stdout",
     "output_type": "stream",
     "text": [
      "15.737142857142857\n",
      "9\n",
      "0.148\n"
     ]
    }
   ],
   "source": [
    "### 연습문제 3 \n",
    "\n",
    "import pandas as pd \n",
    "\n",
    "exam3 = pd.read_csv(\"../data/연습문제/고객_등급리스트.csv\")\n",
    "\n",
    "exam3.head()\n",
    "\n",
    "from scipy.stats import chi2_contingency\n",
    "import numpy as np \n",
    "\n",
    "exam3[\"Segment\"]\n",
    "cross = pd.crosstab(exam3[\"Segment\"], exam3[\"Region\"])\n",
    "\n",
    "chi2, pval, df, expected = chi2_contingency(cross)\n",
    "print(expected[1, 2])\n",
    "\n",
    "#2 \n",
    "print(int(chi2))\n",
    "\n",
    "#3 \n",
    "print(round(pval, 3))"
   ]
  },
  {
   "cell_type": "code",
   "execution_count": 17,
   "metadata": {},
   "outputs": [
    {
     "name": "stdout",
     "output_type": "stream",
     "text": [
      "19.05\n",
      "0.85\n",
      "기각\n"
     ]
    }
   ],
   "source": [
    "### 연습문제 4 \n",
    "\n",
    "import pandas as pd\n",
    "exam4 = pd.read_csv(\"../data/연습문제/Cars93.csv\")\n",
    "\n",
    "exam4[\"Price\"].isnull().sum()\n",
    "\n",
    "Price = exam4[\"Price\"].dropna().copy() \n",
    "avg = Price.mean()\n",
    "result1 = round(avg, 2)\n",
    "print(result1)\n",
    "\n",
    "# 2. \n",
    "from scipy.stats import shapiro\n",
    "stat, pval = shapiro(Price)\n",
    "\n",
    "result2 = round(stat, 2)\n",
    "print(result2)\n",
    "\n",
    "# 3. \n",
    "result3 = round(pval, 4)\n",
    "result3\n",
    "\n",
    "print(\"기각\")"
   ]
  },
  {
   "cell_type": "code",
   "execution_count": 12,
   "metadata": {},
   "outputs": [
    {
     "name": "stdout",
     "output_type": "stream",
     "text": [
      "-0.498\n"
     ]
    },
    {
     "data": {
      "text/plain": [
       "-5.542975578017778"
      ]
     },
     "execution_count": 12,
     "metadata": {},
     "output_type": "execute_result"
    }
   ],
   "source": [
    "import pandas as pd \n",
    "exam5 = pd.read_csv(\"../data/연습문제/Cars93.csv\")\n",
    "\n",
    "# 1. \n",
    "exam5.columns\n",
    "\n",
    "RPM = exam5[\"Rev_per_mile\"].copy()\n",
    "HP= exam5[\"Horsepower\"].copy()\n",
    "\n",
    "from scipy.stats import pearsonr \n",
    "\n",
    "\n",
    "rho, pval = pearsonr(RPM, HP)\n",
    "\n",
    "result1 = round(stat, 3)\n",
    "print(result1)\n",
    "\n",
    "# 2. \n",
    "import numpy as np \n",
    "\n",
    "stat = rho / (np.sqrt((1 - rho ** 2) / (len(HP) - 2)))\n",
    "stat"
   ]
  },
  {
   "cell_type": "code",
   "execution_count": 45,
   "metadata": {},
   "outputs": [
    {
     "name": "stdout",
     "output_type": "stream",
     "text": [
      "[-127.49559655  -16.13503938   -1.31182982   -2.30096392]\n"
     ]
    },
    {
     "data": {
      "text/html": [
       "<div>\n",
       "<style scoped>\n",
       "    .dataframe tbody tr th:only-of-type {\n",
       "        vertical-align: middle;\n",
       "    }\n",
       "\n",
       "    .dataframe tbody tr th {\n",
       "        vertical-align: top;\n",
       "    }\n",
       "\n",
       "    .dataframe thead th {\n",
       "        text-align: right;\n",
       "    }\n",
       "</style>\n",
       "<table border=\"1\" class=\"dataframe\">\n",
       "  <thead>\n",
       "    <tr style=\"text-align: right;\">\n",
       "      <th></th>\n",
       "      <th>PCA1</th>\n",
       "      <th>PCA2</th>\n",
       "      <th>PCA3</th>\n",
       "      <th>PCA4</th>\n",
       "    </tr>\n",
       "  </thead>\n",
       "  <tbody>\n",
       "    <tr>\n",
       "      <th>분산기여율</th>\n",
       "      <td>0.965534</td>\n",
       "      <td>0.027817</td>\n",
       "      <td>0.005800</td>\n",
       "      <td>0.000849</td>\n",
       "    </tr>\n",
       "    <tr>\n",
       "      <th>누적기여율</th>\n",
       "      <td>0.965534</td>\n",
       "      <td>0.993352</td>\n",
       "      <td>0.999151</td>\n",
       "      <td>1.000000</td>\n",
       "    </tr>\n",
       "  </tbody>\n",
       "</table>\n",
       "</div>"
      ],
      "text/plain": [
       "           PCA1      PCA2      PCA3      PCA4\n",
       "분산기여율  0.965534  0.027817  0.005800  0.000849\n",
       "누적기여율  0.965534  0.993352  0.999151  1.000000"
      ]
     },
     "execution_count": 45,
     "metadata": {},
     "output_type": "execute_result"
    }
   ],
   "source": [
    "### 연습문제 6 \n",
    "\n",
    "import pandas as pd \n",
    "exam6 = pd.read_csv(\"../data/연습문제/USArrests.csv\")\n",
    "\n",
    "# print(exam6)\n",
    "\n",
    "from sklearn.decomposition import PCA \n",
    "\n",
    "pca = PCA(4)\n",
    "a = pca.fit_transform(exam6)\n",
    "# print(a)\n",
    "\n",
    "weight = pca.components_\n",
    "\n",
    "df = pd.DataFrame(weight, index=[\"PC1\", 'PC2', 'PC3', 'PC4'], columns=exam6.columns)\n",
    "result1 = df.iloc[0, 1]\n",
    "\n",
    "\n",
    "# 2. \n",
    "\n",
    "score = pca.fit_transform(exam6)\n",
    "print(score[33])\n",
    "\n",
    "# 3. \n",
    "obj = {\n",
    "  \"분산기여율\": pca.explained_variance_ratio_, \n",
    "  \"누적기여율\": pca.explained_variance_ratio_.cumsum()\n",
    "}\n",
    "c = pd.DataFrame(obj, index=['PCA1', 'PCA2', \"PCA3\", \"PCA4\"]).T\n",
    "c\n",
    "\n",
    "# result = {\n",
    "#   \"분산기여율\": pca.explained_variance_ratio_ ,\n",
    "#   \"누적기여율\": pca.explained_variance_ratio_.cumsum()\n",
    "# }\n",
    "\n",
    "# a = pd.DataFrame(result, index=[\"PCA1\", \"PCA2\", \"PCA3\", \"PCA4\"]).T\n",
    "\n",
    "# print(a)"
   ]
  },
  {
   "cell_type": "code",
   "execution_count": 79,
   "metadata": {},
   "outputs": [
    {
     "name": "stdout",
     "output_type": "stream",
     "text": [
      "Index(['Price', 'Rev_per_mile', 'Weight', 'Length', 'EngineSize'], dtype='object')\n",
      "                            OLS Regression Results                            \n",
      "==============================================================================\n",
      "Dep. Variable:                  Price   R-squared:                       0.396\n",
      "Model:                            OLS   Adj. R-squared:                  0.366\n",
      "Method:                 Least Squares   F-statistic:                     12.96\n",
      "Date:                Fri, 04 Oct 2024   Prob (F-statistic):           3.69e-08\n",
      "Time:                        07:52:26   Log-Likelihood:                -288.33\n",
      "No. Observations:                  84   AIC:                             586.7\n",
      "Df Residuals:                      79   BIC:                             598.8\n",
      "Df Model:                           4                                         \n",
      "Covariance Type:            nonrobust                                         \n",
      "================================================================================\n",
      "                   coef    std err          t      P>|t|      [0.025      0.975]\n",
      "--------------------------------------------------------------------------------\n",
      "const           -2.6152     17.252     -0.152      0.880     -36.954      31.724\n",
      "Rev_per_mile     0.0016      0.002      0.844      0.401      -0.002       0.005\n",
      "Weight           0.0023      0.002      1.427      0.158      -0.001       0.005\n",
      "Length          -0.0210      0.104     -0.203      0.840      -0.227       0.185\n",
      "EngineSize       5.7126      1.479      3.861      0.000       2.768       8.657\n",
      "==============================================================================\n",
      "Omnibus:                       54.602   Durbin-Watson:                   1.203\n",
      "Prob(Omnibus):                  0.000   Jarque-Bera (JB):              252.601\n",
      "Skew:                           2.010   Prob(JB):                     1.41e-55\n",
      "Kurtosis:                      10.485   Cond. No.                     7.98e+04\n",
      "==============================================================================\n",
      "\n",
      "Notes:\n",
      "[1] Standard Errors assume that the covariance matrix of the errors is correctly specified.\n",
      "[2] The condition number is large, 7.98e+04. This might indicate that there are\n",
      "strong multicollinearity or other numerical problems.\n",
      "                      0          1\n",
      "const        -36.954452  31.723953\n",
      "Rev_per_mile  -0.002173   0.005371\n",
      "Weight        -0.000892   0.005406\n",
      "Length        -0.227167   0.185163\n",
      "EngineSize     2.767785   8.657369\n",
      "0.005371369835903434\n"
     ]
    }
   ],
   "source": [
    "import pandas as pd \n",
    "exam7 = pd.read_csv(\"../data/연습문제/Cars93.csv\")\n",
    "\n",
    "\n",
    "# exam7.head()\n",
    "# exam7.info()\n",
    "# exam7.isnull().sum()\n",
    "cols = [\"Price\", \"Rev_per_mile\", \"Weight\", \"Length\", \"EngineSize\"]\n",
    "samp = exam7[cols].dropna()\n",
    "samp.isnull().sum()\n",
    "\n",
    "# 1. \n",
    "import statsmodels.api as sm \n",
    "\n",
    "print(samp.columns)\n",
    "\n",
    "y = samp[\"Price\"]\n",
    "X = samp[cols[1:]]\n",
    "\n",
    "X = sm.add_constant(X)\n",
    "\n",
    "model = sm.OLS(y, X)\n",
    "result = model.fit()\n",
    "print(result.summary())\n",
    "\n",
    "result1 = result.rsquared\n",
    "# print(result1)\n",
    "      \n",
    "# 2. \n",
    "result2 = result.params\n",
    "# print(result2['Weight'])\n",
    "\n",
    "# 3. \n",
    "result3 = result.pvalues \n",
    "# print(result3)\n",
    "\n",
    "# 4. \n",
    "conf_int = result.conf_int()\n",
    "print(conf_int)\n",
    "result4 = conf_int.iloc[1,1]\n",
    "print(result4)"
   ]
  },
  {
   "cell_type": "code",
   "execution_count": 80,
   "metadata": {},
   "outputs": [
    {
     "data": {
      "text/html": [
       "<table class=\"simpletable\">\n",
       "<caption>OLS Regression Results</caption>\n",
       "<tr>\n",
       "  <th>Dep. Variable:</th>          <td>Price</td>      <th>  R-squared:         </th> <td>   0.396</td>\n",
       "</tr>\n",
       "<tr>\n",
       "  <th>Model:</th>                   <td>OLS</td>       <th>  Adj. R-squared:    </th> <td>   0.366</td>\n",
       "</tr>\n",
       "<tr>\n",
       "  <th>Method:</th>             <td>Least Squares</td>  <th>  F-statistic:       </th> <td>   12.96</td>\n",
       "</tr>\n",
       "<tr>\n",
       "  <th>Date:</th>             <td>Fri, 04 Oct 2024</td> <th>  Prob (F-statistic):</th> <td>3.69e-08</td>\n",
       "</tr>\n",
       "<tr>\n",
       "  <th>Time:</th>                 <td>07:55:32</td>     <th>  Log-Likelihood:    </th> <td> -288.33</td>\n",
       "</tr>\n",
       "<tr>\n",
       "  <th>No. Observations:</th>      <td>    84</td>      <th>  AIC:               </th> <td>   586.7</td>\n",
       "</tr>\n",
       "<tr>\n",
       "  <th>Df Residuals:</th>          <td>    79</td>      <th>  BIC:               </th> <td>   598.8</td>\n",
       "</tr>\n",
       "<tr>\n",
       "  <th>Df Model:</th>              <td>     4</td>      <th>                     </th>     <td> </td>   \n",
       "</tr>\n",
       "<tr>\n",
       "  <th>Covariance Type:</th>      <td>nonrobust</td>    <th>                     </th>     <td> </td>   \n",
       "</tr>\n",
       "</table>\n",
       "<table class=\"simpletable\">\n",
       "<tr>\n",
       "        <td></td>          <th>coef</th>     <th>std err</th>      <th>t</th>      <th>P>|t|</th>  <th>[0.025</th>    <th>0.975]</th>  \n",
       "</tr>\n",
       "<tr>\n",
       "  <th>Intercept</th>    <td>   -2.6152</td> <td>   17.252</td> <td>   -0.152</td> <td> 0.880</td> <td>  -36.954</td> <td>   31.724</td>\n",
       "</tr>\n",
       "<tr>\n",
       "  <th>Rev_per_mile</th> <td>    0.0016</td> <td>    0.002</td> <td>    0.844</td> <td> 0.401</td> <td>   -0.002</td> <td>    0.005</td>\n",
       "</tr>\n",
       "<tr>\n",
       "  <th>Weight</th>       <td>    0.0023</td> <td>    0.002</td> <td>    1.427</td> <td> 0.158</td> <td>   -0.001</td> <td>    0.005</td>\n",
       "</tr>\n",
       "<tr>\n",
       "  <th>Length</th>       <td>   -0.0210</td> <td>    0.104</td> <td>   -0.203</td> <td> 0.840</td> <td>   -0.227</td> <td>    0.185</td>\n",
       "</tr>\n",
       "<tr>\n",
       "  <th>EngineSize</th>   <td>    5.7126</td> <td>    1.479</td> <td>    3.861</td> <td> 0.000</td> <td>    2.768</td> <td>    8.657</td>\n",
       "</tr>\n",
       "</table>\n",
       "<table class=\"simpletable\">\n",
       "<tr>\n",
       "  <th>Omnibus:</th>       <td>54.602</td> <th>  Durbin-Watson:     </th> <td>   1.203</td>\n",
       "</tr>\n",
       "<tr>\n",
       "  <th>Prob(Omnibus):</th> <td> 0.000</td> <th>  Jarque-Bera (JB):  </th> <td> 252.601</td>\n",
       "</tr>\n",
       "<tr>\n",
       "  <th>Skew:</th>          <td> 2.010</td> <th>  Prob(JB):          </th> <td>1.41e-55</td>\n",
       "</tr>\n",
       "<tr>\n",
       "  <th>Kurtosis:</th>      <td>10.485</td> <th>  Cond. No.          </th> <td>7.98e+04</td>\n",
       "</tr>\n",
       "</table><br/><br/>Notes:<br/>[1] Standard Errors assume that the covariance matrix of the errors is correctly specified.<br/>[2] The condition number is large, 7.98e+04. This might indicate that there are<br/>strong multicollinearity or other numerical problems."
      ],
      "text/latex": [
       "\\begin{center}\n",
       "\\begin{tabular}{lclc}\n",
       "\\toprule\n",
       "\\textbf{Dep. Variable:}    &      Price       & \\textbf{  R-squared:         } &     0.396   \\\\\n",
       "\\textbf{Model:}            &       OLS        & \\textbf{  Adj. R-squared:    } &     0.366   \\\\\n",
       "\\textbf{Method:}           &  Least Squares   & \\textbf{  F-statistic:       } &     12.96   \\\\\n",
       "\\textbf{Date:}             & Fri, 04 Oct 2024 & \\textbf{  Prob (F-statistic):} &  3.69e-08   \\\\\n",
       "\\textbf{Time:}             &     07:55:32     & \\textbf{  Log-Likelihood:    } &   -288.33   \\\\\n",
       "\\textbf{No. Observations:} &          84      & \\textbf{  AIC:               } &     586.7   \\\\\n",
       "\\textbf{Df Residuals:}     &          79      & \\textbf{  BIC:               } &     598.8   \\\\\n",
       "\\textbf{Df Model:}         &           4      & \\textbf{                     } &             \\\\\n",
       "\\textbf{Covariance Type:}  &    nonrobust     & \\textbf{                     } &             \\\\\n",
       "\\bottomrule\n",
       "\\end{tabular}\n",
       "\\begin{tabular}{lcccccc}\n",
       "                        & \\textbf{coef} & \\textbf{std err} & \\textbf{t} & \\textbf{P$> |$t$|$} & \\textbf{[0.025} & \\textbf{0.975]}  \\\\\n",
       "\\midrule\n",
       "\\textbf{Intercept}      &      -2.6152  &       17.252     &    -0.152  &         0.880        &      -36.954    &       31.724     \\\\\n",
       "\\textbf{Rev\\_per\\_mile} &       0.0016  &        0.002     &     0.844  &         0.401        &       -0.002    &        0.005     \\\\\n",
       "\\textbf{Weight}         &       0.0023  &        0.002     &     1.427  &         0.158        &       -0.001    &        0.005     \\\\\n",
       "\\textbf{Length}         &      -0.0210  &        0.104     &    -0.203  &         0.840        &       -0.227    &        0.185     \\\\\n",
       "\\textbf{EngineSize}     &       5.7126  &        1.479     &     3.861  &         0.000        &        2.768    &        8.657     \\\\\n",
       "\\bottomrule\n",
       "\\end{tabular}\n",
       "\\begin{tabular}{lclc}\n",
       "\\textbf{Omnibus:}       & 54.602 & \\textbf{  Durbin-Watson:     } &    1.203  \\\\\n",
       "\\textbf{Prob(Omnibus):} &  0.000 & \\textbf{  Jarque-Bera (JB):  } &  252.601  \\\\\n",
       "\\textbf{Skew:}          &  2.010 & \\textbf{  Prob(JB):          } & 1.41e-55  \\\\\n",
       "\\textbf{Kurtosis:}      & 10.485 & \\textbf{  Cond. No.          } & 7.98e+04  \\\\\n",
       "\\bottomrule\n",
       "\\end{tabular}\n",
       "%\\caption{OLS Regression Results}\n",
       "\\end{center}\n",
       "\n",
       "Notes: \\newline\n",
       " [1] Standard Errors assume that the covariance matrix of the errors is correctly specified. \\newline\n",
       " [2] The condition number is large, 7.98e+04. This might indicate that there are \\newline\n",
       " strong multicollinearity or other numerical problems."
      ],
      "text/plain": [
       "<class 'statsmodels.iolib.summary.Summary'>\n",
       "\"\"\"\n",
       "                            OLS Regression Results                            \n",
       "==============================================================================\n",
       "Dep. Variable:                  Price   R-squared:                       0.396\n",
       "Model:                            OLS   Adj. R-squared:                  0.366\n",
       "Method:                 Least Squares   F-statistic:                     12.96\n",
       "Date:                Fri, 04 Oct 2024   Prob (F-statistic):           3.69e-08\n",
       "Time:                        07:55:32   Log-Likelihood:                -288.33\n",
       "No. Observations:                  84   AIC:                             586.7\n",
       "Df Residuals:                      79   BIC:                             598.8\n",
       "Df Model:                           4                                         \n",
       "Covariance Type:            nonrobust                                         \n",
       "================================================================================\n",
       "                   coef    std err          t      P>|t|      [0.025      0.975]\n",
       "--------------------------------------------------------------------------------\n",
       "Intercept       -2.6152     17.252     -0.152      0.880     -36.954      31.724\n",
       "Rev_per_mile     0.0016      0.002      0.844      0.401      -0.002       0.005\n",
       "Weight           0.0023      0.002      1.427      0.158      -0.001       0.005\n",
       "Length          -0.0210      0.104     -0.203      0.840      -0.227       0.185\n",
       "EngineSize       5.7126      1.479      3.861      0.000       2.768       8.657\n",
       "==============================================================================\n",
       "Omnibus:                       54.602   Durbin-Watson:                   1.203\n",
       "Prob(Omnibus):                  0.000   Jarque-Bera (JB):              252.601\n",
       "Skew:                           2.010   Prob(JB):                     1.41e-55\n",
       "Kurtosis:                      10.485   Cond. No.                     7.98e+04\n",
       "==============================================================================\n",
       "\n",
       "Notes:\n",
       "[1] Standard Errors assume that the covariance matrix of the errors is correctly specified.\n",
       "[2] The condition number is large, 7.98e+04. This might indicate that there are\n",
       "strong multicollinearity or other numerical problems.\n",
       "\"\"\""
      ]
     },
     "execution_count": 80,
     "metadata": {},
     "output_type": "execute_result"
    }
   ],
   "source": [
    "import pandas as pd \n",
    "exam7 = pd.read_csv(\"../data/연습문제/Cars93.csv\")\n",
    "\n",
    "\n",
    "# exam7.head()\n",
    "# exam7.info()\n",
    "# exam7.isnull().sum()\n",
    "cols = [\"Price\", \"Rev_per_mile\", \"Weight\", \"Length\", \"EngineSize\"]\n",
    "samp = exam7[cols].dropna()\n",
    "samp.isnull().sum()\n",
    "\n",
    "from statsmodels.formula.api import ols \n",
    "\n",
    "formula = \"Price ~ Rev_per_mile + Weight + Length + EngineSize\"\n",
    "\n",
    "model = ols(formula, data=samp).fit()\n",
    "model.summary()"
   ]
  },
  {
   "cell_type": "code",
   "execution_count": 84,
   "metadata": {},
   "outputs": [
    {
     "name": "stdout",
     "output_type": "stream",
     "text": [
      "                 Generalized Linear Model Regression Results                  \n",
      "==============================================================================\n",
      "Dep. Variable:                      y   No. Observations:                  105\n",
      "Model:                            GLM   Df Residuals:                      101\n",
      "Model Family:                Binomial   Df Model:                            3\n",
      "Link Function:                  Logit   Scale:                          1.0000\n",
      "Method:                          IRLS   Log-Likelihood:                -56.381\n",
      "Date:                Fri, 04 Oct 2024   Deviance:                       112.76\n",
      "Time:                        13:00:02   Pearson chi2:                     106.\n",
      "No. Iterations:                     4   Pseudo R-squ. (CS):            0.09941\n",
      "Covariance Type:            nonrobust                                         \n",
      "==============================================================================\n",
      "                 coef    std err          z      P>|z|      [0.025      0.975]\n",
      "------------------------------------------------------------------------------\n",
      "const         -0.8077      0.696     -1.160      0.246      -2.173       0.557\n",
      "x1            -0.6233      0.198     -3.149      0.002      -1.011      -0.235\n",
      "x2            -0.1575      0.684     -0.230      0.818      -1.498       1.183\n",
      "x3            -0.2153      0.309     -0.696      0.487      -0.822       0.391\n",
      "==============================================================================\n"
     ]
    }
   ],
   "source": [
    "import pandas as pd \n",
    "exam8 = pd.read_csv(\"../data/연습문제/job.csv\")\n",
    "\n",
    "import statsmodels.api as sm \n",
    "import numpy as np \n",
    "\n",
    "exam8[\"x2\"] = exam8[\"x2\"].map({\"M\": 1, \"F\": 0})\n",
    "\n",
    "y = exam8[\"y\"] \n",
    "X = exam8[[\"x1\", \"x2\", \"x3\"]]\n",
    "X = sm.add_constant(X)\n",
    "\n",
    "model = sm.GLM(y, X, family=sm.families.Binomial())\n",
    "result = model.fit() \n",
    "print(result.summary())"
   ]
  },
  {
   "cell_type": "code",
   "execution_count": 86,
   "metadata": {},
   "outputs": [
    {
     "name": "stdout",
     "output_type": "stream",
     "text": [
      "                 Generalized Linear Model Regression Results                  \n",
      "==============================================================================\n",
      "Dep. Variable:                      y   No. Observations:                  105\n",
      "Model:                            GLM   Df Residuals:                      101\n",
      "Model Family:                Binomial   Df Model:                            3\n",
      "Link Function:                  Logit   Scale:                          1.0000\n",
      "Method:                          IRLS   Log-Likelihood:                -56.381\n",
      "Date:                Fri, 04 Oct 2024   Deviance:                       112.76\n",
      "Time:                        13:04:42   Pearson chi2:                     106.\n",
      "No. Iterations:                     4   Pseudo R-squ. (CS):            0.09941\n",
      "Covariance Type:            nonrobust                                         \n",
      "==============================================================================\n",
      "                 coef    std err          z      P>|z|      [0.025      0.975]\n",
      "------------------------------------------------------------------------------\n",
      "Intercept     -0.8077      0.696     -1.160      0.246      -2.173       0.557\n",
      "x1            -0.6233      0.198     -3.149      0.002      -1.011      -0.235\n",
      "x2            -0.1575      0.684     -0.230      0.818      -1.498       1.183\n",
      "x3            -0.2153      0.309     -0.696      0.487      -0.822       0.391\n",
      "==============================================================================\n"
     ]
    }
   ],
   "source": [
    "from statsmodels.formula.api import glm  \n",
    "\n",
    "formula = \"y ~ x1 + x2 + x3\"\n",
    "\n",
    "model = glm(formula, data=exam8, family=sm.families.Binomial()).fit()\n",
    "print(model.summary())"
   ]
  },
  {
   "cell_type": "code",
   "execution_count": 87,
   "metadata": {},
   "outputs": [
    {
     "data": {
      "text/plain": [
       "0.8542768136084795"
      ]
     },
     "execution_count": 87,
     "metadata": {},
     "output_type": "execute_result"
    }
   ],
   "source": [
    "odds_ratio = np.exp(-0.1575)\n",
    "odds_ratio"
   ]
  },
  {
   "cell_type": "code",
   "execution_count": 89,
   "metadata": {},
   "outputs": [
    {
     "name": "stdout",
     "output_type": "stream",
     "text": [
      "0.5344019509466055\n"
     ]
    }
   ],
   "source": [
    "y_prob = model.predict(X)\n",
    "print(y_prob[8])"
   ]
  },
  {
   "cell_type": "code",
   "execution_count": 119,
   "metadata": {},
   "outputs": [
    {
     "name": "stdout",
     "output_type": "stream",
     "text": [
      "16.541580481371025\n",
      "13.441725765801113\n",
      "0.0037725081440671358\n"
     ]
    }
   ],
   "source": [
    "### 연습문제 9.\n",
    "\n",
    "import pandas as pd \n",
    "exam9 = pd.read_csv(\"../data/연습문제/영화_순위리스트.csv\", encoding=\"cp949\")\n",
    "\n",
    "# print(exam9.head(1))\n",
    "# exam9.isnull().sum()\n",
    "# exam9.info()\n",
    "\n",
    "genre = exam9[\"장르\"].copy()\n",
    "budget = exam9[\"예산\"].copy() \n",
    "\n",
    "b_thiller = budget[genre == \"Thriller\"]\n",
    "b_comedy = budget[genre == \"Comedy\"]\n",
    "b_drama = budget[genre == \"Drama\"]\n",
    "b_action = budget[genre == \"Action\"]\n",
    "\n",
    "var_i = [\n",
    " b_thiller.var(), b_comedy.var(), b_drama.var(), b_action.var(),\n",
    "]\n",
    "\n",
    "n_i = [\n",
    " len(b_thiller), len(b_comedy), len(b_drama), len(b_action),\n",
    "]\n",
    "\n",
    "N = sum(n_i)\n",
    "k = 4\n",
    "\n",
    "# log_sp2 = np.log(sum(np.subtract(n_i, 1) * var_i) / (N - k))\n",
    "# log_sp2 = round(log_sp2, 3)\n",
    "# print(log_sp2)\n",
    "\n",
    "log_sp2 = sum((np.array(n_i) - 1) * var_i) / (N - k)\n",
    "log_sp2 = np.log(log_sp2)\n",
    "log_sp2\n",
    "# log_sp2 = sum((n_i - 1.0) * var_i) /( N -k) \n",
    "print(log_sp2)\n",
    "\n",
    "# 2. Bartlett Test 검정\n",
    "\n",
    "from scipy.stats import bartlett \n",
    "\n",
    "stat, pval = bartlett(\n",
    " b_thiller, b_comedy, b_drama, b_action,\n",
    ")\n",
    "\n",
    "print(stat)\n",
    "print(pval)\n"
   ]
  },
  {
   "cell_type": "code",
   "execution_count": 3,
   "metadata": {},
   "outputs": [
    {
     "ename": "TypeError",
     "evalue": "object of type 'int' has no len()",
     "output_type": "error",
     "traceback": [
      "\u001b[0;31m---------------------------------------------------------------------------\u001b[0m",
      "\u001b[0;31mTypeError\u001b[0m                                 Traceback (most recent call last)",
      "Cell \u001b[0;32mIn[3], line 19\u001b[0m\n\u001b[1;32m     17\u001b[0m result \u001b[38;5;241m=\u001b[39m \u001b[38;5;241m0\u001b[39m \n\u001b[1;32m     18\u001b[0m \u001b[38;5;28;01mfor\u001b[39;00m i \u001b[38;5;129;01min\u001b[39;00m \u001b[38;5;28mrange\u001b[39m(\u001b[38;5;241m4\u001b[39m): \n\u001b[0;32m---> 19\u001b[0m   k \u001b[38;5;241m=\u001b[39m (\u001b[38;5;28;43mlen\u001b[39;49m\u001b[43m(\u001b[49m\u001b[43mn_i\u001b[49m\u001b[43m[\u001b[49m\u001b[43mi\u001b[49m\u001b[43m]\u001b[49m\u001b[43m \u001b[49m\u001b[38;5;241;43m-\u001b[39;49m\u001b[43m \u001b[49m\u001b[38;5;241;43m1\u001b[39;49m\u001b[43m)\u001b[49m) \u001b[38;5;241m*\u001b[39m v_i\n\u001b[1;32m     20\u001b[0m   result \u001b[38;5;241m+\u001b[39m\u001b[38;5;241m=\u001b[39m k\n\u001b[1;32m     22\u001b[0m np\u001b[38;5;241m.\u001b[39mlog(k)\n",
      "\u001b[0;31mTypeError\u001b[0m: object of type 'int' has no len()"
     ]
    }
   ],
   "source": [
    "import pandas as pd \n",
    "exam9 = pd.read_csv(\"../data/연습문제/영화_순위리스트.csv\", encoding=\"cp949\")\n",
    "\n",
    "genre = exam9[\"장르\"].copy()\n",
    "budget = exam9[\"예산\"].copy() \n",
    "\n",
    "b_thiller = budget[genre == \"Thriller\"]\n",
    "b_comedy = budget[genre == \"Comedy\"]\n",
    "b_drama = budget[genre == \"Drama\"]\n",
    "b_action = budget[genre == \"Action\"]\n",
    "\n",
    "v_i = [ \n",
    "  b_thiller.var(),b_comedy.var(),b_drama.var(),b_action.var(),\n",
    "]\n",
    "n_i = [len(b_thiller),len(b_comedy),len(b_drama),len(b_action)]\n",
    "\n",
    "result = 0 \n",
    "for i in range(4): \n",
    "  k = (len(n_i[i] - 1)) * v_i\n",
    "  result += k\n",
    "\n"
   ]
  },
  {
   "cell_type": "code",
   "execution_count": null,
   "metadata": {},
   "outputs": [],
   "source": []
  }
 ],
 "metadata": {
  "kernelspec": {
   "display_name": "Python 3",
   "language": "python",
   "name": "python3"
  },
  "language_info": {
   "codemirror_mode": {
    "name": "ipython",
    "version": 3
   },
   "file_extension": ".py",
   "mimetype": "text/x-python",
   "name": "python",
   "nbconvert_exporter": "python",
   "pygments_lexer": "ipython3",
   "version": "3.12.3"
  }
 },
 "nbformat": 4,
 "nbformat_minor": 2
}

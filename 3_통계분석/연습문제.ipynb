{
 "cells": [
  {
   "cell_type": "code",
   "execution_count": 7,
   "metadata": {},
   "outputs": [
    {
     "name": "stdout",
     "output_type": "stream",
     "text": [
      "   BP_change   Dose Treatment lbl_Animal\n",
      "0        0.5   6.25   Control         R1\n",
      "1        4.5  12.50   Control         R1\n",
      "2       10.0  25.00   Control         R1\n",
      "Treatment\n",
      "Control    30\n",
      "MDL        30\n",
      "Name: count, dtype: int64\n",
      "-4.68\n"
     ]
    }
   ],
   "source": [
    "import pandas as pd \n",
    "exam1 = pd.read_csv(\"../data/연습문제/Rabbit_Five.csv\", encoding=\"CP949\")\n",
    "\n",
    "from scipy.stats import ttest_rel\n",
    "\n",
    "BP_change = exam1[\"BP_change\"]\n",
    "Treatment = exam1[\"Treatment\"]\n",
    "\n",
    "print(exam1.head(3))\n",
    "print(Treatment.value_counts())\n",
    "\n",
    "\n",
    "BPC_treat = BP_change[Treatment == \"MDL\"].reset_index(drop=True)\n",
    "BPC_control = BP_change[Treatment == \"Control\"].reset_index(drop=True)\n",
    "\n",
    "diff_avg = (BPC_treat - BPC_control).mean()\n",
    "diff_avg = round(diff_avg, 2)\n",
    "print(diff_avg)\n",
    "\n"
   ]
  },
  {
   "cell_type": "code",
   "execution_count": 15,
   "metadata": {},
   "outputs": [
    {
     "name": "stdout",
     "output_type": "stream",
     "text": [
      "-3.6691820392905843\n",
      "0.0009743112823987295\n"
     ]
    }
   ],
   "source": [
    "a = ttest_rel(BPC_treat, BPC_control)\n",
    "\n",
    "print(a.statistic)\n",
    "print(a.pvalue)"
   ]
  },
  {
   "cell_type": "code",
   "execution_count": null,
   "metadata": {},
   "outputs": [],
   "source": []
  }
 ],
 "metadata": {
  "kernelspec": {
   "display_name": "Python 3",
   "language": "python",
   "name": "python3"
  },
  "language_info": {
   "codemirror_mode": {
    "name": "ipython",
    "version": 3
   },
   "file_extension": ".py",
   "mimetype": "text/x-python",
   "name": "python",
   "nbconvert_exporter": "python",
   "pygments_lexer": "ipython3",
   "version": "3.12.3"
  }
 },
 "nbformat": 4,
 "nbformat_minor": 2
}

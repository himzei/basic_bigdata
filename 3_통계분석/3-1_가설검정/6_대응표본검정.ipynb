{
 "cells": [
  {
   "cell_type": "markdown",
   "metadata": {},
   "source": [
    "\n",
    "단일표본검정\n",
    "나커피 유튜버는 최근 판매되는 \"합격 원두(dark)\" 상품의 실제 무게를 조사하였다. 제조사는 \"합격 원두(dark)\"의 무게를 120g라고 표기하였다. 나커피 유튜버는 이 주장이 사실인지 확인하기 위해 상품의 무게를 측정하였다. 다음은 30개의 상품 샘플의 무게 측정 결과다. 이 측정 결과를 바탕으로 제조사의 주장인 상품의 무게(120g)가 사실인지 검정해보시오. (데이터는 정규분포를 따른다고 가정한다.)\n",
    "\n",
    "귀무가설: μ = μ0, \"합격 원두(dark)\" 상품의 평균 무게는 120g이다.\n",
    "대립가설: μ ≠ μ0, \"합격 원두(dark)\" 상품의 평균 무게는 120g 아니다.\n",
    "μ(뮤): 현재 조사하려는 상품의 실제 평균 무게\n",
    "μ0(뮤 제로): 제조사가 주장하는 상품의 평균 무게(120g)"
   ]
  },
  {
   "cell_type": "markdown",
   "metadata": {},
   "source": []
  },
  {
   "cell_type": "code",
   "execution_count": 2,
   "metadata": {},
   "outputs": [],
   "source": [
    "# 데이터\n",
    "import pandas as pd\n",
    "df = pd.DataFrame({\n",
    "    'before':[85,90,92,88,86,89,83,87,65,50],\n",
    "    'after':[88,89,96,89,85,88,85,89,78,61]\n",
    "})"
   ]
  },
  {
   "cell_type": "code",
   "execution_count": 3,
   "metadata": {},
   "outputs": [
    {
     "data": {
      "text/plain": [
       "TtestResult(statistic=-2.119860886666164, pvalue=0.03152591671694539, df=9)"
      ]
     },
     "execution_count": 3,
     "metadata": {},
     "output_type": "execute_result"
    }
   ],
   "source": [
    "from scipy import stats \n",
    "\n",
    "stats.ttest_rel(df[\"before\"], df[\"after\"], alternative=\"less\")"
   ]
  },
  {
   "cell_type": "code",
   "execution_count": 4,
   "metadata": {},
   "outputs": [
    {
     "data": {
      "text/plain": [
       "TtestResult(statistic=-2.119860886666164, pvalue=0.03152591671694539, df=9)"
      ]
     },
     "execution_count": 4,
     "metadata": {},
     "output_type": "execute_result"
    }
   ],
   "source": [
    "stats.ttest_rel(df[\"before\"], df[\"after\"], alternative=\"less\")"
   ]
  },
  {
   "cell_type": "code",
   "execution_count": 5,
   "metadata": {},
   "outputs": [
    {
     "data": {
      "text/plain": [
       "ShapiroResult(statistic=0.8106808132606462, pvalue=0.019542902973577702)"
      ]
     },
     "execution_count": 5,
     "metadata": {},
     "output_type": "execute_result"
    }
   ],
   "source": [
    "# shapiro-wilk \n",
    "\n",
    "df[\"diff\"] = df[\"after\"]-df[\"before\"]\n",
    "from scipy import stats \n",
    "stats.shapiro(df[\"diff\"])"
   ]
  },
  {
   "cell_type": "code",
   "execution_count": 6,
   "metadata": {},
   "outputs": [
    {
     "data": {
      "text/plain": [
       "WilcoxonResult(statistic=47.5, pvalue=0.0244140625)"
      ]
     },
     "execution_count": 6,
     "metadata": {},
     "output_type": "execute_result"
    }
   ],
   "source": [
    "stats.wilcoxon(df[\"after\"], df[\"before\"], alternative=\"greater\")"
   ]
  },
  {
   "cell_type": "code",
   "execution_count": 7,
   "metadata": {},
   "outputs": [
    {
     "data": {
      "text/plain": [
       "WilcoxonResult(statistic=47.5, pvalue=0.0244140625)"
      ]
     },
     "execution_count": 7,
     "metadata": {},
     "output_type": "execute_result"
    }
   ],
   "source": [
    "stats.wilcoxon(df[\"diff\"], alternative=\"greater\")"
   ]
  },
  {
   "cell_type": "code",
   "execution_count": null,
   "metadata": {},
   "outputs": [],
   "source": []
  }
 ],
 "metadata": {
  "kernelspec": {
   "display_name": "Python 3",
   "language": "python",
   "name": "python3"
  },
  "language_info": {
   "codemirror_mode": {
    "name": "ipython",
    "version": 3
   },
   "file_extension": ".py",
   "mimetype": "text/x-python",
   "name": "python",
   "nbconvert_exporter": "python",
   "pygments_lexer": "ipython3",
   "version": "3.12.3"
  }
 },
 "nbformat": 4,
 "nbformat_minor": 2
}

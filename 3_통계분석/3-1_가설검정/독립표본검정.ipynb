{
 "cells": [
  {
   "cell_type": "markdown",
   "metadata": {},
   "source": [
    "### 다음은 빅데이터 분석기사 실기 시험 점수이다. A그룹과 B그룹의 평균 점수가 차이가 있는지 유의수준 0.05하에서 가설 검정하시오.\n",
    "(데이터는 정규분포를 따르고 분산이 동일하다고 가정한다.)\n",
    "- 귀무가설(H0): 그룹별 시험 평균 점수는 차이가 없다. (μ1 = μ2)\n",
    "- 대립가설(H1): 그룹별 시험 평균 점수는 차이가 있다. (μ1 ≠ μ2)"
   ]
  },
  {
   "cell_type": "code",
   "execution_count": 2,
   "metadata": {},
   "outputs": [
    {
     "data": {
      "text/plain": [
       "TtestResult(statistic=-2.051813915505951, pvalue=0.04964542271174967, df=28.0)"
      ]
     },
     "execution_count": 2,
     "metadata": {},
     "output_type": "execute_result"
    }
   ],
   "source": [
    "A = [85, 90, 92, 88, 86, 89, 83, 87,\n",
    "     84, 50, 60, 39, 28, 48, 38, 28]\n",
    "B = [82, 82, 88, 85, 84, 74, 79, 69,\n",
    "     78, 76, 85, 84, 79, 89]\n",
    "\n",
    "# 독립표본검정\n",
    "\n",
    "from scipy import stats \n",
    "stats.ttest_ind(A, B)"
   ]
  },
  {
   "cell_type": "code",
   "execution_count": 3,
   "metadata": {},
   "outputs": [
    {
     "data": {
      "text/plain": [
       "TtestResult(statistic=-2.1837307810153024, pvalue=0.04352730399590312, df=16.729279968729678)"
      ]
     },
     "execution_count": 3,
     "metadata": {},
     "output_type": "execute_result"
    }
   ],
   "source": [
    "# 두 집단의 분산이 다른다 \n",
    "stats.ttest_ind(A, B, equal_var=False)"
   ]
  },
  {
   "cell_type": "code",
   "execution_count": 4,
   "metadata": {},
   "outputs": [
    {
     "data": {
      "text/plain": [
       "TtestResult(statistic=-2.051813915505951, pvalue=0.024822711355874834, df=28.0)"
      ]
     },
     "execution_count": 4,
     "metadata": {},
     "output_type": "execute_result"
    }
   ],
   "source": [
    "# 귀무가설(H0): 그룹별 시험 평균 점수는 차이가 없다. (μ1 = μ2)\n",
    "# 대립가설(H1): B그룹 시험 평균 점수가 더 높다. (μ1 < μ2)\n",
    "stats.ttest_ind(A, B, equal_var=True, alternative=\"less\")"
   ]
  },
  {
   "cell_type": "code",
   "execution_count": 5,
   "metadata": {},
   "outputs": [
    {
     "data": {
      "text/plain": [
       "TtestResult(statistic=-2.051813915505951, pvalue=0.9751772886441252, df=28.0)"
      ]
     },
     "execution_count": 5,
     "metadata": {},
     "output_type": "execute_result"
    }
   ],
   "source": [
    "# 귀무가설(H0): 그룹별 시험 평균 점수는 차이가 없다. (μ1 = μ2)\n",
    "# 대립가설(H1): A그룹 시험 평균 점수가 더 높다. (μ1 > μ2)\n",
    "stats.ttest_ind(A, B, equal_var=True, alternative=\"greater\")"
   ]
  },
  {
   "cell_type": "code",
   "execution_count": 6,
   "metadata": {},
   "outputs": [
    {
     "name": "stdout",
     "output_type": "stream",
     "text": [
      "ShapiroResult(statistic=0.8128696504554708, pvalue=0.00405770158688692)\n",
      "ShapiroResult(statistic=0.9610027583368682, pvalue=0.739578582064332)\n"
     ]
    }
   ],
   "source": [
    "# Shapiro-Wile (정규성 검정)\n",
    "from scipy import stats\n",
    "print(stats.shapiro(A))\n",
    "print(stats.shapiro(B))\n",
    "\n",
    "# A 그룹은 정규분포를 만족하지 않는다"
   ]
  },
  {
   "cell_type": "code",
   "execution_count": 8,
   "metadata": {},
   "outputs": [
    {
     "data": {
      "text/plain": [
       "MannwhitneyuResult(statistic=106.0, pvalue=0.40944636368515097)"
      ]
     },
     "execution_count": 8,
     "metadata": {},
     "output_type": "execute_result"
    }
   ],
   "source": [
    "# Mann-Whitney U 검정(비모수 검정)\n",
    "# 귀무가설(H0): 그룹별 시험 평균 점수는 차이가 없다. (μ1 = μ2)\n",
    "# 대립가설(H1): B그룹 시험 평균 점수가 더 높다. (μ1 < μ2)\n",
    "stats.mannwhitneyu(A, B, alternative=\"less\")"
   ]
  },
  {
   "cell_type": "code",
   "execution_count": 10,
   "metadata": {},
   "outputs": [
    {
     "data": {
      "text/plain": [
       "LeveneResult(statistic=8.013957643762076, pvalue=0.008497116974003)"
      ]
     },
     "execution_count": 10,
     "metadata": {},
     "output_type": "execute_result"
    }
   ],
   "source": [
    "# Levene 검정\n",
    "# Levene 등분산 검정 \n",
    "# 귀무가설: 두 그룹간의 분산이 동일하다\n",
    "stats.levene(A, B)"
   ]
  },
  {
   "cell_type": "code",
   "execution_count": null,
   "metadata": {},
   "outputs": [],
   "source": []
  }
 ],
 "metadata": {
  "kernelspec": {
   "display_name": "Python 3",
   "language": "python",
   "name": "python3"
  },
  "language_info": {
   "codemirror_mode": {
    "name": "ipython",
    "version": 3
   },
   "file_extension": ".py",
   "mimetype": "text/x-python",
   "name": "python",
   "nbconvert_exporter": "python",
   "pygments_lexer": "ipython3",
   "version": "3.12.3"
  }
 },
 "nbformat": 4,
 "nbformat_minor": 2
}

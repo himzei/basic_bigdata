{
 "cells": [
  {
   "cell_type": "markdown",
   "metadata": {},
   "source": [
    "### 나커피 유튜버는 최근 판매되는 \"합격 원두(dark)\" 상품의 실제 무게를 조사하였다. 제조사는 \"합격 원두(dark)\"의 무게를 120g라고 표기하였다. 나커피 유튜버는 이 주장이 사실인지 확인하기 위해 상품의 무게를 측정하였다. 다음은 30개의 상품 샘플의 무게 측정 결과다. 이 측정 결과를 바탕으로 제조사의 주장인 상품의 무게(120g)가 사실인지 검정해보시오. (데이터는 정규분포를 따른다고 가정한다.)\n",
    "- 귀무가설: μ = μ0, \"합격 원두(dark)\" 상품의 평균 무게는 120g이다.\n",
    "- 대립가설: μ ≠ μ0, \"합격 원두(dark)\" 상품의 평균 무게는 120g 아니다."
   ]
  },
  {
   "cell_type": "markdown",
   "metadata": {},
   "source": [
    "- μ(뮤): 현재 조사하려는 상품의 실제 평균 무게\n",
    "- μ0(뮤 제로): 제조사가 주장하는 상품의 평균 무게(120g)"
   ]
  },
  {
   "cell_type": "code",
   "execution_count": 8,
   "metadata": {},
   "outputs": [
    {
     "name": "stdout",
     "output_type": "stream",
     "text": [
      "121.46666666666667\n",
      "TtestResult(statistic=2.153709967150663, pvalue=0.03970987897788578, df=29)\n",
      "TtestResult(statistic=2.153709967150663, pvalue=0.01985493948894289, df=29)\n",
      "TtestResult(statistic=2.153709967150663, pvalue=0.9801450605110571, df=29)\n"
     ]
    }
   ],
   "source": [
    "import pandas as pd\n",
    "df = pd.DataFrame({\n",
    "    '무게':[119, 121, 121, 119, 125, 115, 121, 118, 117, 127,\n",
    "           123, 129, 119, 124, 114, 126, 122, 124, 121, 116,\n",
    "           123, 123, 127, 118, 122, 117, 124, 125, 123, 121],\n",
    "})\n",
    "\n",
    "# 단일표본검정\n",
    "# 단이표본 검정을 하기 위해서는 데이터는 정규 분포를 따른 다고 가정 한다 \n",
    "\n",
    "from scipy.stats import ttest_1samp \n",
    "print(df[\"무게\"].mean())\n",
    "\n",
    "\n",
    "# df는 자유도 관측치 -1 \n",
    "\n",
    "# 대립가설: 합격 원두 샘플의 평균 무게는 120g 아니다 \n",
    "print(ttest_1samp(df[\"무게\"], 120, alternative=\"two-sided\"))\n",
    "\n",
    "# 대립가설: 합격 원두 샘플의 평균 무게는 120g 보다 크다 \n",
    "print(ttest_1samp(df[\"무게\"], 120, alternative=\"greater\"))\n",
    "\n",
    "# 대립가설: 합격 원두 샘플의 평균 무게는 120g 보다 작다 \n",
    "print(ttest_1samp(df[\"무게\"], 120, alternative=\"less\"))\n",
    "\n"
   ]
  },
  {
   "cell_type": "code",
   "execution_count": 9,
   "metadata": {},
   "outputs": [
    {
     "data": {
      "text/plain": [
       "ShapiroResult(statistic=0.35728970196526855, pvalue=2.2139240997414947e-10)"
      ]
     },
     "execution_count": 9,
     "metadata": {},
     "output_type": "execute_result"
    }
   ],
   "source": [
    "import pandas as pd\n",
    "df = pd.DataFrame({\n",
    "    '무게':[219, 121, 121, 119, 125, 115, 121, 118, 117, 127,\n",
    "           123, 129, 119, 124, 114, 126, 122, 124, 121, 116,\n",
    "           123, 123, 127, 118, 122, 117, 124, 125, 123, 121],\n",
    "})\n",
    "\n",
    "# 정규분포를 만족하지 않는다 \n",
    "# 귀무가설: 주어진 데이터는 정규분포를 따른다 \n",
    "# 대립가설: 주이진 데이터는 정규분포를 따르지 않는다 \n",
    "\n",
    "from scipy import stats\n",
    "stats.shapiro(df['무게'])"
   ]
  },
  {
   "cell_type": "code",
   "execution_count": 14,
   "metadata": {},
   "outputs": [
    {
     "name": "stdout",
     "output_type": "stream",
     "text": [
      "0.00000000022139240997\n",
      "0.00000000022\n"
     ]
    }
   ],
   "source": [
    "\n",
    "print(f\"{2.2139240997414947e-10:.20f}\")\n",
    "print(\"{:.11f}\".format(2.2139240997414947e-10))"
   ]
  },
  {
   "cell_type": "code",
   "execution_count": 16,
   "metadata": {},
   "outputs": [
    {
     "name": "stdout",
     "output_type": "stream",
     "text": [
      "124.8\n"
     ]
    },
    {
     "data": {
      "text/plain": [
       "WilcoxonResult(statistic=341.0, pvalue=0.9882949283346534)"
      ]
     },
     "execution_count": 16,
     "metadata": {},
     "output_type": "execute_result"
    }
   ],
   "source": [
    "# 정규 분포를 따른지 않을때 \n",
    "# Wilcoxon 검정\n",
    "# 귀무가설: 합격원두 상품의 무게는 120 이다 \n",
    "# 대립가설: 합격원두 상품의 무게는 120g 이 작다\n",
    "\n",
    "from scipy import stats\n",
    "print(df['무게'].mean())\n",
    "stats.wilcoxon(df[\"무게\"] - 120, alternative=\"less\")"
   ]
  },
  {
   "cell_type": "code",
   "execution_count": null,
   "metadata": {},
   "outputs": [],
   "source": []
  }
 ],
 "metadata": {
  "kernelspec": {
   "display_name": "Python 3",
   "language": "python",
   "name": "python3"
  },
  "language_info": {
   "codemirror_mode": {
    "name": "ipython",
    "version": 3
   },
   "file_extension": ".py",
   "mimetype": "text/x-python",
   "name": "python",
   "nbconvert_exporter": "python",
   "pygments_lexer": "ipython3",
   "version": "3.12.3"
  }
 },
 "nbformat": 4,
 "nbformat_minor": 2
}

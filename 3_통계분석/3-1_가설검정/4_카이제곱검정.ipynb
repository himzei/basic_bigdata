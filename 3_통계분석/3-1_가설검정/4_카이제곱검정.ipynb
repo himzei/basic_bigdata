{
 "cells": [
  {
   "cell_type": "code",
   "execution_count": null,
   "metadata": {},
   "outputs": [],
   "source": [
    "import numpy as np \n",
    "\n",
    "color = ['Black', 'Gold', 'Purple', 'Red', 'White']\n",
    "counts = [423, 204, 274, 205, 294]\n",
    "expected = [300] * 5\n",
    "\n",
    "from scipy.stats import chisquare\n",
    "\n",
    "chisquare(f_obs=counts, f_exp=expected)"
   ]
  },
  {
   "cell_type": "code",
   "execution_count": 11,
   "metadata": {},
   "outputs": [
    {
     "name": "stdout",
     "output_type": "stream",
     "text": [
      "98.66917336693975\n",
      "2.984113573360021e-23\n",
      "1\n",
      "[[296.05263158 453.94736842]\n",
      " [453.94736842 696.05263158]]\n"
     ]
    }
   ],
   "source": [
    "import pandas as pd\n",
    "from scipy.stats import chi2_contingency \n",
    "\n",
    "obj = {\n",
    "  \"Good\": [400, 350], \n",
    "  \"Bad\": [350, 800]\n",
    "}\n",
    "cross = pd.DataFrame(obj)\n",
    "\n",
    "chi, p, df, expected = chi2_contingency(cross)\n",
    "print(chi)\n",
    "print(p)\n",
    "print(df)\n",
    "print(expected)"
   ]
  },
  {
   "cell_type": "code",
   "execution_count": 12,
   "metadata": {},
   "outputs": [
    {
     "data": {
      "text/plain": [
       "659.4426834986383"
      ]
     },
     "execution_count": 12,
     "metadata": {},
     "output_type": "execute_result"
    }
   ],
   "source": [
    "# 독립성검정\n",
    "\n",
    "obj = {\n",
    "  \"Black\": [1620, 2380], \n",
    "  \"Gold\": [305, 615], \n",
    "  \"Purple\": [778, 1230], \n",
    "  \"Red\": [394, 610], \n",
    "  \"White\": [800, 180], \n",
    "}\n",
    "\n",
    "cross = pd.DataFrame(obj)\n",
    "\n",
    "from scipy.stats import chi2_contingency\n",
    "result = chi2_contingency(cross)\n",
    "result[0]"
   ]
  },
  {
   "cell_type": "code",
   "execution_count": 2,
   "metadata": {},
   "outputs": [
    {
     "data": {
      "text/plain": [
       "Power_divergenceResult(statistic=82.94, pvalue=4.14849046718008e-17)"
      ]
     },
     "execution_count": 2,
     "metadata": {},
     "output_type": "execute_result"
    }
   ],
   "source": [
    "color = [\"b\", \"g\", \"p\", \"r\", \"w\"]\n",
    "counts = [423, 304, 274, 205, 294]\n",
    "expected = 300 \n",
    "\n",
    "from scipy.stats import chisquare\n",
    "chisquare(counts, expected)"
   ]
  },
  {
   "cell_type": "code",
   "execution_count": 4,
   "metadata": {},
   "outputs": [
    {
     "data": {
      "text/plain": [
       "Chi2ContingencyResult(statistic=98.66917336693975, pvalue=2.984113573360021e-23, dof=1, expected_freq=array([[296.05263158, 453.94736842],\n",
       "       [453.94736842, 696.05263158]]))"
      ]
     },
     "execution_count": 4,
     "metadata": {},
     "output_type": "execute_result"
    }
   ],
   "source": [
    "import pandas as pd \n",
    "from scipy.stats import chi2_contingency\n",
    "\n",
    "obj = { \"Good\": [400, 350], \n",
    "       \"Bad\": [350, 800]}\n",
    "cross = pd.DataFrame(obj)\n",
    "\n",
    "chi2_contingency(cross)"
   ]
  },
  {
   "cell_type": "code",
   "execution_count": 1,
   "metadata": {},
   "outputs": [
    {
     "data": {
      "text/plain": [
       "Power_divergenceResult(statistic=82.94, pvalue=4.14849046718008e-17)"
      ]
     },
     "execution_count": 1,
     "metadata": {},
     "output_type": "execute_result"
    }
   ],
   "source": [
    "import numpy as np \n",
    "\n",
    "color = [\"Black\", \"Gold\", \"Purple\", \"Red\", \"White\"]\n",
    "counts = [423, 304, 274, 205, 294]\n",
    "expected = 300 \n",
    "\n",
    "from scipy.stats import chisquare \n",
    "\n",
    "chisquare(f_obs = counts, f_exp = expected)"
   ]
  },
  {
   "cell_type": "code",
   "execution_count": 8,
   "metadata": {},
   "outputs": [
    {
     "ename": "TypeError",
     "evalue": "crosstab() missing 1 required positional argument: 'columns'",
     "output_type": "error",
     "traceback": [
      "\u001b[0;31m---------------------------------------------------------------------------\u001b[0m",
      "\u001b[0;31mTypeError\u001b[0m                                 Traceback (most recent call last)",
      "Cell \u001b[0;32mIn[8], line 11\u001b[0m\n\u001b[1;32m      6\u001b[0m obj \u001b[38;5;241m=\u001b[39m {\n\u001b[1;32m      7\u001b[0m   \u001b[38;5;124m\"\u001b[39m\u001b[38;5;124mGood\u001b[39m\u001b[38;5;124m\"\u001b[39m: [\u001b[38;5;241m400\u001b[39m, \u001b[38;5;241m350\u001b[39m], \n\u001b[1;32m      8\u001b[0m   \u001b[38;5;124m\"\u001b[39m\u001b[38;5;124mBad\u001b[39m\u001b[38;5;124m\"\u001b[39m: [\u001b[38;5;241m350\u001b[39m, \u001b[38;5;241m800\u001b[39m]\n\u001b[1;32m      9\u001b[0m }\n\u001b[1;32m     10\u001b[0m cross \u001b[38;5;241m=\u001b[39m pd\u001b[38;5;241m.\u001b[39mDataFrame(obj)\n\u001b[0;32m---> 11\u001b[0m crosstab \u001b[38;5;241m=\u001b[39m \u001b[43mpd\u001b[49m\u001b[38;5;241;43m.\u001b[39;49m\u001b[43mcrosstab\u001b[49m\u001b[43m(\u001b[49m\u001b[43mcross\u001b[49m\u001b[43m)\u001b[49m\n\u001b[1;32m     12\u001b[0m \u001b[38;5;28mprint\u001b[39m(crosstab)\n\u001b[1;32m     14\u001b[0m \u001b[38;5;66;03m# chi, p, df, expected = chi2_contingency(cross)\u001b[39;00m\n\u001b[1;32m     15\u001b[0m \n\u001b[1;32m     16\u001b[0m \n\u001b[1;32m     17\u001b[0m \u001b[38;5;66;03m# print(expected)\u001b[39;00m\n",
      "\u001b[0;31mTypeError\u001b[0m: crosstab() missing 1 required positional argument: 'columns'"
     ]
    }
   ],
   "source": [
    "# 동질성검정 \n",
    "\n",
    "import pandas as pd \n",
    "from scipy.stats import chi2_contingency\n",
    "\n",
    "obj = {\n",
    "  \"Good\": [400, 350], \n",
    "  \"Bad\": [350, 800]\n",
    "}\n",
    "cross = pd.DataFrame(obj)\n",
    "crosstab = pd.crosstab(cross)\n",
    "print(crosstab)\n",
    "\n",
    "# chi, p, df, expected = chi2_contingency(cross)\n",
    "\n",
    "\n",
    "# print(expected)"
   ]
  },
  {
   "cell_type": "code",
   "execution_count": 1,
   "metadata": {},
   "outputs": [
    {
     "data": {
      "text/plain": [
       "Power_divergenceResult(statistic=82.94, pvalue=4.14849046718008e-17)"
      ]
     },
     "execution_count": 1,
     "metadata": {},
     "output_type": "execute_result"
    }
   ],
   "source": [
    "import numpy as np \n",
    "\n",
    "color = [\"Black\", \"Gold\", \"Purple\", \"Red\", \"White\"]\n",
    "counts = [423, 304, 274, 205, 294]\n",
    "expected = 300 \n",
    "\n",
    "from scipy.stats import chisquare \n",
    "chisquare(f_obs=counts, f_exp=expected)"
   ]
  },
  {
   "cell_type": "code",
   "execution_count": 9,
   "metadata": {},
   "outputs": [
    {
     "data": {
      "text/plain": [
       "Power_divergenceResult(statistic=1.4000000000000001, pvalue=0.924313272801667)"
      ]
     },
     "execution_count": 9,
     "metadata": {},
     "output_type": "execute_result"
    }
   ],
   "source": [
    "# 주사위 \n",
    "counts = [8, 12, 9, 12, 10, 9]\n",
    "\n",
    "exp = [10, 10, 10, 10, 10, 10]\n",
    "\n",
    "from scipy.stats import chisquare \n",
    "\n",
    "chisquare(counts, exp)\n"
   ]
  },
  {
   "cell_type": "code",
   "execution_count": null,
   "metadata": {},
   "outputs": [],
   "source": []
  }
 ],
 "metadata": {
  "kernelspec": {
   "display_name": "Python 3",
   "language": "python",
   "name": "python3"
  },
  "language_info": {
   "codemirror_mode": {
    "name": "ipython",
    "version": 3
   },
   "file_extension": ".py",
   "mimetype": "text/x-python",
   "name": "python",
   "nbconvert_exporter": "python",
   "pygments_lexer": "ipython3",
   "version": "3.12.3"
  }
 },
 "nbformat": 4,
 "nbformat_minor": 2
}

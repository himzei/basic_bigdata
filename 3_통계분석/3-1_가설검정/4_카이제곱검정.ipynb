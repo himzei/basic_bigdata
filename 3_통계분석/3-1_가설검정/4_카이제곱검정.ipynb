{
 "cells": [
  {
   "cell_type": "code",
   "execution_count": null,
   "metadata": {},
   "outputs": [],
   "source": [
    "import numpy as np \n",
    "\n",
    "color = ['Black', 'Gold', 'Purple', 'Red', 'White']\n",
    "counts = [423, 204, 274, 205, 294]\n",
    "expected = [300] * 5\n",
    "\n",
    "from scipy.stats import chisquare\n",
    "\n",
    "chisquare(f_obs=counts, f_exp=expected)"
   ]
  },
  {
   "cell_type": "code",
   "execution_count": 11,
   "metadata": {},
   "outputs": [
    {
     "name": "stdout",
     "output_type": "stream",
     "text": [
      "98.66917336693975\n",
      "2.984113573360021e-23\n",
      "1\n",
      "[[296.05263158 453.94736842]\n",
      " [453.94736842 696.05263158]]\n"
     ]
    }
   ],
   "source": [
    "import pandas as pd\n",
    "from scipy.stats import chi2_contingency \n",
    "\n",
    "obj = {\n",
    "  \"Good\": [400, 350], \n",
    "  \"Bad\": [350, 800]\n",
    "}\n",
    "cross = pd.DataFrame(obj)\n",
    "\n",
    "chi, p, df, expected = chi2_contingency(cross)\n",
    "print(chi)\n",
    "print(p)\n",
    "print(df)\n",
    "print(expected)"
   ]
  },
  {
   "cell_type": "code",
   "execution_count": 12,
   "metadata": {},
   "outputs": [
    {
     "data": {
      "text/plain": [
       "659.4426834986383"
      ]
     },
     "execution_count": 12,
     "metadata": {},
     "output_type": "execute_result"
    }
   ],
   "source": [
    "# 독립성검정\n",
    "\n",
    "obj = {\n",
    "  \"Black\": [1620, 2380], \n",
    "  \"Gold\": [305, 615], \n",
    "  \"Purple\": [778, 1230], \n",
    "  \"Red\": [394, 610], \n",
    "  \"White\": [800, 180], \n",
    "}\n",
    "\n",
    "cross = pd.DataFrame(obj)\n",
    "\n",
    "from scipy.stats import chi2_contingency\n",
    "result = chi2_contingency(cross)\n",
    "result[0]"
   ]
  },
  {
   "cell_type": "code",
   "execution_count": 2,
   "metadata": {},
   "outputs": [
    {
     "data": {
      "text/plain": [
       "Power_divergenceResult(statistic=82.94, pvalue=4.14849046718008e-17)"
      ]
     },
     "execution_count": 2,
     "metadata": {},
     "output_type": "execute_result"
    }
   ],
   "source": [
    "color = [\"b\", \"g\", \"p\", \"r\", \"w\"]\n",
    "counts = [423, 304, 274, 205, 294]\n",
    "expected = 300 \n",
    "\n",
    "from scipy.stats import chisquare\n",
    "chisquare(counts, expected)"
   ]
  },
  {
   "cell_type": "code",
   "execution_count": 4,
   "metadata": {},
   "outputs": [
    {
     "data": {
      "text/plain": [
       "Chi2ContingencyResult(statistic=98.66917336693975, pvalue=2.984113573360021e-23, dof=1, expected_freq=array([[296.05263158, 453.94736842],\n",
       "       [453.94736842, 696.05263158]]))"
      ]
     },
     "execution_count": 4,
     "metadata": {},
     "output_type": "execute_result"
    }
   ],
   "source": [
    "import pandas as pd \n",
    "from scipy.stats import chi2_contingency\n",
    "\n",
    "obj = { \"Good\": [400, 350], \n",
    "       \"Bad\": [350, 800]}\n",
    "cross = pd.DataFrame(obj)\n",
    "\n",
    "chi2_contingency(cross)"
   ]
  },
  {
   "cell_type": "code",
   "execution_count": null,
   "metadata": {},
   "outputs": [],
   "source": []
  }
 ],
 "metadata": {
  "kernelspec": {
   "display_name": "Python 3",
   "language": "python",
   "name": "python3"
  },
  "language_info": {
   "codemirror_mode": {
    "name": "ipython",
    "version": 3
   },
   "file_extension": ".py",
   "mimetype": "text/x-python",
   "name": "python",
   "nbconvert_exporter": "python",
   "pygments_lexer": "ipython3",
   "version": "3.12.3"
  }
 },
 "nbformat": 4,
 "nbformat_minor": 2
}

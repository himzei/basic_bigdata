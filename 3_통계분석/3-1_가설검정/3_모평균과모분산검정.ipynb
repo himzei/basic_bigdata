{
 "cells": [
  {
   "cell_type": "code",
   "execution_count": 1,
   "metadata": {},
   "outputs": [],
   "source": [
    "import numpy as np "
   ]
  },
  {
   "cell_type": "markdown",
   "metadata": {},
   "source": [
    "## [모평균검정] 단일표본 t-검정"
   ]
  },
  {
   "cell_type": "code",
   "execution_count": 7,
   "metadata": {},
   "outputs": [
    {
     "name": "stdout",
     "output_type": "stream",
     "text": [
      "TtestResult(statistic=1.9659976169367743, pvalue=0.07102585780287406, df=13)\n",
      "TtestResult(statistic=-0.1304960333331257, pvalue=0.8981717116941477, df=13)\n",
      "TtestResult(statistic=-1.0289933120202257, pvalue=0.3222484823978743, df=13)\n",
      "TtestResult(statistic=-4.023984240977226, pvalue=0.0014453489575877495, df=13)\n",
      "TtestResult(statistic=-7.018975169934226, pvalue=9.080451536355067e-06, df=13)\n"
     ]
    }
   ],
   "source": [
    "kg = np.array([75.5, 83.9, 75.7, 56.2, 73.4, 67.7, 79.0, 50.7, 58.4, 74.1, 65.1, 77.8, 48.1, 46.3])\n",
    "np.mean(kg)\n",
    "from scipy.stats import ttest_1samp\n",
    "print(ttest_1samp(kg, 60))\n",
    "print(ttest_1samp(kg, 67))\n",
    "print(ttest_1samp(kg, 70))\n",
    "print(ttest_1samp(kg, 80))\n",
    "print(ttest_1samp(kg, 90))"
   ]
  },
  {
   "cell_type": "markdown",
   "metadata": {},
   "source": [
    "## [모평균검정]대응표본 t-검정"
   ]
  },
  {
   "cell_type": "code",
   "execution_count": 9,
   "metadata": {},
   "outputs": [
    {
     "name": "stdout",
     "output_type": "stream",
     "text": [
      "-12.985714285714291\n"
     ]
    },
    {
     "data": {
      "text/plain": [
       "TtestResult(statistic=-2.078446933064972, pvalue=0.08291274205610201, df=6)"
      ]
     },
     "execution_count": 9,
     "metadata": {},
     "output_type": "execute_result"
    }
   ],
   "source": [
    "import pandas as pd \n",
    "\n",
    "female = np.array([50.7, 58.4, 74.1, 65.1, 77.8, 48.1, 46.3])\n",
    "male = np.array([75.5, 83.9, 75.7, 56.2, 73.4, 67.7, 79.0])\n",
    "\n",
    "diff = female - male \n",
    "\n",
    "print(np.mean(diff))\n",
    "\n",
    "from scipy.stats import ttest_rel \n",
    "ttest_rel(female, male)\n"
   ]
  },
  {
   "cell_type": "markdown",
   "metadata": {},
   "source": [
    "## [모평균검정]독립표본 t-검정"
   ]
  },
  {
   "cell_type": "code",
   "execution_count": 10,
   "metadata": {},
   "outputs": [
    {
     "data": {
      "text/plain": [
       "TtestResult(statistic=-2.2186641577772956, pvalue=0.046550122110569664, df=12.0)"
      ]
     },
     "execution_count": 10,
     "metadata": {},
     "output_type": "execute_result"
    }
   ],
   "source": [
    "from scipy.stats import ttest_ind\n",
    "ttest_ind(female, male)"
   ]
  },
  {
   "cell_type": "markdown",
   "metadata": {},
   "source": [
    "## [모분산검정] 단일표본검정"
   ]
  },
  {
   "cell_type": "code",
   "execution_count": 14,
   "metadata": {},
   "outputs": [
    {
     "name": "stdout",
     "output_type": "stream",
     "text": [
      "278.1033333333333\n",
      "1.5169272727272727\n"
     ]
    },
    {
     "data": {
      "text/plain": [
       "0.041637780038918736"
      ]
     },
     "execution_count": 14,
     "metadata": {},
     "output_type": "execute_result"
    }
   ],
   "source": [
    "import numpy as np \n",
    "score = np.array([80.5, 60.2, 70, 87, 45, 91, 85])\n",
    "\n",
    "var0 = 1100 \n",
    "var = np.var(score, ddof=1)\n",
    "print(var)\n",
    "\n",
    "# 검정통계량\n",
    "stat = (len(score)-1) * var / var0\n",
    "print(stat)\n",
    "\n",
    "from scipy.stats import chi2 \n",
    "chi2.cdf(stat, len(score) - 1)"
   ]
  },
  {
   "cell_type": "code",
   "execution_count": 15,
   "metadata": {},
   "outputs": [
    {
     "data": {
      "text/plain": [
       "0.9583622199610813"
      ]
     },
     "execution_count": 15,
     "metadata": {},
     "output_type": "execute_result"
    }
   ],
   "source": [
    "print(1 - chi2.cdf(stat, len(score)-1))\n",
    "print(2 * chi2.cdf(stat, len(score)-1))"
   ]
  },
  {
   "cell_type": "markdown",
   "metadata": {},
   "source": [
    "## [모분산검정]분산비검정"
   ]
  },
  {
   "cell_type": "code",
   "execution_count": 20,
   "metadata": {},
   "outputs": [
    {
     "name": "stdout",
     "output_type": "stream",
     "text": [
      "212.66666666666669 1138.4107142857142\n",
      "0.18681014154026346\n",
      "5 7\n",
      "0.04153943037562959\n"
     ]
    }
   ],
   "source": [
    "a = np.array([70, 80, 75, 65, 100, 98])\n",
    "b = np.array([20, 100, 50, 94, 28, 80, 95, 30])\n",
    "\n",
    "var_a = np.var(a, ddof=1)\n",
    "var_b = np.var(b, ddof=1) \n",
    "\n",
    "print(var_a, var_b)\n",
    "\n",
    "stat = var_a / var_b \n",
    "print(stat)\n",
    "\n",
    "df1, df2 = len(a)-1, len(b)-1\n",
    "print(df1, df2)\n",
    "\n",
    "from scipy.stats import f \n",
    "pval = f.cdf(stat, df1, df2) \n",
    "print(pval)"
   ]
  },
  {
   "cell_type": "code",
   "execution_count": 23,
   "metadata": {},
   "outputs": [
    {
     "name": "stdout",
     "output_type": "stream",
     "text": [
      "177.22222222222226\n",
      "976.0\n",
      "11.138888888888888\n"
     ]
    },
    {
     "data": {
      "text/plain": [
       "BartlettResult(statistic=15.6702722148674, pvalue=0.00039558846873743075)"
      ]
     },
     "execution_count": 23,
     "metadata": {},
     "output_type": "execute_result"
    }
   ],
   "source": [
    "# Bartlett 검정\n",
    "\n",
    "a = np.array([70, 80, 75, 65, 100, 98])\n",
    "b = np.array([20, 100, 50, 94, 28, 80])\n",
    "c = np.array([90, 97, 95, 94, 99, 100])\n",
    "\n",
    "from scipy.stats import bartlett \n",
    "print(a.var())\n",
    "print(b.var())\n",
    "print(c.var())\n",
    "bartlett(a, b, c)"
   ]
  },
  {
   "cell_type": "code",
   "execution_count": 22,
   "metadata": {},
   "outputs": [
    {
     "data": {
      "text/plain": [
       "LeveneResult(statistic=14.365736704446384, pvalue=0.00032713621045500125)"
      ]
     },
     "execution_count": 22,
     "metadata": {},
     "output_type": "execute_result"
    }
   ],
   "source": [
    "from scipy.stats import levene \n",
    "levene(a, b, c)"
   ]
  },
  {
   "cell_type": "markdown",
   "metadata": {},
   "source": [
    "## 분산분석"
   ]
  },
  {
   "cell_type": "code",
   "execution_count": 24,
   "metadata": {},
   "outputs": [],
   "source": [
    "import pandas as pd\n",
    "from statsmodels.formula.api import ols \n",
    "from statsmodels.stats.anova import anova_lm"
   ]
  },
  {
   "cell_type": "code",
   "execution_count": 26,
   "metadata": {},
   "outputs": [
    {
     "name": "stdout",
     "output_type": "stream",
     "text": [
      "               df         sum_sq        mean_sq            F  PR(>F)\n",
      "C(School)     2.0  996939.237147  498469.618573  5722.221007     0.0\n",
      "Residual   2997.0  261072.308290      87.111214          NaN     NaN\n"
     ]
    }
   ],
   "source": [
    "df = pd.read_csv(\"../data/예제/school_score.csv\")\n",
    "one_way = ols(\"Final ~ C(School)\", data=df).fit()\n",
    "result = anova_lm(one_way)\n",
    "print(result)"
   ]
  },
  {
   "cell_type": "code",
   "execution_count": 28,
   "metadata": {},
   "outputs": [
    {
     "name": "stdout",
     "output_type": "stream",
     "text": [
      "Multiple Comparison of Means - Tukey HSD, FWER=0.05 \n",
      "====================================================\n",
      "group1 group2 meandiff p-adj   lower   upper  reject\n",
      "----------------------------------------------------\n",
      "     A      B  38.8464    0.0 37.8677 39.8251   True\n",
      "     A      C  38.4922    0.0 37.5135 39.4709   True\n",
      "     B      C  -0.3542 0.6728 -1.3329  0.6245  False\n",
      "----------------------------------------------------\n"
     ]
    }
   ],
   "source": [
    "# 사후검정\n",
    "\n",
    "from statsmodels.stats.multicomp import pairwise_tukeyhsd\n",
    "\n",
    "tukey_result = pairwise_tukeyhsd(\n",
    "  endog=df[\"Final\"], \n",
    "  groups=df[\"School\"], \n",
    "  alpha=0.05,\n",
    ")\n",
    "\n",
    "print(tukey_result)"
   ]
  },
  {
   "cell_type": "code",
   "execution_count": 29,
   "metadata": {},
   "outputs": [
    {
     "name": "stdout",
     "output_type": "stream",
     "text": [
      "                        df         sum_sq        mean_sq            F  \\\n",
      "C(School)              2.0  996939.237147  498469.618573  5721.620556   \n",
      "C(Grade)               2.0     324.472829     162.236415     1.862210   \n",
      "C(School):C(Grade)     4.0     170.851257      42.712814     0.490274   \n",
      "Residual            2991.0  260576.984204      87.120356          NaN   \n",
      "\n",
      "                      PR(>F)  \n",
      "C(School)           0.000000  \n",
      "C(Grade)            0.155509  \n",
      "C(School):C(Grade)  0.742912  \n",
      "Residual                 NaN  \n"
     ]
    }
   ],
   "source": [
    "# 이원배치 분산분석\n",
    "\n",
    "two_way = ols(\"Final ~ C(School) + C(Grade) + C(School): C(Grade)\", data=df).fit()\n",
    "\n",
    "result = anova_lm(two_way)\n",
    "print(result)"
   ]
  },
  {
   "cell_type": "code",
   "execution_count": 7,
   "metadata": {},
   "outputs": [
    {
     "data": {
      "text/plain": [
       "TtestResult(statistic=-1.5352054817851246, pvalue=0.14701968103710275, df=14)"
      ]
     },
     "execution_count": 7,
     "metadata": {},
     "output_type": "execute_result"
    }
   ],
   "source": [
    "import numpy as np \n",
    "\n",
    "kg = np.array([75.5, 83.9, 75.7, 56.2, 73.4, 67.7, 79,0, 50.7, 50.4, 74.1, 65.1, 77.9, 48.1, 46.3])\n",
    "\n",
    "np.mean(kg)\n",
    "\n",
    "from scipy.stats import ttest_1samp\n",
    "ttest_1samp(kg, 70)"
   ]
  },
  {
   "cell_type": "code",
   "execution_count": 9,
   "metadata": {},
   "outputs": [
    {
     "data": {
      "text/plain": [
       "TtestResult(statistic=-1.5352054817851246, pvalue=0.14701968103710275, df=14)"
      ]
     },
     "execution_count": 9,
     "metadata": {},
     "output_type": "execute_result"
    }
   ],
   "source": [
    "# 귀무가설: 몸무게의 평균은 70kg 이다 \n",
    "# 대립가설: 몸무게의 평균은 70kg 이 아니다\n",
    "\n",
    "ttest_1samp(kg, 70, alternative=\"two-sided\")\n"
   ]
  },
  {
   "cell_type": "code",
   "execution_count": 10,
   "metadata": {},
   "outputs": [
    {
     "data": {
      "text/plain": [
       "TtestResult(statistic=-1.5352054817851246, pvalue=0.9264901594814486, df=14)"
      ]
     },
     "execution_count": 10,
     "metadata": {},
     "output_type": "execute_result"
    }
   ],
   "source": [
    "# 귀무가설: 몸무게의 평균은 70kg 이다 \n",
    "# 대립가설: 몸무게의 평균은 70kg 보다 크다\n",
    "\n",
    "ttest_1samp(kg, 70, alternative=\"greater\")\n"
   ]
  },
  {
   "cell_type": "code",
   "execution_count": 11,
   "metadata": {},
   "outputs": [
    {
     "data": {
      "text/plain": [
       "TtestResult(statistic=-1.5352054817851246, pvalue=0.07350984051855138, df=14)"
      ]
     },
     "execution_count": 11,
     "metadata": {},
     "output_type": "execute_result"
    }
   ],
   "source": [
    "# 귀무가설: 몸무게의 평균은 70kg 이다 \n",
    "# 대립가설: 몸무게의 평균은 70kg 보다 작다\n",
    "\n",
    "ttest_1samp(kg, 70, alternative=\"less\")\n"
   ]
  },
  {
   "cell_type": "code",
   "execution_count": 15,
   "metadata": {},
   "outputs": [
    {
     "name": "stdout",
     "output_type": "stream",
     "text": [
      "TtestResult(statistic=-2.078446933064972, pvalue=0.08291274205610201, df=6)\n",
      "TtestResult(statistic=-2.078446933064972, pvalue=0.08291274205610201, df=6)\n"
     ]
    }
   ],
   "source": [
    "# 대응표본검정\n",
    "\n",
    "import numpy as np\n",
    "\n",
    "female = np.array([50.7, 58.4, 74.1, 65.1, 77.8, 48.1, 46.3])\n",
    "male = np.array([75.5, 83.9, 75.7, 56.2, 73.4, 67.7, 79.0])\n",
    "\n",
    "diff = female - male \n",
    "np.mean(diff)\n",
    "\n",
    "from scipy.stats import ttest_rel \n",
    "print(ttest_rel(female, male))\n",
    "print(ttest_rel(female, male, alternative=\"two-sided\"))\n",
    "\n",
    "\n"
   ]
  },
  {
   "cell_type": "code",
   "execution_count": 16,
   "metadata": {},
   "outputs": [
    {
     "name": "stdout",
     "output_type": "stream",
     "text": [
      "TtestResult(statistic=-2.078446933064972, pvalue=0.08291274205610201, df=6)\n"
     ]
    }
   ],
   "source": [
    "# 귀무가설 : 두 표본의 평균의 차이(female - male)는 0과 같다 \n",
    "# 대립가설 : 두 표본의 평균의 차이(female - male)는 0이 아님 \n",
    "\n",
    "print(ttest_rel(female, male, alternative=\"two-sided\"))"
   ]
  },
  {
   "cell_type": "code",
   "execution_count": 17,
   "metadata": {},
   "outputs": [
    {
     "name": "stdout",
     "output_type": "stream",
     "text": [
      "TtestResult(statistic=-2.078446933064972, pvalue=0.041456371028051005, df=6)\n"
     ]
    }
   ],
   "source": [
    "# 귀무가설 : 두 표본의 평균의 차이(female - male)는 0과 같다 \n",
    "# 대립가설 : 두 표본의 평균의 차이(female - male)는 0보다 작음 female < male \n",
    "\n",
    "print(ttest_rel(female, male, alternative=\"less\"))"
   ]
  },
  {
   "cell_type": "code",
   "execution_count": 18,
   "metadata": {},
   "outputs": [
    {
     "name": "stdout",
     "output_type": "stream",
     "text": [
      "TtestResult(statistic=-2.078446933064972, pvalue=0.958543628971949, df=6)\n"
     ]
    }
   ],
   "source": [
    "# 귀무가설 : 두 표본의 평균의 차이(female - male)는 0과 같다 \n",
    "# 대립가설 : 두 표본의 평균의 차이(female - male)는 0보다 큼 female > male \n",
    "\n",
    "print(ttest_rel(female, male, alternative=\"greater\"))"
   ]
  },
  {
   "cell_type": "code",
   "execution_count": 19,
   "metadata": {},
   "outputs": [
    {
     "data": {
      "text/plain": [
       "TtestResult(statistic=-2.2186641577772956, pvalue=0.046550122110569664, df=12.0)"
      ]
     },
     "execution_count": 19,
     "metadata": {},
     "output_type": "execute_result"
    }
   ],
   "source": [
    "from scipy.stats import ttest_ind \n",
    "ttest_ind(female, male)"
   ]
  },
  {
   "cell_type": "markdown",
   "metadata": {},
   "source": [
    "## 다음은 빅데이터 분석기사 실기 시험 점수이다. A그룹과 B그룹의 평균 점수가 차이가 있는지 유의수준 0.05하에서 가설 검정하시오.\n",
    "(데이터는 정규분포를 따르고 분산이 동일하다고 가정한다.)\n",
    "- 귀무가설(H0): 그룹별 시험 평균 점수는 차이가 없다. (μ1 = μ2)\n",
    "- 대립가설(H1): 그룹별 시험 평균 점수는 차이가 있다. (μ1 ≠ μ2)"
   ]
  },
  {
   "cell_type": "code",
   "execution_count": 7,
   "metadata": {},
   "outputs": [
    {
     "name": "stdout",
     "output_type": "stream",
     "text": [
      "1.5169272727272727\n"
     ]
    },
    {
     "data": {
      "text/plain": [
       "0.041637780038918736"
      ]
     },
     "execution_count": 7,
     "metadata": {},
     "output_type": "execute_result"
    }
   ],
   "source": [
    "import numpy as np\n",
    "score = np.array([80.5, 60.2, 70, 87, 45, 91, 85])\n",
    "\n",
    "var0 = 1100\n",
    "var = np.var(score, ddof=1)\n",
    "\n",
    "from scipy import stats\n",
    "stats.shapiro(score)\n",
    "\n",
    "stat = (len(score) - 1)*var / var0\n",
    "print(stat)\n",
    "\n",
    "from scipy.stats import chi2 \n",
    "chi2.cdf(stat, len(score)-1)"
   ]
  },
  {
   "cell_type": "code",
   "execution_count": 8,
   "metadata": {},
   "outputs": [
    {
     "name": "stdout",
     "output_type": "stream",
     "text": [
      "0.14933099088641746\n"
     ]
    }
   ],
   "source": [
    "a = np.array([70, 80, 75, 65, 100, 90])\n",
    "b = np.array([20, 100, 50, 94, 28, 80, 95, 30])\n",
    "\n",
    "var_a = np.var(a, ddof=1)\n",
    "var_b = np.var(b, ddof=1)\n",
    "\n",
    "stat = var_a / var_b \n",
    "print(stat)"
   ]
  },
  {
   "cell_type": "code",
   "execution_count": 12,
   "metadata": {},
   "outputs": [
    {
     "name": "stdout",
     "output_type": "stream",
     "text": [
      "ShapiroResult(statistic=0.9595827425644076, pvalue=0.8165190134583524)\n",
      "ShapiroResult(statistic=0.9003663921876012, pvalue=0.37610019827370345)\n",
      "ShapiroResult(statistic=0.9599486814128428, pvalue=0.8193449916571475)\n"
     ]
    },
    {
     "data": {
      "text/plain": [
       "BartlettResult(statistic=16.271298114784035, pvalue=0.00029290885940371023)"
      ]
     },
     "execution_count": 12,
     "metadata": {},
     "output_type": "execute_result"
    }
   ],
   "source": [
    "a = np.array([70, 80, 75, 65, 100, 90])\n",
    "b = np.array([20, 100, 50, 94, 28, 80])\n",
    "c = np.array([90, 97, 95, 94, 99, 100])\n",
    "\n",
    "from scipy.stats import bartlett \n",
    "\n",
    "print(stats.shapiro(a))\n",
    "print(stats.shapiro(b))\n",
    "print(stats.shapiro(c))\n",
    "bartlett(a, b, c)"
   ]
  },
  {
   "cell_type": "code",
   "execution_count": 13,
   "metadata": {},
   "outputs": [
    {
     "data": {
      "text/plain": [
       "LeveneResult(statistic=16.0495096488453, pvalue=0.00018754066895365574)"
      ]
     },
     "execution_count": 13,
     "metadata": {},
     "output_type": "execute_result"
    }
   ],
   "source": [
    "from scipy.stats import levene \n",
    "levene(a, b, c)"
   ]
  },
  {
   "cell_type": "code",
   "execution_count": 20,
   "metadata": {},
   "outputs": [
    {
     "name": "stdout",
     "output_type": "stream",
     "text": [
      "               df         sum_sq        mean_sq            F  PR(>F)\n",
      "C(School)     2.0  996939.237147  498469.618573  5722.221007     0.0\n",
      "Residual   2997.0  261072.308290      87.111214          NaN     NaN\n"
     ]
    }
   ],
   "source": [
    "# 분산분석\n",
    "\n",
    "import pandas as pd\n",
    "from statsmodels.formula.api import ols \n",
    "from statsmodels.stats.anova import anova_lm\n",
    "\n",
    "df = pd.read_csv(\"../../data/예제/school_score.csv\")\n",
    "\n",
    "one_way = ols(\"Final ~ C(School)\", data=df).fit()\n",
    "result = anova_lm(one_way)\n",
    "print(result)"
   ]
  },
  {
   "cell_type": "code",
   "execution_count": 22,
   "metadata": {},
   "outputs": [
    {
     "name": "stdout",
     "output_type": "stream",
     "text": [
      "Multiple Comparison of Means - Tukey HSD, FWER=0.05 \n",
      "====================================================\n",
      "group1 group2 meandiff p-adj   lower   upper  reject\n",
      "----------------------------------------------------\n",
      "     A      B  38.8464    0.0 37.8677 39.8251   True\n",
      "     A      C  38.4922    0.0 37.5135 39.4709   True\n",
      "     B      C  -0.3542 0.6728 -1.3329  0.6245  False\n",
      "----------------------------------------------------\n"
     ]
    }
   ],
   "source": [
    "from statsmodels.stats.multicomp import pairwise_tukeyhsd\n",
    "\n",
    "tukey_result = pairwise_tukeyhsd(endog=df[\"Final\"], groups=df[\"School\"], alpha=0.05)\n",
    "print(tukey_result)"
   ]
  },
  {
   "cell_type": "code",
   "execution_count": 23,
   "metadata": {},
   "outputs": [
    {
     "name": "stdout",
     "output_type": "stream",
     "text": [
      "                        df         sum_sq        mean_sq            F    PR(>F)\n",
      "C(School)              2.0  996939.237147  498469.618573  5721.620556  0.000000\n",
      "C(Grade)               2.0     324.472829     162.236415     1.862210  0.155509\n",
      "C(School):C(Grade)     4.0     170.851257      42.712814     0.490274  0.742912\n",
      "Residual            2991.0  260576.984204      87.120356          NaN       NaN\n"
     ]
    }
   ],
   "source": [
    "two_way = ols(\"Final ~ C(School) +  C(Grade) + C(School):C(Grade)\", data=df).fit() \n",
    "result = anova_lm(two_way )\n",
    "print(result)"
   ]
  },
  {
   "cell_type": "code",
   "execution_count": 4,
   "metadata": {},
   "outputs": [
    {
     "data": {
      "text/plain": [
       "TtestResult(statistic=-1.0289933120202257, pvalue=0.3222484823978743, df=13)"
      ]
     },
     "execution_count": 4,
     "metadata": {},
     "output_type": "execute_result"
    }
   ],
   "source": [
    "import numpy as np \n",
    "\n",
    "kg = np.array([75.5, 83.9, 75.7, 56.2, 73.4, 67.7, 79.0, 50.7, 58.4, 74.1, 65.1, 77.8, 48.1, 46.3])\n",
    "\n",
    "np.mean(kg)\n",
    "# 66.56428571428572\n",
    "\n",
    "from scipy.stats import ttest_1samp \n",
    "\n",
    "ttest_1samp(kg, 70)"
   ]
  },
  {
   "cell_type": "code",
   "execution_count": 13,
   "metadata": {},
   "outputs": [
    {
     "name": "stdout",
     "output_type": "stream",
     "text": [
      "170.0 1224.4107142857142\n",
      "0.13884230023188998\n",
      "5 7\n",
      "0.02250939107016911\n"
     ]
    }
   ],
   "source": [
    "# 분산비 검정 \n",
    "\n",
    "import numpy as np \n",
    "\n",
    "a = np.array([70, 80, 75, 65, 100, 90])\n",
    "b = np.array([20, 100, 50, 94, 20, 80, 95, 30])\n",
    "\n",
    "var_a = np.var(a, ddof=1)\n",
    "var_b = np.var(b, ddof=1)\n",
    "\n",
    "print(var_a, var_b)\n",
    "\n",
    "# 검정통계량 = 집단 a의 분산 / 집단 b의 분산(가설 a < b) \n",
    "stat = var_a / var_b \n",
    "print(stat)\n",
    "\n",
    "# 자유도계산 \n",
    "df1, df2 = len(a) - 1 , len(b) - 1\n",
    "print(df1, df2)\n",
    "\n",
    "# F분포를 통해 직접유의확률 계산\n",
    "# 좌측점정이므로 \n",
    "from scipy.stats import f \n",
    "pval = f.cdf(stat, df1, df2)\n",
    "print(pval)"
   ]
  },
  {
   "cell_type": "code",
   "execution_count": null,
   "metadata": {},
   "outputs": [],
   "source": []
  }
 ],
 "metadata": {
  "kernelspec": {
   "display_name": "Python 3",
   "language": "python",
   "name": "python3"
  },
  "language_info": {
   "codemirror_mode": {
    "name": "ipython",
    "version": 3
   },
   "file_extension": ".py",
   "mimetype": "text/x-python",
   "name": "python",
   "nbconvert_exporter": "python",
   "pygments_lexer": "ipython3",
   "version": "3.12.3"
  }
 },
 "nbformat": 4,
 "nbformat_minor": 2
}

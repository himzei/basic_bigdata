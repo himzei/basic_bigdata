{
 "cells": [
  {
   "cell_type": "code",
   "execution_count": 21,
   "metadata": {},
   "outputs": [
    {
     "name": "stdout",
     "output_type": "stream",
     "text": [
      "[0.57051729 0.56452876 0.48844183 0.33647775 0.37586818 0.53203587\n",
      " 0.06810629 0.58452906 0.23789776 0.16075658]\n"
     ]
    },
    {
     "data": {
      "text/plain": [
       "ShapiroResult(statistic=0.8959066718436064, pvalue=0.19743898667235749)"
      ]
     },
     "execution_count": 21,
     "metadata": {},
     "output_type": "execute_result"
    }
   ],
   "source": [
    "import numpy as np \n",
    "np.random.seed(2000)\n",
    "x = np.random.random(10)\n",
    "\n",
    "print(x)\n",
    "\n",
    "from scipy.stats import shapiro \n",
    "shapiro(x)"
   ]
  },
  {
   "cell_type": "code",
   "execution_count": 22,
   "metadata": {},
   "outputs": [
    {
     "name": "stdout",
     "output_type": "stream",
     "text": [
      "[0.57051729 0.56452876 0.48844183 0.33647775 0.37586818 0.53203587\n",
      " 0.06810629 0.58452906 0.23789776 0.16075658]\n"
     ]
    }
   ],
   "source": [
    "np.random.seed(2000)\n",
    "x = np.random.random(10)\n",
    "\n",
    "print(x)"
   ]
  },
  {
   "cell_type": "code",
   "execution_count": 23,
   "metadata": {},
   "outputs": [
    {
     "name": "stdout",
     "output_type": "stream",
     "text": [
      "[0.57051729 0.56452876 0.48844183 0.33647775 0.37586818 0.53203587\n",
      " 0.06810629 0.58452906 0.23789776 0.16075658 0.15211915 0.12706922\n",
      " 0.32744117 0.69415387 0.35896647 0.89136566 0.20187988 0.1106025\n",
      " 0.52755676 0.86765533]\n"
     ]
    }
   ],
   "source": [
    "np.random.seed(2000)\n",
    "x = np.random.random(20)\n",
    "\n",
    "print(x)"
   ]
  },
  {
   "cell_type": "code",
   "execution_count": 17,
   "metadata": {},
   "outputs": [
    {
     "data": {
      "text/plain": [
       "array([4.17022005e-01, 7.20324493e-01, 1.14374817e-04, 3.02332573e-01,\n",
       "       1.46755891e-01, 9.23385948e-02, 1.86260211e-01, 3.45560727e-01,\n",
       "       3.96767474e-01, 5.38816734e-01])"
      ]
     },
     "execution_count": 17,
     "metadata": {},
     "output_type": "execute_result"
    }
   ],
   "source": [
    "import numpy as np \n",
    "\n",
    "np.random.seed(1)\n",
    "x = np.random.random(10)\n",
    "\n",
    "x"
   ]
  },
  {
   "cell_type": "code",
   "execution_count": 22,
   "metadata": {},
   "outputs": [
    {
     "name": "stdout",
     "output_type": "stream",
     "text": [
      "4.170220e-01\n"
     ]
    }
   ],
   "source": [
    "print(f\"{4.17022005e-01:e}\")"
   ]
  },
  {
   "cell_type": "code",
   "execution_count": 34,
   "metadata": {},
   "outputs": [
    {
     "name": "stdout",
     "output_type": "stream",
     "text": [
      "0.0\n"
     ]
    }
   ],
   "source": [
    "value = 4.17022005e-10\n",
    "print(round(value, 3))"
   ]
  },
  {
   "cell_type": "code",
   "execution_count": 35,
   "metadata": {},
   "outputs": [
    {
     "data": {
      "text/plain": [
       "ShapiroResult(statistic=0.9779445449314503, pvalue=0.9532253710128868)"
      ]
     },
     "execution_count": 35,
     "metadata": {},
     "output_type": "execute_result"
    }
   ],
   "source": [
    "from scipy.stats import shapiro \n",
    "shapiro(x)"
   ]
  },
  {
   "cell_type": "code",
   "execution_count": 8,
   "metadata": {},
   "outputs": [
    {
     "data": {
      "text/plain": [
       "ShapiroResult(statistic=0.8969662710477171, pvalue=0.20285343366469372)"
      ]
     },
     "execution_count": 8,
     "metadata": {},
     "output_type": "execute_result"
    }
   ],
   "source": [
    "import numpy as np \n",
    "\n",
    "np.random.seed(2024)\n",
    "x = np.random.random(10)\n",
    "\n",
    "from scipy.stats import shapiro \n",
    "shapiro(x)"
   ]
  },
  {
   "cell_type": "code",
   "execution_count": 20,
   "metadata": {},
   "outputs": [
    {
     "name": "stdout",
     "output_type": "stream",
     "text": [
      "ShapiroResult(statistic=0.9849178695056319, pvalue=0.10115426916130282)\n",
      "   sepal length (cm)  sepal width (cm)  petal length (cm)  petal width (cm)\n",
      "0           0.222222          0.625000           0.067797          0.041667\n",
      "1           0.166667          0.416667           0.067797          0.041667\n",
      "2           0.111111          0.500000           0.050847          0.041667\n",
      "3           0.083333          0.458333           0.084746          0.041667\n",
      "4           0.194444          0.666667           0.067797          0.041667\n"
     ]
    },
    {
     "data": {
      "text/plain": [
       "ShapiroResult(statistic=0.9849178695056322, pvalue=0.10115426916131348)"
      ]
     },
     "execution_count": 20,
     "metadata": {},
     "output_type": "execute_result"
    }
   ],
   "source": [
    "from sklearn.preprocessing import MinMaxScaler \n",
    "from sklearn.datasets import load_iris\n",
    "import pandas as pd \n",
    "\n",
    "iris = load_iris() \n",
    "data = pd.DataFrame(iris.data, columns=iris.feature_names) \n",
    "data.head()\n",
    "\n",
    "from scipy.stats import shapiro \n",
    "print(shapiro(data[\"sepal width (cm)\"]))\n",
    "\n",
    "\n",
    "\n",
    "mm_scale = MinMaxScaler() \n",
    "\n",
    "data_std = mm_scale.fit_transform(data)\n",
    "\n",
    "data_std = pd.DataFrame(data_std, columns=iris.feature_names) \n",
    "print(data_std.head())\n",
    "\n",
    "shapiro(data_std[\"sepal width (cm)\"])"
   ]
  },
  {
   "cell_type": "code",
   "execution_count": 10,
   "metadata": {},
   "outputs": [
    {
     "data": {
      "text/html": [
       "<div>\n",
       "<style scoped>\n",
       "    .dataframe tbody tr th:only-of-type {\n",
       "        vertical-align: middle;\n",
       "    }\n",
       "\n",
       "    .dataframe tbody tr th {\n",
       "        vertical-align: top;\n",
       "    }\n",
       "\n",
       "    .dataframe thead th {\n",
       "        text-align: right;\n",
       "    }\n",
       "</style>\n",
       "<table border=\"1\" class=\"dataframe\">\n",
       "  <thead>\n",
       "    <tr style=\"text-align: right;\">\n",
       "      <th></th>\n",
       "      <th>id</th>\n",
       "      <th>School</th>\n",
       "      <th>Sex</th>\n",
       "      <th>Grade</th>\n",
       "      <th>Final</th>\n",
       "    </tr>\n",
       "  </thead>\n",
       "  <tbody>\n",
       "    <tr>\n",
       "      <th>0</th>\n",
       "      <td>1</td>\n",
       "      <td>A</td>\n",
       "      <td>M</td>\n",
       "      <td>1</td>\n",
       "      <td>44.4</td>\n",
       "    </tr>\n",
       "    <tr>\n",
       "      <th>1</th>\n",
       "      <td>2</td>\n",
       "      <td>A</td>\n",
       "      <td>M</td>\n",
       "      <td>2</td>\n",
       "      <td>47.7</td>\n",
       "    </tr>\n",
       "    <tr>\n",
       "      <th>2</th>\n",
       "      <td>3</td>\n",
       "      <td>A</td>\n",
       "      <td>M</td>\n",
       "      <td>3</td>\n",
       "      <td>65.6</td>\n",
       "    </tr>\n",
       "    <tr>\n",
       "      <th>3</th>\n",
       "      <td>4</td>\n",
       "      <td>A</td>\n",
       "      <td>F</td>\n",
       "      <td>1</td>\n",
       "      <td>50.7</td>\n",
       "    </tr>\n",
       "    <tr>\n",
       "      <th>4</th>\n",
       "      <td>5</td>\n",
       "      <td>A</td>\n",
       "      <td>F</td>\n",
       "      <td>2</td>\n",
       "      <td>51.3</td>\n",
       "    </tr>\n",
       "  </tbody>\n",
       "</table>\n",
       "</div>"
      ],
      "text/plain": [
       "   id School Sex  Grade  Final\n",
       "0   1      A   M      1   44.4\n",
       "1   2      A   M      2   47.7\n",
       "2   3      A   M      3   65.6\n",
       "3   4      A   F      1   50.7\n",
       "4   5      A   F      2   51.3"
      ]
     },
     "metadata": {},
     "output_type": "display_data"
    },
    {
     "data": {
      "text/plain": [
       "ShapiroResult(statistic=0.9789715633462774, pvalue=5.017875535130284e-07)"
      ]
     },
     "execution_count": 10,
     "metadata": {},
     "output_type": "execute_result"
    }
   ],
   "source": [
    "import pandas as pd \n",
    "df = pd.read_csv(\"../../data/예제/school_score.csv\")\n",
    "df2 = pd.read_csv(\"../../data/예제/survived.csv\")\n",
    "display(df.head())\n",
    "\n",
    "from scipy.stats import shapiro\n",
    "\n",
    "shapiro(df[\"Final\"])\n",
    "\n",
    "df2.head()\n",
    "df2[\"age\"].isnull().sum()\n",
    "shapiro(df2[\"age\"])\n",
    "\n"
   ]
  },
  {
   "cell_type": "code",
   "execution_count": 11,
   "metadata": {},
   "outputs": [
    {
     "name": "stdout",
     "output_type": "stream",
     "text": [
      "<class 'pandas.core.series.Series'>\n",
      "RangeIndex: 3000 entries, 0 to 2999\n",
      "Series name: Final\n",
      "Non-Null Count  Dtype  \n",
      "--------------  -----  \n",
      "3000 non-null   float64\n",
      "dtypes: float64(1)\n",
      "memory usage: 23.6 KB\n"
     ]
    }
   ],
   "source": [
    "df[\"Final\"].info()"
   ]
  },
  {
   "cell_type": "code",
   "execution_count": 12,
   "metadata": {},
   "outputs": [
    {
     "data": {
      "text/plain": [
       "count    3000.000000\n",
       "mean       75.940433\n",
       "std        20.481138\n",
       "min        21.900000\n",
       "25%        56.675000\n",
       "50%        82.800000\n",
       "75%        92.900000\n",
       "max       100.000000\n",
       "Name: Final, dtype: float64"
      ]
     },
     "execution_count": 12,
     "metadata": {},
     "output_type": "execute_result"
    }
   ],
   "source": [
    "df[\"Final\"].describe()"
   ]
  },
  {
   "cell_type": "code",
   "execution_count": 13,
   "metadata": {},
   "outputs": [
    {
     "data": {
      "text/plain": [
       "ShapiroResult(statistic=0.9018898457550811, pvalue=3.2080446088161686e-40)"
      ]
     },
     "execution_count": 13,
     "metadata": {},
     "output_type": "execute_result"
    }
   ],
   "source": [
    "shapiro(df[\"Final\"])"
   ]
  },
  {
   "cell_type": "code",
   "execution_count": 32,
   "metadata": {},
   "outputs": [
    {
     "data": {
      "text/plain": [
       "count    509.000000\n",
       "mean      71.743615\n",
       "std        6.129799\n",
       "min       60.100000\n",
       "25%       66.500000\n",
       "50%       73.000000\n",
       "75%       77.200000\n",
       "max       79.900000\n",
       "Name: Final, dtype: float64"
      ]
     },
     "metadata": {},
     "output_type": "display_data"
    },
    {
     "data": {
      "text/plain": [
       "(509,)"
      ]
     },
     "metadata": {},
     "output_type": "display_data"
    },
    {
     "data": {
      "text/plain": [
       "ShapiroResult(statistic=0.9193966891713243, pvalue=7.444184995557881e-16)"
      ]
     },
     "execution_count": 32,
     "metadata": {},
     "output_type": "execute_result"
    }
   ],
   "source": [
    "cond = (df[\"Final\"] > 60) & (df[\"Final\"] < 80)\n",
    "test = df[\"Final\"][cond]\n",
    "display(test.describe())\n",
    "display(test.shape)\n",
    "\n",
    "shapiro(test)"
   ]
  },
  {
   "cell_type": "code",
   "execution_count": 19,
   "metadata": {},
   "outputs": [
    {
     "data": {
      "text/plain": [
       "0    44.4\n",
       "1    47.7\n",
       "2    65.6\n",
       "3    50.7\n",
       "4    51.3\n",
       "Name: Final, dtype: float64"
      ]
     },
     "execution_count": 19,
     "metadata": {},
     "output_type": "execute_result"
    }
   ],
   "source": [
    "df.head()\n",
    "df[\"Final\"].head()"
   ]
  },
  {
   "cell_type": "code",
   "execution_count": 34,
   "metadata": {},
   "outputs": [
    {
     "data": {
      "text/plain": [
       "ShapiroResult(statistic=0.9060763726152689, pvalue=0.10061001933436897)"
      ]
     },
     "execution_count": 34,
     "metadata": {},
     "output_type": "execute_result"
    }
   ],
   "source": [
    "import numpy as np \n",
    "obj = {\n",
    "  \"수학\": [30, 30, 50, 55, 70, 30, 80,90, 100, 80, 97,80, 80, 80, 50,67], \n",
    "  \"영어\": [10, 10, 50, 55, 70, 30, 80,90, 100, 80, 97,80, 80, 80, 50,67]\n",
    "}\n",
    "\n",
    "df = pd.DataFrame(obj)\n",
    "\n",
    "from scipy.stats import shapiro\n",
    "\n",
    "shapiro(df[\"수학\"])"
   ]
  },
  {
   "cell_type": "code",
   "execution_count": 23,
   "metadata": {},
   "outputs": [
    {
     "data": {
      "text/plain": [
       "ShapiroResult(statistic=0.9018898457550811, pvalue=3.2080446088161686e-40)"
      ]
     },
     "execution_count": 23,
     "metadata": {},
     "output_type": "execute_result"
    }
   ],
   "source": [
    "df[\"Final\"].describe()\n",
    "\n",
    "shapiro(df[\"Final\"])"
   ]
  },
  {
   "cell_type": "code",
   "execution_count": 42,
   "metadata": {},
   "outputs": [
    {
     "name": "stdout",
     "output_type": "stream",
     "text": [
      "0      16\n",
      "1      10\n",
      "2      21\n",
      "3      23\n",
      "4      24\n",
      "       ..\n",
      "239    29\n",
      "240    27\n",
      "241    22\n",
      "242    17\n",
      "243    18\n",
      "Name: total_bill, Length: 244, dtype: int64\n"
     ]
    },
    {
     "data": {
      "text/plain": [
       "ShapiroResult(statistic=0.9172928540595539, pvalue=2.1407780203816175e-10)"
      ]
     },
     "execution_count": 42,
     "metadata": {},
     "output_type": "execute_result"
    }
   ],
   "source": [
    "df = pd.read_csv(\"../../data/예제/tips.csv\")\n",
    "df.head()\n",
    "df[\"total_bill\"] = df[\"total_bill\"].astype(int)\n",
    "print(df[\"total_bill\"])\n",
    "\n",
    "shapiro(df[\"total_bill\"])"
   ]
  },
  {
   "cell_type": "code",
   "execution_count": null,
   "metadata": {},
   "outputs": [],
   "source": [
    "import numpy as np \n",
    "\n",
    "kg = np.array([75.5])"
   ]
  }
 ],
 "metadata": {
  "kernelspec": {
   "display_name": "Python 3",
   "language": "python",
   "name": "python3"
  },
  "language_info": {
   "codemirror_mode": {
    "name": "ipython",
    "version": 3
   },
   "file_extension": ".py",
   "mimetype": "text/x-python",
   "name": "python",
   "nbconvert_exporter": "python",
   "pygments_lexer": "ipython3",
   "version": "3.12.3"
  }
 },
 "nbformat": 4,
 "nbformat_minor": 2
}

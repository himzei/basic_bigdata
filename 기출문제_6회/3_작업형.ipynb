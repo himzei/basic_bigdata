{
 "cells": [
  {
   "cell_type": "markdown",
   "metadata": {},
   "source": [
    "### Q1. 항암약 위약을 투여 받은 환자의 부작용은 감기약 위약을 투여 받은 환자의 부작용 분포와 차이가 있는가?"
   ]
  },
  {
   "cell_type": "code",
   "execution_count": 1,
   "metadata": {},
   "outputs": [],
   "source": [
    "import pandas as pd\n",
    "df = pd.DataFrame({ \"항암약\":[4,4,3,4,1,4,1,4,1,4,4,2,1,4,2,3,2,4,4,4] })\n",
    "# 1: '아픔', 2: '조금 아픔', 3: '속쓰림', 4: '무증상'"
   ]
  },
  {
   "cell_type": "code",
   "execution_count": 2,
   "metadata": {},
   "outputs": [],
   "source": [
    "# 1. 아픔: 10%\n",
    "# 2. 조금 아픔 5%\n",
    "# 3. 속 쓰림 15%\n",
    "# 4. 무증상: 70%"
   ]
  },
  {
   "cell_type": "markdown",
   "metadata": {},
   "source": [
    "* 귀무가설(H0): 감기약(위약)의 부작용과 항암약(위약)의 부작용은 동일하다.\n",
    "* 대립가설(H1): 감기약(위약)의 부작용과 항암약(위약)의 부작용은 다르다."
   ]
  },
  {
   "cell_type": "markdown",
   "metadata": {},
   "source": [
    "### 1-1 항암약을 투여 받은 환자 중 무증상의 비율을 0과 1사이로 구하시오 "
   ]
  },
  {
   "cell_type": "code",
   "execution_count": 7,
   "metadata": {},
   "outputs": [
    {
     "name": "stdout",
     "output_type": "stream",
     "text": [
      "11\n"
     ]
    },
    {
     "data": {
      "text/plain": [
       "0.55"
      ]
     },
     "execution_count": 7,
     "metadata": {},
     "output_type": "execute_result"
    }
   ],
   "source": [
    "cond = df[\"항암약\"] == 4\n",
    "print(sum(cond))\n",
    "sum(cond) / len(df[\"항암약\"])\n",
    "\n"
   ]
  },
  {
   "cell_type": "code",
   "execution_count": 9,
   "metadata": {},
   "outputs": [
    {
     "data": {
      "text/plain": [
       "항암약\n",
       "4    0.55\n",
       "1    0.20\n",
       "2    0.15\n",
       "3    0.10\n",
       "Name: proportion, dtype: float64"
      ]
     },
     "execution_count": 9,
     "metadata": {},
     "output_type": "execute_result"
    }
   ],
   "source": [
    "df[\"항암약\"].value_counts(normalize=True)"
   ]
  },
  {
   "cell_type": "markdown",
   "metadata": {},
   "source": [
    "### 1-2. 감기약의 예상 부작용 비율과 항암약의 부작용 관찰값이 통계적으로 유의미하게 차이가 있는지 확인하려 한다. 카이 제곱 검정을 사용하여 검정 통계량을 구하시오."
   ]
  },
  {
   "cell_type": "code",
   "execution_count": 14,
   "metadata": {},
   "outputs": [
    {
     "data": {
      "text/plain": [
       "Power_divergenceResult(statistic=6.976190476190476, pvalue=0.07266054733847573)"
      ]
     },
     "execution_count": 14,
     "metadata": {},
     "output_type": "execute_result"
    }
   ],
   "source": [
    "ob = df[\"항암약\"].value_counts().sort_index().to_list()\n",
    "ex = [0.1* 20, 0.05*20, 0.15*20, 0.7*20]\n",
    "\n",
    "from scipy import stats \n",
    "stats.chisquare(ob, ex)\n"
   ]
  },
  {
   "cell_type": "markdown",
   "metadata": {},
   "source": [
    "### 다중 선형 회귀"
   ]
  },
  {
   "cell_type": "code",
   "execution_count": 16,
   "metadata": {},
   "outputs": [
    {
     "data": {
      "text/html": [
       "<div>\n",
       "<style scoped>\n",
       "    .dataframe tbody tr th:only-of-type {\n",
       "        vertical-align: middle;\n",
       "    }\n",
       "\n",
       "    .dataframe tbody tr th {\n",
       "        vertical-align: top;\n",
       "    }\n",
       "\n",
       "    .dataframe thead th {\n",
       "        text-align: right;\n",
       "    }\n",
       "</style>\n",
       "<table border=\"1\" class=\"dataframe\">\n",
       "  <thead>\n",
       "    <tr style=\"text-align: right;\">\n",
       "      <th></th>\n",
       "      <th>solar</th>\n",
       "      <th>wind</th>\n",
       "      <th>o3</th>\n",
       "      <th>temperature</th>\n",
       "    </tr>\n",
       "  </thead>\n",
       "  <tbody>\n",
       "    <tr>\n",
       "      <th>0</th>\n",
       "      <td>89.14</td>\n",
       "      <td>6.28</td>\n",
       "      <td>33.52</td>\n",
       "      <td>23.0</td>\n",
       "    </tr>\n",
       "    <tr>\n",
       "      <th>1</th>\n",
       "      <td>109.97</td>\n",
       "      <td>1.04</td>\n",
       "      <td>27.01</td>\n",
       "      <td>20.7</td>\n",
       "    </tr>\n",
       "    <tr>\n",
       "      <th>2</th>\n",
       "      <td>102.83</td>\n",
       "      <td>6.42</td>\n",
       "      <td>41.00</td>\n",
       "      <td>20.5</td>\n",
       "    </tr>\n",
       "    <tr>\n",
       "      <th>3</th>\n",
       "      <td>84.94</td>\n",
       "      <td>10.20</td>\n",
       "      <td>33.44</td>\n",
       "      <td>22.2</td>\n",
       "    </tr>\n",
       "    <tr>\n",
       "      <th>4</th>\n",
       "      <td>94.21</td>\n",
       "      <td>4.95</td>\n",
       "      <td>29.97</td>\n",
       "      <td>21.4</td>\n",
       "    </tr>\n",
       "  </tbody>\n",
       "</table>\n",
       "</div>"
      ],
      "text/plain": [
       "    solar   wind     o3  temperature\n",
       "0   89.14   6.28  33.52         23.0\n",
       "1  109.97   1.04  27.01         20.7\n",
       "2  102.83   6.42  41.00         20.5\n",
       "3   84.94  10.20  33.44         22.2\n",
       "4   94.21   4.95  29.97         21.4"
      ]
     },
     "execution_count": 16,
     "metadata": {},
     "output_type": "execute_result"
    }
   ],
   "source": [
    "import pandas as pd\n",
    "df = pd.read_csv(\"./data/data6-3-2.csv\")\n",
    "df.head()"
   ]
  },
  {
   "cell_type": "markdown",
   "metadata": {},
   "source": [
    "1. 다중 선형 회귀 모델을 구축하고, 독립변수 o3의 회귀계수를 구하시오.\n",
    "* 독립변수: solar(태양 에너지), wind(바람의 세기), o3(오존 농도)\n",
    "* 종속변수: temperature(온도)"
   ]
  },
  {
   "cell_type": "code",
   "execution_count": 20,
   "metadata": {},
   "outputs": [
    {
     "name": "stdout",
     "output_type": "stream",
     "text": [
      "                            OLS Regression Results                            \n",
      "==============================================================================\n",
      "Dep. Variable:            temperature   R-squared:                       0.044\n",
      "Model:                            OLS   Adj. R-squared:                  0.014\n",
      "Method:                 Least Squares   F-statistic:                     1.464\n",
      "Date:                Mon, 30 Sep 2024   Prob (F-statistic):              0.229\n",
      "Time:                        00:28:08   Log-Likelihood:                -195.45\n",
      "No. Observations:                 100   AIC:                             398.9\n",
      "Df Residuals:                      96   BIC:                             409.3\n",
      "Df Model:                           3                                         \n",
      "Covariance Type:            nonrobust                                         \n",
      "==============================================================================\n",
      "                 coef    std err          t      P>|t|      [0.025      0.975]\n",
      "------------------------------------------------------------------------------\n",
      "Intercept     19.0507      1.994      9.555      0.000      15.093      23.008\n",
      "solar          0.0039      0.015      0.251      0.802      -0.027       0.035\n",
      "wind          -0.0252      0.090     -0.280      0.780      -0.204       0.153\n",
      "o3             0.0749      0.036      2.079      0.040       0.003       0.146\n",
      "==============================================================================\n",
      "Omnibus:                        0.654   Durbin-Watson:                   2.328\n",
      "Prob(Omnibus):                  0.721   Jarque-Bera (JB):                0.672\n",
      "Skew:                           0.187   Prob(JB):                        0.715\n",
      "Kurtosis:                       2.855   Cond. No.                     1.20e+03\n",
      "==============================================================================\n",
      "\n",
      "Notes:\n",
      "[1] Standard Errors assume that the covariance matrix of the errors is correctly specified.\n",
      "[2] The condition number is large, 1.2e+03. This might indicate that there are\n",
      "strong multicollinearity or other numerical problems.\n"
     ]
    },
    {
     "data": {
      "text/plain": [
       "0.0749385437813658"
      ]
     },
     "execution_count": 20,
     "metadata": {},
     "output_type": "execute_result"
    }
   ],
   "source": [
    "from statsmodels.formula.api import ols \n",
    "\n",
    "formula = \"temperature ~ solar + wind + o3\"\n",
    "model = ols(formula, data=df).fit()\n",
    "print(model.summary())\n",
    "\n",
    "model.params[\"o3\"]"
   ]
  },
  {
   "cell_type": "code",
   "execution_count": 22,
   "metadata": {},
   "outputs": [
    {
     "data": {
      "text/plain": [
       "0.7797177202071661"
      ]
     },
     "execution_count": 22,
     "metadata": {},
     "output_type": "execute_result"
    }
   ],
   "source": [
    "model.pvalues[\"wind\"]"
   ]
  },
  {
   "cell_type": "code",
   "execution_count": 25,
   "metadata": {},
   "outputs": [],
   "source": [
    "new_data = pd.DataFrame({\n",
    "  \"solar\": [100], \n",
    "  \"wind\": [5], \n",
    "  \"o3\": [30]\n",
    "})\n",
    "pred= model.get_prediction(new_data)\n"
   ]
  },
  {
   "cell_type": "code",
   "execution_count": 26,
   "metadata": {},
   "outputs": [
    {
     "data": {
      "text/html": [
       "<div>\n",
       "<style scoped>\n",
       "    .dataframe tbody tr th:only-of-type {\n",
       "        vertical-align: middle;\n",
       "    }\n",
       "\n",
       "    .dataframe tbody tr th {\n",
       "        vertical-align: top;\n",
       "    }\n",
       "\n",
       "    .dataframe thead th {\n",
       "        text-align: right;\n",
       "    }\n",
       "</style>\n",
       "<table border=\"1\" class=\"dataframe\">\n",
       "  <thead>\n",
       "    <tr style=\"text-align: right;\">\n",
       "      <th></th>\n",
       "      <th>mean</th>\n",
       "      <th>mean_se</th>\n",
       "      <th>mean_ci_lower</th>\n",
       "      <th>mean_ci_upper</th>\n",
       "      <th>obs_ci_lower</th>\n",
       "      <th>obs_ci_upper</th>\n",
       "    </tr>\n",
       "  </thead>\n",
       "  <tbody>\n",
       "    <tr>\n",
       "      <th>0</th>\n",
       "      <td>21.56163</td>\n",
       "      <td>0.175263</td>\n",
       "      <td>21.213737</td>\n",
       "      <td>21.909524</td>\n",
       "      <td>18.082985</td>\n",
       "      <td>25.040276</td>\n",
       "    </tr>\n",
       "  </tbody>\n",
       "</table>\n",
       "</div>"
      ],
      "text/plain": [
       "       mean   mean_se  mean_ci_lower  mean_ci_upper  obs_ci_lower  \\\n",
       "0  21.56163  0.175263      21.213737      21.909524     18.082985   \n",
       "\n",
       "   obs_ci_upper  \n",
       "0     25.040276  "
      ]
     },
     "execution_count": 26,
     "metadata": {},
     "output_type": "execute_result"
    }
   ],
   "source": [
    "pred.summary_frame(alpha=0.05)"
   ]
  },
  {
   "cell_type": "code",
   "execution_count": null,
   "metadata": {},
   "outputs": [],
   "source": []
  }
 ],
 "metadata": {
  "kernelspec": {
   "display_name": "Python 3",
   "language": "python",
   "name": "python3"
  },
  "language_info": {
   "codemirror_mode": {
    "name": "ipython",
    "version": 3
   },
   "file_extension": ".py",
   "mimetype": "text/x-python",
   "name": "python",
   "nbconvert_exporter": "python",
   "pygments_lexer": "ipython3",
   "version": "3.12.3"
  }
 },
 "nbformat": 4,
 "nbformat_minor": 2
}

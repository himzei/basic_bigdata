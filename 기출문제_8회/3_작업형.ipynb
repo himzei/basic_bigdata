{
 "cells": [
  {
   "cell_type": "markdown",
   "metadata": {},
   "source": [
    "### 문제1-1\n",
    "주어진 데이터에서 로지스틱 회귀 분석을 수행해 유의확률(p-value)이 0.05 이상인 유의하지 않은 독립변수의 개수를 구하시오. (종속변수: Churn)"
   ]
  },
  {
   "cell_type": "code",
   "execution_count": 20,
   "metadata": {},
   "outputs": [
    {
     "name": "stdout",
     "output_type": "stream",
     "text": [
      "Optimization terminated successfully.\n",
      "         Current function value: 0.393603\n",
      "         Iterations 6\n",
      "                           Logit Regression Results                           \n",
      "==============================================================================\n",
      "Dep. Variable:                  Churn   No. Observations:                 1000\n",
      "Model:                          Logit   Df Residuals:                      989\n",
      "Method:                           MLE   Df Model:                           10\n",
      "Date:                Sun, 29 Sep 2024   Pseudo R-squ.:                 0.02367\n",
      "Time:                        21:45:58   Log-Likelihood:                -393.60\n",
      "converged:                       True   LL-Null:                       -403.14\n",
      "Covariance Type:            nonrobust   LLR p-value:                   0.03924\n",
      "===================================================================================\n",
      "                      coef    std err          z      P>|z|      [0.025      0.975]\n",
      "-----------------------------------------------------------------------------------\n",
      "Intercept          -2.2146      0.913     -2.425      0.015      -4.005      -0.424\n",
      "AccountWeeks        0.0026      0.002      1.114      0.265      -0.002       0.007\n",
      "ContractRenewal     0.1603      0.325      0.493      0.622      -0.477       0.798\n",
      "DataPlan            0.2874      0.198      1.454      0.146      -0.100       0.675\n",
      "DataUsage          -0.1698      0.072     -2.343      0.019      -0.312      -0.028\n",
      "CustServCalls       0.1374      0.074      1.858      0.063      -0.008       0.282\n",
      "DayMins            -0.0036      0.002     -2.092      0.036      -0.007      -0.000\n",
      "DayCalls            0.0023      0.004      0.526      0.599      -0.006       0.011\n",
      "MonthlyCharge       0.0042      0.005      0.778      0.436      -0.006       0.015\n",
      "OverageFee         -0.0127      0.036     -0.352      0.725      -0.084       0.058\n",
      "RoamMins            0.0098      0.034      0.292      0.770      -0.056       0.076\n",
      "===================================================================================\n"
     ]
    },
    {
     "data": {
      "text/plain": [
       "8"
      ]
     },
     "execution_count": 20,
     "metadata": {},
     "output_type": "execute_result"
    }
   ],
   "source": [
    "import pandas as pd \n",
    "\n",
    "df = pd.read_csv(\"./data/churn.csv\")\n",
    "# print(df.head())\n",
    "\n",
    "# 로지스틱 회귀분석을 위한 포뮬라 생성\n",
    "formula = \"Churn ~ AccountWeeks + ContractRenewal + DataPlan + DataUsage + CustServCalls + DayMins + DayCalls + MonthlyCharge + OverageFee + RoamMins\"\n",
    "\n",
    "# 로지스틱 회귀 모델 생성 및 학습\n",
    "from statsmodels.formula.api import logit\n",
    "model = logit(formula, data=df).fit()\n",
    "\n",
    "# 유의하지 않은 독립변수의 개수 구하기 \n",
    "print(model.summary())\n",
    "\n",
    "(model.pvalues[1:] > 0.05).sum()"
   ]
  },
  {
   "cell_type": "markdown",
   "metadata": {},
   "source": [
    "## 문제1-2\n",
    "유의확률(p-value)이 0.05 미만인 유의한 변수만을 사용해 다시 로지스틱 회귀 분석을 수행하시오. 이 회귀식의 유의한 회귀 계수(상수항 포함)의 합계를 구하시오. (반올림하여 소수 셋째 자리까지 계산)"
   ]
  },
  {
   "cell_type": "code",
   "execution_count": 23,
   "metadata": {},
   "outputs": [
    {
     "name": "stdout",
     "output_type": "stream",
     "text": [
      "Optimization terminated successfully.\n",
      "         Current function value: 0.397599\n",
      "         Iterations 6\n",
      "                           Logit Regression Results                           \n",
      "==============================================================================\n",
      "Dep. Variable:                  Churn   No. Observations:                 1000\n",
      "Model:                          Logit   Df Residuals:                      997\n",
      "Method:                           MLE   Df Model:                            2\n",
      "Date:                Sun, 29 Sep 2024   Pseudo R-squ.:                 0.01375\n",
      "Time:                        21:49:19   Log-Likelihood:                -397.60\n",
      "converged:                       True   LL-Null:                       -403.14\n",
      "Covariance Type:            nonrobust   LLR p-value:                  0.003908\n",
      "==============================================================================\n",
      "                 coef    std err          z      P>|z|      [0.025      0.975]\n",
      "------------------------------------------------------------------------------\n",
      "Intercept     -1.0395      0.303     -3.434      0.001      -1.633      -0.446\n",
      "DataUsage     -0.1697      0.071     -2.376      0.017      -0.310      -0.030\n",
      "DayMins       -0.0039      0.002     -2.264      0.024      -0.007      -0.001\n",
      "==============================================================================\n"
     ]
    }
   ],
   "source": [
    "# 유의한 변수 선택 \n",
    "model.pvalues[1:] < 0.05\n",
    "formula = \"Churn ~ DataUsage + DayMins\"\n",
    "\n",
    "model = logit(formula, data=df).fit() \n",
    "print(model.summary())"
   ]
  },
  {
   "cell_type": "code",
   "execution_count": 26,
   "metadata": {},
   "outputs": [
    {
     "data": {
      "text/plain": [
       "-1.213"
      ]
     },
     "execution_count": 26,
     "metadata": {},
     "output_type": "execute_result"
    }
   ],
   "source": [
    "round(sum(model.params), 3)"
   ]
  },
  {
   "cell_type": "markdown",
   "metadata": {},
   "source": [
    "## 문제1-2\n",
    "유의확률(p-value)이 0.05 미만인 유의한 변수만을 사용해 다시 로지스틱 회귀 분석을 수행하시오. 이 회귀식의 유의한 회귀 계수(상수항 포함)의 합계를 구하시오. (반올림하여 소수 셋째 자리까지 계산)"
   ]
  },
  {
   "cell_type": "code",
   "execution_count": 28,
   "metadata": {},
   "outputs": [
    {
     "data": {
      "text/html": [
       "<div>\n",
       "<style scoped>\n",
       "    .dataframe tbody tr th:only-of-type {\n",
       "        vertical-align: middle;\n",
       "    }\n",
       "\n",
       "    .dataframe tbody tr th {\n",
       "        vertical-align: top;\n",
       "    }\n",
       "\n",
       "    .dataframe thead th {\n",
       "        text-align: right;\n",
       "    }\n",
       "</style>\n",
       "<table border=\"1\" class=\"dataframe\">\n",
       "  <thead>\n",
       "    <tr style=\"text-align: right;\">\n",
       "      <th></th>\n",
       "      <th>PIQ</th>\n",
       "      <th>Brain</th>\n",
       "      <th>Height</th>\n",
       "      <th>Weight</th>\n",
       "    </tr>\n",
       "  </thead>\n",
       "  <tbody>\n",
       "    <tr>\n",
       "      <th>0</th>\n",
       "      <td>132</td>\n",
       "      <td>85.78</td>\n",
       "      <td>62.5</td>\n",
       "      <td>127</td>\n",
       "    </tr>\n",
       "    <tr>\n",
       "      <th>1</th>\n",
       "      <td>96</td>\n",
       "      <td>86.54</td>\n",
       "      <td>68.0</td>\n",
       "      <td>135</td>\n",
       "    </tr>\n",
       "    <tr>\n",
       "      <th>2</th>\n",
       "      <td>84</td>\n",
       "      <td>90.49</td>\n",
       "      <td>66.3</td>\n",
       "      <td>134</td>\n",
       "    </tr>\n",
       "    <tr>\n",
       "      <th>3</th>\n",
       "      <td>134</td>\n",
       "      <td>79.06</td>\n",
       "      <td>62.0</td>\n",
       "      <td>122</td>\n",
       "    </tr>\n",
       "    <tr>\n",
       "      <th>4</th>\n",
       "      <td>86</td>\n",
       "      <td>88.91</td>\n",
       "      <td>70.0</td>\n",
       "      <td>180</td>\n",
       "    </tr>\n",
       "  </tbody>\n",
       "</table>\n",
       "</div>"
      ],
      "text/plain": [
       "   PIQ  Brain  Height  Weight\n",
       "0  132  85.78    62.5     127\n",
       "1   96  86.54    68.0     135\n",
       "2   84  90.49    66.3     134\n",
       "3  134  79.06    62.0     122\n",
       "4   86  88.91    70.0     180"
      ]
     },
     "execution_count": 28,
     "metadata": {},
     "output_type": "execute_result"
    }
   ],
   "source": [
    "import pandas as pd \n",
    "df = pd.read_csv(\"./data/piq.csv\")\n",
    "df.head()"
   ]
  },
  {
   "cell_type": "code",
   "execution_count": 33,
   "metadata": {},
   "outputs": [
    {
     "name": "stdout",
     "output_type": "stream",
     "text": [
      "                            OLS Regression Results                            \n",
      "==============================================================================\n",
      "Dep. Variable:                    PIQ   R-squared:                       0.370\n",
      "Model:                            OLS   Adj. R-squared:                  0.329\n",
      "Method:                 Least Squares   F-statistic:                     9.024\n",
      "Date:                Sun, 29 Sep 2024   Prob (F-statistic):           8.25e-05\n",
      "Time:                        21:58:40   Log-Likelihood:                -217.27\n",
      "No. Observations:                  50   AIC:                             442.5\n",
      "Df Residuals:                      46   BIC:                             450.2\n",
      "Df Model:                           3                                         \n",
      "Covariance Type:            nonrobust                                         \n",
      "==============================================================================\n",
      "                 coef    std err          t      P>|t|      [0.025      0.975]\n",
      "------------------------------------------------------------------------------\n",
      "Intercept     74.5114     50.564      1.474      0.147     -27.269     176.292\n",
      "Brain          2.3431      0.456      5.141      0.000       1.426       3.261\n",
      "Height        -2.6444      1.064     -2.485      0.017      -4.786      -0.503\n",
      "Weight         0.0406      0.167      0.243      0.809      -0.296       0.377\n",
      "==============================================================================\n",
      "Omnibus:                        8.608   Durbin-Watson:                   2.386\n",
      "Prob(Omnibus):                  0.014   Jarque-Bera (JB):                2.629\n",
      "Skew:                           0.041   Prob(JB):                        0.269\n",
      "Kurtosis:                       1.880   Cond. No.                     3.48e+03\n",
      "==============================================================================\n",
      "\n",
      "Notes:\n",
      "[1] Standard Errors assume that the covariance matrix of the errors is correctly specified.\n",
      "[2] The condition number is large, 3.48e+03. This might indicate that there are\n",
      "strong multicollinearity or other numerical problems.\n",
      "Intercept    74.511387\n",
      "Brain         2.343130\n",
      "Height       -2.644371\n",
      "Weight        0.040639\n",
      "dtype: float64\n",
      "0.37\n"
     ]
    }
   ],
   "source": [
    "# 다중 선형 회귀 분선\n",
    "from statsmodels.formula.api import ols \n",
    "\n",
    "formula = \"PIQ ~ Brain + Height + Weight\"\n",
    "model = ols(formula, data=df).fit()\n",
    "\n",
    "print(model.summary())\n",
    "print(model.params)\n",
    "print(round(model.rsquared, 2))\n"
   ]
  },
  {
   "cell_type": "markdown",
   "metadata": {},
   "source": [
    "### 문제 2-3 \n",
    "* 뇌 크기(Brain)가 90, 키(Height)가 70, 몸무게(Weight)가 150일 때의 PIQ를 예측하시오. (반올림하여 정수로 계산)"
   ]
  },
  {
   "cell_type": "code",
   "execution_count": 39,
   "metadata": {},
   "outputs": [
    {
     "name": "stdout",
     "output_type": "stream",
     "text": [
      "106\n"
     ]
    }
   ],
   "source": [
    "new_data = pd.DataFrame({\n",
    "  'Brain': [90], \n",
    "  'Height': [70], \n",
    "  'Weight': [150]\n",
    "  })\n",
    "\n",
    "pred = model.predict(new_data)\n",
    "print(round(pred[0]))"
   ]
  },
  {
   "cell_type": "code",
   "execution_count": null,
   "metadata": {},
   "outputs": [],
   "source": []
  }
 ],
 "metadata": {
  "kernelspec": {
   "display_name": "Python 3",
   "language": "python",
   "name": "python3"
  },
  "language_info": {
   "codemirror_mode": {
    "name": "ipython",
    "version": 3
   },
   "file_extension": ".py",
   "mimetype": "text/x-python",
   "name": "python",
   "nbconvert_exporter": "python",
   "pygments_lexer": "ipython3",
   "version": "3.12.3"
  }
 },
 "nbformat": 4,
 "nbformat_minor": 2
}

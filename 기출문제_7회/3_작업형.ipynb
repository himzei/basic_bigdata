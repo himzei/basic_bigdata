{
 "cells": [
  {
   "cell_type": "markdown",
   "metadata": {},
   "source": [
    "## 작업형3\n",
    "* 문제1. 주어진 조개 데이터 300개 중 앞에서부터 210개는 train 데이터로 만들고, 나머지 90개는 test데이터로 만든다. 모델을 학습(적합)할 때는 train데이터를 사용하고, 예측할 때는 test데이터를 사용한다. 모델은 로지스틱 회귀를 써서 성별(gender)을 예측하되, 패널티는 부과하지 않는다."
   ]
  },
  {
   "cell_type": "markdown",
   "metadata": {},
   "source": [
    "* 문제1-1. weight를 독립변수로 gender를 종속변수로 사용하여 로지스틱 회귀 모형을 만들고, weight 변수가 한 단위 증가할 때 수컷일 오즈비 값은? (반올림하여 소수 넷째자리까지 계산)"
   ]
  },
  {
   "cell_type": "code",
   "execution_count": 5,
   "metadata": {},
   "outputs": [
    {
     "data": {
      "text/html": [
       "<div>\n",
       "<style scoped>\n",
       "    .dataframe tbody tr th:only-of-type {\n",
       "        vertical-align: middle;\n",
       "    }\n",
       "\n",
       "    .dataframe tbody tr th {\n",
       "        vertical-align: top;\n",
       "    }\n",
       "\n",
       "    .dataframe thead th {\n",
       "        text-align: right;\n",
       "    }\n",
       "</style>\n",
       "<table border=\"1\" class=\"dataframe\">\n",
       "  <thead>\n",
       "    <tr style=\"text-align: right;\">\n",
       "      <th></th>\n",
       "      <th>age</th>\n",
       "      <th>length</th>\n",
       "      <th>diameter</th>\n",
       "      <th>height</th>\n",
       "      <th>weight</th>\n",
       "      <th>gender</th>\n",
       "    </tr>\n",
       "  </thead>\n",
       "  <tbody>\n",
       "    <tr>\n",
       "      <th>0</th>\n",
       "      <td>6</td>\n",
       "      <td>0.474627</td>\n",
       "      <td>0.211352</td>\n",
       "      <td>0.178189</td>\n",
       "      <td>78.971766</td>\n",
       "      <td>1</td>\n",
       "    </tr>\n",
       "    <tr>\n",
       "      <th>1</th>\n",
       "      <td>1</td>\n",
       "      <td>0.465847</td>\n",
       "      <td>0.339388</td>\n",
       "      <td>0.170522</td>\n",
       "      <td>98.781960</td>\n",
       "      <td>1</td>\n",
       "    </tr>\n",
       "    <tr>\n",
       "      <th>2</th>\n",
       "      <td>4</td>\n",
       "      <td>0.122807</td>\n",
       "      <td>0.238691</td>\n",
       "      <td>0.106924</td>\n",
       "      <td>88.792625</td>\n",
       "      <td>0</td>\n",
       "    </tr>\n",
       "    <tr>\n",
       "      <th>3</th>\n",
       "      <td>4</td>\n",
       "      <td>0.204579</td>\n",
       "      <td>0.360543</td>\n",
       "      <td>0.034261</td>\n",
       "      <td>1.028847</td>\n",
       "      <td>0</td>\n",
       "    </tr>\n",
       "    <tr>\n",
       "      <th>4</th>\n",
       "      <td>8</td>\n",
       "      <td>0.243458</td>\n",
       "      <td>0.358037</td>\n",
       "      <td>0.128080</td>\n",
       "      <td>6.503367</td>\n",
       "      <td>0</td>\n",
       "    </tr>\n",
       "  </tbody>\n",
       "</table>\n",
       "</div>"
      ],
      "text/plain": [
       "   age    length  diameter    height     weight  gender\n",
       "0    6  0.474627  0.211352  0.178189  78.971766       1\n",
       "1    1  0.465847  0.339388  0.170522  98.781960       1\n",
       "2    4  0.122807  0.238691  0.106924  88.792625       0\n",
       "3    4  0.204579  0.360543  0.034261   1.028847       0\n",
       "4    8  0.243458  0.358037  0.128080   6.503367       0"
      ]
     },
     "execution_count": 5,
     "metadata": {},
     "output_type": "execute_result"
    }
   ],
   "source": [
    "import pandas as pd\n",
    "df = pd.read_csv(\"./data/clam.csv\")\n",
    "\n",
    "\n",
    "# 데이터셋 분할 \n",
    "\n",
    "train = df.iloc[:210]\n",
    "test = df.iloc[210:]\n",
    "\n",
    "df.head()\n",
    "\n",
    "\n"
   ]
  },
  {
   "cell_type": "code",
   "execution_count": 9,
   "metadata": {},
   "outputs": [
    {
     "name": "stdout",
     "output_type": "stream",
     "text": [
      "Optimization terminated successfully.\n",
      "         Current function value: 0.690045\n",
      "         Iterations 4\n",
      "                           Logit Regression Results                           \n",
      "==============================================================================\n",
      "Dep. Variable:                 gender   No. Observations:                  210\n",
      "Model:                          Logit   Df Residuals:                      208\n",
      "Method:                           MLE   Df Model:                            1\n",
      "Date:                Sun, 29 Sep 2024   Pseudo R-squ.:                0.003431\n",
      "Time:                        22:14:14   Log-Likelihood:                -144.91\n",
      "converged:                       True   LL-Null:                       -145.41\n",
      "Covariance Type:            nonrobust   LLR p-value:                    0.3178\n",
      "==============================================================================\n",
      "                 coef    std err          z      P>|z|      [0.025      0.975]\n",
      "------------------------------------------------------------------------------\n",
      "Intercept     -0.3140      0.276     -1.137      0.256      -0.855       0.227\n",
      "weight         0.0047      0.005      0.997      0.319      -0.005       0.014\n",
      "==============================================================================\n"
     ]
    },
    {
     "data": {
      "text/plain": [
       "1.0047"
      ]
     },
     "execution_count": 9,
     "metadata": {},
     "output_type": "execute_result"
    }
   ],
   "source": [
    "from statsmodels.formula.api import logit \n",
    "import numpy as np \n",
    "\n",
    "# 로지스틱 회귀 모델 생성 및 학습\n",
    "model = logit(\"gender ~ weight\", data=train).fit()\n",
    "print(model.summary())\n",
    "\n",
    "result = model.params[\"weight\"]\n",
    "round(np.exp(result), 4)\n"
   ]
  },
  {
   "cell_type": "markdown",
   "metadata": {},
   "source": [
    "## 문제1-2. \n",
    "* gender를 종속변수로 하고 나머지 변수들(age, length, diameter, height, weight)을 독립변수로 사용하는 로지스틱 회귀 모델을 적합시킨 후, 잔차 이탈도(Residual Deviance)를 계산하시오. (반올림하여 소수 둘째자리까지 계산)"
   ]
  },
  {
   "cell_type": "code",
   "execution_count": 16,
   "metadata": {},
   "outputs": [
    {
     "name": "stdout",
     "output_type": "stream",
     "text": [
      "                 Generalized Linear Model Regression Results                  \n",
      "==============================================================================\n",
      "Dep. Variable:                 gender   No. Observations:                  210\n",
      "Model:                            GLM   Df Residuals:                      204\n",
      "Model Family:                Binomial   Df Model:                            5\n",
      "Link Function:                  Logit   Scale:                          1.0000\n",
      "Method:                          IRLS   Log-Likelihood:                -143.47\n",
      "Date:                Sun, 29 Sep 2024   Deviance:                       286.93\n",
      "Time:                        23:14:36   Pearson chi2:                     210.\n",
      "No. Iterations:                     4   Pseudo R-squ. (CS):            0.01833\n",
      "Covariance Type:            nonrobust                                         \n",
      "==============================================================================\n",
      "                 coef    std err          z      P>|z|      [0.025      0.975]\n",
      "------------------------------------------------------------------------------\n",
      "Intercept      0.6701      0.651      1.030      0.303      -0.605       1.946\n",
      "age           -0.0482      0.055     -0.881      0.378      -0.156       0.059\n",
      "length        -0.7832      0.998     -0.785      0.433      -2.739       1.173\n",
      "diameter      -1.1573      1.389     -0.833      0.405      -3.880       1.565\n",
      "height        -2.2977      2.640     -0.870      0.384      -7.472       2.877\n",
      "weight         0.0054      0.005      1.098      0.272      -0.004       0.015\n",
      "==============================================================================\n",
      "286.93\n"
     ]
    }
   ],
   "source": [
    "from statsmodels.formula.api import glm\n",
    "import statsmodels.api as sm \n",
    "\n",
    "# Glm 모델 적합 (로지스틱 회귀를 위해 이항 분포 사용)\n",
    "formula = \"gender ~ age + length + diameter + height + weight\"\n",
    "model = glm(formula, data=train, family=sm.families.Binomial()).fit()\n",
    "\n",
    "print(model.summary())\n",
    "\n",
    "print(round(model.deviance, 2))"
   ]
  },
  {
   "cell_type": "markdown",
   "metadata": {},
   "source": [
    "### 문제1-3. \n",
    "*독립변수 weight 만 사용해 학습한 로지스틱 회귀모델에서 test데이터의 gender를 예측하고, error rate(오류율)를 구하시오. (반올림하여 소수 셋째자리까지 계산)"
   ]
  },
  {
   "cell_type": "code",
   "execution_count": 23,
   "metadata": {},
   "outputs": [
    {
     "name": "stdout",
     "output_type": "stream",
     "text": [
      "Optimization terminated successfully.\n",
      "         Current function value: 0.690045\n",
      "         Iterations 4\n",
      "0.5\n"
     ]
    }
   ],
   "source": [
    "from sklearn.metrics import accuracy_score \n",
    "from statsmodels.formula.api import logit \n",
    "\n",
    "df = pd.read_csv(\"./data/clam.csv\")\n",
    "# 데이터셋 분할 \n",
    "\n",
    "train = df.iloc[:210]\n",
    "test = df.iloc[210:]\n",
    "\n",
    "# 학습, test데이트를 사용해 예측(0.5 미만: 0, 0.5이상 1)\n",
    "model = logit(\"gender ~ weight\", data=train).fit()\n",
    "target = test.pop(\"gender\")\n",
    "pred = model.predict(test) > 0.5\n",
    "\n",
    "# 실제값과 예측값을 사용하여 정확도 계산 \n",
    "acc = accuracy_score(target, pred)\n",
    "\n",
    "# 오류율 계산 \n",
    "print(round(1-acc, 1))"
   ]
  },
  {
   "cell_type": "code",
   "execution_count": 36,
   "metadata": {},
   "outputs": [
    {
     "name": "stdout",
     "output_type": "stream",
     "text": [
      "          ERP    Feature1   Feature2   Feature3        CPU\n",
      "0  135.281047  235.088034  44.462272 -36.532634  20.492369\n",
      "1  108.003144   36.571914  46.409312 -21.709347  34.169811\n",
      "2  119.574760   52.239055  66.494894 -30.590820  67.624248\n",
      "3  144.817864  196.195890  59.828956 -33.400891  87.923476\n",
      "4  137.351160   75.175619  59.601973 -26.668085  54.367805\n"
     ]
    },
    {
     "data": {
      "text/plain": [
       "(100, 5)"
      ]
     },
     "execution_count": 36,
     "metadata": {},
     "output_type": "execute_result"
    }
   ],
   "source": [
    "import pandas as pd \n",
    "df = pd.read_csv(\"./data/system.csv\")\n",
    "print(df.head())\n",
    "\n",
    "cond = df[\"CPU\"] < 100 \n",
    "df = df[cond]\n"
   ]
  },
  {
   "cell_type": "code",
   "execution_count": 41,
   "metadata": {},
   "outputs": [
    {
     "name": "stdout",
     "output_type": "stream",
     "text": [
      "                            OLS Regression Results                            \n",
      "==============================================================================\n",
      "Dep. Variable:                    ERP   R-squared:                       0.226\n",
      "Model:                            OLS   Adj. R-squared:                  0.193\n",
      "Method:                 Least Squares   F-statistic:                     6.937\n",
      "Date:                Sun, 29 Sep 2024   Prob (F-statistic):           6.07e-05\n",
      "Time:                        23:27:49   Log-Likelihood:                -429.44\n",
      "No. Observations:                 100   AIC:                             868.9\n",
      "Df Residuals:                      95   BIC:                             881.9\n",
      "Df Model:                           4                                         \n",
      "Covariance Type:            nonrobust                                         \n",
      "==============================================================================\n",
      "                 coef    std err          t      P>|t|      [0.025      0.975]\n",
      "------------------------------------------------------------------------------\n",
      "Intercept     74.4348     15.094      4.932      0.000      44.470     104.399\n",
      "Feature1       0.1391      0.030      4.583      0.000       0.079       0.199\n",
      "Feature2       0.0966      0.129      0.747      0.457      -0.160       0.353\n",
      "Feature3      -0.4136      0.395     -1.046      0.298      -1.198       0.371\n",
      "CPU           -0.1125      0.061     -1.846      0.068      -0.233       0.008\n",
      "==============================================================================\n",
      "Omnibus:                        0.279   Durbin-Watson:                   1.976\n",
      "Prob(Omnibus):                  0.870   Jarque-Bera (JB):                0.442\n",
      "Skew:                           0.090   Prob(JB):                        0.802\n",
      "Kurtosis:                       2.729   Cond. No.                     1.16e+03\n",
      "==============================================================================\n",
      "\n",
      "Notes:\n",
      "[1] Standard Errors assume that the covariance matrix of the errors is correctly specified.\n",
      "[2] The condition number is large, 1.16e+03. This might indicate that there are\n",
      "strong multicollinearity or other numerical problems.\n"
     ]
    },
    {
     "data": {
      "text/plain": [
       "0.19347593084765402"
      ]
     },
     "execution_count": 41,
     "metadata": {},
     "output_type": "execute_result"
    }
   ],
   "source": [
    "from statsmodels.formula.api import ols\n",
    "model = ols(\"ERP ~ Feature1 + Feature2 + Feature3 + CPU\", data=df).fit()\n",
    "print(model.summary())\n",
    "model.rsquared\n",
    "model.rsquared_adj"
   ]
  },
  {
   "cell_type": "code",
   "execution_count": 42,
   "metadata": {},
   "outputs": [
    {
     "name": "stdout",
     "output_type": "stream",
     "text": [
      "Intercept    0.000003\n",
      "Feature1     0.000014\n",
      "Feature2     0.456708\n",
      "Feature3     0.298206\n",
      "CPU          0.067968\n",
      "dtype: float64\n"
     ]
    }
   ],
   "source": [
    "# pvalue\n",
    "print(model.pvalues)"
   ]
  },
  {
   "cell_type": "code",
   "execution_count": null,
   "metadata": {},
   "outputs": [],
   "source": []
  }
 ],
 "metadata": {
  "kernelspec": {
   "display_name": "Python 3",
   "language": "python",
   "name": "python3"
  },
  "language_info": {
   "codemirror_mode": {
    "name": "ipython",
    "version": 3
   },
   "file_extension": ".py",
   "mimetype": "text/x-python",
   "name": "python",
   "nbconvert_exporter": "python",
   "pygments_lexer": "ipython3",
   "version": "3.12.3"
  }
 },
 "nbformat": 4,
 "nbformat_minor": 2
}

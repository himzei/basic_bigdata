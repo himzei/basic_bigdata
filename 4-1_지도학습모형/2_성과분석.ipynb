{
 "cells": [
  {
   "cell_type": "code",
   "execution_count": 2,
   "metadata": {},
   "outputs": [
    {
     "data": {
      "text/plain": [
       "array([[2, 1],\n",
       "       [0, 3]])"
      ]
     },
     "execution_count": 2,
     "metadata": {},
     "output_type": "execute_result"
    }
   ],
   "source": [
    "from sklearn.metrics import confusion_matrix \n",
    "\n",
    "y_true = [0, 0, 0, 1, 1, 1]\n",
    "y_pred =[ 0, 1, 0, 1, 1, 1]\n",
    "\n",
    "confusion_matrix(y_true, y_pred)\n",
    "\n",
    "y_true = ['A', 'A', 'A', 'B', 'B', 'B']\n",
    "y_pred = ['A', 'B', 'A', 'B', 'B', 'B']\n",
    "\n",
    "confusion_matrix(y_true, y_pred, labels=['A','B'])"
   ]
  },
  {
   "cell_type": "code",
   "execution_count": 3,
   "metadata": {},
   "outputs": [
    {
     "data": {
      "text/plain": [
       "array([[1, 2, 0],\n",
       "       [1, 1, 0],\n",
       "       [1, 1, 2]])"
      ]
     },
     "execution_count": 3,
     "metadata": {},
     "output_type": "execute_result"
    }
   ],
   "source": [
    "y_true = [0, 0, 0, 1, 1, 2, 2, 2, 2]\n",
    "y_pred = [0, 1, 1, 1, 0, 0, 1, 2, 2]\n",
    "\n",
    "confusion_matrix(y_true, y_pred)"
   ]
  },
  {
   "cell_type": "code",
   "execution_count": 7,
   "metadata": {},
   "outputs": [
    {
     "name": "stdout",
     "output_type": "stream",
     "text": [
      "0.8333333333333334\n",
      "1.0\n",
      "0.75\n",
      "0.8571428571428571\n"
     ]
    }
   ],
   "source": [
    "from sklearn.metrics import accuracy_score, recall_score, precision_score, f1_score \n",
    "\n",
    "y_true = [0, 0, 0, 1, 1, 1]\n",
    "y_pred = [0, 1, 0, 1, 1, 1]\n",
    "\n",
    "\n",
    "accuracy = accuracy_score(y_true, y_pred)\n",
    "print(accuracy)\n",
    "\n",
    "recall = recall_score(y_true, y_pred) \n",
    "print(recall)\n",
    "\n",
    "precision = precision_score(y_true, y_pred) \n",
    "print(precision)\n",
    "\n",
    "f1 = f1_score(y_true, y_pred) \n",
    "print(f1)"
   ]
  },
  {
   "cell_type": "code",
   "execution_count": 8,
   "metadata": {},
   "outputs": [
    {
     "name": "stdout",
     "output_type": "stream",
     "text": [
      "0.888888888888889\n"
     ]
    }
   ],
   "source": [
    "from sklearn.metrics import roc_curve, auc \n",
    "\n",
    "y_true = [0, 0, 0, 1, 1, 1]\n",
    "y_score = [0.1, 0.75, 0.35, 0.92, 0.81, 0.68]\n",
    "\n",
    "fpr, tpr, thresholds = roc_curve(y_true, y_score)\n",
    "\n",
    "AUC = auc(fpr, tpr)\n",
    "print(AUC)"
   ]
  },
  {
   "cell_type": "code",
   "execution_count": 12,
   "metadata": {},
   "outputs": [
    {
     "name": "stdout",
     "output_type": "stream",
     "text": [
      "[0.69646919 0.28613933 0.22685145 0.55131477 0.71946897]\n",
      "[0.42310646 0.9807642  0.68482974 0.4809319  0.39211752]\n",
      "0.17581754220802784\n",
      "0.36474003862364796\n",
      "1.0843148337483364\n"
     ]
    }
   ],
   "source": [
    "from sklearn.metrics import mean_squared_error, mean_absolute_error, mean_absolute_percentage_error \n",
    "\n",
    "import numpy as np \n",
    "np.random.seed(123)\n",
    "\n",
    "y_true = np.random.random_sample(5)\n",
    "print(y_true)\n",
    "\n",
    "y_pred = np.random.random_sample(5)\n",
    "print(y_pred)\n",
    "\n",
    "mse = mean_squared_error(y_true, y_pred) \n",
    "print(mse)\n",
    "\n",
    "mae = mean_absolute_error(y_true, y_pred) \n",
    "print(mae) \n",
    "\n",
    "mape = mean_absolute_percentage_error(y_true, y_pred) \n",
    "print(mape)"
   ]
  },
  {
   "cell_type": "code",
   "execution_count": null,
   "metadata": {},
   "outputs": [],
   "source": []
  }
 ],
 "metadata": {
  "kernelspec": {
   "display_name": "Python 3",
   "language": "python",
   "name": "python3"
  },
  "language_info": {
   "codemirror_mode": {
    "name": "ipython",
    "version": 3
   },
   "file_extension": ".py",
   "mimetype": "text/x-python",
   "name": "python",
   "nbconvert_exporter": "python",
   "pygments_lexer": "ipython3",
   "version": "3.12.3"
  }
 },
 "nbformat": 4,
 "nbformat_minor": 2
}

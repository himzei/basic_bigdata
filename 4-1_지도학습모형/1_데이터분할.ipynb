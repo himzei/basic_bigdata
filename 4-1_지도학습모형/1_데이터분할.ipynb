{
 "cells": [
  {
   "cell_type": "code",
   "execution_count": 4,
   "metadata": {},
   "outputs": [
    {
     "name": "stdout",
     "output_type": "stream",
     "text": [
      "(398, 30) (171, 30) (398,) (171,)\n"
     ]
    }
   ],
   "source": [
    "from sklearn.datasets import load_breast_cancer \n",
    "breast_cancer = load_breast_cancer() \n",
    "data = breast_cancer.data\n",
    "target = breast_cancer.target \n",
    "\n",
    "# print(data)\n",
    "# print(target)\n",
    "\n",
    "from sklearn.model_selection import train_test_split \n",
    "\n",
    "X_train, X_test, y_train, y_test = train_test_split(\n",
    "  data, \n",
    "  target, \n",
    "  test_size = 0.3, \n",
    "  random_state=2022\n",
    "  )\n",
    "\n",
    "print(X_train.shape, X_test.shape, y_train.shape, y_test.shape)"
   ]
  },
  {
   "cell_type": "code",
   "execution_count": 6,
   "metadata": {},
   "outputs": [
    {
     "name": "stdout",
     "output_type": "stream",
     "text": [
      "(398, 30) (171, 30) (398,) (171,)\n"
     ]
    }
   ],
   "source": [
    "X_train, X_test, y_train, y_test = train_test_split(\n",
    "  data, \n",
    "  target, \n",
    "  test_size = 0.3, \n",
    "  random_state=2022,\n",
    "  stratify=target\n",
    "  )\n",
    "print(X_train.shape, X_test.shape, y_train.shape, y_test.shape)"
   ]
  },
  {
   "cell_type": "markdown",
   "metadata": {},
   "source": [
    "## K-fold \n",
    "* 가장 보편적으로 사용되는 교차 검증 기법\n",
    "* 먼저 K개의 데이터 폴드 세트를 만들어서 K번만큼 각 폴드 세트에 학습고 검증 평가를 1반복적으로 수행하는 방법\n",
    "* 학습 데이터 세트와 검증 데이터 세트를 점진적으로 변경하면서 마지막 5번째(K번째)까지 학습과 검증을 수행하는 것이 바로 K 폴드 교차 검증"
   ]
  },
  {
   "cell_type": "code",
   "execution_count": 10,
   "metadata": {},
   "outputs": [
    {
     "name": "stdout",
     "output_type": "stream",
     "text": [
      "학습 : [ 4  5  6  7  8  9 10 11 12 13 14 15 16 17 18 19], 평가 : [0 1 2 3]\n",
      "학습 : [ 0  1  2  3  8  9 10 11 12 13 14 15 16 17 18 19], 평가 : [4 5 6 7]\n",
      "학습 : [ 0  1  2  3  4  5  6  7 12 13 14 15 16 17 18 19], 평가 : [ 8  9 10 11]\n",
      "학습 : [ 0  1  2  3  4  5  6  7  8  9 10 11 16 17 18 19], 평가 : [12 13 14 15]\n",
      "학습 : [ 0  1  2  3  4  5  6  7  8  9 10 11 12 13 14 15], 평가 : [16 17 18 19]\n"
     ]
    }
   ],
   "source": [
    "import numpy as np \n",
    "X = np.arange(20) \n",
    "\n",
    "from sklearn.model_selection import KFold \n",
    "kFold = KFold(n_splits=5)\n",
    "\n",
    "for train_idx, test_idx in kFold.split(X): \n",
    "  print(f'학습 : {train_idx}, 평가 : {test_idx}')"
   ]
  },
  {
   "cell_type": "code",
   "execution_count": 11,
   "metadata": {},
   "outputs": [
    {
     "name": "stdout",
     "output_type": "stream",
     "text": [
      "학습: [ 2  3  4  5  7  8 11 12 13 14], 평가: [ 0  1  6  9 10]\n",
      "학습: [ 0  1  4  5  6  8  9 10 13 14], 평가: [ 2  3  7 11 12]\n",
      "학습: [ 0  1  2  3  6  7  9 10 11 12], 평가: [ 4  5  8 13 14]\n"
     ]
    }
   ],
   "source": [
    "import numpy as np \n",
    "X = np.arange(15)\n",
    "y = [0] * 6 + [1] * 3 + [2] * 6 \n",
    "\n",
    "from sklearn.model_selection import StratifiedKFold\n",
    "kFold = StratifiedKFold(n_splits=3)\n",
    "\n",
    "for train_idx, test_idx in kFold.split(X, y): \n",
    "  print(f\"학습: {train_idx}, 평가: {test_idx}\")"
   ]
  },
  {
   "cell_type": "code",
   "execution_count": null,
   "metadata": {},
   "outputs": [],
   "source": []
  }
 ],
 "metadata": {
  "kernelspec": {
   "display_name": "Python 3",
   "language": "python",
   "name": "python3"
  },
  "language_info": {
   "codemirror_mode": {
    "name": "ipython",
    "version": 3
   },
   "file_extension": ".py",
   "mimetype": "text/x-python",
   "name": "python",
   "nbconvert_exporter": "python",
   "pygments_lexer": "ipython3",
   "version": "3.12.3"
  }
 },
 "nbformat": 4,
 "nbformat_minor": 2
}

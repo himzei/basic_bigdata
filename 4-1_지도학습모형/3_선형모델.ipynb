{
 "cells": [
  {
   "cell_type": "code",
   "execution_count": 13,
   "metadata": {},
   "outputs": [
    {
     "name": "stdout",
     "output_type": "stream",
     "text": [
      "[151.  75. 141. 206. 135.  97. 138.  63. 110. 310. 101.  69. 179. 185.\n",
      " 118. 171. 166. 144.  97. 168.  68.  49.  68. 245. 184. 202. 137.  85.\n",
      " 131. 283. 129.  59. 341.  87.  65. 102. 265. 276. 252.  90. 100.  55.\n",
      "  61.  92. 259.  53. 190. 142.  75. 142. 155. 225.  59. 104. 182. 128.\n",
      "  52.  37. 170. 170.  61. 144.  52. 128.  71. 163. 150.  97. 160. 178.\n",
      "  48. 270. 202. 111.  85.  42. 170. 200. 252. 113. 143.  51.  52. 210.\n",
      "  65. 141.  55. 134.  42. 111.  98. 164.  48.  96.  90. 162. 150. 279.\n",
      "  92.  83. 128. 102. 302. 198.  95.  53. 134. 144. 232.  81. 104.  59.\n",
      " 246. 297. 258. 229. 275. 281. 179. 200. 200. 173. 180.  84. 121. 161.\n",
      "  99. 109. 115. 268. 274. 158. 107.  83. 103. 272.  85. 280. 336. 281.\n",
      " 118. 317. 235.  60. 174. 259. 178. 128.  96. 126. 288.  88. 292.  71.\n",
      " 197. 186.  25.  84.  96. 195.  53. 217. 172. 131. 214.  59.  70. 220.\n",
      " 268. 152.  47.  74. 295. 101. 151. 127. 237. 225.  81. 151. 107.  64.\n",
      " 138. 185. 265. 101. 137. 143. 141.  79. 292. 178.  91. 116.  86. 122.\n",
      "  72. 129. 142.  90. 158.  39. 196. 222. 277.  99. 196. 202. 155.  77.\n",
      " 191.  70.  73.  49.  65. 263. 248. 296. 214. 185.  78.  93. 252. 150.\n",
      "  77. 208.  77. 108. 160.  53. 220. 154. 259.  90. 246. 124.  67.  72.\n",
      " 257. 262. 275. 177.  71.  47. 187. 125.  78.  51. 258. 215. 303. 243.\n",
      "  91. 150. 310. 153. 346.  63.  89.  50.  39. 103. 308. 116. 145.  74.\n",
      "  45. 115. 264.  87. 202. 127. 182. 241.  66.  94. 283.  64. 102. 200.\n",
      " 265.  94. 230. 181. 156. 233.  60. 219.  80.  68. 332. 248.  84. 200.\n",
      "  55.  85.  89.  31. 129.  83. 275.  65. 198. 236. 253. 124.  44. 172.\n",
      " 114. 142. 109. 180. 144. 163. 147.  97. 220. 190. 109. 191. 122. 230.\n",
      " 242. 248. 249. 192. 131. 237.  78. 135. 244. 199. 270. 164.  72.  96.\n",
      " 306.  91. 214.  95. 216. 263. 178. 113. 200. 139. 139.  88. 148.  88.\n",
      " 243.  71.  77. 109. 272.  60.  54. 221.  90. 311. 281. 182. 321.  58.\n",
      " 262. 206. 233. 242. 123. 167.  63. 197.  71. 168. 140. 217. 121. 235.\n",
      " 245.  40.  52. 104. 132.  88.  69. 219.  72. 201. 110.  51. 277.  63.\n",
      " 118.  69. 273. 258.  43. 198. 242. 232. 175.  93. 168. 275. 293. 281.\n",
      "  72. 140. 189. 181. 209. 136. 261. 113. 131. 174. 257.  55.  84.  42.\n",
      " 146. 212. 233.  91. 111. 152. 120.  67. 310.  94. 183.  66. 173.  72.\n",
      "  49.  64.  48. 178. 104. 132. 220.  57.]\n",
      "[ 608.94692667  301.1268683   990.86452444 -938.97359917 -597.46181621]\n"
     ]
    }
   ],
   "source": [
    "from sklearn.linear_model import LinearRegression\n",
    "from sklearn.datasets import load_diabetes\n",
    "import pandas as pd\n",
    "\n",
    "# 데이터 로드\n",
    "diabetes = load_diabetes()\n",
    "data = diabetes.data\n",
    "target = diabetes.target\n",
    "print(target)\n",
    "# 열 이름 설정 및 DataFrame으로 변환\n",
    "colnm = ['bmi', 'bp', 's1', 's2', 's3']\n",
    "df = pd.DataFrame(data, columns=diabetes.feature_names)\n",
    "\n",
    "# 원하는 열만 선택\n",
    "X = df[colnm]  # 열 이름이 정확해야 합니다.\n",
    "y = target\n",
    "\n",
    "# 모델 생성 및 학습\n",
    "model = LinearRegression()\n",
    "model.fit(X=X, y=y)\n",
    "\n",
    "# 회귀 계수 출력\n",
    "print(model.coef_)"
   ]
  },
  {
   "cell_type": "code",
   "execution_count": 11,
   "metadata": {},
   "outputs": [
    {
     "name": "stdout",
     "output_type": "stream",
     "text": [
      "152.13348416289614\n"
     ]
    }
   ],
   "source": [
    "print(model.intercept_)"
   ]
  },
  {
   "cell_type": "code",
   "execution_count": 12,
   "metadata": {},
   "outputs": [
    {
     "data": {
      "text/plain": [
       "0.4772123190202695"
      ]
     },
     "execution_count": 12,
     "metadata": {},
     "output_type": "execute_result"
    }
   ],
   "source": [
    "model.score(X=X, y=y)"
   ]
  },
  {
   "cell_type": "code",
   "execution_count": 16,
   "metadata": {},
   "outputs": [
    {
     "name": "stdout",
     "output_type": "stream",
     "text": [
      "152.1334841628961\n",
      "[ 595.99425538  339.08790294  397.33725338 -338.99514707 -406.34548455]\n"
     ]
    }
   ],
   "source": [
    "from sklearn.linear_model import Ridge \n",
    "colnm = ['bmi', 'bp', 's1', 's2', 's3']\n",
    "X = df[colnm]\n",
    "y = target \n",
    "\n",
    "model = Ridge(alpha = 0.1)\n",
    "\n",
    "model.fit(X=X, y=y)\n",
    "Ridge(alpha=0.1)\n",
    "\n",
    "print(model.intercept_)\n",
    "print(model.coef_)"
   ]
  },
  {
   "cell_type": "code",
   "execution_count": 18,
   "metadata": {},
   "outputs": [
    {
     "name": "stdout",
     "output_type": "stream",
     "text": [
      "152.13348416289608\n",
      "[ 574.04562479  237.22854049    0.            0.         -165.17168117]\n"
     ]
    }
   ],
   "source": [
    "from sklearn.linear_model import Lasso \n",
    "colnm = ['bmi', 'bp', 's1', 's2', 's3']\n",
    "X = df[colnm]\n",
    "y = target \n",
    "\n",
    "\n",
    "model = Lasso(alpha=0.5) \n",
    "\n",
    "model.fit(X=X, y=y)\n",
    "Lasso(alpha=0.5)\n",
    "\n",
    "print(model.intercept_)\n",
    "print(model.coef_)"
   ]
  },
  {
   "cell_type": "code",
   "execution_count": 23,
   "metadata": {},
   "outputs": [
    {
     "name": "stdout",
     "output_type": "stream",
     "text": [
      "0      198.788357\n",
      "1      166.214176\n",
      "2      133.539177\n",
      "3      194.702189\n",
      "4      172.636544\n",
      "          ...    \n",
      "127    178.910743\n",
      "128    131.853902\n",
      "129    148.589829\n",
      "130    178.546705\n",
      "131     65.611052\n",
      "Name: target, Length: 132, dtype: float64\n"
     ]
    }
   ],
   "source": [
    "import pandas as pd \n",
    "from sklearn.linear_model import Lasso \n",
    "\n",
    "data = pd.DataFrame(diabetes.data, columns=diabetes.feature_names) \n",
    "target = pd.Series(diabetes.target, name=\"target\")\n",
    "\n",
    "df = pd.concat([data, target], axis=1)\n",
    "\n",
    "colnm = ['bmi', 'bp', 's1', 's2', 's3']\n",
    "X_train = df[colnm].loc[:310]\n",
    "X_test = df[colnm].loc[310:]\n",
    "y_train = df[\"target\"].loc[:310]\n",
    "\n",
    "model = Lasso(alpha=0.5)\n",
    "model.fit(X=X_train, y=y_train)\n",
    "\n",
    "target = model.predict(X_test)\n",
    "target = pd.Series(target, name=\"target\")\n",
    "print(target)"
   ]
  },
  {
   "cell_type": "code",
   "execution_count": null,
   "metadata": {},
   "outputs": [],
   "source": []
  }
 ],
 "metadata": {
  "kernelspec": {
   "display_name": "Python 3",
   "language": "python",
   "name": "python3"
  },
  "language_info": {
   "codemirror_mode": {
    "name": "ipython",
    "version": 3
   },
   "file_extension": ".py",
   "mimetype": "text/x-python",
   "name": "python",
   "nbconvert_exporter": "python",
   "pygments_lexer": "ipython3",
   "version": "3.12.3"
  }
 },
 "nbformat": 4,
 "nbformat_minor": 2
}

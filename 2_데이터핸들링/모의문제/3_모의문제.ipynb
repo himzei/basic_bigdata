{
 "cells": [
  {
   "cell_type": "markdown",
   "metadata": {},
   "source": [
    "## 문제7\n",
    "- index '2001' 데이터(행)의 평균보다 큰 값의 갯수와\n",
    "- index '2003' 데이터(행)의 평균보다 작은 값의 갯수를 더하시오\n",
    "\n",
    "[참고]\n",
    "- 데이터가 랜덤으로 생성되어 결과값이 다를 수 있습니다. 🙏\n",
    "- 혹, 랜덤 결과값을 고정하기 위해서는 seed값을 넣어 주면 됩니다.\n",
    "- import random 이후 random.seed(2022) 입력\n",
    "- 정답: 202 (영상에서 seed값을 고정하지 못해 동일한 데이터 구현을 못했습니다. 202가 정답입니다.)"
   ]
  },
  {
   "cell_type": "markdown",
   "metadata": {},
   "source": [
    "## 문제8\n",
    "- 결측 값을 가진 데이터는 바로 뒤에 있는 값으로 대체한 후 (바로 뒤가 결측값이라면 뒤에 있는 데이터 중 가장 가까운 값)\n",
    "- city와 f2 컬럼 기준으로 그룹합을 계산한 뒤\n",
    "- views가 세번째로 큰 city(도시) 이름은?"
   ]
  },
  {
   "cell_type": "markdown",
   "metadata": {},
   "source": []
  },
  {
   "cell_type": "markdown",
   "metadata": {},
   "source": [
    "## 문제9\n",
    "- 구독(subscribed) 월별로 데이터 개수를 구한 뒤\n",
    "- 가장 작은 구독 수가 있는 월을 구하시오"
   ]
  },
  {
   "cell_type": "markdown",
   "metadata": {},
   "source": []
  }
 ],
 "metadata": {
  "language_info": {
   "name": "python"
  }
 },
 "nbformat": 4,
 "nbformat_minor": 2
}

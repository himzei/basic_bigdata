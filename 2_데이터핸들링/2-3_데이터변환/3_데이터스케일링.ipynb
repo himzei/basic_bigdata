{
 "cells": [
  {
   "cell_type": "code",
   "execution_count": null,
   "metadata": {},
   "outputs": [],
   "source": [
    "import pandas as pd \n",
    "from sklearn.datasets import load_iris \n",
    "from sklearn.preprocessing import StandardScaler"
   ]
  },
  {
   "cell_type": "code",
   "execution_count": null,
   "metadata": {},
   "outputs": [],
   "source": [
    "iris = load_iris() \n",
    "data = pd.DataFrame(iris.data, columns=iris.feature_names)"
   ]
  },
  {
   "cell_type": "code",
   "execution_count": null,
   "metadata": {},
   "outputs": [],
   "source": [
    "std_scale = StandardScaler() "
   ]
  },
  {
   "cell_type": "code",
   "execution_count": null,
   "metadata": {},
   "outputs": [],
   "source": [
    "data_std = std_scale.fit_transform(data) \n",
    "data_std\n",
    "# data_std = pd.DataFrame(data_std)"
   ]
  },
  {
   "cell_type": "code",
   "execution_count": null,
   "metadata": {},
   "outputs": [],
   "source": [
    "data_std = pd.DataFrame(data_std, columns=iris.feature_names)\n"
   ]
  },
  {
   "cell_type": "code",
   "execution_count": null,
   "metadata": {},
   "outputs": [],
   "source": [
    "data_std.head()"
   ]
  },
  {
   "cell_type": "code",
   "execution_count": null,
   "metadata": {},
   "outputs": [],
   "source": [
    "from sklearn.preprocessing import MinMaxScaler \n",
    "\n",
    "iris = load_iris() \n",
    "data = pd.DataFrame(iris.data, columns=iris.feature_names) \n",
    "mm_scale = MinMaxScaler() \n",
    "data_std = mm_scale.fit_transform(data)\n",
    "data_std"
   ]
  },
  {
   "cell_type": "code",
   "execution_count": null,
   "metadata": {},
   "outputs": [],
   "source": [
    "data_std = pd.DataFrame(data_std, columns=iris.feature_names) \n",
    "data_std.head() "
   ]
  },
  {
   "cell_type": "code",
   "execution_count": null,
   "metadata": {},
   "outputs": [],
   "source": [
    "import pandas as pd \n",
    "from sklearn.datasets import load_iris \n",
    "from sklearn.preprocessing import StandardScaler\n",
    "\n",
    "iris = load_iris() \n",
    "data = pd.DataFrame(iris.data, columns=iris.feature_names) \n",
    "display(data.head())\n",
    "\n",
    "std_scale = StandardScaler() \n",
    "\n",
    "data_std = std_scale.fit_transform(data)\n",
    "\n",
    "data_std = pd.DataFrame(data_std, columns=iris.feature_names)\n",
    "data_std.head()"
   ]
  },
  {
   "cell_type": "code",
   "execution_count": null,
   "metadata": {},
   "outputs": [],
   "source": [
    "from sklearn.preprocessing import MinMaxScaler \n",
    "\n",
    "iris = load_iris() \n",
    "data = pd.DataFrame(iris.data, columns=iris.feature_names) \n",
    "display(data.head())\n",
    "\n",
    "mm_scale = MinMaxScaler() \n",
    "\n",
    "data_std = mm_scale.fit_transform(data)\n",
    "data_std = pd.DataFrame(data_std, columns=iris.feature_names)\n",
    "display(data_std.head())"
   ]
  },
  {
   "cell_type": "code",
   "execution_count": null,
   "metadata": {},
   "outputs": [],
   "source": [
    "import pandas as pd\n",
    "from sklearn.datasets import load_iris \n",
    "from sklearn.preprocessing import StandardScaler\n",
    "\n",
    "iris = load_iris() \n",
    "data = pd.DataFrame(iris.data, columns=iris.feature_names)\n",
    "\n",
    "std_scale = StandardScaler()\n",
    "data_std = std_scale.fit_transform(data)\n",
    "\n",
    "data_std = pd.DataFrame(data_std, columns=iris.feature_names)\n",
    "data_std.head()"
   ]
  },
  {
   "cell_type": "code",
   "execution_count": null,
   "metadata": {},
   "outputs": [],
   "source": [
    "import pandas as pd\n",
    "from sklearn.datasets import load_iris \n",
    "\n",
    "\n",
    "iris = load_iris() \n",
    "data = pd.DataFrame(iris.data, columns=iris.feature_names)\n",
    "\n",
    "data_std_2 = (data - data.mean() ) / data.std(ddof=0)\n",
    "\n",
    "data_std_2 = pd.DataFrame(data_std_2, columns=iris.feature_names)\n",
    "data_std_2.head()"
   ]
  },
  {
   "cell_type": "code",
   "execution_count": null,
   "metadata": {},
   "outputs": [],
   "source": [
    "from sklearn.preprocessing import MinMaxScaler \n",
    "\n",
    "iris = load_iris() \n",
    "data = pd.DataFrame(iris.data, columns=iris.feature_names) \n",
    "\n",
    "mm_scale = MinMaxScaler() \n",
    "\n",
    "data_std = mm_scale.fit_transform(data)\n",
    "print(data_std)\n",
    "data_std = pd.DataFrame(data_std, columns=iris.feature_names) \n",
    "data_std.head()"
   ]
  },
  {
   "cell_type": "code",
   "execution_count": null,
   "metadata": {},
   "outputs": [],
   "source": [
    "iris = load_iris() \n",
    "data = pd.DataFrame(iris.data, columns=iris.feature_names) \n",
    "\n",
    "data_std = (data - data.min()) / (data.max() - data.min())\n",
    "\n",
    "data_std = pd.DataFrame(data_std, columns=iris.feature_names) \n",
    "data_std.head()"
   ]
  },
  {
   "cell_type": "code",
   "execution_count": 1,
   "metadata": {},
   "outputs": [],
   "source": [
    "import pandas as pd \n",
    "from sklearn.preprocessing import StandardScaler \n",
    "from sklearn.decomposition import PCA \n",
    "\n"
   ]
  },
  {
   "cell_type": "code",
   "execution_count": null,
   "metadata": {},
   "outputs": [],
   "source": [
    "df = pd.read_csv(\"../../data/예제/USArrests_rownames.csv\", index_col=0)\n",
    "\n",
    "\n",
    "x = StandardScaler().fit_transform(df) \n",
    "print(x)\n",
    "\n",
    "\n",
    "pca = PCA(n_components=4)\n",
    "pca_arr = pca.fit_transform(x)\n",
    "\n",
    "\n",
    "result = {\n",
    "  \"분산기여율\": pca.explained_variance_ratio_, \n",
    "  \"누적기여율\": pca.explained_variance_ratio_.cumsum()\n",
    "}\n",
    "print(result)\n",
    "\n",
    "result = pd.DataFrame(result, \n",
    "                      index=[\"PCA1\", \"PCA2\", \"PCA3\", \"PCA4\"]).T\n",
    "\n",
    "display(result)"
   ]
  },
  {
   "cell_type": "code",
   "execution_count": null,
   "metadata": {},
   "outputs": [],
   "source": [
    "pca = PCA(n_components=2)\n",
    "pca_arr = pca.fit_transform(x) \n",
    "df_pca = pd.DataFrame(pca_arr, columns=[\"PCA1\", \"PCA2\"])\n",
    "df_pca\n"
   ]
  },
  {
   "cell_type": "code",
   "execution_count": 41,
   "metadata": {},
   "outputs": [
    {
     "data": {
      "text/html": [
       "<div>\n",
       "<style scoped>\n",
       "    .dataframe tbody tr th:only-of-type {\n",
       "        vertical-align: middle;\n",
       "    }\n",
       "\n",
       "    .dataframe tbody tr th {\n",
       "        vertical-align: top;\n",
       "    }\n",
       "\n",
       "    .dataframe thead th {\n",
       "        text-align: right;\n",
       "    }\n",
       "</style>\n",
       "<table border=\"1\" class=\"dataframe\">\n",
       "  <thead>\n",
       "    <tr style=\"text-align: right;\">\n",
       "      <th></th>\n",
       "      <th>sepal length (cm)</th>\n",
       "      <th>sepal width (cm)</th>\n",
       "      <th>petal length (cm)</th>\n",
       "      <th>petal width (cm)</th>\n",
       "    </tr>\n",
       "  </thead>\n",
       "  <tbody>\n",
       "    <tr>\n",
       "      <th>0</th>\n",
       "      <td>-0.900681</td>\n",
       "      <td>1.019004</td>\n",
       "      <td>-1.340227</td>\n",
       "      <td>-1.315444</td>\n",
       "    </tr>\n",
       "    <tr>\n",
       "      <th>1</th>\n",
       "      <td>-1.143017</td>\n",
       "      <td>-0.131979</td>\n",
       "      <td>-1.340227</td>\n",
       "      <td>-1.315444</td>\n",
       "    </tr>\n",
       "    <tr>\n",
       "      <th>2</th>\n",
       "      <td>-1.385353</td>\n",
       "      <td>0.328414</td>\n",
       "      <td>-1.397064</td>\n",
       "      <td>-1.315444</td>\n",
       "    </tr>\n",
       "    <tr>\n",
       "      <th>3</th>\n",
       "      <td>-1.506521</td>\n",
       "      <td>0.098217</td>\n",
       "      <td>-1.283389</td>\n",
       "      <td>-1.315444</td>\n",
       "    </tr>\n",
       "    <tr>\n",
       "      <th>4</th>\n",
       "      <td>-1.021849</td>\n",
       "      <td>1.249201</td>\n",
       "      <td>-1.340227</td>\n",
       "      <td>-1.315444</td>\n",
       "    </tr>\n",
       "  </tbody>\n",
       "</table>\n",
       "</div>"
      ],
      "text/plain": [
       "   sepal length (cm)  sepal width (cm)  petal length (cm)  petal width (cm)\n",
       "0          -0.900681          1.019004          -1.340227         -1.315444\n",
       "1          -1.143017         -0.131979          -1.340227         -1.315444\n",
       "2          -1.385353          0.328414          -1.397064         -1.315444\n",
       "3          -1.506521          0.098217          -1.283389         -1.315444\n",
       "4          -1.021849          1.249201          -1.340227         -1.315444"
      ]
     },
     "execution_count": 41,
     "metadata": {},
     "output_type": "execute_result"
    }
   ],
   "source": [
    "import pandas as pd \n",
    "from sklearn.datasets import load_iris \n",
    "from sklearn.preprocessing import StandardScaler \n",
    "\n",
    "iris = load_iris() \n",
    "data = pd.DataFrame(iris.data, columns=iris.feature_names) \n",
    "\n",
    "std_scale = StandardScaler()\n",
    "\n",
    "data_std = std_scale.fit_transform(data)\n",
    "data_std = pd.DataFrame(data_std, columns=iris.feature_names) \n",
    "data_std.head()"
   ]
  },
  {
   "cell_type": "code",
   "execution_count": 42,
   "metadata": {},
   "outputs": [
    {
     "data": {
      "text/html": [
       "<div>\n",
       "<style scoped>\n",
       "    .dataframe tbody tr th:only-of-type {\n",
       "        vertical-align: middle;\n",
       "    }\n",
       "\n",
       "    .dataframe tbody tr th {\n",
       "        vertical-align: top;\n",
       "    }\n",
       "\n",
       "    .dataframe thead th {\n",
       "        text-align: right;\n",
       "    }\n",
       "</style>\n",
       "<table border=\"1\" class=\"dataframe\">\n",
       "  <thead>\n",
       "    <tr style=\"text-align: right;\">\n",
       "      <th></th>\n",
       "      <th>sepal length (cm)</th>\n",
       "      <th>sepal width (cm)</th>\n",
       "      <th>petal length (cm)</th>\n",
       "      <th>petal width (cm)</th>\n",
       "    </tr>\n",
       "  </thead>\n",
       "  <tbody>\n",
       "    <tr>\n",
       "      <th>0</th>\n",
       "      <td>-1.956602</td>\n",
       "      <td>-3.514384</td>\n",
       "      <td>-0.728819</td>\n",
       "      <td>-1.373438</td>\n",
       "    </tr>\n",
       "    <tr>\n",
       "      <th>1</th>\n",
       "      <td>-2.156602</td>\n",
       "      <td>-4.014384</td>\n",
       "      <td>-0.728819</td>\n",
       "      <td>-1.373438</td>\n",
       "    </tr>\n",
       "    <tr>\n",
       "      <th>2</th>\n",
       "      <td>-2.356602</td>\n",
       "      <td>-3.814384</td>\n",
       "      <td>-0.828819</td>\n",
       "      <td>-1.373438</td>\n",
       "    </tr>\n",
       "    <tr>\n",
       "      <th>3</th>\n",
       "      <td>-2.456602</td>\n",
       "      <td>-3.914384</td>\n",
       "      <td>-0.628819</td>\n",
       "      <td>-1.373438</td>\n",
       "    </tr>\n",
       "    <tr>\n",
       "      <th>4</th>\n",
       "      <td>-2.056602</td>\n",
       "      <td>-3.414384</td>\n",
       "      <td>-0.728819</td>\n",
       "      <td>-1.373438</td>\n",
       "    </tr>\n",
       "  </tbody>\n",
       "</table>\n",
       "</div>"
      ],
      "text/plain": [
       "   sepal length (cm)  sepal width (cm)  petal length (cm)  petal width (cm)\n",
       "0          -1.956602         -3.514384          -0.728819         -1.373438\n",
       "1          -2.156602         -4.014384          -0.728819         -1.373438\n",
       "2          -2.356602         -3.814384          -0.828819         -1.373438\n",
       "3          -2.456602         -3.914384          -0.628819         -1.373438\n",
       "4          -2.056602         -3.414384          -0.728819         -1.373438"
      ]
     },
     "execution_count": 42,
     "metadata": {},
     "output_type": "execute_result"
    }
   ],
   "source": [
    "import pandas as pd \n",
    "from sklearn.datasets import load_iris \n",
    "\n",
    "iris = load_iris() \n",
    "data = pd.DataFrame(iris.data, columns=iris.feature_names) \n",
    "\n",
    "data_std = (data - data.mean()) / data.std()\n",
    "\n",
    "data_std.head()"
   ]
  },
  {
   "cell_type": "code",
   "execution_count": 44,
   "metadata": {},
   "outputs": [
    {
     "data": {
      "text/html": [
       "<div>\n",
       "<style scoped>\n",
       "    .dataframe tbody tr th:only-of-type {\n",
       "        vertical-align: middle;\n",
       "    }\n",
       "\n",
       "    .dataframe tbody tr th {\n",
       "        vertical-align: top;\n",
       "    }\n",
       "\n",
       "    .dataframe thead th {\n",
       "        text-align: right;\n",
       "    }\n",
       "</style>\n",
       "<table border=\"1\" class=\"dataframe\">\n",
       "  <thead>\n",
       "    <tr style=\"text-align: right;\">\n",
       "      <th></th>\n",
       "      <th>sepal length (cm)</th>\n",
       "      <th>sepal width (cm)</th>\n",
       "      <th>petal length (cm)</th>\n",
       "      <th>petal width (cm)</th>\n",
       "    </tr>\n",
       "  </thead>\n",
       "  <tbody>\n",
       "    <tr>\n",
       "      <th>0</th>\n",
       "      <td>-0.900681</td>\n",
       "      <td>1.019004</td>\n",
       "      <td>-1.340227</td>\n",
       "      <td>-1.315444</td>\n",
       "    </tr>\n",
       "    <tr>\n",
       "      <th>1</th>\n",
       "      <td>-1.143017</td>\n",
       "      <td>-0.131979</td>\n",
       "      <td>-1.340227</td>\n",
       "      <td>-1.315444</td>\n",
       "    </tr>\n",
       "    <tr>\n",
       "      <th>2</th>\n",
       "      <td>-1.385353</td>\n",
       "      <td>0.328414</td>\n",
       "      <td>-1.397064</td>\n",
       "      <td>-1.315444</td>\n",
       "    </tr>\n",
       "    <tr>\n",
       "      <th>3</th>\n",
       "      <td>-1.506521</td>\n",
       "      <td>0.098217</td>\n",
       "      <td>-1.283389</td>\n",
       "      <td>-1.315444</td>\n",
       "    </tr>\n",
       "    <tr>\n",
       "      <th>4</th>\n",
       "      <td>-1.021849</td>\n",
       "      <td>1.249201</td>\n",
       "      <td>-1.340227</td>\n",
       "      <td>-1.315444</td>\n",
       "    </tr>\n",
       "  </tbody>\n",
       "</table>\n",
       "</div>"
      ],
      "text/plain": [
       "   sepal length (cm)  sepal width (cm)  petal length (cm)  petal width (cm)\n",
       "0          -0.900681          1.019004          -1.340227         -1.315444\n",
       "1          -1.143017         -0.131979          -1.340227         -1.315444\n",
       "2          -1.385353          0.328414          -1.397064         -1.315444\n",
       "3          -1.506521          0.098217          -1.283389         -1.315444\n",
       "4          -1.021849          1.249201          -1.340227         -1.315444"
      ]
     },
     "execution_count": 44,
     "metadata": {},
     "output_type": "execute_result"
    }
   ],
   "source": [
    "import pandas as pd \n",
    "from sklearn.datasets import load_iris \n",
    "\n",
    "iris = load_iris() \n",
    "data = pd.DataFrame(iris.data, columns=iris.feature_names) \n",
    "\n",
    "data_std = (data - data.mean()) / data.std(ddof=0)\n",
    "\n",
    "data_std.head()"
   ]
  },
  {
   "cell_type": "code",
   "execution_count": null,
   "metadata": {},
   "outputs": [],
   "source": []
  }
 ],
 "metadata": {
  "kernelspec": {
   "display_name": "Python 3",
   "language": "python",
   "name": "python3"
  },
  "language_info": {
   "codemirror_mode": {
    "name": "ipython",
    "version": 3
   },
   "file_extension": ".py",
   "mimetype": "text/x-python",
   "name": "python",
   "nbconvert_exporter": "python",
   "pygments_lexer": "ipython3",
   "version": "3.12.3"
  }
 },
 "nbformat": 4,
 "nbformat_minor": 2
}

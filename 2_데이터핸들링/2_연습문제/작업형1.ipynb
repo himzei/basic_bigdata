{
 "cells": [
  {
   "cell_type": "code",
   "execution_count": 10,
   "metadata": {},
   "outputs": [
    {
     "data": {
      "text/html": [
       "<div>\n",
       "<style scoped>\n",
       "    .dataframe tbody tr th:only-of-type {\n",
       "        vertical-align: middle;\n",
       "    }\n",
       "\n",
       "    .dataframe tbody tr th {\n",
       "        vertical-align: top;\n",
       "    }\n",
       "\n",
       "    .dataframe thead th {\n",
       "        text-align: right;\n",
       "    }\n",
       "</style>\n",
       "<table border=\"1\" class=\"dataframe\">\n",
       "  <thead>\n",
       "    <tr style=\"text-align: right;\">\n",
       "      <th></th>\n",
       "      <th>Manufacturer</th>\n",
       "      <th>Model</th>\n",
       "      <th>Type</th>\n",
       "      <th>Min_Price</th>\n",
       "      <th>Price</th>\n",
       "      <th>Max_Price</th>\n",
       "      <th>MPG_city</th>\n",
       "      <th>MPG_highway</th>\n",
       "      <th>AirBags</th>\n",
       "      <th>DriveTrain</th>\n",
       "      <th>...</th>\n",
       "      <th>Length</th>\n",
       "      <th>Wheelbase</th>\n",
       "      <th>Width</th>\n",
       "      <th>Turn_circle</th>\n",
       "      <th>Rear_seat_room</th>\n",
       "      <th>Luggage_room</th>\n",
       "      <th>Weight</th>\n",
       "      <th>Origin</th>\n",
       "      <th>Unnamed: 26</th>\n",
       "      <th>Make</th>\n",
       "    </tr>\n",
       "  </thead>\n",
       "  <tbody>\n",
       "    <tr>\n",
       "      <th>0</th>\n",
       "      <td>Acura</td>\n",
       "      <td>Integra</td>\n",
       "      <td>Small</td>\n",
       "      <td>12.9</td>\n",
       "      <td>15.9</td>\n",
       "      <td>18.8</td>\n",
       "      <td>25</td>\n",
       "      <td>31</td>\n",
       "      <td>NaN</td>\n",
       "      <td>Front</td>\n",
       "      <td>...</td>\n",
       "      <td>177</td>\n",
       "      <td>102</td>\n",
       "      <td>68</td>\n",
       "      <td>37.0</td>\n",
       "      <td>26.5</td>\n",
       "      <td>11.0</td>\n",
       "      <td>2705</td>\n",
       "      <td>non-USA</td>\n",
       "      <td>0</td>\n",
       "      <td>Acura Integra</td>\n",
       "    </tr>\n",
       "    <tr>\n",
       "      <th>1</th>\n",
       "      <td>Acura</td>\n",
       "      <td>Legend</td>\n",
       "      <td>Midsize</td>\n",
       "      <td>29.2</td>\n",
       "      <td>33.9</td>\n",
       "      <td>38.7</td>\n",
       "      <td>18</td>\n",
       "      <td>25</td>\n",
       "      <td>Driver &amp; Passenger</td>\n",
       "      <td>Front</td>\n",
       "      <td>...</td>\n",
       "      <td>195</td>\n",
       "      <td>115</td>\n",
       "      <td>71</td>\n",
       "      <td>38.0</td>\n",
       "      <td>30.0</td>\n",
       "      <td>15.0</td>\n",
       "      <td>3560</td>\n",
       "      <td>non-USA</td>\n",
       "      <td>1</td>\n",
       "      <td>Acura Legend</td>\n",
       "    </tr>\n",
       "    <tr>\n",
       "      <th>2</th>\n",
       "      <td>Audi</td>\n",
       "      <td>90</td>\n",
       "      <td>Compact</td>\n",
       "      <td>25.9</td>\n",
       "      <td>29.1</td>\n",
       "      <td>32.3</td>\n",
       "      <td>20</td>\n",
       "      <td>26</td>\n",
       "      <td>Driver only</td>\n",
       "      <td>Front</td>\n",
       "      <td>...</td>\n",
       "      <td>180</td>\n",
       "      <td>102</td>\n",
       "      <td>67</td>\n",
       "      <td>37.0</td>\n",
       "      <td>28.0</td>\n",
       "      <td>14.0</td>\n",
       "      <td>3375</td>\n",
       "      <td>non-USA</td>\n",
       "      <td>2</td>\n",
       "      <td>Audi 90</td>\n",
       "    </tr>\n",
       "    <tr>\n",
       "      <th>3</th>\n",
       "      <td>Audi</td>\n",
       "      <td>100</td>\n",
       "      <td>Midsize</td>\n",
       "      <td>30.8</td>\n",
       "      <td>NaN</td>\n",
       "      <td>44.6</td>\n",
       "      <td>19</td>\n",
       "      <td>26</td>\n",
       "      <td>Driver &amp; Passenger</td>\n",
       "      <td>Front</td>\n",
       "      <td>...</td>\n",
       "      <td>193</td>\n",
       "      <td>106</td>\n",
       "      <td>70</td>\n",
       "      <td>NaN</td>\n",
       "      <td>31.0</td>\n",
       "      <td>17.0</td>\n",
       "      <td>3405</td>\n",
       "      <td>non-USA</td>\n",
       "      <td>3</td>\n",
       "      <td>Audi 100</td>\n",
       "    </tr>\n",
       "    <tr>\n",
       "      <th>4</th>\n",
       "      <td>BMW</td>\n",
       "      <td>535i</td>\n",
       "      <td>Midsize</td>\n",
       "      <td>23.7</td>\n",
       "      <td>NaN</td>\n",
       "      <td>36.2</td>\n",
       "      <td>22</td>\n",
       "      <td>30</td>\n",
       "      <td>Driver only</td>\n",
       "      <td>Rear</td>\n",
       "      <td>...</td>\n",
       "      <td>186</td>\n",
       "      <td>109</td>\n",
       "      <td>69</td>\n",
       "      <td>NaN</td>\n",
       "      <td>27.0</td>\n",
       "      <td>13.0</td>\n",
       "      <td>3640</td>\n",
       "      <td>non-USA</td>\n",
       "      <td>4</td>\n",
       "      <td>BMW 535i</td>\n",
       "    </tr>\n",
       "  </tbody>\n",
       "</table>\n",
       "<p>5 rows × 28 columns</p>\n",
       "</div>"
      ],
      "text/plain": [
       "  Manufacturer    Model     Type  Min_Price  Price  Max_Price  MPG_city  \\\n",
       "0        Acura  Integra    Small       12.9   15.9       18.8        25   \n",
       "1        Acura   Legend  Midsize       29.2   33.9       38.7        18   \n",
       "2         Audi       90  Compact       25.9   29.1       32.3        20   \n",
       "3         Audi      100  Midsize       30.8    NaN       44.6        19   \n",
       "4          BMW     535i  Midsize       23.7    NaN       36.2        22   \n",
       "\n",
       "   MPG_highway             AirBags DriveTrain  ... Length  Wheelbase  Width  \\\n",
       "0           31                 NaN      Front  ...    177        102     68   \n",
       "1           25  Driver & Passenger      Front  ...    195        115     71   \n",
       "2           26         Driver only      Front  ...    180        102     67   \n",
       "3           26  Driver & Passenger      Front  ...    193        106     70   \n",
       "4           30         Driver only       Rear  ...    186        109     69   \n",
       "\n",
       "   Turn_circle  Rear_seat_room Luggage_room  Weight   Origin  Unnamed: 26  \\\n",
       "0         37.0            26.5         11.0    2705  non-USA            0   \n",
       "1         38.0            30.0         15.0    3560  non-USA            1   \n",
       "2         37.0            28.0         14.0    3375  non-USA            2   \n",
       "3          NaN            31.0         17.0    3405  non-USA            3   \n",
       "4          NaN            27.0         13.0    3640  non-USA            4   \n",
       "\n",
       "            Make  \n",
       "0  Acura Integra  \n",
       "1   Acura Legend  \n",
       "2        Audi 90  \n",
       "3       Audi 100  \n",
       "4       BMW 535i  \n",
       "\n",
       "[5 rows x 28 columns]"
      ]
     },
     "metadata": {},
     "output_type": "display_data"
    },
    {
     "name": "stdout",
     "output_type": "stream",
     "text": [
      "0.29512966476913505\n",
      "0.17813620071683545\n",
      "0.011225333805981563\n",
      "0.4845\n"
     ]
    }
   ],
   "source": [
    "import pandas as pd \n",
    "exam1 = pd.read_csv(\"../data/연습문제/Cars93.csv\")\n",
    "\n",
    "display(exam1.head())\n",
    "\n",
    "Wheelbase = exam1[\"Wheelbase\"]\n",
    "Wheelbase_avg = Wheelbase.mean()\n",
    "Wheelbase_sd = Wheelbase.std()\n",
    "\n",
    "# Case1\n",
    "Low_1 = Wheelbase_avg - 1.5 * Wheelbase_sd\n",
    "Upp_1 = Wheelbase_avg + 1.5 * Wheelbase_sd \n",
    "\n",
    "Avg_1 = Wheelbase[(Wheelbase > Low_1) & (Wheelbase < Upp_1)].mean() \n",
    "\n",
    "Case1 = Wheelbase_avg - Avg_1\n",
    "print(Case1)\n",
    "\n",
    "# Case2\n",
    "Low_2 = Wheelbase_avg - 2 * Wheelbase_sd\n",
    "Upp_2 = Wheelbase_avg + 2 * Wheelbase_sd\n",
    "\n",
    "Avg_2 = Wheelbase[(Wheelbase > Low_2) & (Wheelbase < Upp_2)].mean()\n",
    "\n",
    "Case2 = Wheelbase_avg - Avg_2 \n",
    "print(Case2)\n",
    "\n",
    "# Case3 \n",
    "Low_3 = Wheelbase_avg - 2.5 * Wheelbase_sd\n",
    "Upp_3 = Wheelbase_avg + 2.5 * Wheelbase_sd\n",
    "\n",
    "Avg_3 = Wheelbase[(Wheelbase > Low_3) & (Wheelbase < Upp_3)].mean()\n",
    "\n",
    "Case3 = Wheelbase_avg - Avg_3 \n",
    "print(Case3)\n",
    "\n",
    "# result \n",
    "result = round(Case1 + Case2 + Case3, 4)\n",
    "print(result)\n"
   ]
  },
  {
   "cell_type": "code",
   "execution_count": 24,
   "metadata": {},
   "outputs": [
    {
     "name": "stdout",
     "output_type": "stream",
     "text": [
      "8.884\n"
     ]
    }
   ],
   "source": [
    "# Length 컬럼에 대해서 순위를 부여 1 ~ 30위\n",
    "\n",
    "import pandas as pd \n",
    "exam2 = pd.read_csv(\"../data/연습문제/Cars93.csv\")\n",
    "\n",
    "\n",
    "exam2.sort_values(\"Length\", ascending=False, inplace=True)\n",
    "rank = exam2[\"Length\"].rank(method=\"average\")\n",
    "sub = exam2[\"Length\"][rank <= 30]\n",
    "\n",
    "sub_sd = sub.std()\n",
    "\n",
    "result = round(sub_sd, 3)\n",
    "\n",
    "print(result)"
   ]
  },
  {
   "cell_type": "code",
   "execution_count": 29,
   "metadata": {},
   "outputs": [
    {
     "name": "stdout",
     "output_type": "stream",
     "text": [
      "0     73.3\n",
      "1     43.6\n",
      "2     37.7\n",
      "3     35.4\n",
      "4     34.2\n",
      "      ... \n",
      "88   -25.1\n",
      "89   -25.2\n",
      "90   -28.3\n",
      "91   -34.7\n",
      "92   -37.5\n",
      "Length: 93, dtype: float64\n",
      "18.584087043963095\n",
      "18.584\n"
     ]
    }
   ],
   "source": [
    "# 3\n",
    "import pandas as pd\n",
    "exam3 = pd.read_csv(\"../data/연습문제/Cars93.csv\")\n",
    "\n",
    "exam3.head()\n",
    "MaxPrice_sort = exam3[\"Max_Price\"].sort_values(ascending=False, ignore_index=True)\n",
    "MinPrice_sort = exam3[\"Min_Price\"].sort_values(ignore_index=True) \n",
    "\n",
    "diff = MaxPrice_sort - MinPrice_sort\n",
    "print(diff)\n",
    "\n",
    "diff_std = diff.std()\n",
    "print(diff_std)\n",
    "\n",
    "result = round(diff_std, 3)\n",
    "print(result)"
   ]
  },
  {
   "cell_type": "code",
   "execution_count": 67,
   "metadata": {},
   "outputs": [
    {
     "name": "stdout",
     "output_type": "stream",
     "text": [
      "0.001\n"
     ]
    }
   ],
   "source": [
    "#4. \n",
    "\n",
    "import pandas as pd\n",
    "from sklearn.preprocessing import MinMaxScaler \n",
    "exam4 = pd.read_csv(\"../data/연습문제/Cars93.csv\")\n",
    "\n",
    "Weight = exam4[\"Weight\"] \n",
    "Weight_std = (Weight - min(Weight)) / (max(Weight) - min(Weight))\n",
    "# display(Weight_std.head())\n",
    "\n",
    "\n",
    "mm_scale = MinMaxScaler() \n",
    "data_std = mm_scale.fit_transform(exam4[[\"Weight\"]])\n",
    "data_std = pd.DataFrame(data_std)\n",
    "# display(data_std.head())\n",
    "\n",
    "var_under = Weight_std[Weight_std < 0.5].var()\n",
    "var_over = Weight_std[Weight_std > 0.5].var() \n",
    "\n",
    "diff = abs(var_over - var_under)\n",
    "\n",
    "print(round(diff, 3))"
   ]
  },
  {
   "cell_type": "code",
   "execution_count": 73,
   "metadata": {},
   "outputs": [
    {
     "name": "stdout",
     "output_type": "stream",
     "text": [
      "4\n"
     ]
    }
   ],
   "source": [
    "# 5. \n",
    "\n",
    "import pandas as pd \n",
    "exam5 = pd.read_csv(\"../data/연습문제/Cars93.csv\")\n",
    "\n",
    "uniq_raw = exam5[[\"Manufacturer\", \"Origin\"]].drop_duplicates()\n",
    "num_uniq_raw = uniq_raw.shape[0]\n",
    "\n",
    "exam5[\"sub_str\"] = exam5[\"Manufacturer\"].str[:2]\n",
    "uniq_new = exam5[[\"sub_str\", \"Origin\"]].drop_duplicates()\n",
    "num_uniq_new = uniq_new.shape[0]\n",
    "\n",
    "result = num_uniq_raw - num_uniq_new\n",
    "\n",
    "print(result)"
   ]
  },
  {
   "cell_type": "code",
   "execution_count": 88,
   "metadata": {},
   "outputs": [
    {
     "data": {
      "text/plain": [
       "442.0"
      ]
     },
     "execution_count": 88,
     "metadata": {},
     "output_type": "execute_result"
    }
   ],
   "source": [
    "#6. \n",
    "\n",
    "exam6 = pd.read_csv(\"../data/연습문제/Cars93.csv\")\n",
    "# print(exam6.info())\n",
    "\n",
    "count_RPM = exam6.groupby([\"Type\", \"Man_trans_avail\"])[\"RPM\"].count()\n",
    "sum_RPM = exam6.groupby([\"Type\", \"Man_trans_avail\"])[\"RPM\"].sum()\n",
    "median_RPM = exam6.groupby([\"Type\", \"Man_trans_avail\"])[\"RPM\"].median()\n",
    "# print(count_RPM)\n",
    "# print(sum_RPM)\n",
    "# print(median_RPM)\n",
    "\n",
    "cal = sum(median_RPM - sum_RPM / count_RPM)\n",
    "# print(cal)\n",
    "\n",
    "result = round(cal, 0)\n",
    "\n",
    "result\n"
   ]
  },
  {
   "cell_type": "code",
   "execution_count": 100,
   "metadata": {},
   "outputs": [
    {
     "name": "stdout",
     "output_type": "stream",
     "text": [
      "35.561\n"
     ]
    }
   ],
   "source": [
    "#7. \n",
    "\n",
    "exam7 = pd.read_csv(\"../data/연습문제/Cars93.csv\")\n",
    "\n",
    "avg = exam7['RPM'].mean()\n",
    "exam7[\"RPM\"] = exam7[\"RPM\"].fillna(avg)\n",
    "\n",
    "RPM_std = (exam7[\"RPM\"] - exam7[\"RPM\"].mean()) / exam7[\"RPM\"].std()\n",
    "Wheelbase_std = (exam7[\"Wheelbase\"] - exam7[\"Wheelbase\"].mean()) / exam7[\"Wheelbase\"].std()\n",
    "\n",
    "diff = Wheelbase_std * (-36) - RPM_std \n",
    "\n",
    "diff_sd = diff.std()\n",
    "\n",
    "result = round(diff_sd, 3)\n",
    "\n",
    "print(result)"
   ]
  },
  {
   "cell_type": "code",
   "execution_count": 102,
   "metadata": {},
   "outputs": [],
   "source": [
    "# 8 \n",
    "\n",
    "exam8 = pd.read_csv(\"../data/연습문제/Cars93.csv\")\n",
    "\n",
    "df_case1 = exam8.copy() \n",
    "df_case2 = exam8.copy()\n",
    "\n",
    "avg = df_case1[\"Price\"].mean() \n",
    "df_case1[\"Price\"] = df_case1[\"Price\"].fillna(avg)\n",
    "\n",
    "avg_MaxMin = df_case1[[\"Max_Price\", \"Min_Price\"]].mean(axis=1)\n",
    "sub_df_case1 = df_case1[df_case1[\"Price\"] < avg_MaxMin]\n",
    "sum_case1 = sub_df_case1.groupby(\"Origin\")[\"Price\"].sum()\n",
    "\n"
   ]
  },
  {
   "cell_type": "code",
   "execution_count": 23,
   "metadata": {},
   "outputs": [
    {
     "name": "stdout",
     "output_type": "stream",
     "text": [
      "0.4845\n"
     ]
    }
   ],
   "source": [
    "import pandas as pd \n",
    "\n",
    "exam1 = pd.read_csv(\"../../data/연습문제/Cars93.csv\")\n",
    "# pd.set_option('display.max_columns', None)\n",
    "\n",
    "wheelbase = exam1['Wheelbase']\n",
    "wheelbase_avg = exam1['Wheelbase'].mean()\n",
    "wheelbase_std = exam1[\"Wheelbase\"].std()\n",
    "\n",
    "def deduct_wheelbase(num):\n",
    "  low_1 = wheelbase_avg - num * wheelbase_std\n",
    "  upp_1 = wheelbase_avg + num * wheelbase_std\n",
    "\n",
    "  cond1 = (wheelbase > low_1) & (wheelbase < upp_1)\n",
    "  avg_1 = wheelbase[cond1].mean()\n",
    "  return wheelbase_avg - avg_1\n",
    "\n",
    "a = deduct_wheelbase(1.5)\n",
    "b = deduct_wheelbase(2)\n",
    "c = deduct_wheelbase(2.5)\n",
    "\n",
    "result = round(a + b + c, 4)\n",
    "print(result)"
   ]
  },
  {
   "cell_type": "code",
   "execution_count": 31,
   "metadata": {},
   "outputs": [
    {
     "name": "stdout",
     "output_type": "stream",
     "text": [
      "8.884\n"
     ]
    }
   ],
   "source": [
    "import pandas as pd \n",
    "exam2 = pd.read_csv(\"../../data/연습문제/Cars93.csv\")\n",
    "\n",
    "rank = exam2[\"Length\"].rank(method=\"average\")\n",
    "sub = exam2[\"Length\"][rank <= 30]\n",
    "\n",
    "sub_std = sub.std()\n",
    "result = round(sub_std, 3)\n",
    "print(result)"
   ]
  },
  {
   "cell_type": "code",
   "execution_count": 51,
   "metadata": {},
   "outputs": [
    {
     "data": {
      "text/html": [
       "<div>\n",
       "<style scoped>\n",
       "    .dataframe tbody tr th:only-of-type {\n",
       "        vertical-align: middle;\n",
       "    }\n",
       "\n",
       "    .dataframe tbody tr th {\n",
       "        vertical-align: top;\n",
       "    }\n",
       "\n",
       "    .dataframe thead th {\n",
       "        text-align: right;\n",
       "    }\n",
       "</style>\n",
       "<table border=\"1\" class=\"dataframe\">\n",
       "  <thead>\n",
       "    <tr style=\"text-align: right;\">\n",
       "      <th></th>\n",
       "      <th>max_custom</th>\n",
       "      <th>min_custom</th>\n",
       "      <th>max_custom2</th>\n",
       "      <th>min_custom2</th>\n",
       "    </tr>\n",
       "  </thead>\n",
       "  <tbody>\n",
       "    <tr>\n",
       "      <th>0</th>\n",
       "      <td>80.0</td>\n",
       "      <td>6.7</td>\n",
       "      <td>18.8</td>\n",
       "      <td>12.9</td>\n",
       "    </tr>\n",
       "    <tr>\n",
       "      <th>1</th>\n",
       "      <td>50.4</td>\n",
       "      <td>6.8</td>\n",
       "      <td>38.7</td>\n",
       "      <td>29.2</td>\n",
       "    </tr>\n",
       "    <tr>\n",
       "      <th>2</th>\n",
       "      <td>44.6</td>\n",
       "      <td>6.9</td>\n",
       "      <td>32.3</td>\n",
       "      <td>25.9</td>\n",
       "    </tr>\n",
       "    <tr>\n",
       "      <th>3</th>\n",
       "      <td>42.7</td>\n",
       "      <td>7.3</td>\n",
       "      <td>44.6</td>\n",
       "      <td>30.8</td>\n",
       "    </tr>\n",
       "    <tr>\n",
       "      <th>4</th>\n",
       "      <td>41.5</td>\n",
       "      <td>7.3</td>\n",
       "      <td>36.2</td>\n",
       "      <td>23.7</td>\n",
       "    </tr>\n",
       "    <tr>\n",
       "      <th>...</th>\n",
       "      <td>...</td>\n",
       "      <td>...</td>\n",
       "      <td>...</td>\n",
       "      <td>...</td>\n",
       "    </tr>\n",
       "    <tr>\n",
       "      <th>88</th>\n",
       "      <td>9.5</td>\n",
       "      <td>34.6</td>\n",
       "      <td>22.7</td>\n",
       "      <td>16.6</td>\n",
       "    </tr>\n",
       "    <tr>\n",
       "      <th>89</th>\n",
       "      <td>9.5</td>\n",
       "      <td>34.7</td>\n",
       "      <td>22.4</td>\n",
       "      <td>17.6</td>\n",
       "    </tr>\n",
       "    <tr>\n",
       "      <th>90</th>\n",
       "      <td>9.2</td>\n",
       "      <td>37.5</td>\n",
       "      <td>23.7</td>\n",
       "      <td>22.9</td>\n",
       "    </tr>\n",
       "    <tr>\n",
       "      <th>91</th>\n",
       "      <td>9.1</td>\n",
       "      <td>43.8</td>\n",
       "      <td>23.5</td>\n",
       "      <td>21.8</td>\n",
       "    </tr>\n",
       "    <tr>\n",
       "      <th>92</th>\n",
       "      <td>7.9</td>\n",
       "      <td>45.4</td>\n",
       "      <td>28.5</td>\n",
       "      <td>24.8</td>\n",
       "    </tr>\n",
       "  </tbody>\n",
       "</table>\n",
       "<p>93 rows × 4 columns</p>\n",
       "</div>"
      ],
      "text/plain": [
       "    max_custom  min_custom  max_custom2  min_custom2\n",
       "0         80.0         6.7         18.8         12.9\n",
       "1         50.4         6.8         38.7         29.2\n",
       "2         44.6         6.9         32.3         25.9\n",
       "3         42.7         7.3         44.6         30.8\n",
       "4         41.5         7.3         36.2         23.7\n",
       "..         ...         ...          ...          ...\n",
       "88         9.5        34.6         22.7         16.6\n",
       "89         9.5        34.7         22.4         17.6\n",
       "90         9.2        37.5         23.7         22.9\n",
       "91         9.1        43.8         23.5         21.8\n",
       "92         7.9        45.4         28.5         24.8\n",
       "\n",
       "[93 rows x 4 columns]"
      ]
     },
     "execution_count": 51,
     "metadata": {},
     "output_type": "execute_result"
    }
   ],
   "source": [
    "import pandas as pd \n",
    "exam3 = pd.read_csv(\"../../data/연습문제/Cars93.csv\")\n",
    "\n",
    "\n",
    "max_price = exam3[\"Max_Price\"].sort_values(ascending=False, ignore_index=True)\n",
    "min_price = exam3[\"Min_Price\"].sort_values(ascending=True, ignore_index=True)\n",
    "\n",
    "max_price2 = exam3[\"Max_Price\"].sort_values(ascending=False)\n",
    "min_price2 = exam3[\"Min_Price\"].sort_values(ascending=True)\n",
    "\n",
    "round((max_price - min_price).std(), 3)\n",
    "\n",
    "\n",
    "\n",
    "exam3[\"max_custom\"] = max_price\n",
    "exam3[\"min_custom\"] = min_price\n",
    "\n",
    "exam3[\"max_custom2\"] = max_price2\n",
    "exam3[\"min_custom2\"] = min_price2\n",
    "\n",
    "\n",
    "exam3[[\"max_custom\", \"min_custom\", \"max_custom2\", \"min_custom2\"]]"
   ]
  },
  {
   "cell_type": "code",
   "execution_count": 61,
   "metadata": {},
   "outputs": [
    {
     "name": "stdout",
     "output_type": "stream",
     "text": [
      "0.007002313404854486\n",
      "0.007551738240220801\n",
      "0.001\n"
     ]
    }
   ],
   "source": [
    "import pandas as pd \n",
    "exam4 = pd.read_csv(\"../../data/연습문제/Cars93.csv\")\n",
    "\n",
    "weight = exam4[\"Weight\"]\n",
    "weight_standard = (weight - min(weight)) / (max(weight) - min(weight))\n",
    "\n",
    "upper_condition = weight_standard > 0.5 \n",
    "under_condition = weight_standard < 0.5\n",
    "\n",
    "var_upper = weight_standard[upper_condition].var()\n",
    "var_under = weight_standard[under_condition].var()\n",
    "\n",
    "print(var_upper)\n",
    "print(var_under)\n",
    "\n",
    "diff = var_under - var_upper\n",
    "\n",
    "result = round(diff, 3)\n",
    "\n",
    "print(result)"
   ]
  },
  {
   "cell_type": "code",
   "execution_count": 80,
   "metadata": {},
   "outputs": [
    {
     "name": "stdout",
     "output_type": "stream",
     "text": [
      "(32, 2)\n",
      "(28, 2)\n"
     ]
    }
   ],
   "source": [
    "import pandas as pd \n",
    "exam5 = pd.read_csv(\"../../data/연습문제/Cars93.csv\")\n",
    "\n",
    "manufa = exam5[\"Manufacturer\"]\n",
    "origin = exam5[\"Origin\"]\n",
    "\n",
    "uniq_raw = exam5[[\"Manufacturer\", \"Origin\"]].drop_duplicates()\n",
    "num_uniq_raw = uniq_raw.shape\n",
    "print(num_uniq_raw)\n",
    "\n",
    "# uniq_raw = exam5[[\"Manufacturer\", \"Origin\"]].nunique()\n",
    "exam5[\"sub_str\"] = exam5[\"Manufacturer\"].str[:2]\n",
    "\n",
    "uniq_new = exam5[[\"sub_str\", \"Origin\"]].drop_duplicates()\n",
    "print(uniq_new.shape)\n",
    "\n",
    "num_uniq_new = uniq_new.shape[0]\n",
    "\n",
    "\n"
   ]
  },
  {
   "cell_type": "code",
   "execution_count": 87,
   "metadata": {},
   "outputs": [
    {
     "name": "stdout",
     "output_type": "stream",
     "text": [
      "442.0\n"
     ]
    }
   ],
   "source": [
    "import pandas as pd \n",
    "exam6 = pd.read_csv(\"../../data/연습문제/Cars93.csv\")\n",
    "\n",
    "count_RPM_gp = exam6.groupby([\"Type\", \"Man_trans_avail\"])[\"RPM\"].count()\n",
    "sum_RPM_gp = exam6.groupby([\"Type\", \"Man_trans_avail\"])[\"RPM\"].sum()\n",
    "median_RPM_gp = exam6.groupby([\"Type\", \"Man_trans_avail\"])[\"RPM\"].median()\n",
    "\n",
    "calcul = sum(median_RPM_gp - sum_RPM_gp / count_RPM_gp)\n",
    "\n",
    "result = round(calcul, 0)\n",
    "\n",
    "print(result)\n",
    "\n"
   ]
  },
  {
   "cell_type": "code",
   "execution_count": 101,
   "metadata": {},
   "outputs": [
    {
     "name": "stdout",
     "output_type": "stream",
     "text": [
      "4\n",
      "0\n",
      "35.561\n"
     ]
    }
   ],
   "source": [
    "import pandas as pd \n",
    "exam7 = pd.read_csv(\"../../data/연습문제/Cars93.csv\")\n",
    "\n",
    "\n",
    "avg = exam7[\"RPM\"].mean()\n",
    "print(exam7[\"RPM\"].isnull().sum())\n",
    "exam7[\"RPM\"] = exam7[\"RPM\"].fillna(avg)\n",
    "print(exam7[\"RPM\"].isnull().sum())\n",
    "\n",
    "\n",
    "def std(column): \n",
    "  return (exam7[column] - exam7[column].mean()) / exam7[column].std()\n",
    "\n",
    "RPM_std = std(\"RPM\")\n",
    "Wheelbase_std = std(\"Wheelbase\")\n",
    "\n",
    "diff = Wheelbase_std * (-36) - RPM_std\n",
    "diff_std = diff.std() \n",
    "\n",
    "result = round(diff_std, 3)\n",
    "print(result)"
   ]
  },
  {
   "cell_type": "code",
   "execution_count": 128,
   "metadata": {},
   "outputs": [
    {
     "name": "stdout",
     "output_type": "stream",
     "text": [
      "Origin\n",
      "USA        181.9\n",
      "non-USA    224.5\n",
      "Name: Price, dtype: float64\n",
      "Origin\n",
      "USA        579.70\n",
      "non-USA    424.35\n",
      "Name: Price, dtype: float64\n",
      "Origin\n",
      "USA        761.60\n",
      "non-USA    648.85\n",
      "Name: Price, dtype: float64\n",
      "761\n",
      "762\n"
     ]
    }
   ],
   "source": [
    "\n",
    "import pandas as pd \n",
    "import math\n",
    "\n",
    "exam8 = pd.read_csv(\"../../data/연습문제/Cars93.csv\")\n",
    "\n",
    "df_case1 = exam8.copy()\n",
    "df_case2 = exam8.copy()\n",
    "\n",
    "# 1.\n",
    "\n",
    "avg = df_case1[\"Price\"].mean()\n",
    "df_case1[\"Price\"] = df_case1[\"Price\"].fillna(avg)\n",
    "# exam8[\"Price\"].isnull().sum()\n",
    "\n",
    "avg_cond = df_case1[[\"Max_Price\", \"Min_Price\"]].mean(axis=1)\n",
    "sub_df_case1 = df_case1[exam8[\"Price\"] < avg_cond]\n",
    "\n",
    "sum_case1 = sub_df_case1.groupby(\"Origin\")[\"Price\"].sum()\n",
    "\n",
    "\n",
    "# 2. \n",
    "\n",
    "med = df_case2[\"Price\"].median()\n",
    "df_case2[\"Price\"] = df_case2[\"Price\"].fillna(med)\n",
    "q3 = df_case2[\"Min_Price\"].quantile(0.75)\n",
    "sub_df_case2 = df_case2[df_case2[\"Price\"] < q3]\n",
    "\n",
    "sum_case2 = sub_df_case2.groupby(\"Origin\")[\"Price\"].sum()\n",
    "\n",
    "max_value = sum_case1 + sum_case2\n",
    "result = max(sum_case1 + sum_case2)\n",
    "\n",
    "print(sum_case1)\n",
    "print(sum_case2)\n",
    "print(max_value)\n",
    "print(math.floor(result))\n",
    "print(round(result))\n",
    "\n",
    "\n",
    "\n"
   ]
  },
  {
   "cell_type": "code",
   "execution_count": 136,
   "metadata": {},
   "outputs": [
    {
     "name": "stdout",
     "output_type": "stream",
     "text": [
      "35\n"
     ]
    }
   ],
   "source": [
    "import pandas as pd\n",
    "exam9 = pd.read_csv(\"../../data/연습문제/Cars93.csv\")\n",
    "\n",
    "Price = exam9[\"Price\"].copy() \n",
    "Max_Price = exam9[\"Max_Price\"].copy()\n",
    "Min_Price = exam9[\"Min_Price\"].copy()\n",
    "Type = exam9[\"Type\"].copy() \n",
    "\n",
    "cond_na = Price.isnull() \n",
    "\n",
    "Price[cond_na] = (Max_Price[cond_na] + Min_Price[cond_na]) / 2\n",
    "\n",
    "cond1 = (Price < 14.7) \n",
    "cond2 = (Price > 25.3) & (Type == \"Large\")\n",
    "cond = cond1 | cond2\n",
    "result = exam9[cond].shape\n",
    "print(result[0])\n",
    "\n",
    "\n"
   ]
  },
  {
   "cell_type": "code",
   "execution_count": 147,
   "metadata": {},
   "outputs": [
    {
     "data": {
      "text/plain": [
       "3"
      ]
     },
     "execution_count": 147,
     "metadata": {},
     "output_type": "execute_result"
    }
   ],
   "source": [
    "import pandas as pd\n",
    "exam10 = pd.read_csv(\"../../data/연습문제/Cars93.csv\")\n",
    "\n",
    "Make = exam10[\"Make\"].copy()\n",
    "AirBags = exam10[\"AirBags\"].copy() \n",
    "\n",
    "\n",
    "\n",
    "Make = Make.str.strip()\n",
    "\n",
    "cond_1 = Make.str.startswith((\"Chevrolet\", \"Pontiac\", \"Hyundai\"))\n",
    "\n",
    "cond_2 = (AirBags == \"Driver only\")\n",
    "\n",
    "sum(cond_1 & cond_2)\n"
   ]
  },
  {
   "cell_type": "code",
   "execution_count": 149,
   "metadata": {},
   "outputs": [
    {
     "data": {
      "text/plain": [
       "62"
      ]
     },
     "execution_count": 149,
     "metadata": {},
     "output_type": "execute_result"
    }
   ],
   "source": [
    "import pandas as pd\n",
    "exam11 = pd.read_csv(\"../../data/연습문제/Rabbit.csv\")\n",
    "\n",
    "q3 = exam11[\"Dose\"].quantile(0.75)\n",
    "q2 = exam11[\"Dose\"].quantile()\n",
    "\n",
    "diff = abs(q3 - q2)\n",
    "\n",
    "diff.astype(int)\n",
    "\n"
   ]
  },
  {
   "cell_type": "code",
   "execution_count": 163,
   "metadata": {},
   "outputs": [
    {
     "name": "stdout",
     "output_type": "stream",
     "text": [
      "3.95\n"
     ]
    }
   ],
   "source": [
    "import pandas as pd\n",
    "exam12 = pd.read_csv(\"../../data/연습문제/Boston.csv\")\n",
    "\n",
    "medv_cut = pd.cut(exam12[\"medv\"], bins=[0, 10, 20, 30, 40, 50])\n",
    "mode = medv_cut.value_counts().idxmax()\n",
    "cond = (medv_cut == mode)\n",
    "\n",
    "median = exam12[\"dis\"][cond].median()\n",
    "\n",
    "result = round(median, 2)\n",
    "print(result)\n"
   ]
  },
  {
   "cell_type": "code",
   "execution_count": 180,
   "metadata": {},
   "outputs": [
    {
     "name": "stdout",
     "output_type": "stream",
     "text": [
      "-1.0027\n"
     ]
    }
   ],
   "source": [
    "import pandas as pd\n",
    "exam13 = pd.read_csv(\"../../data/연습문제/Melanoma.csv\")\n",
    "\n",
    "df1 = exam13.iloc[:123]\n",
    "df2 = exam13.iloc[123:]\n",
    "\n",
    "avg = df1[\"thickness\"].mean()\n",
    "sd = df1[\"thickness\"].std()\n",
    "\n",
    "std1 = ((df1[\"thickness\"] - avg) / sd)\n",
    "std2 = ((df2[\"thickness\"] - avg) / sd)\n",
    "\n",
    "\n",
    "\n",
    "\n",
    "sub_std1 = std1[(std1 >= -1) & (std1 <=1)]\n",
    "sub_std2 = std2[(std2 >= -1) & (std2 <=1)]\n",
    "\n",
    "med1 = sub_std1.median()\n",
    "med2 = sub_std2.median()\n",
    "\n",
    "result = round(med1 + med2, 4)\n",
    "print(result)"
   ]
  },
  {
   "cell_type": "code",
   "execution_count": 10,
   "metadata": {},
   "outputs": [
    {
     "name": "stdout",
     "output_type": "stream",
     "text": [
      "856\n",
      "856\n",
      "856.0\n"
     ]
    }
   ],
   "source": [
    "import pandas as pd \n",
    "exam8 = pd.read_csv(\"../../data/연습문제/Cars93.csv\")\n",
    "\n",
    "case1 = exam8.copy() \n",
    "case2 = exam8.copy() \n",
    "\n",
    "avg = case1[\"Price\"].mean() \n",
    "case1[\"Price\"] = case1[\"Price\"].fillna(avg)\n",
    "\n",
    "avg_max_min = case1[[\"Max_Price\", \"Min_Price\"]].mean(axis=1)\n",
    "sub_case1 = case1[case1[\"Price\"] < avg_max_min]\n",
    "sum_case1 = sub_case1.groupby(\"Origin\")[\"Price\"].sum()\n",
    "\n",
    "med = case2[\"Price\"].median()\n",
    "case2[\"Price\"] = case2[\"Price\"].fillna(med)\n",
    "q3 = case2[\"Min_Price\"].quantile(.75)\n",
    "sub_case2 = case2[case2[\"Price\"] < q3]\n",
    "sum_case2 = sub_case2.groupby(\"Origin\")[\"Price\"].sum() \n",
    "\n",
    "# print(sum_case1)\n",
    "# print(sum_case2)\n",
    "# print(sum_case1 + sum_case2)\n",
    "\n",
    "max_value = max(sum_case1 + sum_case2)\n",
    "\n",
    "max_value\n",
    "\n",
    "print(int(max_value))\n",
    "\n",
    "import math \n",
    "print(math.floor(max_value))\n",
    "\n",
    "import numpy as np\n",
    "print(np.floor(max_value))\n",
    "\n",
    "\n"
   ]
  },
  {
   "cell_type": "code",
   "execution_count": 39,
   "metadata": {},
   "outputs": [
    {
     "data": {
      "text/plain": [
       "0     15.90\n",
       "1     33.90\n",
       "2     29.10\n",
       "3     37.70\n",
       "4     29.95\n",
       "      ...  \n",
       "88    19.70\n",
       "89    20.00\n",
       "90    23.30\n",
       "91    22.70\n",
       "92    26.70\n",
       "Name: Price, Length: 93, dtype: float64"
      ]
     },
     "execution_count": 39,
     "metadata": {},
     "output_type": "execute_result"
    }
   ],
   "source": [
    "import pandas as pd \n",
    "exam9 = pd.read_csv(\"../../data/연습문제/Cars93.csv\")\n",
    "\n",
    "\n",
    "Max_Price = exam9[\"Max_Price\"].copy() \n",
    "Min_Price = exam9[\"Min_Price\"].copy() \n",
    "\n",
    "cond_na = exam9[\"Price\"].isnull()\n",
    "\n",
    "num_avg = (Max_Price[cond_na] + Min_Price[cond_na]) / 2 \n",
    "\n",
    "exam9[\"Price\"].fillna(num_avg)\n"
   ]
  },
  {
   "cell_type": "code",
   "execution_count": null,
   "metadata": {},
   "outputs": [],
   "source": []
  }
 ],
 "metadata": {
  "kernelspec": {
   "display_name": "Python 3",
   "language": "python",
   "name": "python3"
  },
  "language_info": {
   "codemirror_mode": {
    "name": "ipython",
    "version": 3
   },
   "file_extension": ".py",
   "mimetype": "text/x-python",
   "name": "python",
   "nbconvert_exporter": "python",
   "pygments_lexer": "ipython3",
   "version": "3.12.3"
  }
 },
 "nbformat": 4,
 "nbformat_minor": 2
}

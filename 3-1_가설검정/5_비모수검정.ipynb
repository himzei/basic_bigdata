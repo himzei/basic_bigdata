{
 "cells": [
  {
   "cell_type": "code",
   "execution_count": 2,
   "metadata": {},
   "outputs": [
    {
     "data": {
      "text/plain": [
       "SignificanceResult(statistic=0.09807947297621517, pvalue=0.03929011358104615)"
      ]
     },
     "execution_count": 2,
     "metadata": {},
     "output_type": "execute_result"
    }
   ],
   "source": [
    "import pandas as pd \n",
    "from scipy.stats import spearmanr\n",
    "from sklearn.datasets import load_diabetes \n",
    "\n",
    "diabetes = load_diabetes() \n",
    "data = pd.DataFrame(diabetes.data, columns=diabetes.feature_names)\n",
    "spearmanr(a=data[\"sex\"], b=data[\"bmi\"])"
   ]
  },
  {
   "cell_type": "code",
   "execution_count": 3,
   "metadata": {},
   "outputs": [
    {
     "data": {
      "text/html": [
       "<div>\n",
       "<style scoped>\n",
       "    .dataframe tbody tr th:only-of-type {\n",
       "        vertical-align: middle;\n",
       "    }\n",
       "\n",
       "    .dataframe tbody tr th {\n",
       "        vertical-align: top;\n",
       "    }\n",
       "\n",
       "    .dataframe thead th {\n",
       "        text-align: right;\n",
       "    }\n",
       "</style>\n",
       "<table border=\"1\" class=\"dataframe\">\n",
       "  <thead>\n",
       "    <tr style=\"text-align: right;\">\n",
       "      <th></th>\n",
       "      <th>sex</th>\n",
       "      <th>bmi</th>\n",
       "    </tr>\n",
       "  </thead>\n",
       "  <tbody>\n",
       "    <tr>\n",
       "      <th>sex</th>\n",
       "      <td>1.000000</td>\n",
       "      <td>0.098079</td>\n",
       "    </tr>\n",
       "    <tr>\n",
       "      <th>bmi</th>\n",
       "      <td>0.098079</td>\n",
       "      <td>1.000000</td>\n",
       "    </tr>\n",
       "  </tbody>\n",
       "</table>\n",
       "</div>"
      ],
      "text/plain": [
       "          sex       bmi\n",
       "sex  1.000000  0.098079\n",
       "bmi  0.098079  1.000000"
      ]
     },
     "execution_count": 3,
     "metadata": {},
     "output_type": "execute_result"
    }
   ],
   "source": [
    "data[[\"sex\", \"bmi\"]].corr(method=\"spearman\")"
   ]
  },
  {
   "cell_type": "code",
   "execution_count": 4,
   "metadata": {},
   "outputs": [
    {
     "data": {
      "text/plain": [
       "SignificanceResult(statistic=-0.29814239699997197, pvalue=0.4205962375999266)"
      ]
     },
     "execution_count": 4,
     "metadata": {},
     "output_type": "execute_result"
    }
   ],
   "source": [
    "# 켄달의 타우 검정\n",
    "\n",
    "import numpy as np \n",
    "\n",
    "x = np.array([5, 4, 3, 6, 1, 2])\n",
    "y = np.array([1, 5, 2, 2, 2, 6])\n",
    "\n",
    "from scipy.stats import kendalltau \n",
    "kendalltau(x, y)"
   ]
  },
  {
   "cell_type": "code",
   "execution_count": 5,
   "metadata": {},
   "outputs": [
    {
     "data": {
      "text/plain": [
       "WilcoxonResult(statistic=36.0, pvalue=0.3258056640625)"
      ]
     },
     "execution_count": 5,
     "metadata": {},
     "output_type": "execute_result"
    }
   ],
   "source": [
    "# 윌콕슨의 부호순위 검정\n",
    "\n",
    "from scipy.stats import wilcoxon\n",
    "kg = np.array([75.5, 83.9, 75.7, 56.2, 73.4, 77.7, 79.0, 50.7, 58.4, 4.1, 65.1, 77.8, 48.1, 46.3])\n",
    "\n",
    "wilcoxon(kg - 70)"
   ]
  },
  {
   "cell_type": "code",
   "execution_count": 7,
   "metadata": {},
   "outputs": [
    {
     "data": {
      "text/plain": [
       "WilcoxonResult(statistic=2.0, pvalue=0.09375)"
      ]
     },
     "execution_count": 7,
     "metadata": {},
     "output_type": "execute_result"
    }
   ],
   "source": [
    "female = np.array([50.7, 58.4, 65.1, 77.8, 48.1, 46.3])\n",
    "male = np.array([75.5, 83.9, 75.7, 56.2, 73.4, 79.0])\n",
    "\n",
    "diff = female - male \n",
    "\n",
    "wilcoxon(diff)"
   ]
  },
  {
   "cell_type": "code",
   "execution_count": 8,
   "metadata": {},
   "outputs": [
    {
     "data": {
      "text/plain": [
       "RanksumsResult(statistic=-1.9215378456610455, pvalue=0.054663935891675154)"
      ]
     },
     "execution_count": 8,
     "metadata": {},
     "output_type": "execute_result"
    }
   ],
   "source": [
    "# 윌콕슨의 순위합 검정\n",
    "from scipy.stats import ranksums \n",
    "ranksums(female, male)"
   ]
  },
  {
   "cell_type": "code",
   "execution_count": 9,
   "metadata": {},
   "outputs": [
    {
     "data": {
      "text/plain": [
       "MannwhitneyuResult(statistic=6.0, pvalue=0.06493506493506493)"
      ]
     },
     "execution_count": 9,
     "metadata": {},
     "output_type": "execute_result"
    }
   ],
   "source": [
    "# 만-위트니 u 검정\n",
    "from scipy.stats import mannwhitneyu\n",
    "mannwhitneyu(female, male)"
   ]
  },
  {
   "cell_type": "code",
   "execution_count": 13,
   "metadata": {},
   "outputs": [
    {
     "data": {
      "text/plain": [
       "KruskalResult(statistic=1978.1734792103248, pvalue=0.0)"
      ]
     },
     "execution_count": 13,
     "metadata": {},
     "output_type": "execute_result"
    }
   ],
   "source": [
    "# 크루스칼-왈리스 H검정 \n",
    "\n",
    "import pandas as pd \n",
    "df = pd.read_csv(\"../data/예제/school_score.csv\")\n",
    "\n",
    "School = df[\"School\"]\n",
    "Final = df[\"Final\"]\n",
    "\n",
    "Final_A = Final[School == \"A\"].reset_index(drop = True)\n",
    "Final_B = Final[School == \"B\"].reset_index(drop = True)\n",
    "Final_C = Final[School == \"C\"].reset_index(drop = True)\n",
    "\n",
    "from scipy.stats import kruskal \n",
    "kruskal(Final_A, Final_B, Final_C)"
   ]
  },
  {
   "cell_type": "code",
   "execution_count": null,
   "metadata": {},
   "outputs": [],
   "source": []
  }
 ],
 "metadata": {
  "kernelspec": {
   "display_name": "Python 3",
   "language": "python",
   "name": "python3"
  },
  "language_info": {
   "codemirror_mode": {
    "name": "ipython",
    "version": 3
   },
   "file_extension": ".py",
   "mimetype": "text/x-python",
   "name": "python",
   "nbconvert_exporter": "python",
   "pygments_lexer": "ipython3",
   "version": "3.12.3"
  }
 },
 "nbformat": 4,
 "nbformat_minor": 2
}

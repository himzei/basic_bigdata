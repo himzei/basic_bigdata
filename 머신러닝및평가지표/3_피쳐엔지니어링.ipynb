{
 "cells": [
  {
   "cell_type": "code",
   "execution_count": 1,
   "metadata": {},
   "outputs": [],
   "source": [
    "import pandas as pd\n",
    "\n",
    "X_train = pd.read_csv(\"./data_atype/X_train.csv\")\n",
    "y_train = pd.read_csv(\"./data_atype/y_train.csv\")\n",
    "X_test = pd.read_csv(\"./data_atype/X_test.csv\")"
   ]
  },
  {
   "cell_type": "code",
   "execution_count": 2,
   "metadata": {},
   "outputs": [],
   "source": [
    "# X_train데이터\n",
    "X_train['workclass'] = X_train['workclass'].fillna(X_train['workclass'].mode()[0])\n",
    "X_train['native.country'] = X_train['native.country'].fillna(X_train['native.country'].mode()[0])\n",
    "X_train['occupation'] = X_train['occupation'].fillna(\"X\")\n",
    "X_train['age'] = X_train['age'].fillna(int(X_train['age'].mean()))\n",
    "X_train['hours.per.week'] = X_train['hours.per.week'].fillna(X_train['hours.per.week'].median())\n",
    "\n",
    "# X_test데이터\n",
    "X_test['workclass'] = X_test['workclass'].fillna(X_test['workclass'].mode()[0])\n",
    "X_test['native.country']  = X_test['native.country'].fillna(X_test['native.country'].mode()[0])\n",
    "X_test['occupation'] = X_test['occupation'].fillna(\"X\")\n",
    "X_test['age'] = X_test['age'].fillna(int(X_train['age'].mean()))\n",
    "X_test['hours.per.week'] = X_test['hours.per.week'].fillna(X_train['hours.per.week'].median())"
   ]
  },
  {
   "cell_type": "code",
   "execution_count": null,
   "metadata": {},
   "outputs": [],
   "source": [
    "X_train.info()"
   ]
  },
  {
   "cell_type": "code",
   "execution_count": 4,
   "metadata": {},
   "outputs": [],
   "source": [
    "n_train = X_train.select_dtypes(exclude=\"object\").copy() \n",
    "n_test = X_test.select_dtypes(exclude=\"object\").copy() \n",
    "\n",
    "c_train = X_train.select_dtypes(include=\"object\").copy() \n",
    "c_test = X_test.select_dtypes(include=\"object\").copy()"
   ]
  },
  {
   "cell_type": "code",
   "execution_count": null,
   "metadata": {},
   "outputs": [],
   "source": [
    "n_train.head() "
   ]
  },
  {
   "cell_type": "code",
   "execution_count": 6,
   "metadata": {},
   "outputs": [],
   "source": [
    "cols = ['age', 'fnlwgt', 'education.num', 'capital.gain', 'capital.loss', 'hours.per.week' ]"
   ]
  },
  {
   "cell_type": "code",
   "execution_count": null,
   "metadata": {},
   "outputs": [],
   "source": [
    "from sklearn.preprocessing import MinMaxScaler \n",
    "scaler = MinMaxScaler() \n",
    "display(n_train.head(3))\n",
    "n_train[cols] = scaler.fit_transform(n_train[cols])\n",
    "n_test[cols] = scaler.fit_transform(n_test[cols])\n",
    "display(n_train.head(3))"
   ]
  },
  {
   "cell_type": "code",
   "execution_count": 9,
   "metadata": {},
   "outputs": [],
   "source": [
    "n_train = X_train.select_dtypes(exclude=\"object\").copy() \n",
    "n_test = X_test.select_dtypes(exclude=\"object\").copy() \n",
    "\n",
    "c_train = X_train.select_dtypes(include=\"object\").copy() \n",
    "c_test = X_test.select_dtypes(include=\"object\").copy()"
   ]
  },
  {
   "cell_type": "code",
   "execution_count": null,
   "metadata": {},
   "outputs": [],
   "source": [
    "from sklearn.preprocessing import StandardScaler\n",
    "scaler = StandardScaler()\n",
    "display(n_train.head(3))\n",
    "n_train[cols] = scaler.fit_transform(n_train[cols])\n",
    "n_test[cols] = scaler.fit_transform(n_test[cols])\n",
    "display(n_train.head(3))"
   ]
  },
  {
   "cell_type": "code",
   "execution_count": 12,
   "metadata": {},
   "outputs": [],
   "source": [
    "n_train = X_train.select_dtypes(exclude=\"object\").copy() \n",
    "n_test = X_test.select_dtypes(exclude=\"object\").copy() \n",
    "\n",
    "c_train = X_train.select_dtypes(include=\"object\").copy() \n",
    "c_test = X_test.select_dtypes(include=\"object\").copy()"
   ]
  },
  {
   "cell_type": "code",
   "execution_count": null,
   "metadata": {},
   "outputs": [],
   "source": [
    "# 로버스트 스케일링: 중앙값과 사분위 값 활용, 이상치 영향 최소화 장점 \n",
    "from sklearn.preprocessing import RobustScaler\n",
    "scaler = RobustScaler() \n",
    "display(n_train.head(3))\n",
    "n_train[cols] = scaler.fit_transform(n_train[cols])\n",
    "n_test[cols] = scaler.fit_transform(n_test[cols])\n",
    "display(n_train.head(3))"
   ]
  },
  {
   "cell_type": "code",
   "execution_count": null,
   "metadata": {},
   "outputs": [],
   "source": [
    "\n",
    "X_train[\"fnlwgt\"].hist()"
   ]
  },
  {
   "cell_type": "code",
   "execution_count": null,
   "metadata": {},
   "outputs": [],
   "source": [
    "import numpy as np \n",
    "np.log1p(X_train[\"fnlwgt\"]).hist()"
   ]
  },
  {
   "cell_type": "code",
   "execution_count": null,
   "metadata": {},
   "outputs": [],
   "source": [
    "np.exp(np.log1p(X_train[\"fnlwgt\"]))"
   ]
  },
  {
   "cell_type": "code",
   "execution_count": null,
   "metadata": {},
   "outputs": [],
   "source": [
    "cols = list(X_train.columns[X_train.dtypes == \"object\"])\n",
    "cols"
   ]
  },
  {
   "cell_type": "code",
   "execution_count": null,
   "metadata": {},
   "outputs": [],
   "source": [
    "from sklearn.preprocessing import LabelEncoder\n",
    "le = LabelEncoder() \n",
    "\n",
    "for col in cols: \n",
    "  le = LabelEncoder() \n",
    "  c_train[col] = le.fit_transform(c_train[col])\n",
    "  c_test[col] = le.fit_transform(c_test[col])\n",
    "\n",
    "c_train.head()"
   ]
  },
  {
   "cell_type": "code",
   "execution_count": 30,
   "metadata": {},
   "outputs": [],
   "source": [
    "n_train = X_train.select_dtypes(exclude=\"object\").copy() \n",
    "n_test = X_test.select_dtypes(exclude=\"object\").copy() \n",
    "\n",
    "c_train = X_train.select_dtypes(include=\"object\").copy() \n",
    "c_test = X_test.select_dtypes(include=\"object\").copy()"
   ]
  },
  {
   "cell_type": "code",
   "execution_count": null,
   "metadata": {},
   "outputs": [],
   "source": [
    "\n",
    "display(c_train.head())\n",
    "c_train = pd.get_dummies(c_train[cols])\n",
    "c_test = pd.get_dummies(c_test[cols])\n",
    "display(c_train.head())"
   ]
  },
  {
   "cell_type": "code",
   "execution_count": 64,
   "metadata": {},
   "outputs": [],
   "source": [
    "import pandas as pd\n",
    "\n",
    "X_train = pd.read_csv(\"./data_atype/X_train.csv\")\n",
    "y_train = pd.read_csv(\"./data_atype/y_train.csv\")\n",
    "X_test = pd.read_csv(\"./data_atype/X_test.csv\")"
   ]
  },
  {
   "cell_type": "code",
   "execution_count": 65,
   "metadata": {},
   "outputs": [
    {
     "name": "stdout",
     "output_type": "stream",
     "text": [
      "(29304, 15) (3257, 15)\n",
      "(29304, 99) (3257, 99)\n"
     ]
    }
   ],
   "source": [
    "cols = list(X_train.columns[X_train.dtypes == object])\n",
    "\n",
    "print(X_train.shape, X_test.shape)\n",
    "\n",
    "all_df = pd.concat([X_train, X_test])\n",
    "all_df = pd.get_dummies(all_df[cols])\n",
    "\n",
    "line = int(X_train.shape[0])\n",
    "X_train = all_df.iloc[:line, :].copy() \n",
    "X_train\n",
    "\n",
    "X_test = all_df.iloc[line:, :].copy() \n",
    "\n",
    "print(X_train.shape, X_test.shape)\n",
    "\n"
   ]
  },
  {
   "cell_type": "code",
   "execution_count": null,
   "metadata": {},
   "outputs": [],
   "source": []
  }
 ],
 "metadata": {
  "kernelspec": {
   "display_name": "Python 3",
   "language": "python",
   "name": "python3"
  },
  "language_info": {
   "codemirror_mode": {
    "name": "ipython",
    "version": 3
   },
   "file_extension": ".py",
   "mimetype": "text/x-python",
   "name": "python",
   "nbconvert_exporter": "python",
   "pygments_lexer": "ipython3",
   "version": "3.12.3"
  }
 },
 "nbformat": 4,
 "nbformat_minor": 2
}

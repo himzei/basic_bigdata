{
 "cells": [
  {
   "cell_type": "code",
   "execution_count": 5,
   "metadata": {},
   "outputs": [
    {
     "name": "stdout",
     "output_type": "stream",
     "text": [
      "72.29999999999998\n"
     ]
    },
    {
     "data": {
      "text/plain": [
       "5      3.9\n",
       "14     4.0\n",
       "15     4.4\n",
       "16     3.9\n",
       "18     3.8\n",
       "19     3.8\n",
       "32     4.1\n",
       "33     4.2\n",
       "41     2.3\n",
       "44     3.8\n",
       "46     3.8\n",
       "53     2.3\n",
       "57     2.4\n",
       "60     2.0\n",
       "62     2.2\n",
       "68     2.2\n",
       "80     2.4\n",
       "81     2.4\n",
       "87     2.3\n",
       "93     2.3\n",
       "117    3.8\n",
       "119    2.2\n",
       "131    3.8\n",
       "Name: Sepal.Width, dtype: float64"
      ]
     },
     "execution_count": 7,
     "metadata": {},
     "output_type": "execute_result"
    }
   ],
   "source": [
    "# 01. \n",
    "# 평균값을 기준으로 3배의 표준편차 이상으로 떨어진 값들의 합을 구하시오 \n",
    "\n",
    "import pandas as pd\n",
    "exam1 = pd.read_csv(\"../data/모의고사/01회/iris.csv\")\n",
    "\n",
    "sepal_width = exam1[\"Sepal.Width\"]\n",
    "\n",
    "avg = sepal_width.mean() \n",
    "sd = sepal_width.std() \n",
    "\n",
    "upp = avg + 3 * sd \n",
    "low = avg - 3 * sd \n",
    "\n",
    "cond = (sepal_width < low) | (sepal_width > upp)\n",
    "\n",
    "result = sepal_width[cond].sum()\n",
    "print(result)\n",
    "\n",
    "sepal_width[cond]\n"
   ]
  },
  {
   "cell_type": "code",
   "execution_count": 13,
   "metadata": {},
   "outputs": [
    {
     "name": "stdout",
     "output_type": "stream",
     "text": [
      "<class 'pandas.core.frame.DataFrame'>\n",
      "RangeIndex: 32 entries, 0 to 31\n",
      "Data columns (total 11 columns):\n",
      " #   Column  Non-Null Count  Dtype  \n",
      "---  ------  --------------  -----  \n",
      " 0   mpg     32 non-null     float64\n",
      " 1   cyl     32 non-null     int64  \n",
      " 2   disp    32 non-null     float64\n",
      " 3   hp      32 non-null     int64  \n",
      " 4   drat    32 non-null     float64\n",
      " 5   wt      32 non-null     float64\n",
      " 6   qsec    32 non-null     float64\n",
      " 7   vs      32 non-null     int64  \n",
      " 8   am      32 non-null     int64  \n",
      " 9   gear    32 non-null     int64  \n",
      " 10  carb    32 non-null     int64  \n",
      "dtypes: float64(5), int64(6)\n",
      "memory usage: 2.9 KB\n",
      "0     160.0\n",
      "1     160.0\n",
      "3     258.0\n",
      "4     360.0\n",
      "5     225.0\n",
      "6     360.0\n",
      "9     167.6\n",
      "10    167.6\n",
      "11    275.8\n",
      "12    275.8\n",
      "13    275.8\n",
      "14    472.0\n",
      "15    460.0\n",
      "16    440.0\n",
      "21    318.0\n",
      "22    304.0\n",
      "23    350.0\n",
      "24    400.0\n",
      "28    351.0\n",
      "30    301.0\n",
      "Name: disp, dtype: float64\n",
      "97.47\n"
     ]
    }
   ],
   "source": [
    "# 2. \n",
    "\n",
    "import pandas as pd \n",
    "exam2 = pd.read_csv(\"../data/모의고사/01회/mtcars1.csv\", encoding=\"cp949\")\n",
    "\n",
    "exam2.info()\n",
    "\n",
    "disp = exam2[\"disp\"]\n",
    "\n",
    "# ascending=False  값이 클 수록 높은 순위 \n",
    "# method=min 동일한 값이 있을 경우 작은 순위를 할당 \n",
    "rank = disp.rank(method=\"min\", ascending=False)\n",
    "\n",
    "rank20 = disp[rank <= 20]\n",
    "\n",
    "print(rank20)\n",
    "\n",
    "result = round(rank20.std(), 2)\n",
    "print(result)"
   ]
  },
  {
   "cell_type": "code",
   "execution_count": 15,
   "metadata": {},
   "outputs": [],
   "source": [
    "# 3. \n",
    "\n",
    "import pandas as pd \n",
    "exam3 = pd.read_csv(\"../data/모의고사/01회/Cars93.csv\")\n",
    "\n",
    "case1 = exam3.shape[0]\n",
    "\n",
    "case2 = sum(exam3.isnull().sum() != 0)\n",
    "\n",
    "case3 = sum(exam3.isnull().sum())\n",
    "\n",
    "colnm_10over = exam3.columns[exam3.isnull().sum() > 10]\n",
    "\n",
    "sub1 = exam3[colnm_10over].copy() \n",
    "case4 = len(sub1.dropna())\n",
    "\n",
    "rownm_2over = "
   ]
  },
  {
   "cell_type": "code",
   "execution_count": null,
   "metadata": {},
   "outputs": [],
   "source": []
  }
 ],
 "metadata": {
  "kernelspec": {
   "display_name": "Python 3",
   "language": "python",
   "name": "python3"
  },
  "language_info": {
   "codemirror_mode": {
    "name": "ipython",
    "version": 3
   },
   "file_extension": ".py",
   "mimetype": "text/x-python",
   "name": "python",
   "nbconvert_exporter": "python",
   "pygments_lexer": "ipython3",
   "version": "3.12.3"
  }
 },
 "nbformat": 4,
 "nbformat_minor": 2
}

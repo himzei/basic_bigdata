{
 "cells": [
  {
   "cell_type": "code",
   "execution_count": 1,
   "metadata": {},
   "outputs": [
    {
     "name": "stdout",
     "output_type": "stream",
     "text": [
      "(3600, 16)\n",
      "(2400, 16)\n",
      "(3600, 2)\n"
     ]
    }
   ],
   "source": [
    "###### 연습문제1. \n",
    "\n",
    "import pandas as pd \n",
    "X_train = pd.read_csv(\"../data/연습문제/FIFA_X_train.csv\", encoding=\"CP949\")\n",
    "X_test = pd.read_csv(\"../data/연습문제/FIFA_X_test.csv\", encoding=\"CP949\")\n",
    "y_train = pd.read_csv(\"../data/연습문제/FIFA_y_train.csv\", encoding=\"CP949\")\n",
    "\n",
    "print(X_train.shape)\n",
    "print(X_test.shape)\n",
    "print(y_train.shape)\n",
    "\n"
   ]
  },
  {
   "cell_type": "code",
   "execution_count": 2,
   "metadata": {},
   "outputs": [],
   "source": [
    "ID = X_test[\"ID\"].copy() \n",
    "\n",
    "X_train = X_train.drop(columns=\"ID\")\n",
    "X_test = X_test.drop(columns=\"ID\")\n",
    "y_train = y_train.drop(columns=\"ID\")"
   ]
  },
  {
   "cell_type": "code",
   "execution_count": 3,
   "metadata": {},
   "outputs": [
    {
     "name": "stdout",
     "output_type": "stream",
     "text": [
      "Age                       0\n",
      "Nationality               0\n",
      "Overall                   0\n",
      "Club                      0\n",
      "Preferred_Foot            0\n",
      "Work_Rate                 0\n",
      "Position                  0\n",
      "Position_Class          758\n",
      "Jersey_Number             0\n",
      "Contract_Valid_Until      0\n",
      "Height                    0\n",
      "Height_cm               292\n",
      "Weight_lb                72\n",
      "Release_Clause            0\n",
      "Wage                      0\n",
      "dtype: int64\n",
      "Age                       0\n",
      "Nationality               0\n",
      "Overall                   0\n",
      "Club                      0\n",
      "Preferred_Foot            0\n",
      "Work_Rate                 0\n",
      "Position                  0\n",
      "Position_Class          509\n",
      "Jersey_Number             0\n",
      "Contract_Valid_Until      0\n",
      "Height                    0\n",
      "Height_cm               188\n",
      "Weight_lb                 0\n",
      "Release_Clause            0\n",
      "Wage                      0\n",
      "dtype: int64\n"
     ]
    }
   ],
   "source": [
    "print(X_train.isnull().sum())\n",
    "print(X_test.isnull().sum())"
   ]
  },
  {
   "cell_type": "code",
   "execution_count": 4,
   "metadata": {},
   "outputs": [],
   "source": [
    "X_train[\"Position_Class\"].value_counts()\n",
    "X_train[\"Position_Class\"] = X_train[\"Position_Class\"].fillna(\"unknown\")\n"
   ]
  },
  {
   "cell_type": "code",
   "execution_count": 5,
   "metadata": {},
   "outputs": [
    {
     "data": {
      "text/plain": [
       "Position_Class\n",
       "Defender      1400\n",
       "Midfielder     790\n",
       "unknown        758\n",
       "Forward        652\n",
       "Name: count, dtype: int64"
      ]
     },
     "execution_count": 5,
     "metadata": {},
     "output_type": "execute_result"
    }
   ],
   "source": [
    "X_train[\"Position_Class\"].value_counts()"
   ]
  },
  {
   "cell_type": "code",
   "execution_count": 6,
   "metadata": {},
   "outputs": [
    {
     "data": {
      "text/html": [
       "<div>\n",
       "<style scoped>\n",
       "    .dataframe tbody tr th:only-of-type {\n",
       "        vertical-align: middle;\n",
       "    }\n",
       "\n",
       "    .dataframe tbody tr th {\n",
       "        vertical-align: top;\n",
       "    }\n",
       "\n",
       "    .dataframe thead th {\n",
       "        text-align: right;\n",
       "    }\n",
       "</style>\n",
       "<table border=\"1\" class=\"dataframe\">\n",
       "  <thead>\n",
       "    <tr style=\"text-align: right;\">\n",
       "      <th>Position_Class</th>\n",
       "      <th>Defender</th>\n",
       "      <th>Forward</th>\n",
       "      <th>Midfielder</th>\n",
       "      <th>unknown</th>\n",
       "    </tr>\n",
       "    <tr>\n",
       "      <th>Position</th>\n",
       "      <th></th>\n",
       "      <th></th>\n",
       "      <th></th>\n",
       "      <th></th>\n",
       "    </tr>\n",
       "  </thead>\n",
       "  <tbody>\n",
       "    <tr>\n",
       "      <th>CAM</th>\n",
       "      <td>0</td>\n",
       "      <td>0</td>\n",
       "      <td>212</td>\n",
       "      <td>0</td>\n",
       "    </tr>\n",
       "    <tr>\n",
       "      <th>CB</th>\n",
       "      <td>349</td>\n",
       "      <td>0</td>\n",
       "      <td>0</td>\n",
       "      <td>0</td>\n",
       "    </tr>\n",
       "    <tr>\n",
       "      <th>CDM</th>\n",
       "      <td>178</td>\n",
       "      <td>0</td>\n",
       "      <td>0</td>\n",
       "      <td>0</td>\n",
       "    </tr>\n",
       "    <tr>\n",
       "      <th>CF</th>\n",
       "      <td>0</td>\n",
       "      <td>12</td>\n",
       "      <td>0</td>\n",
       "      <td>0</td>\n",
       "    </tr>\n",
       "    <tr>\n",
       "      <th>CM</th>\n",
       "      <td>0</td>\n",
       "      <td>0</td>\n",
       "      <td>0</td>\n",
       "      <td>295</td>\n",
       "    </tr>\n",
       "    <tr>\n",
       "      <th>GK</th>\n",
       "      <td>0</td>\n",
       "      <td>0</td>\n",
       "      <td>0</td>\n",
       "      <td>391</td>\n",
       "    </tr>\n",
       "    <tr>\n",
       "      <th>LAM</th>\n",
       "      <td>0</td>\n",
       "      <td>0</td>\n",
       "      <td>4</td>\n",
       "      <td>0</td>\n",
       "    </tr>\n",
       "    <tr>\n",
       "      <th>LB</th>\n",
       "      <td>283</td>\n",
       "      <td>0</td>\n",
       "      <td>0</td>\n",
       "      <td>0</td>\n",
       "    </tr>\n",
       "    <tr>\n",
       "      <th>LCB</th>\n",
       "      <td>136</td>\n",
       "      <td>0</td>\n",
       "      <td>0</td>\n",
       "      <td>0</td>\n",
       "    </tr>\n",
       "    <tr>\n",
       "      <th>LCM</th>\n",
       "      <td>0</td>\n",
       "      <td>0</td>\n",
       "      <td>86</td>\n",
       "      <td>0</td>\n",
       "    </tr>\n",
       "    <tr>\n",
       "      <th>LDM</th>\n",
       "      <td>48</td>\n",
       "      <td>0</td>\n",
       "      <td>0</td>\n",
       "      <td>0</td>\n",
       "    </tr>\n",
       "    <tr>\n",
       "      <th>LF</th>\n",
       "      <td>0</td>\n",
       "      <td>0</td>\n",
       "      <td>0</td>\n",
       "      <td>3</td>\n",
       "    </tr>\n",
       "    <tr>\n",
       "      <th>LM</th>\n",
       "      <td>0</td>\n",
       "      <td>0</td>\n",
       "      <td>208</td>\n",
       "      <td>0</td>\n",
       "    </tr>\n",
       "    <tr>\n",
       "      <th>LS</th>\n",
       "      <td>0</td>\n",
       "      <td>42</td>\n",
       "      <td>0</td>\n",
       "      <td>0</td>\n",
       "    </tr>\n",
       "    <tr>\n",
       "      <th>LW</th>\n",
       "      <td>0</td>\n",
       "      <td>71</td>\n",
       "      <td>0</td>\n",
       "      <td>0</td>\n",
       "    </tr>\n",
       "    <tr>\n",
       "      <th>LWB</th>\n",
       "      <td>24</td>\n",
       "      <td>0</td>\n",
       "      <td>0</td>\n",
       "      <td>0</td>\n",
       "    </tr>\n",
       "    <tr>\n",
       "      <th>RAM</th>\n",
       "      <td>0</td>\n",
       "      <td>0</td>\n",
       "      <td>5</td>\n",
       "      <td>0</td>\n",
       "    </tr>\n",
       "    <tr>\n",
       "      <th>RB</th>\n",
       "      <td>263</td>\n",
       "      <td>0</td>\n",
       "      <td>0</td>\n",
       "      <td>0</td>\n",
       "    </tr>\n",
       "    <tr>\n",
       "      <th>RCB</th>\n",
       "      <td>119</td>\n",
       "      <td>0</td>\n",
       "      <td>0</td>\n",
       "      <td>0</td>\n",
       "    </tr>\n",
       "    <tr>\n",
       "      <th>RCM</th>\n",
       "      <td>0</td>\n",
       "      <td>0</td>\n",
       "      <td>65</td>\n",
       "      <td>0</td>\n",
       "    </tr>\n",
       "    <tr>\n",
       "      <th>RDM</th>\n",
       "      <td>0</td>\n",
       "      <td>0</td>\n",
       "      <td>0</td>\n",
       "      <td>44</td>\n",
       "    </tr>\n",
       "    <tr>\n",
       "      <th>RF</th>\n",
       "      <td>0</td>\n",
       "      <td>4</td>\n",
       "      <td>0</td>\n",
       "      <td>0</td>\n",
       "    </tr>\n",
       "    <tr>\n",
       "      <th>RM</th>\n",
       "      <td>0</td>\n",
       "      <td>0</td>\n",
       "      <td>210</td>\n",
       "      <td>0</td>\n",
       "    </tr>\n",
       "    <tr>\n",
       "      <th>RS</th>\n",
       "      <td>0</td>\n",
       "      <td>36</td>\n",
       "      <td>0</td>\n",
       "      <td>0</td>\n",
       "    </tr>\n",
       "    <tr>\n",
       "      <th>RW</th>\n",
       "      <td>0</td>\n",
       "      <td>62</td>\n",
       "      <td>0</td>\n",
       "      <td>0</td>\n",
       "    </tr>\n",
       "    <tr>\n",
       "      <th>RWB</th>\n",
       "      <td>0</td>\n",
       "      <td>0</td>\n",
       "      <td>0</td>\n",
       "      <td>25</td>\n",
       "    </tr>\n",
       "    <tr>\n",
       "      <th>ST</th>\n",
       "      <td>0</td>\n",
       "      <td>425</td>\n",
       "      <td>0</td>\n",
       "      <td>0</td>\n",
       "    </tr>\n",
       "  </tbody>\n",
       "</table>\n",
       "</div>"
      ],
      "text/plain": [
       "Position_Class  Defender  Forward  Midfielder  unknown\n",
       "Position                                              \n",
       "CAM                    0        0         212        0\n",
       "CB                   349        0           0        0\n",
       "CDM                  178        0           0        0\n",
       "CF                     0       12           0        0\n",
       "CM                     0        0           0      295\n",
       "GK                     0        0           0      391\n",
       "LAM                    0        0           4        0\n",
       "LB                   283        0           0        0\n",
       "LCB                  136        0           0        0\n",
       "LCM                    0        0          86        0\n",
       "LDM                   48        0           0        0\n",
       "LF                     0        0           0        3\n",
       "LM                     0        0         208        0\n",
       "LS                     0       42           0        0\n",
       "LW                     0       71           0        0\n",
       "LWB                   24        0           0        0\n",
       "RAM                    0        0           5        0\n",
       "RB                   263        0           0        0\n",
       "RCB                  119        0           0        0\n",
       "RCM                    0        0          65        0\n",
       "RDM                    0        0           0       44\n",
       "RF                     0        4           0        0\n",
       "RM                     0        0         210        0\n",
       "RS                     0       36           0        0\n",
       "RW                     0       62           0        0\n",
       "RWB                    0        0           0       25\n",
       "ST                     0      425           0        0"
      ]
     },
     "execution_count": 6,
     "metadata": {},
     "output_type": "execute_result"
    }
   ],
   "source": [
    "pd.crosstab(X_train[\"Position\"], X_train[\"Position_Class\"])"
   ]
  },
  {
   "cell_type": "code",
   "execution_count": 7,
   "metadata": {},
   "outputs": [
    {
     "data": {
      "text/plain": [
       "Age                       0\n",
       "Nationality               0\n",
       "Overall                   0\n",
       "Club                      0\n",
       "Preferred_Foot            0\n",
       "Work_Rate                 0\n",
       "Position                  0\n",
       "Position_Class          509\n",
       "Jersey_Number             0\n",
       "Contract_Valid_Until      0\n",
       "Height                    0\n",
       "Height_cm               188\n",
       "Weight_lb                 0\n",
       "Release_Clause            0\n",
       "Wage                      0\n",
       "dtype: int64"
      ]
     },
     "execution_count": 7,
     "metadata": {},
     "output_type": "execute_result"
    }
   ],
   "source": [
    "# X_train[\"Position_Class\"][X_train[\"Position\"] == \"LF\"] = \"Forward\"\n",
    "PC_train = X_train[\"Position_Class\"].copy()\n",
    "PC_train[X_train[\"Position\"] == \"LF\"] = \"Forward\"\n",
    "PC_train[X_train[\"Position\"] == \"CM\"] = \"Midfielder\"\n",
    "PC_train[X_train[\"Position\"] == \"GK\"] = \"GoalKeeper\"\n",
    "PC_train[X_train[\"Position\"] == \"RDM\"] = \"Defender\"\n",
    "PC_train[X_train[\"Position\"] == \"RWB\"] = \"Defender\"\n",
    "\n",
    "X_train.isnull().sum()\n",
    "X_test.isnull().sum()"
   ]
  },
  {
   "cell_type": "code",
   "execution_count": 8,
   "metadata": {},
   "outputs": [],
   "source": [
    "PC_test = X_test[\"Position_Class\"].copy()\n",
    "PC_test[X_test[\"Position\"] == \"LF\"] = \"Forward\"\n",
    "PC_test[X_test[\"Position\"] == \"CM\"] = \"Midfielder\"\n",
    "PC_test[X_test[\"Position\"] == \"GK\"] = \"GoalKeeper\"\n",
    "PC_test[X_test[\"Position\"] == \"RDM\"] = \"Defender\"\n",
    "PC_test[X_test[\"Position\"] == \"RWB\"] = \"Defender\"\n",
    "\n"
   ]
  },
  {
   "cell_type": "code",
   "execution_count": 9,
   "metadata": {},
   "outputs": [],
   "source": [
    "## Position 필드 삭제 \n",
    "X_train = X_train.drop(columns=\"Position\")\n",
    "X_test = X_test.drop(columns=\"Position\")"
   ]
  },
  {
   "cell_type": "code",
   "execution_count": 10,
   "metadata": {},
   "outputs": [
    {
     "data": {
      "text/plain": [
       "Age                       0\n",
       "Nationality               0\n",
       "Overall                   0\n",
       "Club                      0\n",
       "Preferred_Foot            0\n",
       "Work_Rate                 0\n",
       "Position_Class            0\n",
       "Jersey_Number             0\n",
       "Contract_Valid_Until      0\n",
       "Height                    0\n",
       "Height_cm               188\n",
       "Weight_lb                 0\n",
       "Release_Clause            0\n",
       "Wage                      0\n",
       "dtype: int64"
      ]
     },
     "execution_count": 10,
     "metadata": {},
     "output_type": "execute_result"
    }
   ],
   "source": [
    "X_test[\"Position_Class\"] = PC_test\n",
    "X_test.isnull().sum()"
   ]
  },
  {
   "cell_type": "code",
   "execution_count": 11,
   "metadata": {},
   "outputs": [],
   "source": [
    "Height_train = X_train[\"Height\"].copy()\n",
    "Height_cm_train = X_train[\"Height_cm\"].copy()\n",
    "\n",
    "split_str_train = Height_train.str.split(\"'\", expand=True).astype(\"float64\")\n",
    "Height_cm_train.isnull().sum()\n",
    "Height_cm_train = Height_cm_train.fillna(split_str_train[0] * 30 + split_str_train[1] * 2.5)\n",
    "X_train[\"Height_cm\"] = Height_cm_train\n",
    "\n"
   ]
  },
  {
   "cell_type": "code",
   "execution_count": 12,
   "metadata": {},
   "outputs": [],
   "source": [
    "Height_test = X_test[\"Height\"].copy()\n",
    "Height_cm_test = X_test[\"Height_cm\"].copy()\n",
    "\n",
    "split_str_test = Height_test.str.split(\"'\", expand=True).astype(\"float64\")\n",
    "Height_cm_test.isnull().sum()\n",
    "Height_cm_test = Height_cm_train.fillna(split_str_test[0] * 30 + split_str_test[1] * 2.5)\n",
    "X_test[\"Height_cm\"] = Height_cm_test\n"
   ]
  },
  {
   "cell_type": "code",
   "execution_count": 13,
   "metadata": {},
   "outputs": [],
   "source": [
    "## Height 컬럼 삭제 \n",
    "X_train = X_train.drop(columns=\"Height\")\n",
    "X_test = X_test.drop(columns=\"Height\")"
   ]
  },
  {
   "cell_type": "code",
   "execution_count": 14,
   "metadata": {},
   "outputs": [
    {
     "name": "stdout",
     "output_type": "stream",
     "text": [
      "(3600, 13)\n",
      "(3600, 1)\n",
      "(3528, 13)\n",
      "(3528, 1)\n"
     ]
    }
   ],
   "source": [
    "## Weight_lb 결측치 제거 \n",
    "# X_train 데이터를 제거하면 종속변수인 y_train도 같이 제거해야하 ㅁ\n",
    "\n",
    "cond_na = X_train[\"Weight_lb\"].isnull()\n",
    "\n",
    "print(X_train.shape)\n",
    "print(y_train.shape)\n",
    "\n",
    "X_train = X_train[~cond_na]\n",
    "y_train = y_train[~cond_na]\n",
    "\n",
    "print(X_train.shape)\n",
    "print(y_train.shape)\n",
    "\n"
   ]
  },
  {
   "cell_type": "code",
   "execution_count": 15,
   "metadata": {},
   "outputs": [
    {
     "name": "stdout",
     "output_type": "stream",
     "text": [
      "Age                29\n",
      "Nationality       129\n",
      "Club              648\n",
      "Preferred_Foot      2\n",
      "Work_Rate           9\n",
      "Position_Class      4\n",
      "dtype: int64\n"
     ]
    }
   ],
   "source": [
    "### 카테고리형 컬럼 전처리 \n",
    "## nunique() 각 열에서 고유한 값의 갯수\n",
    "## 카테고리형 데이터를 찾는 이유는 \n",
    "## 머신러닝 알고리즘은 숫자 데이터 입력을 요구한다. 때문에 모델이 이해할 수 있는 형태로 입력\n",
    "\n",
    "# 순서없는 카테고리 : One-Hot Encoding을 주로 사용합니다. 예를 들어, \"빨강\", \"파랑\", \"노랑\"은 순서가 없기 때문에 \n",
    "# 이를 각각의 열로 나누고 0 또는 1로 표시합니다.\n",
    "\n",
    "# 순서 있는 카테고리: Label Encoding 또는 다른 방법으로 순서가 있는 숫자 값으로 변환합니다. 예를 들어, \n",
    "# \"초급\", \"중급\", \"고급\"은 1, 2, 3으로 변환 가능.\n",
    "\n",
    "print(X_train.select_dtypes(\"object\").nunique())\n"
   ]
  },
  {
   "cell_type": "code",
   "execution_count": 16,
   "metadata": {},
   "outputs": [],
   "source": [
    "X_train = X_train.drop(columns=\"Nationality\")\n",
    "X_test = X_test.drop(columns=\"Nationality\")"
   ]
  },
  {
   "cell_type": "code",
   "execution_count": 17,
   "metadata": {},
   "outputs": [],
   "source": [
    "## 나이의 일의 자리가 마스킹 처리가 되어 있따. \n",
    "\n",
    "# 10대, 20대, 30대 형태를 1, 2, 3으로 카테고리형 파생변수로 생성\n",
    "X_train[\"Age_gp\"] = X_train[\"Age\"].str[0]\n",
    "X_test[\"Age_gp\"] = X_test[\"Age\"].str[0]\n",
    "\n",
    "X_train = X_train.drop(\"Age\", axis=1)\n",
    "X_test = X_test.drop(\"Age\", axis=1)"
   ]
  },
  {
   "cell_type": "code",
   "execution_count": 18,
   "metadata": {},
   "outputs": [],
   "source": [
    "### Club 컬럼은 \n",
    "### 시장가치를 예측하는데에 필요하지 않은 것으로 가정하고 삭제 \n",
    "X_train = X_train.drop(columns=\"Club\")\n",
    "X_test = X_test.drop(columns=\"Club\")"
   ]
  },
  {
   "cell_type": "code",
   "execution_count": 19,
   "metadata": {},
   "outputs": [],
   "source": [
    "### Preferred_Foot 선수가 주로 사용하는 발\n",
    "### 유지 "
   ]
  },
  {
   "cell_type": "code",
   "execution_count": 20,
   "metadata": {},
   "outputs": [],
   "source": [
    "### 공격운동량/방어운동량을 의미 \n",
    "### 공격운동량 컬럼과 방어운도량 컬럼을 각각 구분하여 Low, medium, high 로 생성\n",
    "\n",
    "Work_Rate_train = X_train[\"Work_Rate\"].copy()\n",
    "Work_Rate_trian = Work_Rate_train.str.replace(\" \", \"\")\n",
    "\n",
    "X_train[\"WR_Attack\"] = Work_Rate_train.str.split(\"/\", expand=True)[0]\n",
    "X_train[\"WR_Defend\"] = Work_Rate_train.str.split(\"/\", expand=True)[1]\n",
    "\n",
    "X_train = X_train.drop(columns=\"Work_Rate\")\n"
   ]
  },
  {
   "cell_type": "code",
   "execution_count": 21,
   "metadata": {},
   "outputs": [],
   "source": [
    "Work_Rate_test = X_test[\"Work_Rate\"].copy()\n",
    "Work_Rate_test = Work_Rate_test.str.replace(\" \", \"\")\n",
    "\n",
    "X_test[\"WR_Attack\"] = Work_Rate_test.str.split(\"/\", expand=True)[0]\n",
    "X_test[\"WR_Defend\"] = Work_Rate_test.str.split(\"/\", expand=True)[1]\n",
    "\n",
    "X_test = X_test.drop(columns=\"Work_Rate\")"
   ]
  },
  {
   "cell_type": "code",
   "execution_count": 22,
   "metadata": {},
   "outputs": [
    {
     "name": "stderr",
     "output_type": "stream",
     "text": [
      "/Users/hyuniljo/Library/Python/3.12/lib/python/site-packages/IPython/core/inputtransformer2.py:627: UserWarning: `make_tokens_by_line` received a list of lines which do not have lineending markers ('\\n', '\\r', '\\r\\n', '\\x0b', '\\x0c'), behavior will be unspecified\n",
      "  tokens_by_line = make_tokens_by_line(lines)\n"
     ]
    },
    {
     "data": {
      "text/plain": [
       "Index(['Overall', 'Jersey_Number', 'Contract_Valid_Until', 'Height_cm',\n",
       "       'Weight_lb', 'Release_Clause', 'Wage'],\n",
       "      dtype='object')"
      ]
     },
     "execution_count": 22,
     "metadata": {},
     "output_type": "execute_result"
    }
   ],
   "source": [
    "### 수치형 컬럼 전처리\u001d\n",
    "### 수치형 데이터의 값 범위 차이가 너무 크면 모델 학습에 문제를 일으킬 수 있다. \n",
    "### 스케일링(표준화, 정규화)\n",
    "\n",
    "X_train.select_dtypes(exclude=\"object\").columns"
   ]
  },
  {
   "cell_type": "code",
   "execution_count": 23,
   "metadata": {},
   "outputs": [],
   "source": [
    "### Jersey_Number 컬럼은 필요없다고 판단\n",
    "X_train = X_train.drop(columns=\"Jersey_Number\")\n",
    "X_test = X_test.drop(columns=\"Jersey_Number\")"
   ]
  },
  {
   "cell_type": "code",
   "execution_count": 24,
   "metadata": {},
   "outputs": [
    {
     "name": "stdout",
     "output_type": "stream",
     "text": [
      "[2019 2020 2022 2021 2018 2023 2024 2025 2026]\n"
     ]
    }
   ],
   "source": [
    "### 여기서의 연도는 카테고리의 의미를 지니고 있기 때문에 \n",
    "### 타입을 실수에서 오브젝트로 변환 \n",
    "\n",
    "print(X_train[\"Contract_Valid_Until\"].unique())\n",
    "\n",
    "X_train[\"CVU_gp\"] = X_train[\"Contract_Valid_Until\"].astype(\"object\")\n",
    "X_test[\"CVU_gp\"] = X_test[\"Contract_Valid_Until\"].astype(\"object\")\n",
    "\n",
    "X_train = X_train.drop(columns=\"Contract_Valid_Until\")\n",
    "X_test = X_test.drop(columns=\"Contract_Valid_Until\")"
   ]
  },
  {
   "cell_type": "code",
   "execution_count": 25,
   "metadata": {},
   "outputs": [
    {
     "data": {
      "text/html": [
       "<div>\n",
       "<style scoped>\n",
       "    .dataframe tbody tr th:only-of-type {\n",
       "        vertical-align: middle;\n",
       "    }\n",
       "\n",
       "    .dataframe tbody tr th {\n",
       "        vertical-align: top;\n",
       "    }\n",
       "\n",
       "    .dataframe thead th {\n",
       "        text-align: right;\n",
       "    }\n",
       "</style>\n",
       "<table border=\"1\" class=\"dataframe\">\n",
       "  <thead>\n",
       "    <tr style=\"text-align: right;\">\n",
       "      <th></th>\n",
       "      <th>Overall</th>\n",
       "      <th>Height_cm</th>\n",
       "      <th>Weight_lb</th>\n",
       "      <th>Release_Clause</th>\n",
       "      <th>Wage</th>\n",
       "    </tr>\n",
       "  </thead>\n",
       "  <tbody>\n",
       "    <tr>\n",
       "      <th>Overall</th>\n",
       "      <td>1.000000</td>\n",
       "      <td>0.033070</td>\n",
       "      <td>0.142888</td>\n",
       "      <td>0.630162</td>\n",
       "      <td>0.593469</td>\n",
       "    </tr>\n",
       "    <tr>\n",
       "      <th>Height_cm</th>\n",
       "      <td>0.033070</td>\n",
       "      <td>1.000000</td>\n",
       "      <td>0.763351</td>\n",
       "      <td>-0.007983</td>\n",
       "      <td>-0.001661</td>\n",
       "    </tr>\n",
       "    <tr>\n",
       "      <th>Weight_lb</th>\n",
       "      <td>0.142888</td>\n",
       "      <td>0.763351</td>\n",
       "      <td>1.000000</td>\n",
       "      <td>0.033941</td>\n",
       "      <td>0.053856</td>\n",
       "    </tr>\n",
       "    <tr>\n",
       "      <th>Release_Clause</th>\n",
       "      <td>0.630162</td>\n",
       "      <td>-0.007983</td>\n",
       "      <td>0.033941</td>\n",
       "      <td>1.000000</td>\n",
       "      <td>0.835107</td>\n",
       "    </tr>\n",
       "    <tr>\n",
       "      <th>Wage</th>\n",
       "      <td>0.593469</td>\n",
       "      <td>-0.001661</td>\n",
       "      <td>0.053856</td>\n",
       "      <td>0.835107</td>\n",
       "      <td>1.000000</td>\n",
       "    </tr>\n",
       "  </tbody>\n",
       "</table>\n",
       "</div>"
      ],
      "text/plain": [
       "                 Overall  Height_cm  Weight_lb  Release_Clause      Wage\n",
       "Overall         1.000000   0.033070   0.142888        0.630162  0.593469\n",
       "Height_cm       0.033070   1.000000   0.763351       -0.007983 -0.001661\n",
       "Weight_lb       0.142888   0.763351   1.000000        0.033941  0.053856\n",
       "Release_Clause  0.630162  -0.007983   0.033941        1.000000  0.835107\n",
       "Wage            0.593469  -0.001661   0.053856        0.835107  1.000000"
      ]
     },
     "execution_count": 25,
     "metadata": {},
     "output_type": "execute_result"
    }
   ],
   "source": [
    "### 연속형 데이터 변수의 상관관계 분석\n",
    "\n",
    "cols = list(X_train.select_dtypes(exclude=\"object\").columns)\n",
    "X_train[cols].corr()"
   ]
  },
  {
   "cell_type": "code",
   "execution_count": 26,
   "metadata": {},
   "outputs": [],
   "source": [
    "### Realease_Clause와 wage 두 독립변수간의 강한 상관관계가 나타내므로 \n",
    "### Realease_Clause 컬럼 삭제 \n",
    "X_train = X_train.drop(columns=\"Release_Clause\")\n",
    "X_test = X_test.drop(columns=\"Release_Clause\")"
   ]
  },
  {
   "cell_type": "code",
   "execution_count": 27,
   "metadata": {},
   "outputs": [
    {
     "name": "stdout",
     "output_type": "stream",
     "text": [
      "(2469, 10)\n",
      "(1059, 10)\n",
      "(2469, 1)\n",
      "(1059, 1)\n"
     ]
    }
   ],
   "source": [
    "### 데이터분할 \n",
    "## 모델을 만들기 위해서 X_train, y_train 데이터를 가지고 데이털르 분할 \n",
    "## X_test는 학습시킨 모델을 가지고 우리가 구해야 할 값 \n",
    "\n",
    "from sklearn.model_selection import train_test_split \n",
    "\n",
    "X_TRAIN, X_VAL, y_TRAIN, y_VAL = train_test_split(\n",
    "  X_train, \n",
    "  y_train, \n",
    "  test_size=0.3, \n",
    "  random_state=1234\n",
    ")\n",
    "\n",
    "print(X_TRAIN.shape)\n",
    "print(X_VAL.shape)\n",
    "print(y_TRAIN.shape)\n",
    "print(y_VAL.shape)"
   ]
  },
  {
   "cell_type": "code",
   "execution_count": 28,
   "metadata": {},
   "outputs": [],
   "source": [
    "### 스케일링 \n",
    "## 카테고리 컬럼에 대하여 원핫 인코딩 수행 \n",
    "\n",
    "from sklearn.preprocessing import OneHotEncoder\n",
    "\n",
    "X_TRAIN_category = X_TRAIN.select_dtypes(include=\"object\").copy()\n",
    "X_VAL_category = X_VAL.select_dtypes(include=\"object\").copy()\n",
    "X_TEST_category = X_test.select_dtypes(include=\"object\").copy()\n",
    "\n",
    "# handle_unknown 훈련 시 보지 못한 새로운 카테고리 값이 나타났을 때 오류를 발생시키지 않고 무시합니다. \n",
    "# 해당 값에 대한 원-핫 인코딩 결과는 모두 0으로 처리\n",
    "\n",
    "# sparse_output=False로 설정하면 밀집 행렬 형태의 NumPy 배열을 반환\n",
    "# 모든 값을 저장한 일반적인 2D 배열 형태.\n",
    "enc = OneHotEncoder(handle_unknown=\"ignore\", sparse_output=False).fit(X_TRAIN_category)\n",
    "\n",
    "# 훈련 데이터에서 학습된 카테고리와 그에 해당하는 인코딩 규칙을 검증 및 테스트 데이터에도 일관되게 적용해야 \n",
    "# 모델이 각 카테고리 값을 동일한 방식으로 처리할 수 있습니다\n",
    "X_TRAIN_OH = enc.transform(X_TRAIN_category)\n",
    "X_VAL_OH = enc.transform(X_VAL_category)\n",
    "X_TEST_OH = enc.transform(X_TEST_category)\n"
   ]
  },
  {
   "cell_type": "code",
   "execution_count": 29,
   "metadata": {},
   "outputs": [],
   "source": [
    "### 수치형 데이터 컬럼에 대히서 z-점수 표준화 수행\n",
    "\n",
    "from sklearn.preprocessing import StandardScaler \n",
    "\n",
    "colnm_conti = ['Overall', 'Height_cm', 'Weight_lb', 'Wage']\n",
    "X_TRAIN_conti = X_TRAIN[colnm_conti].copy()\n",
    "X_VAL_conti = X_VAL[colnm_conti].copy()\n",
    "X_TEST_conti = X_test[colnm_conti].copy() \n",
    "\n",
    "scale = StandardScaler().fit(X_TRAIN_conti)\n",
    "\n",
    "X_TRAIN_STD = scale.transform(X_TRAIN_conti)\n",
    "X_VAL_STD = scale.transform(X_VAL_conti)\n",
    "X_TEST_STD = scale.transform(X_TEST_conti)"
   ]
  },
  {
   "cell_type": "code",
   "execution_count": 30,
   "metadata": {},
   "outputs": [
    {
     "name": "stdout",
     "output_type": "stream",
     "text": [
      "(2469, 23)\n",
      "(2469, 4)\n",
      "(2469, 1)\n",
      "(1059, 1)\n"
     ]
    }
   ],
   "source": [
    "print(X_TRAIN_OH.shape)\n",
    "print(X_TRAIN_STD.shape)\n",
    "\n",
    "print(y_TRAIN.shape)\n",
    "print(y_VAL.shape)"
   ]
  },
  {
   "cell_type": "code",
   "execution_count": 31,
   "metadata": {},
   "outputs": [
    {
     "name": "stdout",
     "output_type": "stream",
     "text": [
      "(2469,)\n",
      "(1059,)\n"
     ]
    }
   ],
   "source": [
    "# 입력데이터셋 준비 \n",
    "# 인코딩과 스케일링을 거친 데이터들을 하나의 훈련데이터로 결합 \n",
    "\n",
    "import numpy as np \n",
    "\n",
    "X_TRAIN = np.concatenate([X_TRAIN_OH, X_TRAIN_STD], axis=1)\n",
    "X_VAL = np.concatenate([X_VAL_OH, X_VAL_STD], axis=1)\n",
    "\n",
    "# ravel() 다차원 배열을 1차원 배열로 바꾸어, 머신러닝 모델이 예측 대상인 레이블을 처리하기 쉽도록 변환\n",
    "# values는 Pandas의 데이터프레임이나 시리즈에서 데이터를 NumPy 배열로 추출하는 속성\n",
    "y_TRAIN = y_TRAIN.values.ravel()\n",
    "y_VAL = y_VAL.values.ravel()\n",
    "\n",
    "print(y_TRAIN.shape)\n",
    "print(y_VAL.shape)"
   ]
  },
  {
   "cell_type": "code",
   "execution_count": 32,
   "metadata": {},
   "outputs": [],
   "source": [
    "### 모델학습\n",
    "## 범주형데이터와 연속형데이터가 있는 데이터셋에서 사용할 수 있는 모델 \n",
    "\n",
    "from sklearn.tree import DecisionTreeRegressor\n",
    "from sklearn.ensemble import RandomForestRegressor, BaggingRegressor, AdaBoostRegressor \n",
    "from sklearn.metrics import root_mean_squared_error "
   ]
  },
  {
   "cell_type": "code",
   "execution_count": 33,
   "metadata": {},
   "outputs": [
    {
     "name": "stdout",
     "output_type": "stream",
     "text": [
      "1502.4661127616116\n"
     ]
    }
   ],
   "source": [
    "### Random-forest\n",
    "\n",
    "rf = RandomForestRegressor(\n",
    "  n_estimators=500,\n",
    "  max_depth=3, \n",
    "  min_samples_leaf=10, \n",
    "  random_state=2022\n",
    ")\n",
    "rf.fit(X_TRAIN, y_TRAIN)\n",
    "pred_rf = rf.predict(X_VAL)\n",
    "\n",
    "\n",
    "# rmse 검증\n",
    "\n",
    "rmse = root_mean_squared_error(y_VAL, pred_rf)\n",
    "print(rmse)"
   ]
  },
  {
   "cell_type": "code",
   "execution_count": 34,
   "metadata": {},
   "outputs": [
    {
     "name": "stdout",
     "output_type": "stream",
     "text": [
      "1715.3877113004723\n"
     ]
    }
   ],
   "source": [
    "### AdaBoost \n",
    "dtr = DecisionTreeRegressor(\n",
    "  max_depth=3, \n",
    "  min_samples_leaf=10\n",
    ")\n",
    "ada = AdaBoostRegressor(\n",
    "  estimator=dtr, \n",
    "  n_estimators=500, \n",
    "  learning_rate=0.5, \n",
    "  random_state=2022\n",
    ")\n",
    "ada.fit(X_TRAIN, y_TRAIN)\n",
    "pred_ada = ada.predict(X_VAL)\n",
    "\n",
    "# 검증\n",
    "rmse = root_mean_squared_error(y_VAL, pred_ada)\n",
    "print(rmse)"
   ]
  },
  {
   "cell_type": "code",
   "execution_count": 35,
   "metadata": {},
   "outputs": [
    {
     "name": "stdout",
     "output_type": "stream",
     "text": [
      "1502.7485698613648\n"
     ]
    }
   ],
   "source": [
    "### Bagging \n",
    "dtr = DecisionTreeRegressor(\n",
    "  max_depth=3, \n",
    "  min_samples_leaf=10\n",
    ")\n",
    "bag = BaggingRegressor(\n",
    "  estimator=dtr, \n",
    "  n_estimators=500, \n",
    "  random_state=2022\n",
    ")\n",
    "bag.fit(X_TRAIN, y_TRAIN)\n",
    "pred_bag = bag.predict(X_VAL)\n",
    "\n",
    "# 검증\n",
    "rmse = root_mean_squared_error(y_VAL, pred_bag)\n",
    "print(rmse)"
   ]
  },
  {
   "cell_type": "code",
   "execution_count": 38,
   "metadata": {},
   "outputs": [],
   "source": [
    "### 결과제출\n",
    "\n",
    "X_TEST = np.concatenate([X_TEST_OH, X_TEST_STD], axis=1)\n",
    "y_pred = rf.predict(X_TEST)\n",
    "\n",
    "obj = {\n",
    "  \"id\": ID, \n",
    "  \"Value\": y_pred\n",
    "}\n",
    "\n",
    "result = pd.DataFrame(obj)\n",
    "\n",
    "result.to_csv(\"연습문제1.csv\", index=False)"
   ]
  },
  {
   "cell_type": "code",
   "execution_count": null,
   "metadata": {},
   "outputs": [],
   "source": []
  }
 ],
 "metadata": {
  "kernelspec": {
   "display_name": "Python 3",
   "language": "python",
   "name": "python3"
  },
  "language_info": {
   "codemirror_mode": {
    "name": "ipython",
    "version": 3
   },
   "file_extension": ".py",
   "mimetype": "text/x-python",
   "name": "python",
   "nbconvert_exporter": "python",
   "pygments_lexer": "ipython3",
   "version": "3.12.3"
  }
 },
 "nbformat": 4,
 "nbformat_minor": 2
}

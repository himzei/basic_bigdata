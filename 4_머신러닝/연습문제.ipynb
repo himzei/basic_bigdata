{
 "cells": [
  {
   "cell_type": "code",
   "execution_count": 194,
   "metadata": {},
   "outputs": [
    {
     "name": "stdout",
     "output_type": "stream",
     "text": [
      "(3600, 16)\n",
      "(2400, 16)\n",
      "(3600, 2)\n"
     ]
    }
   ],
   "source": [
    "###### 연습문제1. \n",
    "\n",
    "import pandas as pd \n",
    "X_train = pd.read_csv(\"../data/연습문제/FIFA_X_train.csv\", encoding=\"CP949\")\n",
    "X_test = pd.read_csv(\"../data/연습문제/FIFA_X_test.csv\", encoding=\"CP949\")\n",
    "y_train = pd.read_csv(\"../data/연습문제/FIFA_y_train.csv\", encoding=\"CP949\")\n",
    "\n",
    "print(X_train.shape)\n",
    "print(X_test.shape)\n",
    "print(y_train.shape)\n",
    "\n"
   ]
  },
  {
   "cell_type": "code",
   "execution_count": 195,
   "metadata": {},
   "outputs": [
    {
     "name": "stdout",
     "output_type": "stream",
     "text": [
      "ID                        0\n",
      "Age                       0\n",
      "Nationality               0\n",
      "Overall                   0\n",
      "Club                      0\n",
      "Preferred_Foot            0\n",
      "Work_Rate                 0\n",
      "Position                  0\n",
      "Position_Class          758\n",
      "Jersey_Number             0\n",
      "Contract_Valid_Until      0\n",
      "Height                    0\n",
      "Height_cm               292\n",
      "Weight_lb                72\n",
      "Release_Clause            0\n",
      "Wage                      0\n",
      "dtype: int64\n",
      "ID                        0\n",
      "Age                       0\n",
      "Nationality               0\n",
      "Overall                   0\n",
      "Club                      0\n",
      "Preferred_Foot            0\n",
      "Work_Rate                 0\n",
      "Position                  0\n",
      "Position_Class          509\n",
      "Jersey_Number             0\n",
      "Contract_Valid_Until      0\n",
      "Height                    0\n",
      "Height_cm               188\n",
      "Weight_lb                 0\n",
      "Release_Clause            0\n",
      "Wage                      0\n",
      "dtype: int64\n"
     ]
    }
   ],
   "source": [
    "print(X_train.isnull().sum())\n",
    "print(X_test.isnull().sum())"
   ]
  },
  {
   "cell_type": "code",
   "execution_count": 196,
   "metadata": {},
   "outputs": [],
   "source": [
    "X_train[\"Position_Class\"].value_counts()\n",
    "X_train[\"Position_Class\"] = X_train[\"Position_Class\"].fillna(\"unknown\")\n"
   ]
  },
  {
   "cell_type": "code",
   "execution_count": 197,
   "metadata": {},
   "outputs": [
    {
     "data": {
      "text/plain": [
       "Position_Class\n",
       "Defender      1400\n",
       "Midfielder     790\n",
       "unknown        758\n",
       "Forward        652\n",
       "Name: count, dtype: int64"
      ]
     },
     "execution_count": 197,
     "metadata": {},
     "output_type": "execute_result"
    }
   ],
   "source": [
    "X_train[\"Position_Class\"].value_counts()"
   ]
  },
  {
   "cell_type": "code",
   "execution_count": 198,
   "metadata": {},
   "outputs": [
    {
     "data": {
      "text/html": [
       "<div>\n",
       "<style scoped>\n",
       "    .dataframe tbody tr th:only-of-type {\n",
       "        vertical-align: middle;\n",
       "    }\n",
       "\n",
       "    .dataframe tbody tr th {\n",
       "        vertical-align: top;\n",
       "    }\n",
       "\n",
       "    .dataframe thead th {\n",
       "        text-align: right;\n",
       "    }\n",
       "</style>\n",
       "<table border=\"1\" class=\"dataframe\">\n",
       "  <thead>\n",
       "    <tr style=\"text-align: right;\">\n",
       "      <th>Position_Class</th>\n",
       "      <th>Defender</th>\n",
       "      <th>Forward</th>\n",
       "      <th>Midfielder</th>\n",
       "      <th>unknown</th>\n",
       "    </tr>\n",
       "    <tr>\n",
       "      <th>Position</th>\n",
       "      <th></th>\n",
       "      <th></th>\n",
       "      <th></th>\n",
       "      <th></th>\n",
       "    </tr>\n",
       "  </thead>\n",
       "  <tbody>\n",
       "    <tr>\n",
       "      <th>CAM</th>\n",
       "      <td>0</td>\n",
       "      <td>0</td>\n",
       "      <td>212</td>\n",
       "      <td>0</td>\n",
       "    </tr>\n",
       "    <tr>\n",
       "      <th>CB</th>\n",
       "      <td>349</td>\n",
       "      <td>0</td>\n",
       "      <td>0</td>\n",
       "      <td>0</td>\n",
       "    </tr>\n",
       "    <tr>\n",
       "      <th>CDM</th>\n",
       "      <td>178</td>\n",
       "      <td>0</td>\n",
       "      <td>0</td>\n",
       "      <td>0</td>\n",
       "    </tr>\n",
       "    <tr>\n",
       "      <th>CF</th>\n",
       "      <td>0</td>\n",
       "      <td>12</td>\n",
       "      <td>0</td>\n",
       "      <td>0</td>\n",
       "    </tr>\n",
       "    <tr>\n",
       "      <th>CM</th>\n",
       "      <td>0</td>\n",
       "      <td>0</td>\n",
       "      <td>0</td>\n",
       "      <td>295</td>\n",
       "    </tr>\n",
       "    <tr>\n",
       "      <th>GK</th>\n",
       "      <td>0</td>\n",
       "      <td>0</td>\n",
       "      <td>0</td>\n",
       "      <td>391</td>\n",
       "    </tr>\n",
       "    <tr>\n",
       "      <th>LAM</th>\n",
       "      <td>0</td>\n",
       "      <td>0</td>\n",
       "      <td>4</td>\n",
       "      <td>0</td>\n",
       "    </tr>\n",
       "    <tr>\n",
       "      <th>LB</th>\n",
       "      <td>283</td>\n",
       "      <td>0</td>\n",
       "      <td>0</td>\n",
       "      <td>0</td>\n",
       "    </tr>\n",
       "    <tr>\n",
       "      <th>LCB</th>\n",
       "      <td>136</td>\n",
       "      <td>0</td>\n",
       "      <td>0</td>\n",
       "      <td>0</td>\n",
       "    </tr>\n",
       "    <tr>\n",
       "      <th>LCM</th>\n",
       "      <td>0</td>\n",
       "      <td>0</td>\n",
       "      <td>86</td>\n",
       "      <td>0</td>\n",
       "    </tr>\n",
       "    <tr>\n",
       "      <th>LDM</th>\n",
       "      <td>48</td>\n",
       "      <td>0</td>\n",
       "      <td>0</td>\n",
       "      <td>0</td>\n",
       "    </tr>\n",
       "    <tr>\n",
       "      <th>LF</th>\n",
       "      <td>0</td>\n",
       "      <td>0</td>\n",
       "      <td>0</td>\n",
       "      <td>3</td>\n",
       "    </tr>\n",
       "    <tr>\n",
       "      <th>LM</th>\n",
       "      <td>0</td>\n",
       "      <td>0</td>\n",
       "      <td>208</td>\n",
       "      <td>0</td>\n",
       "    </tr>\n",
       "    <tr>\n",
       "      <th>LS</th>\n",
       "      <td>0</td>\n",
       "      <td>42</td>\n",
       "      <td>0</td>\n",
       "      <td>0</td>\n",
       "    </tr>\n",
       "    <tr>\n",
       "      <th>LW</th>\n",
       "      <td>0</td>\n",
       "      <td>71</td>\n",
       "      <td>0</td>\n",
       "      <td>0</td>\n",
       "    </tr>\n",
       "    <tr>\n",
       "      <th>LWB</th>\n",
       "      <td>24</td>\n",
       "      <td>0</td>\n",
       "      <td>0</td>\n",
       "      <td>0</td>\n",
       "    </tr>\n",
       "    <tr>\n",
       "      <th>RAM</th>\n",
       "      <td>0</td>\n",
       "      <td>0</td>\n",
       "      <td>5</td>\n",
       "      <td>0</td>\n",
       "    </tr>\n",
       "    <tr>\n",
       "      <th>RB</th>\n",
       "      <td>263</td>\n",
       "      <td>0</td>\n",
       "      <td>0</td>\n",
       "      <td>0</td>\n",
       "    </tr>\n",
       "    <tr>\n",
       "      <th>RCB</th>\n",
       "      <td>119</td>\n",
       "      <td>0</td>\n",
       "      <td>0</td>\n",
       "      <td>0</td>\n",
       "    </tr>\n",
       "    <tr>\n",
       "      <th>RCM</th>\n",
       "      <td>0</td>\n",
       "      <td>0</td>\n",
       "      <td>65</td>\n",
       "      <td>0</td>\n",
       "    </tr>\n",
       "    <tr>\n",
       "      <th>RDM</th>\n",
       "      <td>0</td>\n",
       "      <td>0</td>\n",
       "      <td>0</td>\n",
       "      <td>44</td>\n",
       "    </tr>\n",
       "    <tr>\n",
       "      <th>RF</th>\n",
       "      <td>0</td>\n",
       "      <td>4</td>\n",
       "      <td>0</td>\n",
       "      <td>0</td>\n",
       "    </tr>\n",
       "    <tr>\n",
       "      <th>RM</th>\n",
       "      <td>0</td>\n",
       "      <td>0</td>\n",
       "      <td>210</td>\n",
       "      <td>0</td>\n",
       "    </tr>\n",
       "    <tr>\n",
       "      <th>RS</th>\n",
       "      <td>0</td>\n",
       "      <td>36</td>\n",
       "      <td>0</td>\n",
       "      <td>0</td>\n",
       "    </tr>\n",
       "    <tr>\n",
       "      <th>RW</th>\n",
       "      <td>0</td>\n",
       "      <td>62</td>\n",
       "      <td>0</td>\n",
       "      <td>0</td>\n",
       "    </tr>\n",
       "    <tr>\n",
       "      <th>RWB</th>\n",
       "      <td>0</td>\n",
       "      <td>0</td>\n",
       "      <td>0</td>\n",
       "      <td>25</td>\n",
       "    </tr>\n",
       "    <tr>\n",
       "      <th>ST</th>\n",
       "      <td>0</td>\n",
       "      <td>425</td>\n",
       "      <td>0</td>\n",
       "      <td>0</td>\n",
       "    </tr>\n",
       "  </tbody>\n",
       "</table>\n",
       "</div>"
      ],
      "text/plain": [
       "Position_Class  Defender  Forward  Midfielder  unknown\n",
       "Position                                              \n",
       "CAM                    0        0         212        0\n",
       "CB                   349        0           0        0\n",
       "CDM                  178        0           0        0\n",
       "CF                     0       12           0        0\n",
       "CM                     0        0           0      295\n",
       "GK                     0        0           0      391\n",
       "LAM                    0        0           4        0\n",
       "LB                   283        0           0        0\n",
       "LCB                  136        0           0        0\n",
       "LCM                    0        0          86        0\n",
       "LDM                   48        0           0        0\n",
       "LF                     0        0           0        3\n",
       "LM                     0        0         208        0\n",
       "LS                     0       42           0        0\n",
       "LW                     0       71           0        0\n",
       "LWB                   24        0           0        0\n",
       "RAM                    0        0           5        0\n",
       "RB                   263        0           0        0\n",
       "RCB                  119        0           0        0\n",
       "RCM                    0        0          65        0\n",
       "RDM                    0        0           0       44\n",
       "RF                     0        4           0        0\n",
       "RM                     0        0         210        0\n",
       "RS                     0       36           0        0\n",
       "RW                     0       62           0        0\n",
       "RWB                    0        0           0       25\n",
       "ST                     0      425           0        0"
      ]
     },
     "execution_count": 198,
     "metadata": {},
     "output_type": "execute_result"
    }
   ],
   "source": [
    "pd.crosstab(X_train[\"Position\"], X_train[\"Position_Class\"])"
   ]
  },
  {
   "cell_type": "code",
   "execution_count": 199,
   "metadata": {},
   "outputs": [
    {
     "data": {
      "text/plain": [
       "ID                        0\n",
       "Age                       0\n",
       "Nationality               0\n",
       "Overall                   0\n",
       "Club                      0\n",
       "Preferred_Foot            0\n",
       "Work_Rate                 0\n",
       "Position                  0\n",
       "Position_Class          509\n",
       "Jersey_Number             0\n",
       "Contract_Valid_Until      0\n",
       "Height                    0\n",
       "Height_cm               188\n",
       "Weight_lb                 0\n",
       "Release_Clause            0\n",
       "Wage                      0\n",
       "dtype: int64"
      ]
     },
     "execution_count": 199,
     "metadata": {},
     "output_type": "execute_result"
    }
   ],
   "source": [
    "# X_train[\"Position_Class\"][X_train[\"Position\"] == \"LF\"] = \"Forward\"\n",
    "PC_train = X_train[\"Position_Class\"].copy()\n",
    "PC_train[X_train[\"Position\"] == \"LF\"] = \"Forward\"\n",
    "PC_train[X_train[\"Position\"] == \"CM\"] = \"Midfielder\"\n",
    "PC_train[X_train[\"Position\"] == \"GK\"] = \"GoalKeeper\"\n",
    "PC_train[X_train[\"Position\"] == \"RDM\"] = \"Defender\"\n",
    "PC_train[X_train[\"Position\"] == \"RWB\"] = \"Defender\"\n",
    "\n",
    "X_train.isnull().sum()\n",
    "X_test.isnull().sum()"
   ]
  },
  {
   "cell_type": "code",
   "execution_count": 200,
   "metadata": {},
   "outputs": [],
   "source": [
    "PC_test = X_test[\"Position_Class\"].copy()\n",
    "PC_test[X_test[\"Position\"] == \"LF\"] = \"Forward\"\n",
    "PC_test[X_test[\"Position\"] == \"CM\"] = \"Midfielder\"\n",
    "PC_test[X_test[\"Position\"] == \"GK\"] = \"GoalKeeper\"\n",
    "PC_test[X_test[\"Position\"] == \"RDM\"] = \"Defender\"\n",
    "PC_test[X_test[\"Position\"] == \"RWB\"] = \"Defender\"\n",
    "\n"
   ]
  },
  {
   "cell_type": "code",
   "execution_count": 201,
   "metadata": {},
   "outputs": [
    {
     "data": {
      "text/plain": [
       "ID                        0\n",
       "Age                       0\n",
       "Nationality               0\n",
       "Overall                   0\n",
       "Club                      0\n",
       "Preferred_Foot            0\n",
       "Work_Rate                 0\n",
       "Position                  0\n",
       "Position_Class            0\n",
       "Jersey_Number             0\n",
       "Contract_Valid_Until      0\n",
       "Height                    0\n",
       "Height_cm               188\n",
       "Weight_lb                 0\n",
       "Release_Clause            0\n",
       "Wage                      0\n",
       "dtype: int64"
      ]
     },
     "execution_count": 201,
     "metadata": {},
     "output_type": "execute_result"
    }
   ],
   "source": [
    "X_test[\"Position_Class\"] = PC_test\n",
    "X_test.isnull().sum()"
   ]
  },
  {
   "cell_type": "code",
   "execution_count": 202,
   "metadata": {},
   "outputs": [
    {
     "data": {
      "text/plain": [
       "ID                        0\n",
       "Age                       0\n",
       "Nationality               0\n",
       "Overall                   0\n",
       "Club                      0\n",
       "Preferred_Foot            0\n",
       "Work_Rate                 0\n",
       "Position                  0\n",
       "Position_Class            0\n",
       "Jersey_Number             0\n",
       "Contract_Valid_Until      0\n",
       "Height                    0\n",
       "Height_cm               292\n",
       "Weight_lb                72\n",
       "Release_Clause            0\n",
       "Wage                      0\n",
       "dtype: int64"
      ]
     },
     "execution_count": 202,
     "metadata": {},
     "output_type": "execute_result"
    }
   ],
   "source": [
    "X_train.isnull().sum()"
   ]
  },
  {
   "cell_type": "code",
   "execution_count": 203,
   "metadata": {},
   "outputs": [
    {
     "data": {
      "text/plain": [
       "0        5'8\n",
       "1        6'0\n",
       "2        5'9\n",
       "3       5'10\n",
       "4       5'10\n",
       "        ... \n",
       "3595     6'6\n",
       "3596    5'10\n",
       "3597     6'0\n",
       "3598    5'10\n",
       "3599    5'10\n",
       "Name: Height, Length: 3600, dtype: object"
      ]
     },
     "execution_count": 203,
     "metadata": {},
     "output_type": "execute_result"
    }
   ],
   "source": [
    "X_train[\"Height\"]"
   ]
  },
  {
   "cell_type": "code",
   "execution_count": 204,
   "metadata": {},
   "outputs": [],
   "source": [
    "Height_train = X_train[\"Height\"].copy()\n",
    "Height_cm_train = X_train[\"Height_cm\"].copy()\n",
    "\n",
    "split_str_train = Height_train.str.split(\"'\", expand=True).astype(\"float64\")\n",
    "Height_cm_train.isnull().sum()\n",
    "Height_cm_train = Height_cm_train.fillna(split_str_train[0] * 30 + split_str_train[1] * 2.5)\n",
    "X_train[\"Height_cm\"] = Height_cm_train\n",
    "\n"
   ]
  },
  {
   "cell_type": "code",
   "execution_count": 205,
   "metadata": {},
   "outputs": [],
   "source": [
    "Height_test = X_test[\"Height\"].copy()\n",
    "Height_cm_test = X_test[\"Height_cm\"].copy()\n",
    "\n",
    "split_str_test = Height_test.str.split(\"'\", expand=True).astype(\"float64\")\n",
    "Height_cm_test.isnull().sum()\n",
    "Height_cm_test = Height_cm_train.fillna(split_str_test[0] * 30 + split_str_test[1] * 2.5)\n",
    "X_test[\"Height_cm\"] = Height_cm_test\n"
   ]
  },
  {
   "cell_type": "code",
   "execution_count": 206,
   "metadata": {},
   "outputs": [
    {
     "data": {
      "text/plain": [
       "ID                       0\n",
       "Age                      0\n",
       "Nationality              0\n",
       "Overall                  0\n",
       "Club                     0\n",
       "Preferred_Foot           0\n",
       "Work_Rate                0\n",
       "Position                 0\n",
       "Position_Class           0\n",
       "Jersey_Number            0\n",
       "Contract_Valid_Until     0\n",
       "Height                   0\n",
       "Height_cm                0\n",
       "Weight_lb               72\n",
       "Release_Clause           0\n",
       "Wage                     0\n",
       "dtype: int64"
      ]
     },
     "execution_count": 206,
     "metadata": {},
     "output_type": "execute_result"
    }
   ],
   "source": [
    "X_train.isnull().sum()"
   ]
  },
  {
   "cell_type": "code",
   "execution_count": 207,
   "metadata": {},
   "outputs": [
    {
     "data": {
      "text/plain": [
       "ID                      0\n",
       "Age                     0\n",
       "Nationality             0\n",
       "Overall                 0\n",
       "Club                    0\n",
       "Preferred_Foot          0\n",
       "Work_Rate               0\n",
       "Position                0\n",
       "Position_Class          0\n",
       "Jersey_Number           0\n",
       "Contract_Valid_Until    0\n",
       "Height                  0\n",
       "Height_cm               0\n",
       "Weight_lb               0\n",
       "Release_Clause          0\n",
       "Wage                    0\n",
       "dtype: int64"
      ]
     },
     "execution_count": 207,
     "metadata": {},
     "output_type": "execute_result"
    }
   ],
   "source": [
    "X_test.isnull().sum()"
   ]
  },
  {
   "cell_type": "code",
   "execution_count": 208,
   "metadata": {},
   "outputs": [],
   "source": [
    "cond_na = X_train[\"Weight_lb\"].isnull()\n",
    "X_train.shape\n",
    "X_train = X_train[~cond_na]\n",
    "y_train = y_train[~cond_na]\n",
    "\n"
   ]
  },
  {
   "cell_type": "code",
   "execution_count": 209,
   "metadata": {},
   "outputs": [
    {
     "name": "stderr",
     "output_type": "stream",
     "text": [
      "/var/folders/f3/y_01_cpx01zcsklhzncvbvjw0000gn/T/ipykernel_20902/980867124.py:1: UserWarning: Boolean Series key will be reindexed to match DataFrame index.\n",
      "  y_train = y_train[~cond_na]\n"
     ]
    }
   ],
   "source": [
    "y_train = y_train[~cond_na]"
   ]
  },
  {
   "cell_type": "code",
   "execution_count": 210,
   "metadata": {},
   "outputs": [
    {
     "name": "stdout",
     "output_type": "stream",
     "text": [
      "(3528, 2)\n",
      "(3528, 16)\n"
     ]
    }
   ],
   "source": [
    "print(y_train.shape)\n",
    "print(X_train.shape)"
   ]
  },
  {
   "cell_type": "code",
   "execution_count": 211,
   "metadata": {},
   "outputs": [
    {
     "data": {
      "text/plain": [
       "Age                29\n",
       "Nationality       129\n",
       "Club              648\n",
       "Preferred_Foot      2\n",
       "Work_Rate           9\n",
       "Position           27\n",
       "Position_Class      4\n",
       "Height             20\n",
       "dtype: int64"
      ]
     },
     "execution_count": 211,
     "metadata": {},
     "output_type": "execute_result"
    }
   ],
   "source": [
    "X_train.select_dtypes(\"object\").nunique()"
   ]
  },
  {
   "cell_type": "code",
   "execution_count": 212,
   "metadata": {},
   "outputs": [
    {
     "name": "stdout",
     "output_type": "stream",
     "text": [
      "<class 'pandas.core.frame.DataFrame'>\n",
      "Index: 3528 entries, 0 to 3599\n",
      "Data columns (total 16 columns):\n",
      " #   Column                Non-Null Count  Dtype  \n",
      "---  ------                --------------  -----  \n",
      " 0   ID                    3528 non-null   int64  \n",
      " 1   Age                   3528 non-null   object \n",
      " 2   Nationality           3528 non-null   object \n",
      " 3   Overall               3528 non-null   int64  \n",
      " 4   Club                  3528 non-null   object \n",
      " 5   Preferred_Foot        3528 non-null   object \n",
      " 6   Work_Rate             3528 non-null   object \n",
      " 7   Position              3528 non-null   object \n",
      " 8   Position_Class        3528 non-null   object \n",
      " 9   Jersey_Number         3528 non-null   int64  \n",
      " 10  Contract_Valid_Until  3528 non-null   int64  \n",
      " 11  Height                3528 non-null   object \n",
      " 12  Height_cm             3528 non-null   float64\n",
      " 13  Weight_lb             3528 non-null   float64\n",
      " 14  Release_Clause        3528 non-null   int64  \n",
      " 15  Wage                  3528 non-null   int64  \n",
      "dtypes: float64(2), int64(6), object(8)\n",
      "memory usage: 468.6+ KB\n"
     ]
    }
   ],
   "source": [
    "X_train.info()"
   ]
  },
  {
   "cell_type": "code",
   "execution_count": 213,
   "metadata": {},
   "outputs": [
    {
     "data": {
      "text/plain": [
       "0       2*\n",
       "1       29\n",
       "2       23\n",
       "3       22\n",
       "4       18\n",
       "        ..\n",
       "3595    23\n",
       "3596    28\n",
       "3597    23\n",
       "3598    33\n",
       "3599    22\n",
       "Name: Age, Length: 3528, dtype: object"
      ]
     },
     "execution_count": 213,
     "metadata": {},
     "output_type": "execute_result"
    }
   ],
   "source": [
    "X_train[\"Age\"]"
   ]
  },
  {
   "cell_type": "code",
   "execution_count": 214,
   "metadata": {},
   "outputs": [
    {
     "data": {
      "text/plain": [
       "0        NaN\n",
       "1       29.0\n",
       "2       23.0\n",
       "3       22.0\n",
       "4       18.0\n",
       "        ... \n",
       "3595    23.0\n",
       "3596    28.0\n",
       "3597    23.0\n",
       "3598    33.0\n",
       "3599    22.0\n",
       "Name: Age, Length: 3528, dtype: float64"
      ]
     },
     "execution_count": 214,
     "metadata": {},
     "output_type": "execute_result"
    }
   ],
   "source": [
    "pd.to_numeric(X_train[\"Age\"], errors='coerce')"
   ]
  },
  {
   "cell_type": "code",
   "execution_count": 215,
   "metadata": {},
   "outputs": [
    {
     "data": {
      "text/plain": [
       "0       2\n",
       "1       2\n",
       "2       2\n",
       "3       2\n",
       "4       1\n",
       "       ..\n",
       "3595    2\n",
       "3596    2\n",
       "3597    2\n",
       "3598    3\n",
       "3599    2\n",
       "Name: Age, Length: 3528, dtype: object"
      ]
     },
     "execution_count": 215,
     "metadata": {},
     "output_type": "execute_result"
    }
   ],
   "source": [
    "X_train[\"Age\"].str[0]"
   ]
  },
  {
   "cell_type": "code",
   "execution_count": 216,
   "metadata": {},
   "outputs": [],
   "source": [
    "X_train[\"Age_gp\"] = X_train[\"Age\"].str[0]\n",
    "X_test[\"Age_gp\"] = X_test[\"Age\"].str[0]\n",
    "\n",
    "X_train = X_train.drop(\"Age\", axis=1)\n",
    "X_test = X_test.drop(\"Age\", axis=1)"
   ]
  },
  {
   "cell_type": "code",
   "execution_count": null,
   "metadata": {},
   "outputs": [],
   "source": []
  },
  {
   "cell_type": "code",
   "execution_count": 217,
   "metadata": {},
   "outputs": [
    {
     "data": {
      "text/plain": [
       "Nationality       129\n",
       "Club              648\n",
       "Preferred_Foot      2\n",
       "Work_Rate           9\n",
       "Position           27\n",
       "Position_Class      4\n",
       "Height             20\n",
       "Age_gp              4\n",
       "dtype: int64"
      ]
     },
     "execution_count": 217,
     "metadata": {},
     "output_type": "execute_result"
    }
   ],
   "source": [
    "X_train.select_dtypes(\"object\").nunique()"
   ]
  },
  {
   "cell_type": "code",
   "execution_count": 218,
   "metadata": {},
   "outputs": [
    {
     "data": {
      "text/plain": [
       "Work_Rate\n",
       "Medium/ Medium    1887\n",
       "High/ Medium       644\n",
       "Medium/ High       330\n",
       "High/ High         210\n",
       "Medium/ Low        168\n",
       "High/ Low          120\n",
       "Low/ High           94\n",
       "Low/ Medium         72\n",
       "Low/ Low             3\n",
       "Name: count, dtype: int64"
      ]
     },
     "execution_count": 218,
     "metadata": {},
     "output_type": "execute_result"
    }
   ],
   "source": [
    "X_train[\"Work_Rate\"].value_counts()"
   ]
  },
  {
   "cell_type": "code",
   "execution_count": 219,
   "metadata": {},
   "outputs": [],
   "source": [
    "X_train = X_train.drop(columns=\"Club\")\n",
    "X_test = X_test.drop(columns=\"Club\")"
   ]
  },
  {
   "cell_type": "code",
   "execution_count": 220,
   "metadata": {},
   "outputs": [],
   "source": [
    "Work_Rate_train = X_train[\"Work_Rate\"].copy()\n",
    "Work_Rate_trian = Work_Rate_train.str.replace(\" \", \"\")\n",
    "\n",
    "X_train[\"WR_Attack\"] = Work_Rate_train.str.split(\"/\", expand=True)[0]\n",
    "X_train[\"WR_Defend\"] = Work_Rate_train.str.split(\"/\", expand=True)[1]\n",
    "\n",
    "X_train = X_train.drop(columns=\"Work_Rate\")\n"
   ]
  },
  {
   "cell_type": "code",
   "execution_count": 221,
   "metadata": {},
   "outputs": [],
   "source": [
    "Work_Rate_test = X_test[\"Work_Rate\"].copy()\n",
    "Work_Rate_test = Work_Rate_test.str.replace(\" \", \"\")\n",
    "\n",
    "X_test[\"WR_Attack\"] = Work_Rate_test.str.split(\"/\", expand=True)[0]\n",
    "X_test[\"WR_Defend\"] = Work_Rate_test.str.split(\"/\", expand=True)[1]\n",
    "\n",
    "X_test = X_test.drop(columns=\"Work_Rate\")"
   ]
  },
  {
   "cell_type": "code",
   "execution_count": 222,
   "metadata": {},
   "outputs": [
    {
     "data": {
      "text/plain": [
       "Nationality       116\n",
       "Preferred_Foot      2\n",
       "Position           26\n",
       "Position_Class      4\n",
       "Height             18\n",
       "Age_gp              4\n",
       "WR_Attack           3\n",
       "WR_Defend           3\n",
       "dtype: int64"
      ]
     },
     "execution_count": 222,
     "metadata": {},
     "output_type": "execute_result"
    }
   ],
   "source": [
    "X_test.select_dtypes(include=\"object\").nunique()"
   ]
  },
  {
   "cell_type": "code",
   "execution_count": 227,
   "metadata": {},
   "outputs": [],
   "source": [
    "X_train = X_train.drop(columns=\"Jersey_Number\")\n",
    "X_test = X_test.drop(columns=\"Jersey_Number\")"
   ]
  },
  {
   "cell_type": "code",
   "execution_count": 228,
   "metadata": {},
   "outputs": [
    {
     "name": "stdout",
     "output_type": "stream",
     "text": [
      "<class 'pandas.core.frame.DataFrame'>\n",
      "Index: 3528 entries, 0 to 3599\n",
      "Data columns (total 15 columns):\n",
      " #   Column                Non-Null Count  Dtype  \n",
      "---  ------                --------------  -----  \n",
      " 0   ID                    3528 non-null   int64  \n",
      " 1   Nationality           3528 non-null   object \n",
      " 2   Overall               3528 non-null   int64  \n",
      " 3   Preferred_Foot        3528 non-null   object \n",
      " 4   Position              3528 non-null   object \n",
      " 5   Position_Class        3528 non-null   object \n",
      " 6   Contract_Valid_Until  3528 non-null   int64  \n",
      " 7   Height                3528 non-null   object \n",
      " 8   Height_cm             3528 non-null   float64\n",
      " 9   Weight_lb             3528 non-null   float64\n",
      " 10  Release_Clause        3528 non-null   int64  \n",
      " 11  Wage                  3528 non-null   int64  \n",
      " 12  Age_gp                3528 non-null   object \n",
      " 13  WR_Attack             3528 non-null   object \n",
      " 14  WR_Defend             3528 non-null   object \n",
      "dtypes: float64(2), int64(5), object(8)\n",
      "memory usage: 570.0+ KB\n"
     ]
    }
   ],
   "source": [
    "X_train.info()"
   ]
  },
  {
   "cell_type": "code",
   "execution_count": 229,
   "metadata": {},
   "outputs": [],
   "source": [
    "X_train[\"CVU_gp\"] = X_train[\"Contract_Valid_Until\"].astype(\"object\")\n",
    "X_test[\"CVU_gp\"] = X_test[\"Contract_Valid_Until\"].astype(\"object\")\n",
    "\n",
    "X_train = X_train.drop(columns=\"Contract_Valid_Until\")\n",
    "X_test = X_test.drop(columns=\"Contract_Valid_Until\")"
   ]
  },
  {
   "cell_type": "code",
   "execution_count": 234,
   "metadata": {},
   "outputs": [
    {
     "data": {
      "text/html": [
       "<div>\n",
       "<style scoped>\n",
       "    .dataframe tbody tr th:only-of-type {\n",
       "        vertical-align: middle;\n",
       "    }\n",
       "\n",
       "    .dataframe tbody tr th {\n",
       "        vertical-align: top;\n",
       "    }\n",
       "\n",
       "    .dataframe thead th {\n",
       "        text-align: right;\n",
       "    }\n",
       "</style>\n",
       "<table border=\"1\" class=\"dataframe\">\n",
       "  <thead>\n",
       "    <tr style=\"text-align: right;\">\n",
       "      <th></th>\n",
       "      <th>Overall</th>\n",
       "      <th>Height_cm</th>\n",
       "      <th>Weight_lb</th>\n",
       "      <th>Release_Clause</th>\n",
       "      <th>Wage</th>\n",
       "    </tr>\n",
       "  </thead>\n",
       "  <tbody>\n",
       "    <tr>\n",
       "      <th>Overall</th>\n",
       "      <td>1.000000</td>\n",
       "      <td>0.033070</td>\n",
       "      <td>0.142888</td>\n",
       "      <td>0.630162</td>\n",
       "      <td>0.593469</td>\n",
       "    </tr>\n",
       "    <tr>\n",
       "      <th>Height_cm</th>\n",
       "      <td>0.033070</td>\n",
       "      <td>1.000000</td>\n",
       "      <td>0.763351</td>\n",
       "      <td>-0.007983</td>\n",
       "      <td>-0.001661</td>\n",
       "    </tr>\n",
       "    <tr>\n",
       "      <th>Weight_lb</th>\n",
       "      <td>0.142888</td>\n",
       "      <td>0.763351</td>\n",
       "      <td>1.000000</td>\n",
       "      <td>0.033941</td>\n",
       "      <td>0.053856</td>\n",
       "    </tr>\n",
       "    <tr>\n",
       "      <th>Release_Clause</th>\n",
       "      <td>0.630162</td>\n",
       "      <td>-0.007983</td>\n",
       "      <td>0.033941</td>\n",
       "      <td>1.000000</td>\n",
       "      <td>0.835107</td>\n",
       "    </tr>\n",
       "    <tr>\n",
       "      <th>Wage</th>\n",
       "      <td>0.593469</td>\n",
       "      <td>-0.001661</td>\n",
       "      <td>0.053856</td>\n",
       "      <td>0.835107</td>\n",
       "      <td>1.000000</td>\n",
       "    </tr>\n",
       "  </tbody>\n",
       "</table>\n",
       "</div>"
      ],
      "text/plain": [
       "                 Overall  Height_cm  Weight_lb  Release_Clause      Wage\n",
       "Overall         1.000000   0.033070   0.142888        0.630162  0.593469\n",
       "Height_cm       0.033070   1.000000   0.763351       -0.007983 -0.001661\n",
       "Weight_lb       0.142888   0.763351   1.000000        0.033941  0.053856\n",
       "Release_Clause  0.630162  -0.007983   0.033941        1.000000  0.835107\n",
       "Wage            0.593469  -0.001661   0.053856        0.835107  1.000000"
      ]
     },
     "execution_count": 234,
     "metadata": {},
     "output_type": "execute_result"
    }
   ],
   "source": [
    "cols = list(X_train.select_dtypes(exclude=\"object\").columns)[1:]\n",
    "X_train[cols].corr()"
   ]
  },
  {
   "cell_type": "code",
   "execution_count": 235,
   "metadata": {},
   "outputs": [],
   "source": [
    "X_train = X_train.drop(columns=\"Release_Clause\")\n",
    "X_test = X_test.drop(columns=\"Release_Clause\")"
   ]
  },
  {
   "cell_type": "code",
   "execution_count": 236,
   "metadata": {},
   "outputs": [
    {
     "name": "stdout",
     "output_type": "stream",
     "text": [
      "(2469, 14)\n",
      "(1059, 14)\n",
      "(2469, 2)\n",
      "(1059, 2)\n"
     ]
    }
   ],
   "source": [
    "from sklearn.model_selection import train_test_split \n",
    "\n",
    "X_TRAIN, X_VAL, y_TRAIN, y_VAL = train_test_split(\n",
    "  X_train, \n",
    "  y_train, \n",
    "  test_size=0.3, \n",
    "  random_state=1234\n",
    ")\n",
    "\n",
    "print(X_TRAIN.shape)\n",
    "print(X_VAL.shape)\n",
    "print(y_TRAIN.shape)\n",
    "print(y_VAL.shape)"
   ]
  },
  {
   "cell_type": "code",
   "execution_count": 237,
   "metadata": {},
   "outputs": [],
   "source": [
    "from sklearn.preprocessing import OneHotEncoder\n",
    "\n",
    "X_TRAIN_category = X_TRAIN.select_dtypes(include=\"object\").copy()\n",
    "X_VAL_category = X_VAL.select_dtypes(include=\"object\").copy()\n",
    "X_TEST_category = X_test.select_dtypes(include=\"object\").copy()\n"
   ]
  },
  {
   "cell_type": "code",
   "execution_count": 238,
   "metadata": {},
   "outputs": [
    {
     "data": {
      "text/plain": [
       "['Overall', 'Height_cm', 'Weight_lb', 'Release_Clause', 'Wage']"
      ]
     },
     "execution_count": 238,
     "metadata": {},
     "output_type": "execute_result"
    }
   ],
   "source": [
    "from sklearn.preprocessing import StandardScaler \n",
    "\n",
    "colnm_conti = ['Overall', 'Height_cm', 'Weight_lb', 'Wage']\n",
    "X_TRAIN_conti = X_TRAIN[colnm_conti].copy()\n",
    "X_VAL_conti = X_VAL[colnm_conti].copy()\n",
    "X_TEST_conti = X_test[colnm_conti].copy() \n",
    "\n",
    "scale = StandardScaler.fit(X_TRAIN_conti)"
   ]
  },
  {
   "cell_type": "code",
   "execution_count": null,
   "metadata": {},
   "outputs": [],
   "source": []
  }
 ],
 "metadata": {
  "kernelspec": {
   "display_name": "Python 3",
   "language": "python",
   "name": "python3"
  },
  "language_info": {
   "codemirror_mode": {
    "name": "ipython",
    "version": 3
   },
   "file_extension": ".py",
   "mimetype": "text/x-python",
   "name": "python",
   "nbconvert_exporter": "python",
   "pygments_lexer": "ipython3",
   "version": "3.12.3"
  }
 },
 "nbformat": 4,
 "nbformat_minor": 2
}

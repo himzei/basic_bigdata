{
 "cells": [
  {
   "cell_type": "code",
   "execution_count": 4,
   "metadata": {},
   "outputs": [
    {
     "name": "stdout",
     "output_type": "stream",
     "text": [
      "0.7222222222222222\n",
      "0.3076923076923077\n"
     ]
    }
   ],
   "source": [
    "### 1. 실루엣계수 \n",
    "labels_true = [0, 0, 0, 1, 1, 1, 1, 2, 2]\n",
    "labels_pred = [0, 0, 1, 1, 1, 1, 2, 2, 2]\n",
    "\n",
    "from sklearn.metrics.cluster import rand_score, adjusted_rand_score\n",
    "\n",
    "ri = rand_score(labels_true, labels_pred)\n",
    "print(ri)\n",
    "\n",
    "ari = adjusted_rand_score(labels_true, labels_pred)\n",
    "print(ari)"
   ]
  },
  {
   "cell_type": "code",
   "execution_count": 2,
   "metadata": {},
   "outputs": [
    {
     "name": "stdout",
     "output_type": "stream",
     "text": [
      "0.7953282828282827\n",
      "[0.86363636 0.9        0.83333333 0.625      0.8        0.75      ]\n"
     ]
    }
   ],
   "source": [
    "### 실루옛 계수\n",
    "\n",
    "from sklearn.metrics import silhouette_samples, silhouette_score \n",
    "from sklearn.cluster import KMeans \n",
    "\n",
    "X = [[1,2], [2, 3], [3,4], [10, 11], [12,13], [14,15]]\n",
    "\n",
    "kmeans = KMeans(n_clusters=2)\n",
    "labels = kmeans.fit_predict(X)\n",
    "\n",
    "score = silhouette_score(X, labels)\n",
    "samples = silhouette_samples(X, labels)\n",
    "\n",
    "print(score)\n",
    "print(samples)"
   ]
  },
  {
   "cell_type": "code",
   "execution_count": 7,
   "metadata": {},
   "outputs": [
    {
     "name": "stdout",
     "output_type": "stream",
     "text": [
      "0.8797315436241611\n",
      "0.8367785234899329\n",
      "0.8922595078299776\n",
      "0.7766442953020134\n",
      "0.7311985567707746\n",
      "0.6422512518362898\n",
      "0.7591987071071522\n",
      "0.5637510205230709\n"
     ]
    }
   ],
   "source": [
    "from sklearn.cluster import AgglomerativeClustering \n",
    "from sklearn.metrics import rand_score, adjusted_rand_score \n",
    "from sklearn.datasets import load_iris \n",
    "\n",
    "iris = load_iris() \n",
    "data = iris.data \n",
    "labels_true = iris.target \n",
    "\n",
    "# 와드연결법\n",
    "agg_ward = AgglomerativeClustering(n_clusters=3)\n",
    "labels_pred_ward = agg_ward.fit_predict(data)\n",
    "\n",
    "# 평균연결법\n",
    "agg_avg = AgglomerativeClustering(n_clusters=3, linkage=\"average\")\n",
    "labels_pred_avg = agg_avg.fit_predict(data)\n",
    "\n",
    "# 최장연결볍 \n",
    "agg_comp = AgglomerativeClustering(n_clusters=3, linkage=\"complete\")\n",
    "labels_pred_comp = agg_comp.fit_predict(data)\n",
    "\n",
    "# 최단연결법 \n",
    "agg_sing = AgglomerativeClustering(n_clusters=3, linkage=\"single\")\n",
    "labels_pred_sing = agg_sing.fit_predict(data)\n",
    "\n",
    "print(rand_score(labels_true, labels_pred_ward))\n",
    "print(rand_score(labels_true, labels_pred_comp))\n",
    "print(rand_score(labels_true, labels_pred_avg))\n",
    "print(rand_score(labels_true, labels_pred_sing))\n",
    "\n",
    "print(adjusted_rand_score(labels_true, labels_pred_ward))\n",
    "print(adjusted_rand_score(labels_true, labels_pred_comp))\n",
    "print(adjusted_rand_score(labels_true, labels_pred_avg))\n",
    "print(adjusted_rand_score(labels_true, labels_pred_sing))\n",
    "\n",
    "\n"
   ]
  },
  {
   "cell_type": "code",
   "execution_count": 27,
   "metadata": {},
   "outputs": [
    {
     "name": "stdout",
     "output_type": "stream",
     "text": [
      "labels\n",
      "0    0.798140\n",
      "1    0.417320\n",
      "2    0.451105\n",
      "Name: silhouette, dtype: float64\n",
      "0.5528190123564095\n"
     ]
    }
   ],
   "source": [
    "from sklearn.cluster import KMeans \n",
    "from sklearn.metrics import silhouette_samples, silhouette_score\n",
    "from sklearn.datasets import load_iris \n",
    "\n",
    "iris = load_iris() \n",
    "data = iris.data \n",
    "\n",
    "kmeans_k2 = KMeans(n_clusters=2, random_state=2022)\n",
    "labels_pred_k2 = kmeans_k2.fit_predict(data)\n",
    "\n",
    "kmeans_k3 = KMeans(n_clusters=3, random_state=2022)\n",
    "labels_pred_k3 = kmeans_k3.fit_predict(data)\n",
    "\n",
    "kmeans_k4 = KMeans(n_clusters=4, random_state=2022)\n",
    "labels_pred_k4 = kmeans_k4.fit_predict(data)\n",
    "\n",
    "\n",
    "import pandas as pd\n",
    "\n",
    "sil_k2 = silhouette_samples(data, labels_pred_k2)\n",
    "\n",
    "df_k2 = pd.DataFrame({\n",
    "  \"labels\": labels_pred_k2, \n",
    "  \"silhouette\": sil_k2\n",
    "})\n",
    "\n",
    "\n",
    "\n",
    "# print(sil_k2)\n",
    "# result = silhouette_score(data, labels_pred_k2)\n",
    "\n",
    "# 0.6810461692117462\n",
    "\n",
    "# print(df_k2.groupby(\"labels\")[\"silhouette\"].mean())\n",
    "# print(silhouette_score(data, labels_pred_k2))\n",
    "\n",
    "sil_k3 = silhouette_samples(data, labels_pred_k3)\n",
    "\n",
    "df_k3 = pd.DataFrame({\n",
    "  \"labels\": labels_pred_k3, \n",
    "  \"silhouette\": sil_k3\n",
    "\n",
    "})\n",
    "\n",
    "print(df_k3.groupby(\"labels\")[\"silhouette\"].mean())\n",
    "print(silhouette_score(data, labels_pred_k3))\n",
    "\n",
    "# sil_k4 = silhouette_samples(data, labels_pred_k4)\n",
    "# df_k4 = pd.DataFrame({\n",
    "#   \"labels\": labels_pred_k4, \n",
    "#   \"silhouette\": sil_k4\n",
    "# })\n",
    "\n",
    "# print(df_k4.groupby(\"labels\")[\"silhouette\"].mean())\n",
    "# print(silhouette_score(data, labels_pred_k4))"
   ]
  },
  {
   "cell_type": "code",
   "execution_count": 38,
   "metadata": {},
   "outputs": [
    {
     "ename": "ValueError",
     "evalue": "Number of labels is 1. Valid values are 2 to n_samples - 1 (inclusive)",
     "output_type": "error",
     "traceback": [
      "\u001b[0;31m---------------------------------------------------------------------------\u001b[0m",
      "\u001b[0;31mValueError\u001b[0m                                Traceback (most recent call last)",
      "Cell \u001b[0;32mIn[38], line 9\u001b[0m\n\u001b[1;32m      6\u001b[0m kmeans \u001b[38;5;241m=\u001b[39m KMeans(n_clusters\u001b[38;5;241m=\u001b[39m\u001b[38;5;241m1\u001b[39m)\n\u001b[1;32m      7\u001b[0m labels \u001b[38;5;241m=\u001b[39m kmeans\u001b[38;5;241m.\u001b[39mfit_predict(X)\n\u001b[0;32m----> 9\u001b[0m samples \u001b[38;5;241m=\u001b[39m \u001b[43msilhouette_samples\u001b[49m\u001b[43m(\u001b[49m\u001b[43mX\u001b[49m\u001b[43m,\u001b[49m\u001b[43m \u001b[49m\u001b[43mlabels\u001b[49m\u001b[43m)\u001b[49m\n\u001b[1;32m     10\u001b[0m score \u001b[38;5;241m=\u001b[39m silhouette_score(X, labels)\n\u001b[1;32m     11\u001b[0m \u001b[38;5;28mprint\u001b[39m(samples)\n",
      "File \u001b[0;32m/Library/Frameworks/Python.framework/Versions/3.12/lib/python3.12/site-packages/sklearn/utils/_param_validation.py:213\u001b[0m, in \u001b[0;36mvalidate_params.<locals>.decorator.<locals>.wrapper\u001b[0;34m(*args, **kwargs)\u001b[0m\n\u001b[1;32m    207\u001b[0m \u001b[38;5;28;01mtry\u001b[39;00m:\n\u001b[1;32m    208\u001b[0m     \u001b[38;5;28;01mwith\u001b[39;00m config_context(\n\u001b[1;32m    209\u001b[0m         skip_parameter_validation\u001b[38;5;241m=\u001b[39m(\n\u001b[1;32m    210\u001b[0m             prefer_skip_nested_validation \u001b[38;5;129;01mor\u001b[39;00m global_skip_validation\n\u001b[1;32m    211\u001b[0m         )\n\u001b[1;32m    212\u001b[0m     ):\n\u001b[0;32m--> 213\u001b[0m         \u001b[38;5;28;01mreturn\u001b[39;00m \u001b[43mfunc\u001b[49m\u001b[43m(\u001b[49m\u001b[38;5;241;43m*\u001b[39;49m\u001b[43margs\u001b[49m\u001b[43m,\u001b[49m\u001b[43m \u001b[49m\u001b[38;5;241;43m*\u001b[39;49m\u001b[38;5;241;43m*\u001b[39;49m\u001b[43mkwargs\u001b[49m\u001b[43m)\u001b[49m\n\u001b[1;32m    214\u001b[0m \u001b[38;5;28;01mexcept\u001b[39;00m InvalidParameterError \u001b[38;5;28;01mas\u001b[39;00m e:\n\u001b[1;32m    215\u001b[0m     \u001b[38;5;66;03m# When the function is just a wrapper around an estimator, we allow\u001b[39;00m\n\u001b[1;32m    216\u001b[0m     \u001b[38;5;66;03m# the function to delegate validation to the estimator, but we replace\u001b[39;00m\n\u001b[1;32m    217\u001b[0m     \u001b[38;5;66;03m# the name of the estimator by the name of the function in the error\u001b[39;00m\n\u001b[1;32m    218\u001b[0m     \u001b[38;5;66;03m# message to avoid confusion.\u001b[39;00m\n\u001b[1;32m    219\u001b[0m     msg \u001b[38;5;241m=\u001b[39m re\u001b[38;5;241m.\u001b[39msub(\n\u001b[1;32m    220\u001b[0m         \u001b[38;5;124mr\u001b[39m\u001b[38;5;124m\"\u001b[39m\u001b[38;5;124mparameter of \u001b[39m\u001b[38;5;124m\\\u001b[39m\u001b[38;5;124mw+ must be\u001b[39m\u001b[38;5;124m\"\u001b[39m,\n\u001b[1;32m    221\u001b[0m         \u001b[38;5;124mf\u001b[39m\u001b[38;5;124m\"\u001b[39m\u001b[38;5;124mparameter of \u001b[39m\u001b[38;5;132;01m{\u001b[39;00mfunc\u001b[38;5;241m.\u001b[39m\u001b[38;5;18m__qualname__\u001b[39m\u001b[38;5;132;01m}\u001b[39;00m\u001b[38;5;124m must be\u001b[39m\u001b[38;5;124m\"\u001b[39m,\n\u001b[1;32m    222\u001b[0m         \u001b[38;5;28mstr\u001b[39m(e),\n\u001b[1;32m    223\u001b[0m     )\n",
      "File \u001b[0;32m/Library/Frameworks/Python.framework/Versions/3.12/lib/python3.12/site-packages/sklearn/metrics/cluster/_unsupervised.py:299\u001b[0m, in \u001b[0;36msilhouette_samples\u001b[0;34m(X, labels, metric, **kwds)\u001b[0m\n\u001b[1;32m    297\u001b[0m n_samples \u001b[38;5;241m=\u001b[39m \u001b[38;5;28mlen\u001b[39m(labels)\n\u001b[1;32m    298\u001b[0m label_freqs \u001b[38;5;241m=\u001b[39m np\u001b[38;5;241m.\u001b[39mbincount(labels)\n\u001b[0;32m--> 299\u001b[0m \u001b[43mcheck_number_of_labels\u001b[49m\u001b[43m(\u001b[49m\u001b[38;5;28;43mlen\u001b[39;49m\u001b[43m(\u001b[49m\u001b[43mle\u001b[49m\u001b[38;5;241;43m.\u001b[39;49m\u001b[43mclasses_\u001b[49m\u001b[43m)\u001b[49m\u001b[43m,\u001b[49m\u001b[43m \u001b[49m\u001b[43mn_samples\u001b[49m\u001b[43m)\u001b[49m\n\u001b[1;32m    301\u001b[0m kwds[\u001b[38;5;124m\"\u001b[39m\u001b[38;5;124mmetric\u001b[39m\u001b[38;5;124m\"\u001b[39m] \u001b[38;5;241m=\u001b[39m metric\n\u001b[1;32m    302\u001b[0m reduce_func \u001b[38;5;241m=\u001b[39m functools\u001b[38;5;241m.\u001b[39mpartial(\n\u001b[1;32m    303\u001b[0m     _silhouette_reduce, labels\u001b[38;5;241m=\u001b[39mlabels, label_freqs\u001b[38;5;241m=\u001b[39mlabel_freqs\n\u001b[1;32m    304\u001b[0m )\n",
      "File \u001b[0;32m/Library/Frameworks/Python.framework/Versions/3.12/lib/python3.12/site-packages/sklearn/metrics/cluster/_unsupervised.py:38\u001b[0m, in \u001b[0;36mcheck_number_of_labels\u001b[0;34m(n_labels, n_samples)\u001b[0m\n\u001b[1;32m     27\u001b[0m \u001b[38;5;250m\u001b[39m\u001b[38;5;124;03m\"\"\"Check that number of labels are valid.\u001b[39;00m\n\u001b[1;32m     28\u001b[0m \n\u001b[1;32m     29\u001b[0m \u001b[38;5;124;03mParameters\u001b[39;00m\n\u001b[0;32m   (...)\u001b[0m\n\u001b[1;32m     35\u001b[0m \u001b[38;5;124;03m    Number of samples.\u001b[39;00m\n\u001b[1;32m     36\u001b[0m \u001b[38;5;124;03m\"\"\"\u001b[39;00m\n\u001b[1;32m     37\u001b[0m \u001b[38;5;28;01mif\u001b[39;00m \u001b[38;5;129;01mnot\u001b[39;00m \u001b[38;5;241m1\u001b[39m \u001b[38;5;241m<\u001b[39m n_labels \u001b[38;5;241m<\u001b[39m n_samples:\n\u001b[0;32m---> 38\u001b[0m     \u001b[38;5;28;01mraise\u001b[39;00m \u001b[38;5;167;01mValueError\u001b[39;00m(\n\u001b[1;32m     39\u001b[0m         \u001b[38;5;124m\"\u001b[39m\u001b[38;5;124mNumber of labels is \u001b[39m\u001b[38;5;132;01m%d\u001b[39;00m\u001b[38;5;124m. Valid values are 2 to n_samples - 1 (inclusive)\u001b[39m\u001b[38;5;124m\"\u001b[39m\n\u001b[1;32m     40\u001b[0m         \u001b[38;5;241m%\u001b[39m n_labels\n\u001b[1;32m     41\u001b[0m     )\n",
      "\u001b[0;31mValueError\u001b[0m: Number of labels is 1. Valid values are 2 to n_samples - 1 (inclusive)"
     ]
    }
   ],
   "source": [
    "from sklearn.metrics import silhouette_samples, silhouette_score \n",
    "from sklearn.cluster import KMeans \n",
    "\n",
    "X = [[1, 2, 10, 11, 20, 21, 30, 31]]\n",
    "\n",
    "kmeans = KMeans(n_clusters=1)\n",
    "labels = kmeans.fit_predict(X)\n",
    "\n",
    "samples = silhouette_samples(X, labels)\n",
    "score = silhouette_score(X, labels)\n",
    "print(samples)"
   ]
  },
  {
   "cell_type": "code",
   "execution_count": 57,
   "metadata": {},
   "outputs": [
    {
     "name": "stdout",
     "output_type": "stream",
     "text": [
      "0.8797315436241611 0.7311985567707746\n",
      "0.8922595078299776 0.7591987071071522\n"
     ]
    }
   ],
   "source": [
    "from sklearn.cluster import AgglomerativeClustering \n",
    "from sklearn.metrics.cluster import rand_score, adjusted_rand_score\n",
    "\n",
    "from sklearn.datasets import load_iris \n",
    "iris = load_iris() \n",
    "data = iris.data \n",
    "labels_true = iris.target \n",
    "\n",
    "# 와드 연결법\n",
    "agg_ward = AgglomerativeClustering(n_clusters=3)\n",
    "labels_pred_ward = agg_ward.fit_predict(data)\n",
    "\n",
    "r1 = rand_score(labels_true, labels_pred_ward)\n",
    "r1_a = adjusted_rand_score(labels_true, labels_pred_ward)\n",
    "print(r1, r1_a)\n",
    "\n",
    "\n",
    "# 평균연결법 \n",
    "agg_avg = AgglomerativeClustering(n_clusters=3, linkage=\"average\")\n",
    "labels_pred_avg = agg_avg.fit_predict(data)\n",
    "\n",
    "r2 = rand_score(labels_true, labels_pred_avg)\n",
    "r2_a = adjusted_rand_score(labels_true, labels_pred_avg)\n",
    "print(r2, r2_a)\n",
    "\n"
   ]
  },
  {
   "cell_type": "code",
   "execution_count": 64,
   "metadata": {},
   "outputs": [
    {
     "data": {
      "text/html": [
       "<div>\n",
       "<style scoped>\n",
       "    .dataframe tbody tr th:only-of-type {\n",
       "        vertical-align: middle;\n",
       "    }\n",
       "\n",
       "    .dataframe tbody tr th {\n",
       "        vertical-align: top;\n",
       "    }\n",
       "\n",
       "    .dataframe thead th {\n",
       "        text-align: right;\n",
       "    }\n",
       "</style>\n",
       "<table border=\"1\" class=\"dataframe\">\n",
       "  <thead>\n",
       "    <tr style=\"text-align: right;\">\n",
       "      <th></th>\n",
       "      <th>labels</th>\n",
       "      <th>silhouette</th>\n",
       "    </tr>\n",
       "  </thead>\n",
       "  <tbody>\n",
       "    <tr>\n",
       "      <th>0</th>\n",
       "      <td>0</td>\n",
       "      <td>0.852225</td>\n",
       "    </tr>\n",
       "    <tr>\n",
       "      <th>1</th>\n",
       "      <td>0</td>\n",
       "      <td>0.826916</td>\n",
       "    </tr>\n",
       "    <tr>\n",
       "      <th>2</th>\n",
       "      <td>0</td>\n",
       "      <td>0.835426</td>\n",
       "    </tr>\n",
       "    <tr>\n",
       "      <th>3</th>\n",
       "      <td>0</td>\n",
       "      <td>0.819249</td>\n",
       "    </tr>\n",
       "    <tr>\n",
       "      <th>4</th>\n",
       "      <td>0</td>\n",
       "      <td>0.848731</td>\n",
       "    </tr>\n",
       "  </tbody>\n",
       "</table>\n",
       "</div>"
      ],
      "text/plain": [
       "   labels  silhouette\n",
       "0       0    0.852225\n",
       "1       0    0.826916\n",
       "2       0    0.835426\n",
       "3       0    0.819249\n",
       "4       0    0.848731"
      ]
     },
     "execution_count": 64,
     "metadata": {},
     "output_type": "execute_result"
    }
   ],
   "source": [
    "import pandas as pd \n",
    "from sklearn.cluster import KMeans \n",
    "from sklearn.metrics import silhouette_samples, silhouette_score\n",
    "from sklearn.datasets import load_iris \n",
    "\n",
    "iris = load_iris() \n",
    "data = iris.data \n",
    "\n",
    "kmeans_k2 = KMeans(n_clusters=2, random_state=2022)\n",
    "labels_pred_k2 = kmeans_k2.fit_predict(data)\n",
    "\n",
    "sam_k2 = silhouette_samples(data, labels_pred_k2)\n",
    "sco_k2 = silhouette_score(data, labels_pred_k2)\n",
    "\n",
    "df_k1 = pd.DataFrame({\n",
    "  \"labels\": labels_pred_k2, \n",
    "  \"silhouette\": sam_k2\n",
    "})\n",
    "\n",
    "df_k1.head()"
   ]
  },
  {
   "cell_type": "code",
   "execution_count": null,
   "metadata": {},
   "outputs": [],
   "source": []
  }
 ],
 "metadata": {
  "kernelspec": {
   "display_name": "Python 3",
   "language": "python",
   "name": "python3"
  },
  "language_info": {
   "codemirror_mode": {
    "name": "ipython",
    "version": 3
   },
   "file_extension": ".py",
   "mimetype": "text/x-python",
   "name": "python",
   "nbconvert_exporter": "python",
   "pygments_lexer": "ipython3",
   "version": "3.12.3"
  }
 },
 "nbformat": 4,
 "nbformat_minor": 2
}

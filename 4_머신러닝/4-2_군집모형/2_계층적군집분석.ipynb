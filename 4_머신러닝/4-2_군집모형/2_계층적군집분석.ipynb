{
 "cells": [
  {
   "cell_type": "code",
   "execution_count": 5,
   "metadata": {},
   "outputs": [
    {
     "name": "stdout",
     "output_type": "stream",
     "text": [
      "0.8797315436241611\n",
      "0.8922595078299776\n",
      "0.8367785234899329\n",
      "0.7766442953020134\n",
      "0.7311985567707746\n",
      "0.7591987071071522\n",
      "0.6422512518362898\n",
      "0.5637510205230709\n"
     ]
    }
   ],
   "source": [
    "from sklearn.cluster import AgglomerativeClustering \n",
    "from sklearn.metrics.cluster import rand_score, adjusted_rand_score \n",
    "\n",
    "from sklearn.datasets import load_iris \n",
    "\n",
    "iris = load_iris() \n",
    "data = iris.data \n",
    "labels_true = iris.target \n",
    "\n",
    "labels_true\n",
    "\n",
    "agg_ward = AgglomerativeClustering(n_clusters=3)\n",
    "labels_pred_ward = agg_ward.fit_predict(data)\n",
    "\n",
    "agg_avg = AgglomerativeClustering(n_clusters=3, linkage=\"average\")\n",
    "labels_pred_avg = agg_avg.fit_predict(data)\n",
    "\n",
    "agg_comp = AgglomerativeClustering(n_clusters=3, linkage=\"complete\")\n",
    "labels_pred_comp = agg_comp.fit_predict(data)\n",
    "\n",
    "agg_sing = AgglomerativeClustering(n_clusters=3, linkage='single')\n",
    "labels_pred_sing = agg_sing.fit_predict(data)\n",
    "\n",
    "print(rand_score(labels_true, labels_pred_ward))\n",
    "print(rand_score(labels_true, labels_pred_avg))\n",
    "print(rand_score(labels_true, labels_pred_comp))\n",
    "print(rand_score(labels_true, labels_pred_sing))\n",
    "\n",
    "print(adjusted_rand_score(labels_true, labels_pred_ward))\n",
    "print(adjusted_rand_score(labels_true, labels_pred_avg))\n",
    "print(adjusted_rand_score(labels_true, labels_pred_comp))\n",
    "print(adjusted_rand_score(labels_true, labels_pred_sing))\n"
   ]
  },
  {
   "cell_type": "code",
   "execution_count": null,
   "metadata": {},
   "outputs": [],
   "source": []
  }
 ],
 "metadata": {
  "kernelspec": {
   "display_name": "Python 3",
   "language": "python",
   "name": "python3"
  },
  "language_info": {
   "codemirror_mode": {
    "name": "ipython",
    "version": 3
   },
   "file_extension": ".py",
   "mimetype": "text/x-python",
   "name": "python",
   "nbconvert_exporter": "python",
   "pygments_lexer": "ipython3",
   "version": "3.12.3"
  }
 },
 "nbformat": 4,
 "nbformat_minor": 2
}

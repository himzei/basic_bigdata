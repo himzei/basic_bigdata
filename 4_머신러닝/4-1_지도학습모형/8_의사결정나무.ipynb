{
 "cells": [
  {
   "cell_type": "code",
   "execution_count": 1,
   "metadata": {},
   "outputs": [
    {
     "name": "stdout",
     "output_type": "stream",
     "text": [
      "0.999834656084656\n"
     ]
    }
   ],
   "source": [
    "from sklearn.tree import DecisionTreeClassifier\n",
    "from sklearn.model_selection import train_test_split \n",
    "\n",
    "from sklearn.datasets import load_breast_cancer \n",
    "\n",
    "breast_cancer = load_breast_cancer() \n",
    "\n",
    "data = breast_cancer.data \n",
    "target = breast_cancer.target \n",
    "\n",
    "X_train, X_test, y_train, y_test = train_test_split(\n",
    "  data, \n",
    "  target, \n",
    "  test_size=0.2, \n",
    "  random_state=2205, \n",
    "  stratify=target \n",
    ")\n",
    "\n",
    "dtr_bin = DecisionTreeClassifier(\n",
    "  max_depth=3, \n",
    "  min_samples_leaf=10, \n",
    "  random_state=2022\n",
    ")\n",
    "\n",
    "dtr_bin.fit(X_train, y_train)\n",
    "y_score = dtr_bin.predict_proba(X_test)[:, 1]\n",
    "\n",
    "from sklearn.metrics import roc_curve, auc \n",
    "\n",
    "fpr, tpr, thresholds = roc_curve(y_test, y_score)\n",
    "\n",
    "AUC = auc(fpr, tpr)\n",
    "print(AUC)"
   ]
  },
  {
   "cell_type": "code",
   "execution_count": null,
   "metadata": {},
   "outputs": [],
   "source": []
  }
 ],
 "metadata": {
  "kernelspec": {
   "display_name": "Python 3",
   "language": "python",
   "name": "python3"
  },
  "language_info": {
   "codemirror_mode": {
    "name": "ipython",
    "version": 3
   },
   "file_extension": ".py",
   "mimetype": "text/x-python",
   "name": "python",
   "nbconvert_exporter": "python",
   "pygments_lexer": "ipython3",
   "version": "3.12.3"
  }
 },
 "nbformat": 4,
 "nbformat_minor": 2
}

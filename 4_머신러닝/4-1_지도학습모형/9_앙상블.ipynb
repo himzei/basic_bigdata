{
 "cells": [
  {
   "cell_type": "code",
   "execution_count": 6,
   "metadata": {},
   "outputs": [
    {
     "name": "stdout",
     "output_type": "stream",
     "text": [
      "0.9973544973544974\n"
     ]
    }
   ],
   "source": [
    "from sklearn.tree import DecisionTreeClassifier \n",
    "from sklearn.ensemble import BaggingClassifier \n",
    "from sklearn.model_selection import train_test_split \n",
    "\n",
    "from sklearn.datasets import load_breast_cancer \n",
    "\n",
    "breast_cancer = load_breast_cancer()\n",
    "data = breast_cancer.data \n",
    "target = breast_cancer.target \n",
    "\n",
    "X_train, X_test, y_train, y_test = train_test_split(\n",
    "  data, \n",
    "  target, \n",
    "  test_size=0.2, \n",
    "  random_state=2205, \n",
    "  stratify=target \n",
    ")\n",
    "\n",
    "dtr = DecisionTreeClassifier(\n",
    "  max_depth=3, \n",
    "  min_samples_leaf=10\n",
    ")\n",
    "\n",
    "bag_bin = BaggingClassifier(\n",
    "  estimator=dtr, \n",
    "  n_estimators=500, \n",
    "  random_state=2022\n",
    ")\n",
    "\n",
    "bag_bin.fit(X_train, y_train)\n",
    "y_score = bag_bin.predict_proba(X_test)[:, 1]\n",
    "\n",
    "from sklearn.metrics import roc_curve, auc \n",
    "\n",
    "fpr, tpr, thresholds = roc_curve(y_test, y_score) \n",
    "AUC = auc(fpr, tpr)\n",
    "print(AUC)"
   ]
  },
  {
   "cell_type": "code",
   "execution_count": 7,
   "metadata": {},
   "outputs": [
    {
     "data": {
      "text/plain": [
       "0.9665831244778613"
      ]
     },
     "execution_count": 7,
     "metadata": {},
     "output_type": "execute_result"
    }
   ],
   "source": [
    "from sklearn.tree import DecisionTreeClassifier \n",
    "from sklearn.ensemble import BaggingClassifier \n",
    "from sklearn.model_selection import train_test_split \n",
    "from sklearn.datasets import load_iris \n",
    "\n",
    "iris = load_iris() \n",
    "data = iris.data \n",
    "target = iris.target \n",
    "\n",
    "X_train, X_test, y_train, y_test = train_test_split(\n",
    "  data, \n",
    "  target, \n",
    "  test_size=0.2, \n",
    "  random_state=2205, \n",
    "  stratify=target\n",
    ")\n",
    "\n",
    "dtr = DecisionTreeClassifier(\n",
    "  max_depth=3, \n",
    "  min_samples_leaf=10\n",
    ")\n",
    "\n",
    "bag_multi = BaggingClassifier(\n",
    "  estimator=dtr, \n",
    "  n_estimators=500, \n",
    "  random_state=2022 \n",
    ")\n",
    "\n",
    "bag_multi.fit(X_train, y_train)\n",
    "y_pred = bag_multi.predict(X_test)\n",
    "\n",
    "from sklearn.metrics import f1_score \n",
    "macro_f1 = f1_score(y_test, y_pred, average=\"macro\")\n",
    "macro_f1"
   ]
  },
  {
   "cell_type": "code",
   "execution_count": 10,
   "metadata": {},
   "outputs": [
    {
     "name": "stdout",
     "output_type": "stream",
     "text": [
      "76.8334087628055\n"
     ]
    }
   ],
   "source": [
    "from sklearn.tree import DecisionTreeClassifier \n",
    "from sklearn.ensemble import BaggingRegressor \n",
    "from sklearn.model_selection import train_test_split \n",
    "from sklearn.datasets import load_diabetes \n",
    "\n",
    "diabetes = load_diabetes() \n",
    "data = diabetes.data \n",
    "target = diabetes.target \n",
    "\n",
    "X_train, X_test, y_train, y_test = train_test_split(\n",
    "  data, \n",
    "  target, \n",
    "  test_size=0.2, \n",
    "  random_state=2205 \n",
    ")\n",
    "\n",
    "dtr = DecisionTreeClassifier(\n",
    "  max_depth=3, \n",
    "  min_samples_leaf=10 \n",
    ")\n",
    "\n",
    "bag_conti = BaggingRegressor(\n",
    "  estimator=dtr, \n",
    "  n_estimators=500, \n",
    "  random_state=2022\n",
    ")\n",
    "\n",
    "model_bag_conti =bag_conti.fit(X_train, y_train)\n",
    "y_pred = bag_conti.predict(X_test)\n",
    "\n",
    "from sklearn.metrics import root_mean_squared_error\n",
    "\n",
    "rmse = root_mean_squared_error(y_test, y_pred)\n",
    "print(rmse)\n"
   ]
  },
  {
   "cell_type": "code",
   "execution_count": 15,
   "metadata": {},
   "outputs": [
    {
     "name": "stdout",
     "output_type": "stream",
     "text": [
      "[0.98099818 0.09079731 0.98484473 0.98004614 0.98677052 0.98945006\n",
      " 0.08129826 0.987916   0.97716151 0.96929995 0.12100348 0.97620381\n",
      " 0.0160499  0.02146784 0.37395488 0.88674269 0.45630911 0.97958596\n",
      " 0.82602614 0.98444679 0.00445563 0.98210796 0.64622102 0.96642203\n",
      " 0.98187091 0.06033479 0.15449038 0.98446604 0.02067586 0.93320562\n",
      " 0.97213289 0.96813578 0.36962848 0.98637854 0.97894816 0.00662002\n",
      " 0.23310394 0.97539262 0.86963843 0.9658736  0.93432569 0.27447534\n",
      " 0.00953479 0.0796946  0.00626846 0.01550761 0.71673568 0.00407486\n",
      " 0.5597179  0.98024057 0.04878536 0.97414184 0.78880321 0.96031096\n",
      " 0.09091248 0.14475582 0.03316477 0.98732336 0.12838329 0.98176835\n",
      " 0.0258579  0.91625961 0.01166216 0.13466088 0.39041401 0.98887271\n",
      " 0.01776098 0.98363002 0.75415932 0.98976089 0.98896912 0.98878326\n",
      " 0.02088798 0.05014248 0.23984069 0.91701141 0.50110812 0.55888534\n",
      " 0.94219923 0.02763924 0.00473159 0.02560635 0.03585786 0.97706196\n",
      " 0.98519591 0.90730211 0.0079546  0.97465816 0.02369729 0.01343702\n",
      " 0.13991781 0.00829551 0.02575246 0.98657134 0.92640529 0.86976527\n",
      " 0.97043899 0.98473613 0.87411306 0.97715052 0.97774763 0.98567511\n",
      " 0.01697266 0.98472536 0.76660687 0.97979312 0.97803531 0.03012444\n",
      " 0.9734459  0.96799893 0.98773461 0.95152148 0.9634558  0.64491111]\n",
      "[       inf 0.98976089 0.39041401 0.37395488 0.36962848 0.00407486]\n",
      "0.9996693121693121\n"
     ]
    }
   ],
   "source": [
    "### 랜덤포레스트(이진분류모형)\n",
    "\n",
    "from sklearn.ensemble import RandomForestClassifier \n",
    "from sklearn.model_selection import train_test_split \n",
    "from sklearn.datasets import load_breast_cancer\n",
    "\n",
    "breast_cancer = load_breast_cancer()\n",
    "data = breast_cancer.data \n",
    "target = breast_cancer.target \n",
    "\n",
    "X_train, X_test, y_train, y_test = train_test_split(\n",
    "  data, \n",
    "  target, \n",
    "  test_size=0.2, \n",
    "  random_state=2205, \n",
    "  stratify=target \n",
    ")\n",
    "\n",
    "rf_bin = RandomForestClassifier(\n",
    "  n_estimators=500, \n",
    "  max_depth=3, \n",
    "  min_samples_leaf=10, \n",
    "  max_features=\"sqrt\", \n",
    "  random_state=2022\n",
    ")\n",
    "\n",
    "rf_bin.fit(X_train, y_train)\n",
    "y_score = rf_bin.predict_proba(X_test)[:, 1]\n",
    "print(y_score)\n",
    "\n",
    "from sklearn.metrics import roc_curve, auc \n",
    "\n",
    "fpr, tpr, thresholds = roc_curve(y_test, y_score)\n",
    "print(thresholds)\n",
    "AUC = auc(fpr, tpr) \n",
    "print(AUC)"
   ]
  },
  {
   "cell_type": "code",
   "execution_count": 16,
   "metadata": {},
   "outputs": [
    {
     "data": {
      "text/plain": [
       "0.9665831244778613"
      ]
     },
     "execution_count": 16,
     "metadata": {},
     "output_type": "execute_result"
    }
   ],
   "source": [
    "### 랜덤포레스트(다지분류)\n",
    "\n",
    "from sklearn.ensemble import RandomForestClassifier \n",
    "from sklearn.model_selection import train_test_split \n",
    "from sklearn.datasets import load_iris \n",
    "\n",
    "iris = load_iris() \n",
    "data = iris.data \n",
    "target = iris.target \n",
    "\n",
    "X_train, X_test, y_train, y_test = train_test_split(\n",
    "  data, \n",
    "  target, \n",
    "  test_size=0.2, \n",
    "  random_state=2205, \n",
    "  stratify=target \n",
    ")\n",
    "\n",
    "rf_multi = RandomForestClassifier(\n",
    "  n_estimators=500, \n",
    "  max_depth=3, \n",
    "  min_samples_leaf=15, \n",
    "  max_features=\"sqrt\", \n",
    "  random_state=2022\n",
    ")\n",
    "\n",
    "rf_multi.fit(X_train, y_train) \n",
    "y_pred = rf_multi.predict(X_test)\n",
    "\n",
    "from sklearn.metrics import f1_score \n",
    "macro_f1 = f1_score(y_test, y_pred, average=\"macro\")\n",
    "macro_f1"
   ]
  },
  {
   "cell_type": "code",
   "execution_count": 17,
   "metadata": {},
   "outputs": [
    {
     "name": "stdout",
     "output_type": "stream",
     "text": [
      "63.50376483948605\n"
     ]
    }
   ],
   "source": [
    "### 랜덤포레스트(연속형)\n",
    "from sklearn.ensemble import RandomForestRegressor \n",
    "from sklearn.model_selection import train_test_split \n",
    "from sklearn.datasets import load_diabetes\n",
    "\n",
    "diabetes = load_diabetes() \n",
    "data = diabetes.data \n",
    "target = diabetes.target \n",
    "\n",
    "X_train, X_test, y_train, y_test = train_test_split(\n",
    "  data, \n",
    "  target, \n",
    "  test_size=0.2, \n",
    "  random_state=2205 \n",
    ")\n",
    "\n",
    "rf_conti = RandomForestRegressor(\n",
    "  n_estimators=500, \n",
    "  max_depth=3, \n",
    "  min_samples_leaf=10, \n",
    "  max_features=3, \n",
    "  random_state=2022 \n",
    ")\n",
    "\n",
    "rf_conti.fit(X_train, y_train)\n",
    "y_pred = rf_conti.predict(X_test)\n",
    "\n",
    "from sklearn.metrics import root_mean_squared_error \n",
    "\n",
    "rmse = root_mean_squared_error(y_test, y_pred)\n",
    "print(rmse)"
   ]
  },
  {
   "cell_type": "code",
   "execution_count": 31,
   "metadata": {},
   "outputs": [
    {
     "name": "stdout",
     "output_type": "stream",
     "text": [
      "1.0\n"
     ]
    }
   ],
   "source": [
    "### AdaBoost(이진분류)\n",
    "\n",
    "from sklearn.ensemble import AdaBoostClassifier \n",
    "from sklearn.model_selection import train_test_split \n",
    "from sklearn.datasets import load_breast_cancer \n",
    "\n",
    "breast_cancer = load_breast_cancer()\n",
    "data = breast_cancer.data \n",
    "target = breast_cancer.target \n",
    "\n",
    "X_train, X_test, y_train, y_test = train_test_split(\n",
    "  data, \n",
    "  target, \n",
    "  test_size=0.2, \n",
    "  random_state=2205, \n",
    "  stratify=target \n",
    ")\n",
    "\n",
    "ada_bin = AdaBoostClassifier(\n",
    "  n_estimators=100, \n",
    "  learning_rate=0.5, \n",
    "  random_state=2022, \n",
    "  algorithm=\"SAMME\"\n",
    ")\n",
    "\n",
    "ada_bin.fit(X_train, y_train)\n",
    "y_score = ada_bin.predict_proba(X_test)[:, 1]\n",
    "\n",
    "from sklearn.metrics import roc_curve, auc \n",
    "\n",
    "fpr, tpr, thresholds = roc_curve(y_test, y_score)\n",
    "AUC= auc(fpr, tpr)\n",
    "print(AUC)"
   ]
  },
  {
   "cell_type": "code",
   "execution_count": null,
   "metadata": {},
   "outputs": [],
   "source": []
  }
 ],
 "metadata": {
  "kernelspec": {
   "display_name": "Python 3",
   "language": "python",
   "name": "python3"
  },
  "language_info": {
   "codemirror_mode": {
    "name": "ipython",
    "version": 3
   },
   "file_extension": ".py",
   "mimetype": "text/x-python",
   "name": "python",
   "nbconvert_exporter": "python",
   "pygments_lexer": "ipython3",
   "version": "3.12.3"
  }
 },
 "nbformat": 4,
 "nbformat_minor": 2
}

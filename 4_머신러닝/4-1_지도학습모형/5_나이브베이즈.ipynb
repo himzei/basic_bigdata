{
 "cells": [
  {
   "cell_type": "code",
   "execution_count": 3,
   "metadata": {},
   "outputs": [
    {
     "name": "stdout",
     "output_type": "stream",
     "text": [
      "0.5347222222222222\n"
     ]
    }
   ],
   "source": [
    "from sklearn.naive_bayes import BernoulliNB \n",
    "from sklearn.model_selection import train_test_split \n",
    "\n",
    "from sklearn.datasets import load_breast_cancer \n",
    "\n",
    "breast_cancer = load_breast_cancer() \n",
    "data = breast_cancer.data \n",
    "target = breast_cancer.target \n",
    "\n",
    "X_train, X_test, y_train, y_test = train_test_split(\n",
    "  data, \n",
    "  target, \n",
    "  test_size = 0.2, \n",
    "  random_state=2205, \n",
    "  stratify=target\n",
    ")\n",
    "\n",
    "nb_bin = BernoulliNB(alpha=0.5)\n",
    "model_nb_bin = nb_bin.fit(X_train, y_train)\n",
    "\n",
    "from sklearn.metrics import roc_curve, auc \n",
    "y_score = model_nb_bin.predict_proba(X_test)[:, 1]\n",
    "fpr, tpr, thresholds = roc_curve(y_test, y_score)\n",
    "\n",
    "AUC = auc(fpr, tpr)\n",
    "print(AUC)\n",
    "\n",
    "\n"
   ]
  },
  {
   "cell_type": "code",
   "execution_count": 7,
   "metadata": {},
   "outputs": [
    {
     "name": "stdout",
     "output_type": "stream",
     "text": [
      "0.9665831244778613\n"
     ]
    }
   ],
   "source": [
    "from sklearn.naive_bayes import MultinomialNB\n",
    "from sklearn.model_selection import train_test_split \n",
    "\n",
    "from sklearn.datasets import load_iris \n",
    "\n",
    "iris = load_iris() \n",
    "\n",
    "data = iris.data \n",
    "target = iris.target \n",
    "\n",
    "X_train, X_test, y_train, y_test = train_test_split(\n",
    "  data, \n",
    "  target, \n",
    "  test_size=0.2,\n",
    "  random_state=2205, \n",
    "  stratify=target \n",
    ")\n",
    "\n",
    "nb_multi = MultinomialNB(alpha=1.5)\n",
    "model_nb_multi = nb_multi.fit(X_train, y_train)\n",
    "\n",
    "from sklearn.metrics import f1_score\n",
    "y_pred = model_nb_multi.predict(X_test)\n",
    "\n",
    "macro_f1 = f1_score(y_test, y_pred, average=\"macro\") \n",
    "print(macro_f1)"
   ]
  },
  {
   "cell_type": "code",
   "execution_count": 8,
   "metadata": {},
   "outputs": [],
   "source": [
    "from sklearn.naive_bayes import GaussianNB \n",
    "from sklearn.model_selection import train_test_split \n",
    "\n",
    "from sklearn.datasets import load_diabetes \n",
    "\n",
    "diabetes = load_diabetes() \n",
    "data = diabetes.data \n",
    "target = diabetes.target \n",
    "\n",
    "X_train, X_test, y_train, y_test = train_test_split(\n",
    "  data, \n",
    "  target, \n",
    "  test_size=0.2, \n",
    "  random_state=2205 \n",
    ")\n",
    "\n",
    "nb_conti = GaussianNB() \n",
    "\n",
    "model_nb_conti = nb_conti.fit(X_train, y_train) \n"
   ]
  },
  {
   "cell_type": "code",
   "execution_count": 12,
   "metadata": {},
   "outputs": [
    {
     "data": {
      "text/plain": [
       "6221.752808988764"
      ]
     },
     "execution_count": 12,
     "metadata": {},
     "output_type": "execute_result"
    }
   ],
   "source": [
    "from sklearn.metrics import mean_squared_error \n",
    "y_pred = model_nb_conti.predict(X_test)\n",
    "mean_squared_error(y_test, y_pred) \n"
   ]
  },
  {
   "cell_type": "code",
   "execution_count": null,
   "metadata": {},
   "outputs": [],
   "source": []
  }
 ],
 "metadata": {
  "kernelspec": {
   "display_name": "Python 3",
   "language": "python",
   "name": "python3"
  },
  "language_info": {
   "codemirror_mode": {
    "name": "ipython",
    "version": 3
   },
   "file_extension": ".py",
   "mimetype": "text/x-python",
   "name": "python",
   "nbconvert_exporter": "python",
   "pygments_lexer": "ipython3",
   "version": "3.12.3"
  }
 },
 "nbformat": 4,
 "nbformat_minor": 2
}

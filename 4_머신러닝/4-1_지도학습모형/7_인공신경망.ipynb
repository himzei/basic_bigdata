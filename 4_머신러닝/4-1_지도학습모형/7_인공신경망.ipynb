{
 "cells": [
  {
   "cell_type": "code",
   "execution_count": 4,
   "metadata": {},
   "outputs": [
    {
     "data": {
      "text/plain": [
       "array([1, 0, 1, 1, 1, 1, 0, 1, 1, 1, 0, 1, 0, 0, 0, 1, 1, 1, 1, 1, 0, 1,\n",
       "       1, 1, 1, 0, 0, 1, 0, 1, 1, 1, 1, 1, 1, 0, 0, 1, 1, 1, 1, 0, 0, 0,\n",
       "       0, 0, 1, 0, 1, 1, 0, 1, 1, 1, 0, 0, 0, 1, 0, 1, 0, 1, 0, 0, 1, 1,\n",
       "       0, 1, 1, 1, 1, 1, 0, 0, 0, 1, 1, 1, 1, 0, 0, 0, 0, 1, 1, 1, 0, 1,\n",
       "       0, 0, 0, 0, 0, 1, 1, 1, 1, 1, 1, 1, 1, 1, 0, 1, 1, 1, 1, 0, 1, 1,\n",
       "       1, 1, 1, 1])"
      ]
     },
     "execution_count": 4,
     "metadata": {},
     "output_type": "execute_result"
    }
   ],
   "source": [
    "from sklearn.neural_network import MLPClassifier\n",
    "from sklearn.model_selection import train_test_split \n",
    "\n",
    "from sklearn.datasets import load_breast_cancer\n",
    "\n",
    "breast_cancer = load_breast_cancer() \n",
    "\n",
    "data = breast_cancer.data \n",
    "target = breast_cancer.target \n",
    "\n",
    "X_train, X_test, y_train, y_test = train_test_split(\n",
    "  data, \n",
    "  target, \n",
    "  test_size=0.2, \n",
    "  random_state=2205, \n",
    "  stratify=target \n",
    ")\n",
    "\n",
    "ann_bin = MLPClassifier(\n",
    "  alpha=0.5, \n",
    "  max_iter=500, \n",
    "  random_state=2022\n",
    ")\n",
    "\n",
    "ann_bin.fit(X_train, y_train)\n",
    "y_score = ann_bin.predict_proba(X_test)\n",
    "\n",
    "\n",
    "# from sklearn.metrics import roc_curve, auc \n",
    "# fpr, tpr, thresholds = roc_curve(y_test, y_score)\n",
    "\n",
    "# AUC = auc(fpr, tpr)\n",
    "# print(AUC)"
   ]
  },
  {
   "cell_type": "code",
   "execution_count": 5,
   "metadata": {},
   "outputs": [
    {
     "name": "stdout",
     "output_type": "stream",
     "text": [
      "1.0\n"
     ]
    }
   ],
   "source": [
    "from sklearn.neural_network import MLPClassifier \n",
    "from sklearn.model_selection import train_test_split \n",
    "\n",
    "from sklearn.datasets import load_iris \n",
    "\n",
    "iris = load_iris() \n",
    "\n",
    "data = iris.data \n",
    "target = iris.target \n",
    "\n",
    "X_train, X_test, y_train, y_test = train_test_split(\n",
    "  data, \n",
    "  target, \n",
    "  test_size=0.2, \n",
    "  random_state=2205, \n",
    "  stratify=target\n",
    ")\n",
    "\n",
    "ann_multi = MLPClassifier(random_state=2022, max_iter=600) \n",
    "\n",
    "ann_multi.fit(X_train, y_train) \n",
    "y_pred = ann_multi.predict(X_test)\n",
    "\n",
    "from sklearn.metrics import f1_score \n",
    "\n",
    "macro_f1 = f1_score(y_test, y_pred, average=\"macro\")\n",
    "print(macro_f1)"
   ]
  },
  {
   "cell_type": "code",
   "execution_count": 6,
   "metadata": {},
   "outputs": [
    {
     "name": "stdout",
     "output_type": "stream",
     "text": [
      "60.21701130984498\n"
     ]
    }
   ],
   "source": [
    "from sklearn.neural_network import MLPRegressor \n",
    "from sklearn.model_selection import train_test_split \n",
    "\n",
    "from sklearn.datasets import load_diabetes \n",
    "\n",
    "diabetes = load_diabetes() \n",
    "\n",
    "data = diabetes.data \n",
    "target = diabetes.target \n",
    "\n",
    "X_train, X_test, y_train, y_test = train_test_split(\n",
    "  data, \n",
    "  target, \n",
    "  test_size=0.2, \n",
    "  random_state=2205\n",
    ")\n",
    "\n",
    "ann_conti = MLPRegressor(\n",
    "  alpha=0.5, \n",
    "  max_iter=10000, \n",
    "  random_state=2022\n",
    ")\n",
    "\n",
    "ann_conti.fit(X_train, y_train)\n",
    "y_pred = ann_conti.predict(X_test)\n",
    "\n",
    "from sklearn.metrics import root_mean_squared_error \n",
    "\n",
    "rmse = root_mean_squared_error(y_test, y_pred) \n",
    "print(rmse)"
   ]
  }
 ],
 "metadata": {
  "kernelspec": {
   "display_name": "Python 3",
   "language": "python",
   "name": "python3"
  },
  "language_info": {
   "codemirror_mode": {
    "name": "ipython",
    "version": 3
   },
   "file_extension": ".py",
   "mimetype": "text/x-python",
   "name": "python",
   "nbconvert_exporter": "python",
   "pygments_lexer": "ipython3",
   "version": "3.12.3"
  }
 },
 "nbformat": 4,
 "nbformat_minor": 2
}

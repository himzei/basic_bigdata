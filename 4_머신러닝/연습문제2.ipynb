{
 "cells": [
  {
   "cell_type": "code",
   "execution_count": 57,
   "metadata": {},
   "outputs": [],
   "source": [
    "import pandas as pd\n",
    "X_train = pd.read_csv(\"../data/연습문제/College_X_train.csv\", encoding=\"cp949\")\n",
    "X_test = pd.read_csv(\"../data/연습문제/College_X_test.csv\", encoding=\"cp949\")\n",
    "y_train = pd.read_csv(\"../data/연습문제/College_y_train.csv\", encoding=\"cp949\")"
   ]
  },
  {
   "cell_type": "code",
   "execution_count": 58,
   "metadata": {},
   "outputs": [],
   "source": [
    "### 데이터셋 전처리 \n",
    "\n",
    "ID = X_test[\"ID\"].copy() \n",
    "\n",
    "X_train = X_train.drop(columns=[\"ID\", \"Name\"])\n",
    "X_test = X_test.drop(columns=[\"ID\", \"Name\"])\n",
    "y_train = y_train.drop(columns=\"ID\")"
   ]
  },
  {
   "cell_type": "code",
   "execution_count": 59,
   "metadata": {},
   "outputs": [
    {
     "data": {
      "text/plain": [
       "(621, 17)"
      ]
     },
     "execution_count": 59,
     "metadata": {},
     "output_type": "execute_result"
    }
   ],
   "source": [
    "X_train.shape"
   ]
  },
  {
   "cell_type": "code",
   "execution_count": 60,
   "metadata": {},
   "outputs": [],
   "source": [
    "### 결측치 확인"
   ]
  },
  {
   "cell_type": "code",
   "execution_count": 61,
   "metadata": {},
   "outputs": [],
   "source": [
    "### 수치형 컬럼 전처리 \n",
    "## 비율에 관한 컬럼이므로 소수점으로 수정\n",
    "\n",
    "X_train.select_dtypes(exclude=\"object\").columns\n",
    "col_per = ['Top10perc', 'Top25perc', 'PhD','Terminal', 'S.F.Ratio', 'Grad.Rate', 'perc.alumni']\n",
    "X_train[col_per] = X_train[col_per]/100\n",
    "X_test[col_per] = X_test[col_per]/100"
   ]
  },
  {
   "cell_type": "code",
   "execution_count": 62,
   "metadata": {},
   "outputs": [
    {
     "data": {
      "text/plain": [
       "Index(['Apps', 'Accept', 'Enroll', 'Top10perc', 'Top25perc', 'F.Undergrad',\n",
       "       'P.Undergrad', 'Outstate', 'Room.Board', 'Books', 'Personal', 'PhD',\n",
       "       'Terminal', 'S.F.Ratio', 'perc.alumni', 'Expend', 'Grad.Rate'],\n",
       "      dtype='object')"
      ]
     },
     "execution_count": 62,
     "metadata": {},
     "output_type": "execute_result"
    }
   ],
   "source": [
    "X_train.select_dtypes(exclude=\"object\").columns"
   ]
  },
  {
   "cell_type": "code",
   "execution_count": 63,
   "metadata": {},
   "outputs": [],
   "source": [
    "col_del = ['Apps', 'Accept', 'F.Undergrad', 'Top25perc', 'Terminal']\n",
    "X_train = X_train.drop(columns=col_del)\n",
    "X_test = X_test.drop(columns=col_del)"
   ]
  },
  {
   "cell_type": "code",
   "execution_count": 64,
   "metadata": {},
   "outputs": [
    {
     "name": "stdout",
     "output_type": "stream",
     "text": [
      "(558, 12)\n",
      "(63, 12)\n",
      "(558, 1)\n",
      "(63, 1)\n"
     ]
    }
   ],
   "source": [
    "### 데이터분할 \n",
    "from sklearn.model_selection import train_test_split \n",
    "\n",
    "X_TRAIN, X_VAL, y_TRAIN, y_VAL = train_test_split(\n",
    "  X_train, \n",
    "  y_train, \n",
    "  random_state=2022, \n",
    "  test_size=0.1, \n",
    "  stratify=y_train\n",
    ") \n",
    "\n",
    "print(X_TRAIN.shape)\n",
    "print(X_VAL.shape)\n",
    "print(y_TRAIN.shape)\n",
    "print(y_VAL.shape)"
   ]
  },
  {
   "cell_type": "code",
   "execution_count": 65,
   "metadata": {},
   "outputs": [
    {
     "name": "stdout",
     "output_type": "stream",
     "text": [
      "<class 'pandas.core.frame.DataFrame'>\n",
      "Index: 558 entries, 91 to 23\n",
      "Data columns (total 12 columns):\n",
      " #   Column       Non-Null Count  Dtype  \n",
      "---  ------       --------------  -----  \n",
      " 0   Enroll       558 non-null    int64  \n",
      " 1   Top10perc    558 non-null    float64\n",
      " 2   P.Undergrad  558 non-null    int64  \n",
      " 3   Outstate     558 non-null    int64  \n",
      " 4   Room.Board   558 non-null    int64  \n",
      " 5   Books        558 non-null    int64  \n",
      " 6   Personal     558 non-null    int64  \n",
      " 7   PhD          558 non-null    float64\n",
      " 8   S.F.Ratio    558 non-null    float64\n",
      " 9   perc.alumni  558 non-null    float64\n",
      " 10  Expend       558 non-null    int64  \n",
      " 11  Grad.Rate    558 non-null    float64\n",
      "dtypes: float64(5), int64(7)\n",
      "memory usage: 56.7 KB\n"
     ]
    }
   ],
   "source": [
    "### 인코딩\n",
    "## 카테고리형 컬럼이 존재하지 않으므로 생략\n",
    "\n",
    "X_TRAIN.info()"
   ]
  },
  {
   "cell_type": "code",
   "execution_count": 66,
   "metadata": {},
   "outputs": [
    {
     "name": "stdout",
     "output_type": "stream",
     "text": [
      "(558,)\n",
      "(63,)\n"
     ]
    }
   ],
   "source": [
    "### 스케일링 \n",
    "## 수치형 컬럼에 대해 표준화(z-점수)\n",
    "from sklearn.preprocessing import StandardScaler \n",
    "\n",
    "scale = StandardScaler().fit(X_TRAIN)\n",
    "\n",
    "X_TRAIN = scale.transform(X_TRAIN)\n",
    "X_VAL = scale.transform(X_VAL)\n",
    "X_TEST = scale.transform(X_test)\n",
    "\n",
    "y_TRAIN = y_TRAIN.values.ravel()\n",
    "y_VAL = y_VAL.values.ravel() \n",
    "\n",
    "print(y_TRAIN.shape)\n",
    "print(y_VAL.shape)"
   ]
  },
  {
   "cell_type": "code",
   "execution_count": 67,
   "metadata": {},
   "outputs": [],
   "source": [
    "from sklearn.tree import DecisionTreeClassifier \n",
    "from sklearn.ensemble import RandomForestClassifier, BaggingClassifier, AdaBoostClassifier \n",
    "from sklearn.metrics import roc_curve, auc "
   ]
  },
  {
   "cell_type": "code",
   "execution_count": 68,
   "metadata": {},
   "outputs": [
    {
     "name": "stdout",
     "output_type": "stream",
     "text": [
      "0.9411764705882353\n"
     ]
    }
   ],
   "source": [
    "### Random Forest \n",
    "## 에러 yes/no 는 양성/음성 클래스로 명확히 지정되어 있지 않다 \n",
    "## 보통 0/1, -1/1 일 경우 1이 양성으로 표시 \n",
    "\n",
    "rf = RandomForestClassifier(\n",
    "  n_estimators=500, \n",
    "  max_depth=3, \n",
    "  min_samples_leaf=10, \n",
    "  max_features=\"sqrt\", \n",
    "  random_state=2022\n",
    ")\n",
    "rf.fit(X_TRAIN, y_TRAIN)\n",
    "score_rf = rf.predict_proba(X_VAL)[:, 1]\n",
    "\n",
    "#\n",
    "fpr, tpr, thresholds = roc_curve(y_VAL, score_rf, pos_label=\"Yes\")\n",
    "auc_rf = auc(fpr, tpr)\n",
    "print(auc_rf)\n"
   ]
  },
  {
   "cell_type": "code",
   "execution_count": 69,
   "metadata": {},
   "outputs": [
    {
     "name": "stdout",
     "output_type": "stream",
     "text": [
      "0.9360613810741688\n"
     ]
    }
   ],
   "source": [
    "### Bagging\n",
    "\n",
    "dtr = DecisionTreeClassifier(\n",
    "  max_depth=3, \n",
    "  min_samples_leaf=10\n",
    ")\n",
    "bag = BaggingClassifier(\n",
    "  estimator=dtr, \n",
    "  n_estimators=500, \n",
    "  random_state=2022\n",
    ")\n",
    "bag.fit(X_TRAIN, y_TRAIN)\n",
    "score_bag = bag.predict_proba(X_VAL)[:, 1]\n",
    "\n",
    "# \n",
    "fpr, tpr, thresholds = roc_curve(y_VAL, score_bag, pos_label=\"Yes\")\n",
    "auc_bag = auc(fpr, tpr)\n",
    "print(auc_bag)"
   ]
  },
  {
   "cell_type": "code",
   "execution_count": 70,
   "metadata": {},
   "outputs": [
    {
     "name": "stderr",
     "output_type": "stream",
     "text": [
      "/Library/Frameworks/Python.framework/Versions/3.12/lib/python3.12/site-packages/sklearn/ensemble/_weight_boosting.py:527: FutureWarning: The SAMME.R algorithm (the default) is deprecated and will be removed in 1.6. Use the SAMME algorithm to circumvent this warning.\n",
      "  warnings.warn(\n"
     ]
    },
    {
     "name": "stdout",
     "output_type": "stream",
     "text": [
      "0.959079283887468\n"
     ]
    }
   ],
   "source": [
    "### Adaboost \n",
    "dtr = DecisionTreeClassifier(\n",
    "  max_depth=3, \n",
    "  min_samples_leaf=10\n",
    ")\n",
    "ada = AdaBoostClassifier(\n",
    "  # algorithm='SAMME',\n",
    "  estimator=dtr, \n",
    "  n_estimators=500, \n",
    "  learning_rate=0.5, \n",
    "  random_state=2022\n",
    ")\n",
    "ada.fit(X_TRAIN, y_TRAIN)\n",
    "score_ada = ada.predict_proba(X_VAL)[:, 1]\n",
    "\n",
    "# \n",
    "fpr, tpr, thresholds = roc_curve(y_VAL, score_ada, pos_label=\"Yes\") \n",
    "auc_ada = auc(fpr, tpr)\n",
    "print(auc_ada)\n",
    "\n"
   ]
  },
  {
   "cell_type": "code",
   "execution_count": 72,
   "metadata": {},
   "outputs": [],
   "source": [
    "### 결과제출\n",
    "y_score = ada.predict_proba(X_TEST)[:, 1]\n",
    "\n",
    "obj = {\n",
    "  \"ID\": ID, \n",
    "  \"prob_Private\": y_score\n",
    "}\n",
    "result = pd.DataFrame(obj)\n",
    "result.to_csv(\"연습문제2.csv\", index=False)"
   ]
  },
  {
   "cell_type": "code",
   "execution_count": null,
   "metadata": {},
   "outputs": [],
   "source": []
  }
 ],
 "metadata": {
  "kernelspec": {
   "display_name": "Python 3",
   "language": "python",
   "name": "python3"
  },
  "language_info": {
   "codemirror_mode": {
    "name": "ipython",
    "version": 3
   },
   "file_extension": ".py",
   "mimetype": "text/x-python",
   "name": "python",
   "nbconvert_exporter": "python",
   "pygments_lexer": "ipython3",
   "version": "3.12.3"
  }
 },
 "nbformat": 4,
 "nbformat_minor": 2
}
